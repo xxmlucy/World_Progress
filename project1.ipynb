{
 "cells": [
  {
   "cell_type": "code",
   "execution_count": 87,
   "id": "25b94a2d",
   "metadata": {
    "deletable": false,
    "editable": false
   },
   "outputs": [],
   "source": [
    "# Initialize Otter\n",
    "import otter\n",
    "grader = otter.Notebook(\"project1.ipynb\")"
   ]
  },
  {
   "cell_type": "markdown",
   "id": "e5b3f22b",
   "metadata": {},
   "source": [
    "# Project 1: World Progress"
   ]
  },
  {
   "cell_type": "markdown",
   "id": "d224248b",
   "metadata": {},
   "source": [
    "In this project, you'll explore data from [Gapminder.org](http://gapminder.org), a website dedicated to providing a fact-based view of the world and how it has changed. That site includes several data visualizations and presentations, but also publishes the raw data that we will use in this project to recreate and extend some of their most famous visualizations.\n",
    "\n",
    "The Gapminder website collects data from many sources and compiles them into tables that describe many countries around the world. All of the data they aggregate are published in the [Systema Globalis](https://github.com/open-numbers/ddf--gapminder--systema_globalis/blob/master/README.md). Their goal is \"to compile all public statistics; Social, Economic and Environmental; into a comparable total dataset.\" All data sets in this project are copied directly from the Systema Globalis without any changes.\n",
    "\n",
    "This project is dedicated to [Hans Rosling](https://en.wikipedia.org/wiki/Hans_Rosling) (1948-2017), who championed the use of data to understand and prioritize global development challenges."
   ]
  },
  {
   "cell_type": "markdown",
   "id": "1e016efb",
   "metadata": {},
   "source": [
    "### Logistics\n",
    "\n",
    "**Deadline.**  This project is due at **11:59pm PT on Friday 10/1**. Projects will be accepted up to 2 days (48 hours) late. Projects submitted fewer than 24 hours after the deadline will receive 2/3 credit, and projects submitted between 24 and 48 hours after the deadline will receive 1/3 credit. Projects submitted 48 hours or more after the deadline will receive no credit. It's **much** better to be early than late, so start working now.\n",
    "\n",
    "**Checkpoint.**  For full credit on the checkpoint, you must complete the first 8 questions, pass all public autograder tests for those sections, and submit to the Gradescope Project 1 Checkpoint assignment by **11:59pm PT on Friday, 9/24**. **This is worth 5% of your entire project grade**. After you've submitted the checkpoint, you may still change your answers before the project deadline - only your final submission, to the Project 1 assignment, will be graded for correctness. You will have some lab time to work on these questions, but we recommend that you start the project before lab and leave time to finish the checkpoint afterward.\n",
    "\n",
    "**Partners.** You may work with one other partner; your partner must be from your assigned lab section. **Only one of you is allowed to submit the project. If both partners submit, you will be docked 10% of your project grade. On Gradescope, the person who submits should also designate their partner so that both of you receive credit.** Once you submit, click into your submission, and there will be an option to Add Group Member in the top right corner. You may also reference [this walkthrough video](https://drive.google.com/file/d/1POtij6KECSBjCUeOC_F0Lt3ZmKN7LKIq/view?usp=sharing) on how to add partners on Gradescope.\n",
    "\n",
    "\n",
    "**Rules.** Don't share your code with anybody but your partner. You are welcome to discuss questions with other students, but don't share the answers. The experience of solving the problems in this project will prepare you for exams (and life). If someone asks you for the answer, resist! Instead, you can demonstrate how you would solve a similar problem.\n",
    "\n",
    "**Support.** You are not alone! Come to office hours, post on Ed, and talk to your classmates. If you want to ask about the details of your solution to a problem, make a private Ed post and the staff will respond. If you're ever feeling overwhelmed or don't know how to make progress, email your TA or tutor for help. You can find contact information for the staff on the [course website](http://data8.org/fa21/staff.html).\n",
    "\n",
    "**Tests.** The tests that are given are **not comprehensive** and passing the tests for a question **does not** mean that you answered the question correctly. Tests usually only check that your table has the correct column labels. However, more tests will be applied to verify the correctness of your submission in order to assign your final score, so be careful and check your work! You might want to create your own checks along the way to see if your answers make sense. Additionally, before you submit, make sure that none of your cells take a very long time to run (several minutes).\n",
    "\n",
    "**Free Response Questions:** Make sure that you put the answers to the written questions in the indicated cell we provide. **Every free response question should include an explanation** that adequately answers the question.\n",
    "\n",
    "**Tabular Thinking Guide:** Feel free to reference [Tabular Thinking Guide](https://drive.google.com/file/d/1NvbBECCBdI0Ku380oPcTUOcpjH3RI230/view) for extra guidance.\n",
    "\n",
    "**Advice.** Develop your answers incrementally. To perform a complicated table manipulation, break it up into steps, perform each step on a different line, give a new name to each result, and check that each intermediate result is what you expect. You can add any additional names or functions you want to the provided cells. Make sure that you are using distinct and meaningful variable names throughout the notebook. Along that line, **DO NOT** reuse the variable names that we use when we grade your answers. For example, in Question 1 of the Global Poverty section we ask you to assign an answer to `latest`. Do not reassign the variable name `latest` to anything else in your notebook, otherwise there is the chance that our tests grade against what `latest` was reassigned to.\n",
    "\n",
    "You **never** have to use just one line in this project or any others. Use intermediate variables and multiple lines as much as you would like!\n",
    "\n",
    "---\n",
    "\n",
    "To get started, load `datascience`, `numpy`, and `plots`."
   ]
  },
  {
   "cell_type": "code",
   "execution_count": 88,
   "id": "c172a9da",
   "metadata": {
    "deletable": false,
    "execution": {
     "iopub.execute_input": "2021-09-17T21:53:58.693640Z",
     "iopub.status.busy": "2021-09-17T21:53:58.691621Z",
     "iopub.status.idle": "2021-09-17T21:54:00.220087Z",
     "shell.execute_reply": "2021-09-17T21:54:00.219518Z"
    }
   },
   "outputs": [],
   "source": [
    "# Run this cell to set up the notebook, but please don't change it.\n",
    "\n",
    "# These lines import the NumPy and Datascience modules.\n",
    "from datascience import *\n",
    "import numpy as np\n",
    "\n",
    "# These lines do some fancy plotting magic.\n",
    "%matplotlib inline\n",
    "import matplotlib.pyplot as plots\n",
    "plots.style.use('fivethirtyeight')\n",
    "\n",
    "from ipywidgets import interact, interactive, fixed, interact_manual\n",
    "import ipywidgets as widgets\n",
    "\n",
    "import d8error"
   ]
  },
  {
   "cell_type": "markdown",
   "id": "e74e4033",
   "metadata": {
    "deletable": false,
    "editable": false
   },
   "source": [
    "## 1. Global Population Growth"
   ]
  },
  {
   "cell_type": "markdown",
   "id": "66161a40",
   "metadata": {
    "deletable": false,
    "editable": false
   },
   "source": [
    "The global population of humans reached 1 billion around 1800, 3 billion around 1960, and 7 billion around 2011. The potential impact of exponential population growth has concerned scientists, economists, and politicians alike.\n",
    "\n",
    "The UN Population Division estimates that the world population will likely continue to grow throughout the 21st century, but at a slower rate, perhaps reaching 11 billion by 2100. However, the UN does not rule out scenarios of more extreme growth.\n",
    "\n",
    "<a href=\"http://www.pewresearch.org/fact-tank/2015/06/08/scientists-more-worried-than-public-about-worlds-growing-population/ft_15-06-04_popcount/\"> \n",
    " <img src=\"pew_population_projection.png\"/> \n",
    "</a>\n",
    "\n",
    "In this part of the project, we will examine some of the factors that influence population growth and how they have been changing over the years and around the world. There are two main sub-parts of this analysis.\n",
    "\n",
    "- First, we will examine the data for one country, Bangladesh. We will see how factors such as life expectancy, fertility rate, and child mortality have changed over time in Bangladesh, and how they are related to the rate of population growth.\n",
    "- Next, we will examine whether the changes we have observed for Bangladesh are particular to that country or whether they reflect general patterns observable in other countries too. We will study aspects of world population growth and see how they have been changing.\n",
    "\n",
    "The first table we will consider contains the total population of each country over time. Run the cell below."
   ]
  },
  {
   "cell_type": "code",
   "execution_count": 46,
   "id": "b4de8dce",
   "metadata": {
    "deletable": false,
    "execution": {
     "iopub.execute_input": "2021-09-17T21:54:00.224951Z",
     "iopub.status.busy": "2021-09-17T21:54:00.224390Z",
     "iopub.status.idle": "2021-09-17T21:54:00.314454Z",
     "shell.execute_reply": "2021-09-17T21:54:00.313970Z"
    },
    "scrolled": true
   },
   "outputs": [
    {
     "data": {
      "text/html": [
       "<table border=\"1\" class=\"dataframe\">\n",
       "    <thead>\n",
       "        <tr>\n",
       "            <th>geo</th> <th>time</th> <th>population_total</th>\n",
       "        </tr>\n",
       "    </thead>\n",
       "    <tbody>\n",
       "        <tr>\n",
       "            <td>afg </td> <td>1800</td> <td>3280000         </td>\n",
       "        </tr>\n",
       "        <tr>\n",
       "            <td>afg </td> <td>1801</td> <td>3280000         </td>\n",
       "        </tr>\n",
       "        <tr>\n",
       "            <td>afg </td> <td>1802</td> <td>3280000         </td>\n",
       "        </tr>\n",
       "    </tbody>\n",
       "</table>\n",
       "<p>... (43534 rows omitted)</p>"
      ],
      "text/plain": [
       "<IPython.core.display.HTML object>"
      ]
     },
     "metadata": {},
     "output_type": "display_data"
    }
   ],
   "source": [
    "population = Table.read_table('population.csv').where(\"time\", are.below(2021))\n",
    "population.show(3)"
   ]
  },
  {
   "cell_type": "markdown",
   "id": "1da0bc72",
   "metadata": {},
   "source": [
    "**Note:** The population csv file can also be found [here](https://github.com/open-numbers/ddf--gapminder--systema_globalis/blob/master/countries-etc-datapoints/ddf--datapoints--population_total--by--geo--time.csv). The data for this project was downloaded in February 2017. "
   ]
  },
  {
   "cell_type": "markdown",
   "id": "fefe48b0",
   "metadata": {
    "deletable": false
   },
   "source": [
    "### Bangladesh\n",
    "\n",
    "The nation of [Bangladesh](https://en.wikipedia.org/wiki/Bangladesh#People's_Republic_of_Bangladesh) was established as a parliamentary democracy after the Bangladesh Liberation War ended in 1971. The war-ravaged fledgling nation was almost immediately faced with floods and famine. In this section of the project, we will examine aspects of the development of Bangladesh since that time.\n",
    "\n",
    "In the `population` table, the `geo` column contains three-letter codes established by the [International Organization for Standardization](https://en.wikipedia.org/wiki/International_Organization_for_Standardization) (ISO) in the [Alpha-3](https://en.wikipedia.org/wiki/ISO_3166-1_alpha-3#Current_codes) standard. We will begin by taking a close look at Bangladesh. Use the Alpha-3 link to find the 3-letter code for Bangladesh."
   ]
  },
  {
   "cell_type": "markdown",
   "id": "82c98e24",
   "metadata": {
    "deletable": false,
    "editable": false
   },
   "source": [
    "**Question 1.** Create a table called `b_pop` that has two columns labeled `time` and `population_total`. The first column should contain the years from 1970 through 2020 (including both 1970 and 2020) and the second should contain the population of Bangladesh in each of those years.\n",
    "\n",
    "<!--\n",
    "BEGIN QUESTION\n",
    "name: q1_1\n",
    "points:\n",
    "- 0\n",
    "- 0\n",
    "- 0\n",
    "- 4\n",
    "-->"
   ]
  },
  {
   "cell_type": "code",
   "execution_count": 47,
   "id": "ead77225",
   "metadata": {
    "deletable": false,
    "execution": {
     "iopub.execute_input": "2021-09-17T21:54:00.372899Z",
     "iopub.status.busy": "2021-09-17T21:54:00.348926Z",
     "iopub.status.idle": "2021-09-17T21:54:00.376496Z",
     "shell.execute_reply": "2021-09-17T21:54:00.375894Z"
    }
   },
   "outputs": [
    {
     "data": {
      "text/html": [
       "<table border=\"1\" class=\"dataframe\">\n",
       "    <thead>\n",
       "        <tr>\n",
       "            <th>time</th> <th>population_total</th>\n",
       "        </tr>\n",
       "    </thead>\n",
       "    <tbody>\n",
       "        <tr>\n",
       "            <td>1970</td> <td>64232486        </td>\n",
       "        </tr>\n",
       "        <tr>\n",
       "            <td>1971</td> <td>65531635        </td>\n",
       "        </tr>\n",
       "        <tr>\n",
       "            <td>1972</td> <td>66625706        </td>\n",
       "        </tr>\n",
       "        <tr>\n",
       "            <td>1973</td> <td>67637541        </td>\n",
       "        </tr>\n",
       "        <tr>\n",
       "            <td>1974</td> <td>68742222        </td>\n",
       "        </tr>\n",
       "        <tr>\n",
       "            <td>1975</td> <td>70066310        </td>\n",
       "        </tr>\n",
       "        <tr>\n",
       "            <td>1976</td> <td>71652386        </td>\n",
       "        </tr>\n",
       "        <tr>\n",
       "            <td>1977</td> <td>73463593        </td>\n",
       "        </tr>\n",
       "        <tr>\n",
       "            <td>1978</td> <td>75450033        </td>\n",
       "        </tr>\n",
       "        <tr>\n",
       "            <td>1979</td> <td>77529040        </td>\n",
       "        </tr>\n",
       "    </tbody>\n",
       "</table>\n",
       "<p>... (41 rows omitted)</p>"
      ],
      "text/plain": [
       "time | population_total\n",
       "1970 | 64232486\n",
       "1971 | 65531635\n",
       "1972 | 66625706\n",
       "1973 | 67637541\n",
       "1974 | 68742222\n",
       "1975 | 70066310\n",
       "1976 | 71652386\n",
       "1977 | 73463593\n",
       "1978 | 75450033\n",
       "1979 | 77529040\n",
       "... (41 rows omitted)"
      ]
     },
     "execution_count": 47,
     "metadata": {},
     "output_type": "execute_result"
    }
   ],
   "source": [
    "b_pop = population.where('geo',are.equal_to('bgd')).drop('geo').where('time',are.between(1970,2021))\n",
    "b_pop"
   ]
  },
  {
   "cell_type": "code",
   "execution_count": 48,
   "id": "3bda9154",
   "metadata": {
    "deletable": false,
    "editable": false
   },
   "outputs": [
    {
     "name": "stdout",
     "output_type": "stream",
     "text": [
      "q1_1 results: All test cases passed!\n"
     ]
    }
   ],
   "source": [
    "try:\n",
    "    print(grader.check(\"q1_1\"))\n",
    "except NameError:\n",
    "    print(\"NameError: name 'grader' is not defined\")\n",
    "    print(\"Please run the cells at the very top of this notebook, from the top down, then run this cell again.\")"
   ]
  },
  {
   "cell_type": "markdown",
   "id": "79a0cdc5",
   "metadata": {
    "deletable": false
   },
   "source": [
    "Run the following cell to create a table called `b_five` that has the population of Bangladesh every five years. At a glance, it appears that the population of Bangladesh has been growing quickly indeed!"
   ]
  },
  {
   "cell_type": "code",
   "execution_count": 49,
   "id": "107a2c15",
   "metadata": {
    "deletable": false,
    "execution": {
     "iopub.execute_input": "2021-09-17T21:54:00.419015Z",
     "iopub.status.busy": "2021-09-17T21:54:00.418092Z",
     "iopub.status.idle": "2021-09-17T21:54:00.422356Z",
     "shell.execute_reply": "2021-09-17T21:54:00.421764Z"
    }
   },
   "outputs": [
    {
     "data": {
      "text/html": [
       "<table border=\"1\" class=\"dataframe\">\n",
       "    <thead>\n",
       "        <tr>\n",
       "            <th>time</th> <th>population_total</th>\n",
       "        </tr>\n",
       "    </thead>\n",
       "    <tbody>\n",
       "        <tr>\n",
       "            <td>1970</td> <td>64,232,486      </td>\n",
       "        </tr>\n",
       "        <tr>\n",
       "            <td>1975</td> <td>70,066,310      </td>\n",
       "        </tr>\n",
       "        <tr>\n",
       "            <td>1980</td> <td>79,639,498      </td>\n",
       "        </tr>\n",
       "        <tr>\n",
       "            <td>1985</td> <td>90,764,180      </td>\n",
       "        </tr>\n",
       "        <tr>\n",
       "            <td>1990</td> <td>103,171,957     </td>\n",
       "        </tr>\n",
       "        <tr>\n",
       "            <td>1995</td> <td>115,169,933     </td>\n",
       "        </tr>\n",
       "        <tr>\n",
       "            <td>2000</td> <td>127,657,862     </td>\n",
       "        </tr>\n",
       "        <tr>\n",
       "            <td>2005</td> <td>139,035,505     </td>\n",
       "        </tr>\n",
       "        <tr>\n",
       "            <td>2010</td> <td>147,575,433     </td>\n",
       "        </tr>\n",
       "        <tr>\n",
       "            <td>2015</td> <td>156,256,287     </td>\n",
       "        </tr>\n",
       "        <tr>\n",
       "            <td>2020</td> <td>164,689,383     </td>\n",
       "        </tr>\n",
       "    </tbody>\n",
       "</table>"
      ],
      "text/plain": [
       "<IPython.core.display.HTML object>"
      ]
     },
     "metadata": {},
     "output_type": "display_data"
    }
   ],
   "source": [
    "b_pop.set_format('population_total', NumberFormatter)\n",
    "\n",
    "fives = np.arange(1970, 2021, 5) # 1970, 1975, 1980, ...\n",
    "b_five = b_pop.sort('time').where('time', are.contained_in(fives))\n",
    "b_five.show()"
   ]
  },
  {
   "cell_type": "markdown",
   "id": "b6f683c9",
   "metadata": {
    "deletable": false,
    "editable": false
   },
   "source": [
    "**Question 2.** Assign `initial` to an array that contains the population for every five year interval from 1970 to 2015 (inclusive). Then, assign `changed` to an array that contains the population for every five year interval from 1975 to 2020 (inclusive). The first array should include both 1970 and 2015, and the second array should include both 1975 and 2020. You should use the `b_five` table to create both arrays, by first filtering the table to only contain the relevant years.\n",
    "\n",
    "The annual growth rate for a time period is equal to:\n",
    "\n",
    "$$(\\frac{\\text{Population at end of period}}{\\text{Population at start of period}}^{\\frac{1}{\\text{number of years}}} )-1$$\n",
    "\n",
    "We have provided the code below that uses  `initial` and `changed` in order to add a column to `b_five` called `annual_growth`. Don't worry about the calculation of the growth rates; run the test below to test your solution.\n",
    "\n",
    "If you are interested in how we came up with the formula for growth rates, consult the [growth rates](https://inferentialthinking.com/chapters/03/2/1/Growth.html) section of the textbook.\n",
    "\n",
    "<!--\n",
    "BEGIN QUESTION\n",
    "name: q1_2\n",
    "points:\n",
    "- 0\n",
    "- 0\n",
    "- 0\n",
    "- 0\n",
    "- 0\n",
    "- 4\n",
    "-->"
   ]
  },
  {
   "cell_type": "code",
   "execution_count": 50,
   "id": "b682f812",
   "metadata": {
    "execution": {
     "iopub.execute_input": "2021-09-17T21:54:00.430887Z",
     "iopub.status.busy": "2021-09-17T21:54:00.430317Z",
     "iopub.status.idle": "2021-09-17T21:54:00.433616Z",
     "shell.execute_reply": "2021-09-17T21:54:00.434062Z"
    }
   },
   "outputs": [
    {
     "data": {
      "text/html": [
       "<table border=\"1\" class=\"dataframe\">\n",
       "    <thead>\n",
       "        <tr>\n",
       "            <th>time</th> <th>population_total</th> <th>annual_growth</th>\n",
       "        </tr>\n",
       "    </thead>\n",
       "    <tbody>\n",
       "        <tr>\n",
       "            <td>1970</td> <td>64,232,486      </td> <td>1.75%        </td>\n",
       "        </tr>\n",
       "        <tr>\n",
       "            <td>1975</td> <td>70,066,310      </td> <td>2.59%        </td>\n",
       "        </tr>\n",
       "        <tr>\n",
       "            <td>1980</td> <td>79,639,498      </td> <td>2.65%        </td>\n",
       "        </tr>\n",
       "        <tr>\n",
       "            <td>1985</td> <td>90,764,180      </td> <td>2.60%        </td>\n",
       "        </tr>\n",
       "        <tr>\n",
       "            <td>1990</td> <td>103,171,957     </td> <td>2.22%        </td>\n",
       "        </tr>\n",
       "        <tr>\n",
       "            <td>1995</td> <td>115,169,933     </td> <td>2.08%        </td>\n",
       "        </tr>\n",
       "        <tr>\n",
       "            <td>2000</td> <td>127,657,862     </td> <td>1.72%        </td>\n",
       "        </tr>\n",
       "        <tr>\n",
       "            <td>2005</td> <td>139,035,505     </td> <td>1.20%        </td>\n",
       "        </tr>\n",
       "        <tr>\n",
       "            <td>2010</td> <td>147,575,433     </td> <td>1.15%        </td>\n",
       "        </tr>\n",
       "        <tr>\n",
       "            <td>2015</td> <td>156,256,287     </td> <td>1.06%        </td>\n",
       "        </tr>\n",
       "    </tbody>\n",
       "</table>"
      ],
      "text/plain": [
       "time | population_total | annual_growth\n",
       "1970 | 64,232,486       | 1.75%\n",
       "1975 | 70,066,310       | 2.59%\n",
       "1980 | 79,639,498       | 2.65%\n",
       "1985 | 90,764,180       | 2.60%\n",
       "1990 | 103,171,957      | 2.22%\n",
       "1995 | 115,169,933      | 2.08%\n",
       "2000 | 127,657,862      | 1.72%\n",
       "2005 | 139,035,505      | 1.20%\n",
       "2010 | 147,575,433      | 1.15%\n",
       "2015 | 156,256,287      | 1.06%"
      ]
     },
     "execution_count": 50,
     "metadata": {},
     "output_type": "execute_result"
    }
   ],
   "source": [
    "initial = b_five.where('time',are.below(2020)).column('population_total')\n",
    "changed = b_five.where('time',are.above(1970)).column('population_total')\n",
    "b_1970_through_2015 = b_five.where('time', are.below_or_equal_to(2015)) \n",
    "b_five_growth = b_1970_through_2015.with_column('annual_growth', (changed/initial)**0.2-1)\n",
    "b_five_growth.set_format('annual_growth', PercentFormatter)"
   ]
  },
  {
   "cell_type": "code",
   "execution_count": 51,
   "id": "0b45372b",
   "metadata": {
    "deletable": false,
    "editable": false
   },
   "outputs": [
    {
     "data": {
      "text/html": [
       "<p><strong><pre style='display: inline;'>q1_2</pre></strong> passed!</p>"
      ],
      "text/plain": [
       "q1_2 results: All test cases passed!"
      ]
     },
     "execution_count": 51,
     "metadata": {},
     "output_type": "execute_result"
    }
   ],
   "source": [
    "grader.check(\"q1_2\")"
   ]
  },
  {
   "cell_type": "markdown",
   "id": "0cb9772a",
   "metadata": {
    "deletable": false
   },
   "source": [
    "While the population has grown every five years since 1970, the annual growth rate decreased dramatically from 1985 to 2015. Let's look at some other information in order to develop a possible explanation. Run the next cell to load three additional tables of measurements about countries over time."
   ]
  },
  {
   "cell_type": "code",
   "execution_count": 52,
   "id": "7fcfb54a",
   "metadata": {
    "deletable": false,
    "execution": {
     "iopub.execute_input": "2021-09-17T21:54:00.495043Z",
     "iopub.status.busy": "2021-09-17T21:54:00.494443Z",
     "iopub.status.idle": "2021-09-17T21:54:00.744757Z",
     "shell.execute_reply": "2021-09-17T21:54:00.744285Z"
    }
   },
   "outputs": [],
   "source": [
    "life_expectancy = Table.read_table('life_expectancy.csv').where('time', are.below(2021))\n",
    "child_mortality = Table.read_table('child_mortality.csv').relabel(2, 'child_mortality_under_5_per_1000_born').where('time', are.below(2021))\n",
    "fertility = Table.read_table('fertility.csv').where('time', are.below(2021))"
   ]
  },
  {
   "cell_type": "markdown",
   "id": "7df8a91a",
   "metadata": {
    "deletable": false,
    "editable": false
   },
   "source": [
    "The `life_expectancy` table contains a statistic that is often used to measure how long people live, called *life expectancy at birth*. This number, for a country in a given year, [does not measure how long babies born in that year are expected to live](http://blogs.worldbank.org/opendata/what-does-life-expectancy-birth-really-mean). Instead, it measures how long someone would live, on average, if the *mortality conditions* in that year persisted throughout their lifetime. These \"mortality conditions\" describe what fraction of people at each age survived the year. So, it is a way of measuring the proportion of people that are staying alive, aggregated over different age groups in the population."
   ]
  },
  {
   "cell_type": "markdown",
   "id": "c663428a",
   "metadata": {},
   "source": [
    "Run the following cells below to see `life_expectancy`, `child_mortality`, and `fertility`. Refer back to these tables as they will be helpful for answering further questions!"
   ]
  },
  {
   "cell_type": "code",
   "execution_count": 53,
   "id": "670b9043",
   "metadata": {
    "execution": {
     "iopub.execute_input": "2021-09-17T21:54:00.750498Z",
     "iopub.status.busy": "2021-09-17T21:54:00.749703Z",
     "iopub.status.idle": "2021-09-17T21:54:00.753951Z",
     "shell.execute_reply": "2021-09-17T21:54:00.753508Z"
    }
   },
   "outputs": [
    {
     "data": {
      "text/html": [
       "<table border=\"1\" class=\"dataframe\">\n",
       "    <thead>\n",
       "        <tr>\n",
       "            <th>geo</th> <th>time</th> <th>life_expectancy_years</th>\n",
       "        </tr>\n",
       "    </thead>\n",
       "    <tbody>\n",
       "        <tr>\n",
       "            <td>afg </td> <td>1800</td> <td>28.21                </td>\n",
       "        </tr>\n",
       "        <tr>\n",
       "            <td>afg </td> <td>1801</td> <td>28.2                 </td>\n",
       "        </tr>\n",
       "        <tr>\n",
       "            <td>afg </td> <td>1802</td> <td>28.19                </td>\n",
       "        </tr>\n",
       "    </tbody>\n",
       "</table>\n",
       "<p>... (41247 rows omitted)</p>"
      ],
      "text/plain": [
       "<IPython.core.display.HTML object>"
      ]
     },
     "metadata": {},
     "output_type": "display_data"
    }
   ],
   "source": [
    "life_expectancy.show(3)"
   ]
  },
  {
   "cell_type": "code",
   "execution_count": 54,
   "id": "972399d1",
   "metadata": {
    "execution": {
     "iopub.execute_input": "2021-09-17T21:54:00.759312Z",
     "iopub.status.busy": "2021-09-17T21:54:00.758483Z",
     "iopub.status.idle": "2021-09-17T21:54:00.762747Z",
     "shell.execute_reply": "2021-09-17T21:54:00.762226Z"
    },
    "scrolled": true
   },
   "outputs": [
    {
     "data": {
      "text/html": [
       "<table border=\"1\" class=\"dataframe\">\n",
       "    <thead>\n",
       "        <tr>\n",
       "            <th>geo</th> <th>time</th> <th>child_mortality_under_5_per_1000_born</th>\n",
       "        </tr>\n",
       "    </thead>\n",
       "    <tbody>\n",
       "        <tr>\n",
       "            <td>afg </td> <td>1800</td> <td>468.58                               </td>\n",
       "        </tr>\n",
       "        <tr>\n",
       "            <td>afg </td> <td>1801</td> <td>468.58                               </td>\n",
       "        </tr>\n",
       "        <tr>\n",
       "            <td>afg </td> <td>1802</td> <td>468.58                               </td>\n",
       "        </tr>\n",
       "    </tbody>\n",
       "</table>\n",
       "<p>... (41734 rows omitted)</p>"
      ],
      "text/plain": [
       "<IPython.core.display.HTML object>"
      ]
     },
     "metadata": {},
     "output_type": "display_data"
    }
   ],
   "source": [
    "child_mortality.show(3)"
   ]
  },
  {
   "cell_type": "code",
   "execution_count": 55,
   "id": "413518b6",
   "metadata": {
    "execution": {
     "iopub.execute_input": "2021-09-17T21:54:00.768288Z",
     "iopub.status.busy": "2021-09-17T21:54:00.767402Z",
     "iopub.status.idle": "2021-09-17T21:54:00.771174Z",
     "shell.execute_reply": "2021-09-17T21:54:00.770657Z"
    }
   },
   "outputs": [
    {
     "data": {
      "text/html": [
       "<table border=\"1\" class=\"dataframe\">\n",
       "    <thead>\n",
       "        <tr>\n",
       "            <th>geo</th> <th>time</th> <th>children_per_woman_total_fertility</th>\n",
       "        </tr>\n",
       "    </thead>\n",
       "    <tbody>\n",
       "        <tr>\n",
       "            <td>abw </td> <td>1800</td> <td>5.64                              </td>\n",
       "        </tr>\n",
       "        <tr>\n",
       "            <td>abw </td> <td>1801</td> <td>5.64                              </td>\n",
       "        </tr>\n",
       "        <tr>\n",
       "            <td>abw </td> <td>1802</td> <td>5.64                              </td>\n",
       "        </tr>\n",
       "    </tbody>\n",
       "</table>\n",
       "<p>... (44632 rows omitted)</p>"
      ],
      "text/plain": [
       "<IPython.core.display.HTML object>"
      ]
     },
     "metadata": {},
     "output_type": "display_data"
    }
   ],
   "source": [
    "fertility.show(3)"
   ]
  },
  {
   "cell_type": "markdown",
   "id": "bfc3a985",
   "metadata": {
    "deletable": false,
    "editable": false
   },
   "source": [
    "<!-- BEGIN QUESTION -->\n",
    "\n",
    "**Question 3.** Perhaps population is growing more slowly because people aren't living as long. Use the `life_expectancy` table to draw a line graph with the years 1970 and later on the horizontal axis that shows how the *life expectancy at birth* has changed in Bangladesh.\n",
    "\n",
    "<!--\n",
    "BEGIN QUESTION\n",
    "name: q1_3\n",
    "manual: True\n",
    "-->"
   ]
  },
  {
   "cell_type": "code",
   "execution_count": 56,
   "id": "8e4649c5",
   "metadata": {
    "deletable": false,
    "execution": {
     "iopub.execute_input": "2021-09-17T21:54:00.837268Z",
     "iopub.status.busy": "2021-09-17T21:54:00.821761Z",
     "iopub.status.idle": "2021-09-17T21:54:01.035493Z",
     "shell.execute_reply": "2021-09-17T21:54:01.034872Z"
    },
    "manual_grade": true,
    "manual_problem_id": "global_pop_3"
   },
   "outputs": [
    {
     "data": {
      "image/png": "[encoded data removed]",
      "text/plain": [
       "<Figure size 432x432 with 1 Axes>"
      ]
     },
     "metadata": {},
     "output_type": "display_data"
    }
   ],
   "source": [
    "#Fill in code here\n",
    "life_expectancy.where('geo',are.equal_to('bgd')).where('time',are.above(1969)).plot('time','life_expectancy_years')"
   ]
  },
  {
   "cell_type": "markdown",
   "id": "4fcaa06b",
   "metadata": {
    "deletable": false,
    "editable": false
   },
   "source": [
    "<!-- END QUESTION -->\n",
    "\n",
    "<!-- BEGIN QUESTION -->\n",
    "\n",
    "**Question 4.** Assuming everything else stays the same, do the trends in life expectancy in the graph above directly explain why the population growth rate decreased from 1985 to 2015 in Bangladesh? Why or why not? \n",
    "\n",
    "Hint: What happened in Bangladesh in 1991, and does that event explain the overall change in population growth rate? This [webpage](https://en.wikipedia.org/wiki/1991_Bangladesh_cyclone) provides relevant context.\n",
    "\n",
    "<!--\n",
    "BEGIN QUESTION\n",
    "name: q1_4\n",
    "manual: True\n",
    "-->"
   ]
  },
  {
   "cell_type": "markdown",
   "id": "5a3bd96c",
   "metadata": {},
   "source": [
    "No. Life expectancy estimates how long a person would live if the mortality condition at that person's birth year remains unchanged. In other words, if the life expectancy increases, the mortality condition improves, resulting in a higher population growth rate. Since the life expectancy trend form 1985 to 2015 was still upward, it doesn't explain the decrease in the population growth rate."
   ]
  },
  {
   "cell_type": "markdown",
   "id": "7cb414e4",
   "metadata": {
    "deletable": false,
    "editable": false
   },
   "source": [
    "<!-- END QUESTION -->\n",
    "\n",
    "\n",
    "\n",
    "The `fertility` table contains a statistic that is often used to measure how many babies are being born, the *total fertility rate*. This number describes the [number of children a woman would have in her lifetime](https://www.measureevaluation.org/prh/rh_indicators/specific/fertility/total-fertility-rate), on average, if the current rates of birth by age of the mother persisted throughout her child bearing years, assuming she survived through age 49. "
   ]
  },
  {
   "cell_type": "markdown",
   "id": "06fd63c5",
   "metadata": {
    "deletable": false,
    "editable": false
   },
   "source": [
    "**Question 5.** Complete the function `fertility_over_time`. It takes the Alpha-3 code of a country as `country_code` and a `start` year. It returns a two-column table with labels `Year` and `Children per woman` that can be used to generate a line chart of the country's fertility rate each year, starting at the `start` year. The plot should include the `start` year and all later years that appear in the `fertility` table. \n",
    "\n",
    "Then, determine the Alpha-3 code for Bangladesh. The code for Bangladesh and the year 1970 are used in the call to your `fertility_over_time` function in order to plot how Bangladesh's fertility rate has changed since 1970. Note that the function `fertility_over_time` should not return the plot itself. **The expression that draws the line plot is provided for you; please don't change it.**\n",
    "\n",
    "<!--\n",
    "BEGIN QUESTION\n",
    "name: q1_5\n",
    "points:\n",
    "- 0\n",
    "- 0\n",
    "- 0\n",
    "- 0\n",
    "- 0\n",
    "- 4\n",
    "-->"
   ]
  },
  {
   "cell_type": "code",
   "execution_count": 57,
   "id": "b69cddd2",
   "metadata": {
    "deletable": false,
    "execution": {
     "iopub.execute_input": "2021-09-17T21:54:01.090292Z",
     "iopub.status.busy": "2021-09-17T21:54:01.043463Z",
     "iopub.status.idle": "2021-09-17T21:54:01.341423Z",
     "shell.execute_reply": "2021-09-17T21:54:01.340802Z"
    }
   },
   "outputs": [
    {
     "data": {
      "image/png": "[encoded data removed]",
      "text/plain": [
       "<Figure size 432x432 with 1 Axes>"
      ]
     },
     "metadata": {},
     "output_type": "display_data"
    }
   ],
   "source": [
    "def fertility_over_time(country_code, start):\n",
    "    \"\"\"Create a two-column table that describes a country's total fertility rate each year.\"\"\"\n",
    "    country_fertility = fertility.where('geo',are.equal_to(country_code))\n",
    "    country_fertility_after_start = country_fertility.where('time',are.above(start-1))\n",
    "    cleaned_table = Table().with_columns(\n",
    "        'Year',country_fertility_after_start.column('time'),\n",
    "        'Children per woman',country_fertility_after_start.column('children_per_woman_total_fertility')\n",
    "    )\n",
    "    return cleaned_table\n",
    "bangladesh_code = 'bgd'\n",
    "fertility_over_time(bangladesh_code, 1970).plot(0, 1) # You should *not* change this line."
   ]
  },
  {
   "cell_type": "code",
   "execution_count": 58,
   "id": "b58d9921",
   "metadata": {
    "deletable": false,
    "editable": false
   },
   "outputs": [
    {
     "data": {
      "text/html": [
       "<p><strong><pre style='display: inline;'>q1_5</pre></strong> passed!</p>"
      ],
      "text/plain": [
       "q1_5 results: All test cases passed!"
      ]
     },
     "execution_count": 58,
     "metadata": {},
     "output_type": "execute_result"
    }
   ],
   "source": [
    "grader.check(\"q1_5\")"
   ]
  },
  {
   "cell_type": "markdown",
   "id": "7960ee96",
   "metadata": {
    "deletable": false,
    "editable": false
   },
   "source": [
    "<!-- BEGIN QUESTION -->\n",
    "\n",
    "**Question 6.** Assuming everything else is constant, do the trends in fertility in the graph above help directly explain why the population growth rate decreased from 1980 to 2020 in Bangladesh? Why or why not?\n",
    "\n",
    "<!--\n",
    "BEGIN QUESTION\n",
    "name: q1_6\n",
    "manual: True\n",
    "-->"
   ]
  },
  {
   "cell_type": "markdown",
   "id": "cef556b4",
   "metadata": {},
   "source": [
    "Yes. The graph shows that each woman gave birth to fewer children, which causes the decrease of fertility. Therefore, the population growth rate decreased."
   ]
  },
  {
   "cell_type": "markdown",
   "id": "829b5c61",
   "metadata": {
    "deletable": false
   },
   "source": [
    "<!-- END QUESTION -->\n",
    "\n",
    "\n",
    "\n",
    "It has been [observed](https://www.ageing.ox.ac.uk/download/143) that lower fertility rates are often associated with lower child mortality rates. The link has been attributed to family planning: if parents can expect that their children will all survive into adulthood, then they will choose to have fewer children. In the reverse direction, having fewer children may allow families to devote more resources to each child, reducing child mortality. We can see if this association is evident in Bangladesh by plotting the relationship between total fertility rate and [child mortality rate per 1000 children](https://en.wikipedia.org/wiki/Child_mortality)."
   ]
  },
  {
   "cell_type": "markdown",
   "id": "717e5229",
   "metadata": {
    "deletable": false,
    "editable": false
   },
   "source": [
    "**Question 7.** Using both the `fertility` and `child_mortality` tables, draw a scatter diagram that has Bangladesh's total fertility on the horizontal axis and its child mortality on the vertical axis with one point for each year, starting with 1970.\n",
    "\n",
    "**The code that draws the scatter diagram is provided for you; please don't change it.** Instead, create a table called `post_1969_fertility_and_child_mortality` with the appropriate column labels and data in order to generate the chart correctly. Use the label `Children per woman` to describe total fertility and the label `Child deaths per 1000 born` to describe child mortality.\n",
    "\n",
    "*Hint*: Do not drop the `time` column or you will get an error in the scatterplot in the next cell!\n",
    "\n",
    "<!--\n",
    "BEGIN QUESTION\n",
    "name: q1_7\n",
    "manual: false\n",
    "points:\n",
    "- 0\n",
    "- 0\n",
    "- 0\n",
    "- 0\n",
    "- 0\n",
    "- 0\n",
    "- 0\n",
    "- 4\n",
    "-->"
   ]
  },
  {
   "cell_type": "code",
   "execution_count": 59,
   "id": "53d18b83",
   "metadata": {
    "deletable": false,
    "execution": {
     "iopub.execute_input": "2021-09-17T21:54:01.768360Z",
     "iopub.status.busy": "2021-09-17T21:54:01.737299Z",
     "iopub.status.idle": "2021-09-17T21:54:02.130693Z",
     "shell.execute_reply": "2021-09-17T21:54:02.130234Z"
    }
   },
   "outputs": [
    {
     "data": {
      "image/png": "[encoded data removed]",
      "text/plain": [
       "<Figure size 432x432 with 2 Axes>"
      ]
     },
     "metadata": {},
     "output_type": "display_data"
    }
   ],
   "source": [
    "bgd_fertility = fertility.where('geo',are.equal_to('bgd')).where('time',are.above(1969)).drop('geo')\n",
    "bgd_child_mortality = child_mortality.where('geo',are.equal_to('bgd')).where('time',are.above(1969)).drop('geo')\n",
    "fertility_and_child_mortality = bgd_fertility.join('time',bgd_child_mortality)\n",
    "post_1969_fertility_and_child_mortality = fertility_and_child_mortality.relabel('children_per_woman_total_fertility','Children per woman').relabel('child_mortality_under_5_per_1000_born','Child deaths per 1000 born')\n",
    "\n",
    "# Don't change anything below this line!\n",
    "x_births = post_1969_fertility_and_child_mortality.column(\"Children per woman\")\n",
    "y_deaths = post_1969_fertility_and_child_mortality.column(\"Child deaths per 1000 born\")\n",
    "time_colors = post_1969_fertility_and_child_mortality.column(\"time\")\n",
    "\n",
    "plots.figure(figsize=(6,6))\n",
    "plots.scatter(x_births, y_deaths, c=time_colors, cmap=\"Blues_r\")\n",
    "plots.colorbar()                  \n",
    "plots.xlabel(\"Children per woman\")\n",
    "plots.ylabel(\"Child deaths per 1000 born\");"
   ]
  },
  {
   "cell_type": "code",
   "execution_count": 60,
   "id": "0cdad548",
   "metadata": {
    "deletable": false,
    "editable": false
   },
   "outputs": [
    {
     "data": {
      "text/html": [
       "<p><strong><pre style='display: inline;'>q1_7</pre></strong> passed!</p>"
      ],
      "text/plain": [
       "q1_7 results: All test cases passed!"
      ]
     },
     "execution_count": 60,
     "metadata": {},
     "output_type": "execute_result"
    }
   ],
   "source": [
    "grader.check(\"q1_7\")"
   ]
  },
  {
   "cell_type": "markdown",
   "id": "215fab7e",
   "metadata": {},
   "source": [
    "The plot above uses **color** to encode data about the `time` column from the table `post_1969_fertility_and_child_mortality`. The colors, ranging from dark blue to white, represent the passing of time between the 1970s to the 2020s. For example, a point on the scatter plot representing data from the 1970s would appear as **dark blue** and a point from the 2010s would appear as **light blue**.\n"
   ]
  },
  {
   "cell_type": "markdown",
   "id": "9e5e1eac",
   "metadata": {
    "deletable": false,
    "editable": false
   },
   "source": [
    "<!-- BEGIN QUESTION -->\n",
    "\n",
    "**Question 8.** In one or two sentences, describe the association (if any) that is illustrated by this scatter diagram. Does the diagram show that reduced child mortality *causes* parents to choose to have fewer children?\n",
    "\n",
    "<!--\n",
    "BEGIN QUESTION\n",
    "name: q1_8\n",
    "manual: True\n",
    "-->"
   ]
  },
  {
   "cell_type": "markdown",
   "id": "b32a8051",
   "metadata": {},
   "source": [
    "No, it doesn't. The line is increasing in the graph, which means that the child deaths per 1000 born decreases as the children per woman decreases. Therefore, the decrease of fertility rate may affect the decrease of child mortality (they have association), but we still cannot say that parent's choice of having fewer children causes the reduced child mortality because there might be other factors that influences the reduced child mortality."
   ]
  },
  {
   "cell_type": "markdown",
   "id": "4080e934",
   "metadata": {},
   "source": [
    "<!-- END QUESTION -->\n",
    "\n",
    "\n",
    "\n",
    "### Checkpoint (due Friday 9/24 by 11:59 PM PT)\n",
    "**Congratulations, you have reached the checkpoint! Run the following cells and submit to the Gradescope assignment corresponding to the checkpoint: <u>Project 1 Checkpoint</u>**"
   ]
  },
  {
   "cell_type": "markdown",
   "id": "1ac6a3b7",
   "metadata": {},
   "source": [
    "--- \n",
    "\n",
    "To double check your work, the cell below will rerun all of the autograder tests for Section 1. "
   ]
  },
  {
   "cell_type": "code",
   "execution_count": 61,
   "id": "aba70181",
   "metadata": {
    "execution": {
     "iopub.execute_input": "2021-09-17T21:54:02.212505Z",
     "iopub.status.busy": "2021-09-17T21:54:02.211944Z",
     "iopub.status.idle": "2021-09-17T21:54:02.219903Z",
     "shell.execute_reply": "2021-09-17T21:54:02.219248Z"
    },
    "scrolled": false
   },
   "outputs": [
    {
     "data": {
      "text/html": [
       "<p><strong><pre style='display: inline;'>q1_1</pre></strong> passed!</p>"
      ],
      "text/plain": [
       "q1_1 results: All test cases passed!"
      ]
     },
     "metadata": {},
     "output_type": "display_data"
    },
    {
     "data": {
      "text/html": [
       "<p><strong><pre style='display: inline;'>q1_2</pre></strong> passed!</p>"
      ],
      "text/plain": [
       "q1_2 results: All test cases passed!"
      ]
     },
     "metadata": {},
     "output_type": "display_data"
    },
    {
     "data": {
      "text/html": [
       "<p><strong><pre style='display: inline;'>q1_5</pre></strong> passed!</p>"
      ],
      "text/plain": [
       "q1_5 results: All test cases passed!"
      ]
     },
     "metadata": {},
     "output_type": "display_data"
    },
    {
     "data": {
      "text/html": [
       "<p><strong><pre style='display: inline;'>q1_7</pre></strong> passed!</p>"
      ],
      "text/plain": [
       "q1_7 results: All test cases passed!"
      ]
     },
     "metadata": {},
     "output_type": "display_data"
    }
   ],
   "source": [
    "checkpoint_tests = [\"q1_1\", \"q1_2\", \"q1_5\", \"q1_7\"]\n",
    "for test in checkpoint_tests:\n",
    "    display(grader.check(test))"
   ]
  },
  {
   "cell_type": "markdown",
   "id": "6a576718",
   "metadata": {},
   "source": [
    "## Submission\n",
    "\n",
    "Make sure you have run all cells in your notebook in order before running the cell below, so that all images/graphs appear in the output. The cell below will generate a zip file for you to submit. **Please save before exporting!**"
   ]
  },
  {
   "cell_type": "code",
   "execution_count": 62,
   "id": "d88364e5",
   "metadata": {
    "execution": {
     "iopub.execute_input": "2021-09-17T21:54:02.225254Z",
     "iopub.status.busy": "2021-09-17T21:54:02.224650Z",
     "iopub.status.idle": "2021-09-17T21:54:02.233646Z",
     "shell.execute_reply": "2021-09-17T21:54:02.234197Z"
    }
   },
   "outputs": [
    {
     "data": {
      "text/html": [
       "\n",
       "            <p>Your submission has been exported. Click <a href=\"project1_2021_09_30T19_53_58_200916.zip\" download=\"project1_2021_09_30T19_53_58_200916.zip\" target=\"_blank\">here</a>\n",
       "            to download the zip file.</p>\n",
       "            "
      ],
      "text/plain": [
       "<IPython.core.display.HTML object>"
      ]
     },
     "metadata": {},
     "output_type": "display_data"
    }
   ],
   "source": [
    "# Save your notebook first, then run this cell to export your submission.\n",
    "grader.export(pdf=False)"
   ]
  },
  {
   "cell_type": "markdown",
   "id": "f78d53b3",
   "metadata": {
    "deletable": false
   },
   "source": [
    "### The World\n",
    "\n",
    "The change observed in Bangladesh since 1970 can also be observed in many other developing countries: health services improve, life expectancy increases, and child mortality decreases. At the same time, the fertility rate often plummets, and so the population growth rate decreases despite increasing longevity."
   ]
  },
  {
   "cell_type": "markdown",
   "id": "0b754e83",
   "metadata": {
    "deletable": false
   },
   "source": [
    "Run the cell below to generate two overlaid histograms, one for 1962 and one for 2010, that show the distributions of total fertility rates for these two years among all 201 countries in the `fertility` table."
   ]
  },
  {
   "cell_type": "code",
   "execution_count": 89,
   "id": "70253ee5",
   "metadata": {
    "deletable": false,
    "execution": {
     "iopub.execute_input": "2021-09-17T21:54:02.284338Z",
     "iopub.status.busy": "2021-09-17T21:54:02.258347Z",
     "iopub.status.idle": "2021-09-17T21:54:02.981348Z",
     "shell.execute_reply": "2021-09-17T21:54:02.980815Z"
    }
   },
   "outputs": [
    {
     "data": {
      "image/png": "[encoded data removed]",
      "text/plain": [
       "<Figure size 432x288 with 1 Axes>"
      ]
     },
     "metadata": {},
     "output_type": "display_data"
    }
   ],
   "source": [
    "Table().with_columns(\n",
    "    '1962', fertility.where('time', 1962).column(2),\n",
    "    '2010', fertility.where('time', 2010).column(2)\n",
    ").hist(bins=np.arange(0, 10, 0.5), unit='child per woman')\n",
    "_ = plots.xlabel('Children per woman')\n",
    "_ = plots.ylabel('Percent per children per woman')\n",
    "_ = plots.xticks(np.arange(10))"
   ]
  },
  {
   "cell_type": "markdown",
   "id": "17b015eb",
   "metadata": {
    "deletable": false,
    "editable": false
   },
   "source": [
    "**Question 9.** Assign `fertility_statements` to an array of the numbers of each statement below that can be correctly inferred from these histograms.\n",
    "\n",
    "1. About the same number of countries had a fertility rate between 3.5 and 4.5 in both 1962 and 2010.\n",
    "1. In 1962, less than 20% of countries had a fertility rate below 3.\n",
    "1. At least half of countries had a fertility rate between 5 and 8 in 1962.\n",
    "1. In 2010, about 40% of countries had a fertility rate between 1.5 and 2.\n",
    "1. At least half of countries had a fertility rate below 3 in 2010.\n",
    "1. More countries had a fertility rate above 3 in 1962 than in 2010.\n",
    "\n",
    "<!--\n",
    "BEGIN QUESTION\n",
    "name: q1_9\n",
    "points:\n",
    "- 0\n",
    "- 4\n",
    "-->"
   ]
  },
  {
   "cell_type": "code",
   "execution_count": 64,
   "id": "a63b7c3e",
   "metadata": {
    "deletable": false,
    "execution": {
     "iopub.execute_input": "2021-09-17T21:54:02.986493Z",
     "iopub.status.busy": "2021-09-17T21:54:02.985932Z",
     "iopub.status.idle": "2021-09-17T21:54:02.989394Z",
     "shell.execute_reply": "2021-09-17T21:54:02.988888Z"
    }
   },
   "outputs": [],
   "source": [
    "fertility_statements = make_array(1,2,3,5,6)"
   ]
  },
  {
   "cell_type": "code",
   "execution_count": 65,
   "id": "dc0f7b8f",
   "metadata": {
    "deletable": false,
    "editable": false
   },
   "outputs": [
    {
     "data": {
      "text/html": [
       "<p><strong><pre style='display: inline;'>q1_9</pre></strong> passed!</p>"
      ],
      "text/plain": [
       "q1_9 results: All test cases passed!"
      ]
     },
     "execution_count": 65,
     "metadata": {},
     "output_type": "execute_result"
    }
   ],
   "source": [
    "grader.check(\"q1_9\")"
   ]
  },
  {
   "cell_type": "markdown",
   "id": "004045ed",
   "metadata": {
    "deletable": false,
    "editable": false
   },
   "source": [
    "<!-- BEGIN QUESTION -->\n",
    "\n",
    "**Question 10.** Draw a line plot of the world population from 1800 through 2020 (inclusive of both endpoints). The world population is the sum of all of the countries' populations. You should use the `population` table defined earlier in the project. \n",
    "\n",
    "<!--\n",
    "BEGIN QUESTION\n",
    "name: q1_10\n",
    "manual: True\n",
    "-->"
   ]
  },
  {
   "cell_type": "code",
   "execution_count": 90,
   "id": "262bce50",
   "metadata": {
    "deletable": false,
    "execution": {
     "iopub.execute_input": "2021-09-17T21:54:03.016233Z",
     "iopub.status.busy": "2021-09-17T21:54:03.015602Z",
     "iopub.status.idle": "2021-09-17T21:54:04.376517Z",
     "shell.execute_reply": "2021-09-17T21:54:04.375871Z"
    },
    "manual_grade": true,
    "manual_problem_id": "global_pop_10"
   },
   "outputs": [
    {
     "data": {
      "image/png": "[encoded data removed]",
      "text/plain": [
       "<Figure size 432x432 with 1 Axes>"
      ]
     },
     "metadata": {},
     "output_type": "display_data"
    }
   ],
   "source": [
    "#Fill in code here\n",
    "total_pop_each_year = population.group('time',sum)\n",
    "total_pop_each_year.plot('time','population_total sum')"
   ]
  },
  {
   "cell_type": "markdown",
   "id": "237c7b45",
   "metadata": {
    "deletable": false,
    "editable": false
   },
   "source": [
    "<!-- END QUESTION -->\n",
    "\n",
    "**Question 11.** Create a function `stats_for_year` that takes a `year` and returns a table of statistics. The table it returns should have four columns: `geo`, `population_total`, `children_per_woman_total_fertility`, and `child_mortality_under_5_per_1000_born`. Each row should contain one unique Alpha-3 country code and three statistics: population, fertility rate, and child mortality for that `year` from the `population`, `fertility` and `child_mortality` tables. Only include rows for which all three statistics are available for the country and year.\n",
    "\n",
    "In addition, restrict the result to country codes that appears in `big_50`, an array of the 50 most populous countries in 2020. This restriction will speed up computations later in the project.\n",
    "\n",
    "After you write `stats_for_year`, try calling `stats_for_year` on any year between 1960 and 2020. Try to understand the output of stats_for_year.\n",
    "\n",
    "*Hint*: The tests for this question are quite comprehensive, so if you pass the tests, your function is probably correct. However, without calling your function yourself and looking at the output, it will be very difficult to understand any problems you have, so try your best to write the function correctly and check that it works before you rely on the `grader` tests to confirm your work.\n",
    "\n",
    "*Hint*: What do all three tables have in common (pay attention to column names)?\n",
    "\n",
    "<!--\n",
    "BEGIN QUESTION\n",
    "name: q1_11\n",
    "manual: false\n",
    "points:\n",
    "- 0\n",
    "- 0\n",
    "- 0\n",
    "- 4\n",
    "-->"
   ]
  },
  {
   "cell_type": "code",
   "execution_count": 91,
   "id": "3c5b8f6f",
   "metadata": {
    "deletable": false,
    "execution": {
     "iopub.execute_input": "2021-09-17T21:54:04.461726Z",
     "iopub.status.busy": "2021-09-17T21:54:04.425812Z",
     "iopub.status.idle": "2021-09-17T21:54:05.271014Z",
     "shell.execute_reply": "2021-09-17T21:54:05.271475Z"
    }
   },
   "outputs": [
    {
     "data": {
      "text/html": [
       "<table border=\"1\" class=\"dataframe\">\n",
       "    <thead>\n",
       "        <tr>\n",
       "            <th>geo</th> <th>population_total</th> <th>children_per_woman_total_fertility</th> <th>child_mortality_under_5_per_1000_born</th>\n",
       "        </tr>\n",
       "    </thead>\n",
       "    <tbody>\n",
       "        <tr>\n",
       "            <td>afg </td> <td>20779957        </td> <td>7.49                              </td> <td>129.38                               </td>\n",
       "        </tr>\n",
       "        <tr>\n",
       "            <td>ago </td> <td>16395477        </td> <td>6.64                              </td> <td>205.69                               </td>\n",
       "        </tr>\n",
       "        <tr>\n",
       "            <td>arg </td> <td>36870796        </td> <td>2.56                              </td> <td>19.62                                </td>\n",
       "        </tr>\n",
       "        <tr>\n",
       "            <td>bgd </td> <td>127657862       </td> <td>3.12                              </td> <td>87.28                                </td>\n",
       "        </tr>\n",
       "        <tr>\n",
       "            <td>bra </td> <td>174790339       </td> <td>2.3                               </td> <td>34.77                                </td>\n",
       "        </tr>\n",
       "        <tr>\n",
       "            <td>can </td> <td>30588379        </td> <td>1.52                              </td> <td>6.21                                 </td>\n",
       "        </tr>\n",
       "        <tr>\n",
       "            <td>chn </td> <td>1290550767      </td> <td>1.5                               </td> <td>36.81                                </td>\n",
       "        </tr>\n",
       "        <tr>\n",
       "            <td>cod </td> <td>47105830        </td> <td>6.96                              </td> <td>160.84                               </td>\n",
       "        </tr>\n",
       "        <tr>\n",
       "            <td>col </td> <td>39629965        </td> <td>2.39                              </td> <td>24.98                                </td>\n",
       "        </tr>\n",
       "        <tr>\n",
       "            <td>deu </td> <td>81400883        </td> <td>1.35                              </td> <td>5.36                                 </td>\n",
       "        </tr>\n",
       "    </tbody>\n",
       "</table>\n",
       "<p>... (40 rows omitted)</p>"
      ],
      "text/plain": [
       "geo  | population_total | children_per_woman_total_fertility | child_mortality_under_5_per_1000_born\n",
       "afg  | 20779957         | 7.49                               | 129.38\n",
       "ago  | 16395477         | 6.64                               | 205.69\n",
       "arg  | 36870796         | 2.56                               | 19.62\n",
       "bgd  | 127657862        | 3.12                               | 87.28\n",
       "bra  | 174790339        | 2.3                                | 34.77\n",
       "can  | 30588379         | 1.52                               | 6.21\n",
       "chn  | 1290550767       | 1.5                                | 36.81\n",
       "cod  | 47105830         | 6.96                               | 160.84\n",
       "col  | 39629965         | 2.39                               | 24.98\n",
       "deu  | 81400883         | 1.35                               | 5.36\n",
       "... (40 rows omitted)"
      ]
     },
     "execution_count": 91,
     "metadata": {},
     "output_type": "execute_result"
    }
   ],
   "source": [
    "# We first create a population table that only includes the \n",
    "# 50 countries with the largest 2020 populations. We focus on \n",
    "# these 50 countries only so that plotting later will run faster.\n",
    "big_50 = population.where('time', are.equal_to(2020)).sort(\"population_total\", descending=True).take(np.arange(50)).column('geo')\n",
    "population_of_big_50 = population.where('time', are.above(1959)).where('geo', are.contained_in(big_50))\n",
    "\n",
    "def stats_for_year(year):\n",
    "    \"\"\"Return a table of the stats for each country that year.\"\"\"\n",
    "    p = population_of_big_50.where('time', are.equal_to(year)).drop('time')\n",
    "    f = fertility.where('time', are.equal_to(year)).drop('time')\n",
    "    c = child_mortality.where('time', are.equal_to(year)).drop('time')\n",
    "    return p.join('geo',f).join('geo',c)\n",
    "\n",
    "stats_for_year(2000)"
   ]
  },
  {
   "cell_type": "code",
   "execution_count": 92,
   "id": "64bf1ee7",
   "metadata": {
    "deletable": false,
    "editable": false
   },
   "outputs": [
    {
     "data": {
      "text/html": [
       "<p><strong><pre style='display: inline;'>q1_11</pre></strong> passed!</p>"
      ],
      "text/plain": [
       "q1_11 results: All test cases passed!"
      ]
     },
     "execution_count": 92,
     "metadata": {},
     "output_type": "execute_result"
    }
   ],
   "source": [
    "grader.check(\"q1_11\")"
   ]
  },
  {
   "cell_type": "markdown",
   "id": "4182b0d1",
   "metadata": {
    "deletable": false,
    "editable": false
   },
   "source": [
    "**Question 12.** Create a table called `pop_by_decade` with two columns called `decade` and `population`, in this order. It has a row for each year that starts a decade, in increasing order starting with 1960 and ending with 2020. For example, 1960 is the start of the 1960's decade. The `population` column contains the total population of all countries included in the result of `stats_for_year(year)` for the first `year` of the decade. You should see that these countries contain most of the world's population.\n",
    "\n",
    "*Hint:* One approach is to define a function `pop_for_year` that computes this total population, then `apply` it to the `decade` column.  The `stats_for_year` function from the previous question may be useful here.\n",
    "\n",
    "This first test is just a sanity check for your helper function if you choose to use it. You will not lose points for not implementing the function `pop_for_year`.\n",
    "\n",
    "**Note:** The cell where you will generate the `pop_by_decade` table is below the cell where you can choose to define the helper function `pop_for_year`. You should define your `pop_by_decade` table in the cell that starts with the table `decades` being defined. \n",
    "\n",
    "<!--\n",
    "BEGIN QUESTION\n",
    "name: q1_12_0\n",
    "manual: false\n",
    "points: \n",
    "- 0\n",
    "- 0\n",
    "- 0\n",
    "- 0\n",
    "-->"
   ]
  },
  {
   "cell_type": "code",
   "execution_count": 69,
   "id": "5b368a4a",
   "metadata": {
    "execution": {
     "iopub.execute_input": "2021-09-17T21:54:07.503610Z",
     "iopub.status.busy": "2021-09-17T21:54:07.503007Z",
     "iopub.status.idle": "2021-09-17T21:54:07.505442Z",
     "shell.execute_reply": "2021-09-17T21:54:07.505870Z"
    }
   },
   "outputs": [],
   "source": [
    "def pop_for_year(year):\n",
    "    \"\"\"Return the total population for the specified year.\"\"\"\n",
    "    return sum(stats_for_year(year).column('population_total'))"
   ]
  },
  {
   "cell_type": "code",
   "execution_count": 70,
   "id": "bf95f955",
   "metadata": {
    "deletable": false,
    "editable": false
   },
   "outputs": [
    {
     "data": {
      "text/html": [
       "<p><strong><pre style='display: inline;'>q1_12_0</pre></strong> passed!</p>"
      ],
      "text/plain": [
       "q1_12_0 results: All test cases passed!"
      ]
     },
     "execution_count": 70,
     "metadata": {},
     "output_type": "execute_result"
    }
   ],
   "source": [
    "grader.check(\"q1_12_0\")"
   ]
  },
  {
   "cell_type": "markdown",
   "id": "31b7c656",
   "metadata": {
    "deletable": false,
    "editable": false
   },
   "source": [
    "Now that you've defined your helper function (if you've chosen to do so), define the `pop_by_decade` table.\n",
    "\n",
    "<!--\n",
    "BEGIN QUESTION\n",
    "name: q1_12\n",
    "manual: false\n",
    "points:\n",
    "- 0\n",
    "- 0\n",
    "- 0\n",
    "- 0\n",
    "- 0\n",
    "- 0\n",
    "- 4\n",
    "-->"
   ]
  },
  {
   "cell_type": "code",
   "execution_count": 71,
   "id": "4f87427f",
   "metadata": {
    "deletable": false,
    "execution": {
     "iopub.execute_input": "2021-09-17T21:54:09.866445Z",
     "iopub.status.busy": "2021-09-17T21:54:09.828086Z",
     "iopub.status.idle": "2021-09-17T21:54:13.444139Z",
     "shell.execute_reply": "2021-09-17T21:54:13.443587Z"
    }
   },
   "outputs": [
    {
     "data": {
      "text/html": [
       "<table border=\"1\" class=\"dataframe\">\n",
       "    <thead>\n",
       "        <tr>\n",
       "            <th>decade</th> <th>population</th>\n",
       "        </tr>\n",
       "    </thead>\n",
       "    <tbody>\n",
       "        <tr>\n",
       "            <td>1960  </td> <td>2,635,123,897</td>\n",
       "        </tr>\n",
       "        <tr>\n",
       "            <td>1970  </td> <td>3,221,457,416</td>\n",
       "        </tr>\n",
       "        <tr>\n",
       "            <td>1980  </td> <td>3,890,044,418</td>\n",
       "        </tr>\n",
       "        <tr>\n",
       "            <td>1990  </td> <td>4,656,339,803</td>\n",
       "        </tr>\n",
       "        <tr>\n",
       "            <td>2000  </td> <td>5,377,062,169</td>\n",
       "        </tr>\n",
       "        <tr>\n",
       "            <td>2010  </td> <td>6,064,674,132</td>\n",
       "        </tr>\n",
       "        <tr>\n",
       "            <td>2020  </td> <td>6,765,161,289</td>\n",
       "        </tr>\n",
       "    </tbody>\n",
       "</table>"
      ],
      "text/plain": [
       "decade | population\n",
       "1960   | 2,635,123,897\n",
       "1970   | 3,221,457,416\n",
       "1980   | 3,890,044,418\n",
       "1990   | 4,656,339,803\n",
       "2000   | 5,377,062,169\n",
       "2010   | 6,064,674,132\n",
       "2020   | 6,765,161,289"
      ]
     },
     "execution_count": 71,
     "metadata": {},
     "output_type": "execute_result"
    }
   ],
   "source": [
    "decades = Table().with_column('decade', np.arange(1960, 2021, 10))\n",
    "\n",
    "pop_by_decade = decades.with_column('population',decades.apply(pop_for_year,'decade'))\n",
    "pop_by_decade.set_format(1, NumberFormatter)"
   ]
  },
  {
   "cell_type": "code",
   "execution_count": 72,
   "id": "1ea77176",
   "metadata": {
    "deletable": false,
    "editable": false
   },
   "outputs": [
    {
     "data": {
      "text/html": [
       "<p><strong><pre style='display: inline;'>q1_12</pre></strong> passed!</p>"
      ],
      "text/plain": [
       "q1_12 results: All test cases passed!"
      ]
     },
     "execution_count": 72,
     "metadata": {},
     "output_type": "execute_result"
    }
   ],
   "source": [
    "grader.check(\"q1_12\")"
   ]
  },
  {
   "cell_type": "markdown",
   "id": "432ebfd8",
   "metadata": {
    "deletable": false,
    "editable": false
   },
   "source": [
    "The `countries` table describes various characteristics of countries. The `country` column contains the same codes as the `geo` column in each of the other data tables (`population`, `fertility`, and `child_mortality`). The `world_6region` column classifies each country into a region of the world. Run the cell below to inspect the data."
   ]
  },
  {
   "cell_type": "code",
   "execution_count": 73,
   "id": "8b489433",
   "metadata": {
    "execution": {
     "iopub.execute_input": "2021-09-17T21:54:13.513922Z",
     "iopub.status.busy": "2021-09-17T21:54:13.513352Z",
     "iopub.status.idle": "2021-09-17T21:54:14.669814Z",
     "shell.execute_reply": "2021-09-17T21:54:14.669218Z"
    }
   },
   "outputs": [
    {
     "data": {
      "text/html": [
       "<table border=\"1\" class=\"dataframe\">\n",
       "    <thead>\n",
       "        <tr>\n",
       "            <th>country</th> <th>name</th> <th>world_6region</th>\n",
       "        </tr>\n",
       "    </thead>\n",
       "    <tbody>\n",
       "        <tr>\n",
       "            <td>afg    </td> <td>Afghanistan         </td> <td>south_asia              </td>\n",
       "        </tr>\n",
       "        <tr>\n",
       "            <td>ago    </td> <td>Angola              </td> <td>sub_saharan_africa      </td>\n",
       "        </tr>\n",
       "        <tr>\n",
       "            <td>alb    </td> <td>Albania             </td> <td>europe_central_asia     </td>\n",
       "        </tr>\n",
       "        <tr>\n",
       "            <td>and    </td> <td>Andorra             </td> <td>europe_central_asia     </td>\n",
       "        </tr>\n",
       "        <tr>\n",
       "            <td>are    </td> <td>United Arab Emirates</td> <td>middle_east_north_africa</td>\n",
       "        </tr>\n",
       "        <tr>\n",
       "            <td>arg    </td> <td>Argentina           </td> <td>america                 </td>\n",
       "        </tr>\n",
       "        <tr>\n",
       "            <td>arm    </td> <td>Armenia             </td> <td>europe_central_asia     </td>\n",
       "        </tr>\n",
       "        <tr>\n",
       "            <td>atg    </td> <td>Antigua and Barbuda </td> <td>america                 </td>\n",
       "        </tr>\n",
       "        <tr>\n",
       "            <td>aus    </td> <td>Australia           </td> <td>east_asia_pacific       </td>\n",
       "        </tr>\n",
       "        <tr>\n",
       "            <td>aut    </td> <td>Austria             </td> <td>europe_central_asia     </td>\n",
       "        </tr>\n",
       "    </tbody>\n",
       "</table>\n",
       "<p>... (187 rows omitted)</p>"
      ],
      "text/plain": [
       "country | name                 | world_6region\n",
       "afg     | Afghanistan          | south_asia\n",
       "ago     | Angola               | sub_saharan_africa\n",
       "alb     | Albania              | europe_central_asia\n",
       "and     | Andorra              | europe_central_asia\n",
       "are     | United Arab Emirates | middle_east_north_africa\n",
       "arg     | Argentina            | america\n",
       "arm     | Armenia              | europe_central_asia\n",
       "atg     | Antigua and Barbuda  | america\n",
       "aus     | Australia            | east_asia_pacific\n",
       "aut     | Austria              | europe_central_asia\n",
       "... (187 rows omitted)"
      ]
     },
     "execution_count": 73,
     "metadata": {},
     "output_type": "execute_result"
    }
   ],
   "source": [
    "countries = Table.read_table('countries.csv').where('country', are.contained_in(population.group('geo').column('geo')))\n",
    "countries.select('country', 'name', 'world_6region')"
   ]
  },
  {
   "cell_type": "markdown",
   "id": "b2ff73a0",
   "metadata": {
    "deletable": false,
    "editable": false
   },
   "source": [
    "**Question 13.** Create a table called `region_counts`. It should contain two columns called `region` and `count`. The `region` column should contain regions of the world, and the `count` column should contain the number of countries in each region that appears in the result of `stats_for_year(2020)`. \n",
    "\n",
    "For example, one row would have `south_asia` as its `region` value and an integer as its `count` value: the number of large South Asian countries for which we have population, fertility, and child mortality numbers from 2020.\n",
    "\n",
    "*Hint*: You may have to relabel a column to name it `region`. \n",
    "\n",
    "<!--\n",
    "BEGIN QUESTION\n",
    "name: q1_13\n",
    "points:\n",
    "- 0\n",
    "- 0\n",
    "- 0\n",
    "- 4\n",
    "-->"
   ]
  },
  {
   "cell_type": "code",
   "execution_count": 74,
   "id": "1d8503a7",
   "metadata": {
    "deletable": false,
    "execution": {
     "iopub.execute_input": "2021-09-17T21:54:14.688228Z",
     "iopub.status.busy": "2021-09-17T21:54:14.677481Z",
     "iopub.status.idle": "2021-09-17T21:54:15.238419Z",
     "shell.execute_reply": "2021-09-17T21:54:15.237881Z"
    }
   },
   "outputs": [
    {
     "data": {
      "text/html": [
       "<table border=\"1\" class=\"dataframe\">\n",
       "    <thead>\n",
       "        <tr>\n",
       "            <th>region</th> <th>count</th>\n",
       "        </tr>\n",
       "    </thead>\n",
       "    <tbody>\n",
       "        <tr>\n",
       "            <td>america                 </td> <td>8    </td>\n",
       "        </tr>\n",
       "        <tr>\n",
       "            <td>east_asia_pacific       </td> <td>9    </td>\n",
       "        </tr>\n",
       "        <tr>\n",
       "            <td>europe_central_asia     </td> <td>10   </td>\n",
       "        </tr>\n",
       "        <tr>\n",
       "            <td>middle_east_north_africa</td> <td>7    </td>\n",
       "        </tr>\n",
       "        <tr>\n",
       "            <td>south_asia              </td> <td>5    </td>\n",
       "        </tr>\n",
       "        <tr>\n",
       "            <td>sub_saharan_africa      </td> <td>11   </td>\n",
       "        </tr>\n",
       "    </tbody>\n",
       "</table>"
      ],
      "text/plain": [
       "region                   | count\n",
       "america                  | 8\n",
       "east_asia_pacific        | 9\n",
       "europe_central_asia      | 10\n",
       "middle_east_north_africa | 7\n",
       "south_asia               | 5\n",
       "sub_saharan_africa       | 11"
      ]
     },
     "execution_count": 74,
     "metadata": {},
     "output_type": "execute_result"
    }
   ],
   "source": [
    "stats_for_2020 = stats_for_year(2020).join('geo',countries,'country')\n",
    "region_counts = stats_for_2020.group('world_6region').relabeled('world_6region','region')\n",
    "region_counts"
   ]
  },
  {
   "cell_type": "code",
   "execution_count": 75,
   "id": "889185d7",
   "metadata": {
    "deletable": false,
    "editable": false
   },
   "outputs": [
    {
     "data": {
      "text/html": [
       "<p><strong><pre style='display: inline;'>q1_13</pre></strong> passed!</p>"
      ],
      "text/plain": [
       "q1_13 results: All test cases passed!"
      ]
     },
     "execution_count": 75,
     "metadata": {},
     "output_type": "execute_result"
    }
   ],
   "source": [
    "grader.check(\"q1_13\")"
   ]
  },
  {
   "cell_type": "markdown",
   "id": "d216fda7",
   "metadata": {
    "deletable": false
   },
   "source": [
    "The following scatter diagram compares total fertility rate and child mortality rate for each country in 1960. The area of each dot represents the population of the country, and the color represents its region of the world. Run the cell. Do you think you can identify any of the dots?"
   ]
  },
  {
   "cell_type": "code",
   "execution_count": 76,
   "id": "31b2e9f7",
   "metadata": {
    "deletable": false,
    "execution": {
     "iopub.execute_input": "2021-09-17T21:54:15.278907Z",
     "iopub.status.busy": "2021-09-17T21:54:15.278090Z",
     "iopub.status.idle": "2021-09-17T21:54:16.070526Z",
     "shell.execute_reply": "2021-09-17T21:54:16.069938Z"
    }
   },
   "outputs": [
    {
     "data": {
      "image/png": "[encoded data removed]",
      "text/plain": [
       "<Figure size 360x360 with 1 Axes>"
      ]
     },
     "metadata": {},
     "output_type": "display_data"
    }
   ],
   "source": [
    "from functools import lru_cache as cache\n",
    "\n",
    "# This cache annotation makes sure that if the same year\n",
    "# is passed as an argument twice, the work of computing\n",
    "# the result is only carried out once.\n",
    "@cache(None)\n",
    "def stats_relabeled(year):\n",
    "    \"\"\"Relabeled and cached version of stats_for_year.\"\"\"\n",
    "    return stats_for_year(year).relabel(2, 'Children per woman').relabel(3, 'Child deaths per 1000 born')\n",
    "\n",
    "def fertility_vs_child_mortality(year):\n",
    "    \"\"\"Draw a color scatter diagram comparing child mortality and fertility.\"\"\"\n",
    "    with_region = stats_relabeled(year).join('geo', countries.select('country', 'world_6region'), 'country')\n",
    "    with_region.scatter(2, 3, sizes=1, group=4, s=500)\n",
    "    plots.xlim(0,10)\n",
    "    plots.ylim(-50, 500)\n",
    "    plots.title(year)\n",
    "    plots.show()\n",
    "\n",
    "fertility_vs_child_mortality(1960)"
   ]
  },
  {
   "cell_type": "markdown",
   "id": "d2db0e59",
   "metadata": {
    "deletable": false,
    "editable": false
   },
   "source": [
    "**Question 14.** Assign `scatter_statements` to an array of the numbers of each statement below that can be inferred from this scatter diagram for 1960. \n",
    "1. As a whole, the `europe_central_asia` region had the lowest child mortality rate.\n",
    "1. The lowest child mortality rate of any country was from an `east_asia_pacific` country.\n",
    "1. Most countries had a fertility rate above 5.\n",
    "1. There was an association between child mortality and fertility.\n",
    "1. The two largest countries by population also had the two highest child mortality rates.\n",
    "\n",
    "<!--\n",
    "BEGIN QUESTION\n",
    "name: q1_14\n",
    "points:\n",
    "- 0\n",
    "- 4\n",
    "-->"
   ]
  },
  {
   "cell_type": "code",
   "execution_count": 77,
   "id": "76598b59",
   "metadata": {
    "deletable": false,
    "execution": {
     "iopub.execute_input": "2021-09-17T21:54:16.075610Z",
     "iopub.status.busy": "2021-09-17T21:54:16.074952Z",
     "iopub.status.idle": "2021-09-17T21:54:16.077446Z",
     "shell.execute_reply": "2021-09-17T21:54:16.078002Z"
    }
   },
   "outputs": [],
   "source": [
    "scatter_statements = make_array(1,3,4)"
   ]
  },
  {
   "cell_type": "code",
   "execution_count": 78,
   "id": "95b941da",
   "metadata": {
    "deletable": false,
    "editable": false
   },
   "outputs": [
    {
     "data": {
      "text/html": [
       "<p><strong><pre style='display: inline;'>q1_14</pre></strong> passed!</p>"
      ],
      "text/plain": [
       "q1_14 results: All test cases passed!"
      ]
     },
     "execution_count": 78,
     "metadata": {},
     "output_type": "execute_result"
    }
   ],
   "source": [
    "grader.check(\"q1_14\")"
   ]
  },
  {
   "cell_type": "markdown",
   "id": "1823a511",
   "metadata": {
    "deletable": false
   },
   "source": [
    "The result of the cell below is interactive. Drag the slider to the right to see how countries have changed over time. You'll find that the great divide between so-called \"Western\" and \"developing\" countries that existed in the 1960's has nearly disappeared. This shift in fertility rates is the reason that the global population is expected to grow more slowly in the 21st century than it did in the 19th and 20th centuries.\n",
    "\n",
    "**Note:** Don't worry if a red warning pops up when running the cell below. You'll still be able to run the cell!"
   ]
  },
  {
   "cell_type": "code",
   "execution_count": 79,
   "id": "214b0f57",
   "metadata": {
    "deletable": false,
    "execution": {
     "iopub.execute_input": "2021-09-17T21:54:16.114595Z",
     "iopub.status.busy": "2021-09-17T21:54:16.113983Z",
     "iopub.status.idle": "2021-09-17T21:54:16.364360Z",
     "shell.execute_reply": "2021-09-17T21:54:16.363759Z"
    },
    "scrolled": true
   },
   "outputs": [
    {
     "data": {
      "application/vnd.jupyter.widget-view+json": {
       "model_id": "82df5e93ae944bcc9dfdd6d10fd23c47",
       "version_major": 2,
       "version_minor": 0
      },
      "text/plain": [
       "interactive(children=(IntSlider(value=1960, description='year', max=2020, min=1960), Output()), _dom_classes=(…"
      ]
     },
     "metadata": {},
     "output_type": "display_data"
    }
   ],
   "source": [
    "import ipywidgets as widgets\n",
    "\n",
    "_ = widgets.interact(fertility_vs_child_mortality, \n",
    "                     year=widgets.IntSlider(min=1960, max=2020, value=1960))"
   ]
  },
  {
   "cell_type": "markdown",
   "id": "92ccc635",
   "metadata": {
    "deletable": false,
    "editable": false
   },
   "source": [
    "Now is a great time to take a break and watch the same data presented by [Hans Rosling in a 2010 TEDx talk](https://www.gapminder.org/videos/reducing-child-mortality-a-moral-and-environmental-imperative) with smoother animation and witty commentary."
   ]
  },
  {
   "cell_type": "markdown",
   "id": "4a611819",
   "metadata": {
    "deletable": false
   },
   "source": [
    "## 2. Global Poverty"
   ]
  },
  {
   "cell_type": "markdown",
   "id": "4439bfe5",
   "metadata": {
    "deletable": false
   },
   "source": [
    "In 1800, 85% of the world's 1 billion people lived in [extreme poverty](https://en.wikipedia.org/wiki/Extreme_poverty), defined by the United Nations as \"a condition characterized by severe deprivation of basic human needs, including food, safe drinking water, sanitation facilities, health, shelter, education and information.\" At the time when the data in this project were gathered, a common definition of extreme poverty was a person living on less than \\$1.25 a day.\n",
    "\n",
    "In 2018, the proportion of people living in extreme poverty was estimated to be [about 9\\%](https://unstats.un.org/sdgs/report/2019/goal-01/). Although the world rate of extreme poverty has declined consistently for hundreds of years, the number of people living in extreme poverty is still over 600 million. The United Nations adopted an [ambitious goal](http://www.un.org/sustainabledevelopment/poverty/): \"By 2030, eradicate extreme poverty for all people everywhere.\" In this part of the project we will examine aspects of global poverty that might affect whether the goal is achievable."
   ]
  },
  {
   "cell_type": "markdown",
   "id": "784da504",
   "metadata": {
    "deletable": false,
    "editable": false
   },
   "source": [
    "First, load the population and poverty rate by country and year and the country descriptions. While the `population` table has values for every recent year for many countries, the `poverty` table only includes certain years for each country in which a measurement of the rate of extreme poverty was available."
   ]
  },
  {
   "cell_type": "code",
   "execution_count": 93,
   "id": "3d006bfb",
   "metadata": {
    "execution": {
     "iopub.execute_input": "2021-09-17T21:54:16.388243Z",
     "iopub.status.busy": "2021-09-17T21:54:16.387619Z",
     "iopub.status.idle": "2021-09-17T21:54:18.118020Z",
     "shell.execute_reply": "2021-09-17T21:54:18.117538Z"
    }
   },
   "outputs": [
    {
     "data": {
      "text/html": [
       "<table border=\"1\" class=\"dataframe\">\n",
       "    <thead>\n",
       "        <tr>\n",
       "            <th>geo</th> <th>time</th> <th>extreme_poverty_percent_people_below_125_a_day</th>\n",
       "        </tr>\n",
       "    </thead>\n",
       "    <tbody>\n",
       "        <tr>\n",
       "            <td>alb </td> <td>1996</td> <td>0.2                                           </td>\n",
       "        </tr>\n",
       "        <tr>\n",
       "            <td>alb </td> <td>2002</td> <td>0.73                                          </td>\n",
       "        </tr>\n",
       "        <tr>\n",
       "            <td>alb </td> <td>2004</td> <td>0.53                                          </td>\n",
       "        </tr>\n",
       "    </tbody>\n",
       "</table>\n",
       "<p>... (1096 rows omitted)</p>"
      ],
      "text/plain": [
       "<IPython.core.display.HTML object>"
      ]
     },
     "metadata": {},
     "output_type": "display_data"
    }
   ],
   "source": [
    "population = Table.read_table('population.csv')\n",
    "countries = Table.read_table('countries.csv').where('country', are.contained_in(population.group('geo').column('geo')))\n",
    "poverty = Table.read_table('poverty.csv')\n",
    "poverty.show(3)"
   ]
  },
  {
   "cell_type": "markdown",
   "id": "620f6d22",
   "metadata": {
    "deletable": false,
    "editable": false
   },
   "source": [
    "**Question 1.** Assign `latest_poverty` to a three-column table with one row for each country that appears in the `poverty` table. The first column should contain the 3-letter code for the country. The second column should contain the most recent year for which an extreme poverty rate is available for the country. The third column should contain the poverty rate in that year. **Do not change the last line, so that the labels of your table are set correctly.**\n",
    "\n",
    "*Hint*: think about how ```group``` works: it does a sequential search of the table (from top to bottom) and collects values in the array in the order in which they appear, and then applies a function to that array. The `first` function may be helpful, but you are not required to use it.\n",
    "\n",
    "<!--\n",
    "BEGIN QUESTION\n",
    "name: q2_1\n",
    "points:\n",
    "- 0\n",
    "- 0\n",
    "- 4\n",
    "-->"
   ]
  },
  {
   "cell_type": "code",
   "execution_count": 94,
   "id": "9a5c9108",
   "metadata": {
    "deletable": false,
    "execution": {
     "iopub.execute_input": "2021-09-17T21:54:18.175759Z",
     "iopub.status.busy": "2021-09-17T21:54:18.123215Z",
     "iopub.status.idle": "2021-09-17T21:54:18.179811Z",
     "shell.execute_reply": "2021-09-17T21:54:18.179195Z"
    }
   },
   "outputs": [
    {
     "data": {
      "text/html": [
       "<table border=\"1\" class=\"dataframe\">\n",
       "    <thead>\n",
       "        <tr>\n",
       "            <th>geo</th> <th>time</th> <th>poverty_percent</th>\n",
       "        </tr>\n",
       "    </thead>\n",
       "    <tbody>\n",
       "        <tr>\n",
       "            <td>ago </td> <td>2009</td> <td>43.37          </td>\n",
       "        </tr>\n",
       "        <tr>\n",
       "            <td>alb </td> <td>2012</td> <td>0.46           </td>\n",
       "        </tr>\n",
       "        <tr>\n",
       "            <td>arg </td> <td>2011</td> <td>1.41           </td>\n",
       "        </tr>\n",
       "        <tr>\n",
       "            <td>arm </td> <td>2012</td> <td>1.75           </td>\n",
       "        </tr>\n",
       "        <tr>\n",
       "            <td>aus </td> <td>2003</td> <td>1.36           </td>\n",
       "        </tr>\n",
       "        <tr>\n",
       "            <td>aut </td> <td>2004</td> <td>0.34           </td>\n",
       "        </tr>\n",
       "        <tr>\n",
       "            <td>aze </td> <td>2008</td> <td>0.31           </td>\n",
       "        </tr>\n",
       "        <tr>\n",
       "            <td>bdi </td> <td>2006</td> <td>81.32          </td>\n",
       "        </tr>\n",
       "        <tr>\n",
       "            <td>bel </td> <td>2000</td> <td>0.5            </td>\n",
       "        </tr>\n",
       "        <tr>\n",
       "            <td>ben </td> <td>2012</td> <td>51.61          </td>\n",
       "        </tr>\n",
       "    </tbody>\n",
       "</table>\n",
       "<p>... (135 rows omitted)</p>"
      ],
      "text/plain": [
       "geo  | time | poverty_percent\n",
       "ago  | 2009 | 43.37\n",
       "alb  | 2012 | 0.46\n",
       "arg  | 2011 | 1.41\n",
       "arm  | 2012 | 1.75\n",
       "aus  | 2003 | 1.36\n",
       "aut  | 2004 | 0.34\n",
       "aze  | 2008 | 0.31\n",
       "bdi  | 2006 | 81.32\n",
       "bel  | 2000 | 0.5\n",
       "ben  | 2012 | 51.61\n",
       "... (135 rows omitted)"
      ]
     },
     "execution_count": 94,
     "metadata": {},
     "output_type": "execute_result"
    }
   ],
   "source": [
    "def first(values):\n",
    "    return values.item(0)\n",
    "\n",
    "latest_poverty = poverty.sort('time',descending = True).group('geo',collect = first)\n",
    "latest_poverty = latest_poverty.relabeled(0, 'geo').relabeled(1, 'time').relabeled(2, 'poverty_percent') # You should *not* change this line.\n",
    "latest_poverty"
   ]
  },
  {
   "cell_type": "code",
   "execution_count": 82,
   "id": "8ddf9400",
   "metadata": {
    "deletable": false,
    "editable": false
   },
   "outputs": [
    {
     "data": {
      "text/html": [
       "<p><strong><pre style='display: inline;'>q2_1</pre></strong> passed!</p>"
      ],
      "text/plain": [
       "q2_1 results: All test cases passed!"
      ]
     },
     "execution_count": 82,
     "metadata": {},
     "output_type": "execute_result"
    }
   ],
   "source": [
    "grader.check(\"q2_1\")"
   ]
  },
  {
   "cell_type": "markdown",
   "id": "17032fe4",
   "metadata": {
    "deletable": false,
    "editable": false
   },
   "source": [
    "**Question 2.** Using both `latest_poverty` and `population`, create a four-column table called `recent_poverty_total` with one row for each country in `latest_poverty`. The four columns should have the following labels and contents:\n",
    "1. `geo` contains the 3-letter country code,\n",
    "1. `poverty_percent` contains the most recent poverty percent,\n",
    "1. `population_total` contains the population of the country in 2010,\n",
    "1. `poverty_total` contains the number of people in poverty **rounded to the nearest integer**, based on the 2010 population and most recent poverty rate.\n",
    "\n",
    "*Hint*: You are not required to use `poverty_and_pop`, and you are always welcome to add any additional names. \n",
    "<!--\n",
    "BEGIN QUESTION\n",
    "name: q2_2\n",
    "points:\n",
    "- 0\n",
    "- 0\n",
    "- 0\n",
    "- 4\n",
    "-->"
   ]
  },
  {
   "cell_type": "code",
   "execution_count": 113,
   "id": "f8fd5b86",
   "metadata": {},
   "outputs": [
    {
     "data": {
      "text/html": [
       "<table border=\"1\" class=\"dataframe\">\n",
       "    <thead>\n",
       "        <tr>\n",
       "            <th>geo</th> <th>time</th> <th>population_total</th>\n",
       "        </tr>\n",
       "    </thead>\n",
       "    <tbody>\n",
       "        <tr>\n",
       "            <td>afg </td> <td>2010</td> <td>29185511        </td>\n",
       "        </tr>\n",
       "        <tr>\n",
       "            <td>ago </td> <td>2010</td> <td>23356247        </td>\n",
       "        </tr>\n",
       "        <tr>\n",
       "            <td>alb </td> <td>2010</td> <td>2948029         </td>\n",
       "        </tr>\n",
       "        <tr>\n",
       "            <td>and </td> <td>2010</td> <td>84454           </td>\n",
       "        </tr>\n",
       "        <tr>\n",
       "            <td>are </td> <td>2010</td> <td>8549998         </td>\n",
       "        </tr>\n",
       "        <tr>\n",
       "            <td>arg </td> <td>2010</td> <td>40895751        </td>\n",
       "        </tr>\n",
       "        <tr>\n",
       "            <td>arm </td> <td>2010</td> <td>2877314         </td>\n",
       "        </tr>\n",
       "        <tr>\n",
       "            <td>atg </td> <td>2010</td> <td>88030           </td>\n",
       "        </tr>\n",
       "        <tr>\n",
       "            <td>aus </td> <td>2010</td> <td>22154687        </td>\n",
       "        </tr>\n",
       "        <tr>\n",
       "            <td>aut </td> <td>2010</td> <td>8409945         </td>\n",
       "        </tr>\n",
       "    </tbody>\n",
       "</table>\n",
       "<p>... (187 rows omitted)</p>"
      ],
      "text/plain": [
       "geo  | time | population_total\n",
       "afg  | 2010 | 29185511\n",
       "ago  | 2010 | 23356247\n",
       "alb  | 2010 | 2948029\n",
       "and  | 2010 | 84454\n",
       "are  | 2010 | 8549998\n",
       "arg  | 2010 | 40895751\n",
       "arm  | 2010 | 2877314\n",
       "atg  | 2010 | 88030\n",
       "aus  | 2010 | 22154687\n",
       "aut  | 2010 | 8409945\n",
       "... (187 rows omitted)"
      ]
     },
     "execution_count": 113,
     "metadata": {},
     "output_type": "execute_result"
    }
   ],
   "source": [
    "population_2010 = population.where('time',are.equal_to(2010))\n",
    "poverty_and_pop_t = latest_poverty.join('')"
   ]
  },
  {
   "cell_type": "code",
   "execution_count": 120,
   "id": "fec2deba",
   "metadata": {
    "deletable": false,
    "execution": {
     "iopub.execute_input": "2021-09-17T21:54:18.289794Z",
     "iopub.status.busy": "2021-09-17T21:54:18.253637Z",
     "iopub.status.idle": "2021-09-17T21:54:18.579717Z",
     "shell.execute_reply": "2021-09-17T21:54:18.579259Z"
    }
   },
   "outputs": [
    {
     "data": {
      "text/html": [
       "<table border=\"1\" class=\"dataframe\">\n",
       "    <thead>\n",
       "        <tr>\n",
       "            <th>geo</th> <th>poverty_percent</th> <th>population_total</th> <th>poverty_total</th>\n",
       "        </tr>\n",
       "    </thead>\n",
       "    <tbody>\n",
       "        <tr>\n",
       "            <td>ago </td> <td>43.37          </td> <td>23356247        </td> <td>1.01296e+07  </td>\n",
       "        </tr>\n",
       "        <tr>\n",
       "            <td>alb </td> <td>0.46           </td> <td>2948029         </td> <td>13561        </td>\n",
       "        </tr>\n",
       "        <tr>\n",
       "            <td>arg </td> <td>1.41           </td> <td>40895751        </td> <td>576630       </td>\n",
       "        </tr>\n",
       "        <tr>\n",
       "            <td>arm </td> <td>1.75           </td> <td>2877314         </td> <td>50353        </td>\n",
       "        </tr>\n",
       "        <tr>\n",
       "            <td>aus </td> <td>1.36           </td> <td>22154687        </td> <td>301304       </td>\n",
       "        </tr>\n",
       "        <tr>\n",
       "            <td>aut </td> <td>0.34           </td> <td>8409945         </td> <td>28594        </td>\n",
       "        </tr>\n",
       "        <tr>\n",
       "            <td>aze </td> <td>0.31           </td> <td>9032465         </td> <td>28001        </td>\n",
       "        </tr>\n",
       "        <tr>\n",
       "            <td>bdi </td> <td>81.32          </td> <td>8675606         </td> <td>7.055e+06    </td>\n",
       "        </tr>\n",
       "        <tr>\n",
       "            <td>bel </td> <td>0.5            </td> <td>10938735        </td> <td>54694        </td>\n",
       "        </tr>\n",
       "        <tr>\n",
       "            <td>ben </td> <td>51.61          </td> <td>9199254         </td> <td>4.74774e+06  </td>\n",
       "        </tr>\n",
       "    </tbody>\n",
       "</table>\n",
       "<p>... (135 rows omitted)</p>"
      ],
      "text/plain": [
       "geo  | poverty_percent | population_total | poverty_total\n",
       "ago  | 43.37           | 23356247         | 1.01296e+07\n",
       "alb  | 0.46            | 2948029          | 13561\n",
       "arg  | 1.41            | 40895751         | 576630\n",
       "arm  | 1.75            | 2877314          | 50353\n",
       "aus  | 1.36            | 22154687         | 301304\n",
       "aut  | 0.34            | 8409945          | 28594\n",
       "aze  | 0.31            | 9032465          | 28001\n",
       "bdi  | 81.32           | 8675606          | 7.055e+06\n",
       "bel  | 0.5             | 10938735         | 54694\n",
       "ben  | 51.61           | 9199254          | 4.74774e+06\n",
       "... (135 rows omitted)"
      ]
     },
     "execution_count": 120,
     "metadata": {},
     "output_type": "execute_result"
    }
   ],
   "source": [
    "percent_and_pop_t =latest_poverty.join('geo', population.where('time',are.equal_to(2010)).drop('time')).drop('time')\n",
    "poverty_and_pop = (percent_and_pop_t.column('poverty_percent')/100)*percent_and_pop_t.column('population_total')\n",
    "recent_poverty_total = percent_and_pop_t.with_column('poverty_total',np.round(poverty_and_pop))\n",
    "recent_poverty_total"
   ]
  },
  {
   "cell_type": "code",
   "execution_count": 121,
   "id": "b9a52239",
   "metadata": {
    "deletable": false,
    "editable": false
   },
   "outputs": [
    {
     "data": {
      "text/html": [
       "<p><strong><pre style='display: inline;'>q2_2</pre></strong> passed!</p>"
      ],
      "text/plain": [
       "q2_2 results: All test cases passed!"
      ]
     },
     "execution_count": 121,
     "metadata": {},
     "output_type": "execute_result"
    }
   ],
   "source": [
    "grader.check(\"q2_2\")"
   ]
  },
  {
   "cell_type": "markdown",
   "id": "82bd8cc0",
   "metadata": {
    "deletable": false,
    "editable": false
   },
   "source": [
    "**Question 3.** Assign the name `poverty_percent` to the known percentage of the world’s 2010 population that were living in extreme poverty. Assume that the `poverty_total` numbers in the `recent_poverty_total` table describe **all** people in 2010 living in extreme poverty. You should get a number that is above the 2018 global estimate of 9%, since many country-specific poverty rates are older than 2018.\n",
    "\n",
    "*Hint*: The sum of the `population_total` column in the `recent_poverty_total` table is not the world population, because only a subset of the world's countries are included in the `recent_poverty_total` table (only some countries have known poverty rates). Use the `population` table to compute the world's 2010 total population.\n",
    "\n",
    "*Hint*: We are computing a percentage (value between 0 and 100), not a proportion (value between 0 and 1).\n",
    "\n",
    "<!--\n",
    "BEGIN QUESTION\n",
    "name: q2_3\n",
    "points:\n",
    "- 0\n",
    "- 4\n",
    "-->"
   ]
  },
  {
   "cell_type": "code",
   "execution_count": 122,
   "id": "5ed5a6c1",
   "metadata": {
    "deletable": false,
    "execution": {
     "iopub.execute_input": "2021-09-17T21:54:18.632472Z",
     "iopub.status.busy": "2021-09-17T21:54:18.621714Z",
     "iopub.status.idle": "2021-09-17T21:54:18.974200Z",
     "shell.execute_reply": "2021-09-17T21:54:18.974637Z"
    }
   },
   "outputs": [
    {
     "data": {
      "text/plain": [
       "14.248865303997139"
      ]
     },
     "execution_count": 122,
     "metadata": {},
     "output_type": "execute_result"
    }
   ],
   "source": [
    "world_population = sum(population.where('time',are.equal_to(2010)).column('population_total'))\n",
    "poverty_percent = sum(recent_poverty_total.column('poverty_total'))/world_population*100\n",
    "poverty_percent"
   ]
  },
  {
   "cell_type": "code",
   "execution_count": 123,
   "id": "23b8d509",
   "metadata": {
    "deletable": false,
    "editable": false
   },
   "outputs": [
    {
     "data": {
      "text/html": [
       "<p><strong><pre style='display: inline;'>q2_3</pre></strong> passed!</p>"
      ],
      "text/plain": [
       "q2_3 results: All test cases passed!"
      ]
     },
     "execution_count": 123,
     "metadata": {},
     "output_type": "execute_result"
    }
   ],
   "source": [
    "grader.check(\"q2_3\")"
   ]
  },
  {
   "cell_type": "markdown",
   "id": "85cf1dc3",
   "metadata": {
    "deletable": false,
    "editable": false
   },
   "source": [
    "The `countries` table includes not only the name and region of countries, but also their positions on the globe."
   ]
  },
  {
   "cell_type": "code",
   "execution_count": 124,
   "id": "91dc61c5",
   "metadata": {
    "deletable": false,
    "editable": false,
    "execution": {
     "iopub.execute_input": "2021-09-17T21:54:18.996950Z",
     "iopub.status.busy": "2021-09-17T21:54:18.996196Z",
     "iopub.status.idle": "2021-09-17T21:54:19.000179Z",
     "shell.execute_reply": "2021-09-17T21:54:19.000593Z"
    }
   },
   "outputs": [
    {
     "data": {
      "text/html": [
       "<table border=\"1\" class=\"dataframe\">\n",
       "    <thead>\n",
       "        <tr>\n",
       "            <th>country</th> <th>name</th> <th>world_4region</th> <th>latitude</th> <th>longitude</th>\n",
       "        </tr>\n",
       "    </thead>\n",
       "    <tbody>\n",
       "        <tr>\n",
       "            <td>afg    </td> <td>Afghanistan         </td> <td>asia         </td> <td>33      </td> <td>66       </td>\n",
       "        </tr>\n",
       "        <tr>\n",
       "            <td>ago    </td> <td>Angola              </td> <td>africa       </td> <td>-12.5   </td> <td>18.5     </td>\n",
       "        </tr>\n",
       "        <tr>\n",
       "            <td>alb    </td> <td>Albania             </td> <td>europe       </td> <td>41      </td> <td>20       </td>\n",
       "        </tr>\n",
       "        <tr>\n",
       "            <td>and    </td> <td>Andorra             </td> <td>europe       </td> <td>42.5078 </td> <td>1.52109  </td>\n",
       "        </tr>\n",
       "        <tr>\n",
       "            <td>are    </td> <td>United Arab Emirates</td> <td>asia         </td> <td>23.75   </td> <td>54.5     </td>\n",
       "        </tr>\n",
       "        <tr>\n",
       "            <td>arg    </td> <td>Argentina           </td> <td>americas     </td> <td>-34     </td> <td>-64      </td>\n",
       "        </tr>\n",
       "        <tr>\n",
       "            <td>arm    </td> <td>Armenia             </td> <td>europe       </td> <td>40.25   </td> <td>45       </td>\n",
       "        </tr>\n",
       "        <tr>\n",
       "            <td>atg    </td> <td>Antigua and Barbuda </td> <td>americas     </td> <td>17.05   </td> <td>-61.8    </td>\n",
       "        </tr>\n",
       "        <tr>\n",
       "            <td>aus    </td> <td>Australia           </td> <td>asia         </td> <td>-25     </td> <td>135      </td>\n",
       "        </tr>\n",
       "        <tr>\n",
       "            <td>aut    </td> <td>Austria             </td> <td>europe       </td> <td>47.3333 </td> <td>13.3333  </td>\n",
       "        </tr>\n",
       "    </tbody>\n",
       "</table>\n",
       "<p>... (187 rows omitted)</p>"
      ],
      "text/plain": [
       "country | name                 | world_4region | latitude | longitude\n",
       "afg     | Afghanistan          | asia          | 33       | 66\n",
       "ago     | Angola               | africa        | -12.5    | 18.5\n",
       "alb     | Albania              | europe        | 41       | 20\n",
       "and     | Andorra              | europe        | 42.5078  | 1.52109\n",
       "are     | United Arab Emirates | asia          | 23.75    | 54.5\n",
       "arg     | Argentina            | americas      | -34      | -64\n",
       "arm     | Armenia              | europe        | 40.25    | 45\n",
       "atg     | Antigua and Barbuda  | americas      | 17.05    | -61.8\n",
       "aus     | Australia            | asia          | -25      | 135\n",
       "aut     | Austria              | europe        | 47.3333  | 13.3333\n",
       "... (187 rows omitted)"
      ]
     },
     "execution_count": 124,
     "metadata": {},
     "output_type": "execute_result"
    }
   ],
   "source": [
    "countries.select('country', 'name', 'world_4region', 'latitude', 'longitude')"
   ]
  },
  {
   "cell_type": "markdown",
   "id": "e3b05b2b",
   "metadata": {
    "deletable": false,
    "editable": false
   },
   "source": [
    "**Question 4.** Using both `countries` and `recent_poverty_total`, create a five-column table called `poverty_map` with one row for every country in `recent_poverty_total`.  The five columns should have the following labels and contents:\n",
    "1. `latitude` contains the country's latitude,\n",
    "1. `longitude` contains the country's longitude,\n",
    "1. `name` contains the country's name,\n",
    "1. `region` contains the country's region from the `world_4region` column of `countries`,\n",
    "1. `poverty_total` contains the country's poverty total.\n",
    "\n",
    "<!--\n",
    "BEGIN QUESTION\n",
    "name: q2_4\n",
    "points:\n",
    "- 0\n",
    "- 0\n",
    "- 0\n",
    "- 4\n",
    "-->"
   ]
  },
  {
   "cell_type": "code",
   "execution_count": 125,
   "id": "7d0e33ae",
   "metadata": {
    "deletable": false,
    "execution": {
     "iopub.execute_input": "2021-09-17T21:54:19.006545Z",
     "iopub.status.busy": "2021-09-17T21:54:19.005576Z",
     "iopub.status.idle": "2021-09-17T21:54:19.023415Z",
     "shell.execute_reply": "2021-09-17T21:54:19.022819Z"
    }
   },
   "outputs": [
    {
     "data": {
      "text/html": [
       "<table border=\"1\" class=\"dataframe\">\n",
       "    <thead>\n",
       "        <tr>\n",
       "            <th>latitude</th> <th>longitude</th> <th>name</th> <th>region</th> <th>poverty_total</th>\n",
       "        </tr>\n",
       "    </thead>\n",
       "    <tbody>\n",
       "        <tr>\n",
       "            <td>-12.5   </td> <td>18.5     </td> <td>Angola    </td> <td>africa  </td> <td>1.01296e+07  </td>\n",
       "        </tr>\n",
       "        <tr>\n",
       "            <td>41      </td> <td>20       </td> <td>Albania   </td> <td>europe  </td> <td>13561        </td>\n",
       "        </tr>\n",
       "        <tr>\n",
       "            <td>-34     </td> <td>-64      </td> <td>Argentina </td> <td>americas</td> <td>576630       </td>\n",
       "        </tr>\n",
       "        <tr>\n",
       "            <td>40.25   </td> <td>45       </td> <td>Armenia   </td> <td>europe  </td> <td>50353        </td>\n",
       "        </tr>\n",
       "        <tr>\n",
       "            <td>-25     </td> <td>135      </td> <td>Australia </td> <td>asia    </td> <td>301304       </td>\n",
       "        </tr>\n",
       "        <tr>\n",
       "            <td>47.3333 </td> <td>13.3333  </td> <td>Austria   </td> <td>europe  </td> <td>28594        </td>\n",
       "        </tr>\n",
       "        <tr>\n",
       "            <td>40.5    </td> <td>47.5     </td> <td>Azerbaijan</td> <td>europe  </td> <td>28001        </td>\n",
       "        </tr>\n",
       "        <tr>\n",
       "            <td>-3.5    </td> <td>30       </td> <td>Burundi   </td> <td>africa  </td> <td>7.055e+06    </td>\n",
       "        </tr>\n",
       "        <tr>\n",
       "            <td>50.75   </td> <td>4.5      </td> <td>Belgium   </td> <td>europe  </td> <td>54694        </td>\n",
       "        </tr>\n",
       "        <tr>\n",
       "            <td>9.5     </td> <td>2.25     </td> <td>Benin     </td> <td>africa  </td> <td>4.74774e+06  </td>\n",
       "        </tr>\n",
       "    </tbody>\n",
       "</table>\n",
       "<p>... (135 rows omitted)</p>"
      ],
      "text/plain": [
       "latitude | longitude | name       | region   | poverty_total\n",
       "-12.5    | 18.5      | Angola     | africa   | 1.01296e+07\n",
       "41       | 20        | Albania    | europe   | 13561\n",
       "-34      | -64       | Argentina  | americas | 576630\n",
       "40.25    | 45        | Armenia    | europe   | 50353\n",
       "-25      | 135       | Australia  | asia     | 301304\n",
       "47.3333  | 13.3333   | Austria    | europe   | 28594\n",
       "40.5     | 47.5      | Azerbaijan | europe   | 28001\n",
       "-3.5     | 30        | Burundi    | africa   | 7.055e+06\n",
       "50.75    | 4.5       | Belgium    | europe   | 54694\n",
       "9.5      | 2.25      | Benin      | africa   | 4.74774e+06\n",
       "... (135 rows omitted)"
      ]
     },
     "execution_count": 125,
     "metadata": {},
     "output_type": "execute_result"
    }
   ],
   "source": [
    "poverty_map = recent_poverty_total.join('geo',countries,'country').select('latitude','longitude','name','world_4region','poverty_total').relabeled('world_4region','region')\n",
    "poverty_map"
   ]
  },
  {
   "cell_type": "code",
   "execution_count": 126,
   "id": "45b94396",
   "metadata": {
    "deletable": false,
    "editable": false
   },
   "outputs": [
    {
     "data": {
      "text/html": [
       "<p><strong><pre style='display: inline;'>q2_4</pre></strong> passed!</p>"
      ],
      "text/plain": [
       "q2_4 results: All test cases passed!"
      ]
     },
     "execution_count": 126,
     "metadata": {},
     "output_type": "execute_result"
    }
   ],
   "source": [
    "grader.check(\"q2_4\")"
   ]
  },
  {
   "cell_type": "markdown",
   "id": "ef487b93",
   "metadata": {
    "deletable": false,
    "editable": false
   },
   "source": [
    "Run the cell below to draw a map of the world in which the areas of circles represent the number of people living in extreme poverty. Double-click on the map to zoom in."
   ]
  },
  {
   "cell_type": "code",
   "execution_count": 127,
   "id": "addce30a",
   "metadata": {
    "deletable": false,
    "editable": false,
    "execution": {
     "iopub.execute_input": "2021-09-17T21:54:19.066906Z",
     "iopub.status.busy": "2021-09-17T21:54:19.066352Z",
     "iopub.status.idle": "2021-09-17T21:54:19.301691Z",
     "shell.execute_reply": "2021-09-17T21:54:19.302146Z"
    },
    "scrolled": true
   },
   "outputs": [
    {
     "data": {
      "text/html": [
       "<div style=\"width:100%;\"><div style=\"position:relative;width:100%;height:0;padding-bottom:60%;\"><span style=\"color:#565656\">Make this Notebook Trusted to load map: File -> Trust Notebook</span><iframe src=\"about:blank\" style=\"position:absolute;width:100%;height:100%;left:0;top:0;border:none !important;\" data-html=%3C%21DOCTYPE%20html%3E%0A%3Chead%3E%20%20%20%20%0A%20%20%20%20%3Cmeta%20http-equiv%3D%22content-type%22%20content%3D%22text/html%3B%20charset%3DUTF-8%22%20/%3E%0A%20%20%20%20%0A%20%20%20%20%20%20%20%20%3Cscript%3E%0A%20%20%20%20%20%20%20%20%20%20%20%20L_NO_TOUCH%20%3D%20false%3B%0A%20%20%20%20%20%20%20%20%20%20%20%20L_DISABLE_3D%20%3D%20false%3B%0A%20%20%20%20%20%20%20%20%3C/script%3E%0A%20%20%20%20%0A%20%20%20%20%3Cstyle%3Ehtml%2C%20body%20%7Bwidth%3A%20100%25%3Bheight%3A%20100%25%3Bmargin%3A%200%3Bpadding%3A%200%3B%7D%3C/style%3E%0A%20%20%20%20%3Cstyle%3E%23map%20%7Bposition%3Aabsolute%3Btop%3A0%3Bbottom%3A0%3Bright%3A0%3Bleft%3A0%3B%7D%3C/style%3E%0A%20%20%20%20%3Cscript%20src%3D%22https%3A//cdn.jsdelivr.net/npm/leaflet%401.6.0/dist/leaflet.js%22%3E%3C/script%3E%0A%20%20%20%20%3Cscript%20src%3D%22https%3A//code.jquery.com/jquery-1.12.4.min.js%22%3E%3C/script%3E%0A%20%20%20%20%3Cscript%20src%3D%22https%3A//maxcdn.bootstrapcdn.com/bootstrap/3.2.0/js/bootstrap.min.js%22%3E%3C/script%3E%0A%20%20%20%20%3Cscript%20src%3D%22https%3A//cdnjs.cloudflare.com/ajax/libs/Leaflet.awesome-markers/2.0.2/leaflet.awesome-markers.js%22%3E%3C/script%3E%0A%20%20%20%20%3Clink%20rel%3D%22stylesheet%22%20href%3D%22https%3A//cdn.jsdelivr.net/npm/leaflet%401.6.0/dist/leaflet.css%22/%3E%0A%20%20%20%20%3Clink%20rel%3D%22stylesheet%22%20href%3D%22https%3A//maxcdn.bootstrapcdn.com/bootstrap/3.2.0/css/bootstrap.min.css%22/%3E%0A%20%20%20%20%3Clink%20rel%3D%22stylesheet%22%20href%3D%22https%3A//maxcdn.bootstrapcdn.com/bootstrap/3.2.0/css/bootstrap-theme.min.css%22/%3E%0A%20%20%20%20%3Clink%20rel%3D%22stylesheet%22%20href%3D%22https%3A//maxcdn.bootstrapcdn.com/font-awesome/4.6.3/css/font-awesome.min.css%22/%3E%0A%20%20%20%20%3Clink%20rel%3D%22stylesheet%22%20href%3D%22https%3A//cdnjs.cloudflare.com/ajax/libs/Leaflet.awesome-markers/2.0.2/leaflet.awesome-markers.css%22/%3E%0A%20%20%20%20%3Clink%20rel%3D%22stylesheet%22%20href%3D%22https%3A//cdn.jsdelivr.net/gh/python-visualization/folium/folium/templates/leaflet.awesome.rotate.min.css%22/%3E%0A%20%20%20%20%0A%20%20%20%20%20%20%20%20%20%20%20%20%3Cmeta%20name%3D%22viewport%22%20content%3D%22width%3Ddevice-width%2C%0A%20%20%20%20%20%20%20%20%20%20%20%20%20%20%20%20initial-scale%3D1.0%2C%20maximum-scale%3D1.0%2C%20user-scalable%3Dno%22%20/%3E%0A%20%20%20%20%20%20%20%20%20%20%20%20%3Cstyle%3E%0A%20%20%20%20%20%20%20%20%20%20%20%20%20%20%20%20%23map_32cccead184a40808fc661e404ec6e39%20%7B%0A%20%20%20%20%20%20%20%20%20%20%20%20%20%20%20%20%20%20%20%20position%3A%20relative%3B%0A%20%20%20%20%20%20%20%20%20%20%20%20%20%20%20%20%20%20%20%20width%3A%20960.0px%3B%0A%20%20%20%20%20%20%20%20%20%20%20%20%20%20%20%20%20%20%20%20height%3A%20500.0px%3B%0A%20%20%20%20%20%20%20%20%20%20%20%20%20%20%20%20%20%20%20%20left%3A%200.0%25%3B%0A%20%20%20%20%20%20%20%20%20%20%20%20%20%20%20%20%20%20%20%20top%3A%200.0%25%3B%0A%20%20%20%20%20%20%20%20%20%20%20%20%20%20%20%20%7D%0A%20%20%20%20%20%20%20%20%20%20%20%20%3C/style%3E%0A%20%20%20%20%20%20%20%20%0A%3C/head%3E%0A%3Cbody%3E%20%20%20%20%0A%20%20%20%20%0A%20%20%20%20%20%20%20%20%20%20%20%20%3Cdiv%20class%3D%22folium-map%22%20id%3D%22map_32cccead184a40808fc661e404ec6e39%22%20%3E%3C/div%3E%0A%20%20%20%20%20%20%20%20%0A%3C/body%3E%0A%3Cscript%3E%20%20%20%20%0A%20%20%20%20%0A%20%20%20%20%20%20%20%20%20%20%20%20var%20map_32cccead184a40808fc661e404ec6e39%20%3D%20L.map%28%0A%20%20%20%20%20%20%20%20%20%20%20%20%20%20%20%20%22map_32cccead184a40808fc661e404ec6e39%22%2C%0A%20%20%20%20%20%20%20%20%20%20%20%20%20%20%20%20%7B%0A%20%20%20%20%20%20%20%20%20%20%20%20%20%20%20%20%20%20%20%20center%3A%20%5B15.0%2C%2032.17871%5D%2C%0A%20%20%20%20%20%20%20%20%20%20%20%20%20%20%20%20%20%20%20%20crs%3A%20L.CRS.EPSG3857%2C%0A%20%20%20%20%20%20%20%20%20%20%20%20%20%20%20%20%20%20%20%20zoom%3A%201%2C%0A%20%20%20%20%20%20%20%20%20%20%20%20%20%20%20%20%20%20%20%20zoomControl%3A%20true%2C%0A%20%20%20%20%20%20%20%20%20%20%20%20%20%20%20%20%20%20%20%20preferCanvas%3A%20false%2C%0A%20%20%20%20%20%20%20%20%20%20%20%20%20%20%20%20%20%20%20%20clusteredMarker%3A%20false%2C%0A%20%20%20%20%20%20%20%20%20%20%20%20%20%20%20%20%20%20%20%20includeColorScaleOutliers%3A%20true%2C%0A%20%20%20%20%20%20%20%20%20%20%20%20%20%20%20%20%20%20%20%20radiusInMeters%3A%20false%2C%0A%20%20%20%20%20%20%20%20%20%20%20%20%20%20%20%20%7D%0A%20%20%20%20%20%20%20%20%20%20%20%20%29%3B%0A%0A%20%20%20%20%20%20%20%20%20%20%20%20%0A%0A%20%20%20%20%20%20%20%20%0A%20%20%20%20%0A%20%20%20%20%20%20%20%20%20%20%20%20var%20tile_layer_680d0225945b4022b28591a5b58c5f2b%20%3D%20L.tileLayer%28%0A%20%20%20%20%20%20%20%20%20%20%20%20%20%20%20%20%22https%3A//%7Bs%7D.tile.openstreetmap.org/%7Bz%7D/%7Bx%7D/%7By%7D.png%22%2C%0A%20%20%20%20%20%20%20%20%20%20%20%20%20%20%20%20%7B%22attribution%22%3A%20%22Data%20by%20%5Cu0026copy%3B%20%5Cu003ca%20href%3D%5C%22http%3A//openstreetmap.org%5C%22%5Cu003eOpenStreetMap%5Cu003c/a%5Cu003e%2C%20under%20%5Cu003ca%20href%3D%5C%22http%3A//www.openstreetmap.org/copyright%5C%22%5Cu003eODbL%5Cu003c/a%5Cu003e.%22%2C%20%22detectRetina%22%3A%20false%2C%20%22maxNativeZoom%22%3A%2017%2C%20%22maxZoom%22%3A%2017%2C%20%22minZoom%22%3A%20-1%2C%20%22noWrap%22%3A%20false%2C%20%22opacity%22%3A%201%2C%20%22subdomains%22%3A%20%22abc%22%2C%20%22tms%22%3A%20false%7D%0A%20%20%20%20%20%20%20%20%20%20%20%20%29.addTo%28map_32cccead184a40808fc661e404ec6e39%29%3B%0A%20%20%20%20%20%20%20%20%0A%20%20%20%20%0A%20%20%20%20%20%20%20%20%20%20%20%20var%20circle_marker_3fa20f5c4f4048cdb959714fb5c9a973%20%3D%20L.circleMarker%28%0A%20%20%20%20%20%20%20%20%20%20%20%20%20%20%20%20%5B-12.5%2C%2018.5%5D%2C%0A%20%20%20%20%20%20%20%20%20%20%20%20%20%20%20%20%7B%22bubblingMouseEvents%22%3A%20true%2C%20%22color%22%3A%20%22%233388ff%22%2C%20%22dashArray%22%3A%20null%2C%20%22dashOffset%22%3A%20null%2C%20%22fill%22%3A%20true%2C%20%22fillColor%22%3A%20%22blue%22%2C%20%22fillOpacity%22%3A%200.2%2C%20%22fillRule%22%3A%20%22evenodd%22%2C%20%22lineCap%22%3A%20%22round%22%2C%20%22lineJoin%22%3A%20%22round%22%2C%20%22opacity%22%3A%201.0%2C%20%22radius%22%3A%2017.956483776972792%2C%20%22stroke%22%3A%20true%2C%20%22weight%22%3A%203%7D%0A%20%20%20%20%20%20%20%20%20%20%20%20%29.addTo%28map_32cccead184a40808fc661e404ec6e39%29%3B%0A%20%20%20%20%20%20%20%20%0A%20%20%20%20%0A%20%20%20%20%20%20%20%20var%20popup_2aeb88daf3fe427dbe488c781839e0ea%20%3D%20L.popup%28%7B%22maxWidth%22%3A%20%22100%25%22%7D%29%3B%0A%0A%20%20%20%20%20%20%20%20%0A%20%20%20%20%20%20%20%20%20%20%20%20var%20html_3df6b2c1ff0143a1af0b9cf2ba159c7c%20%3D%20%24%28%60%3Cdiv%20id%3D%22html_3df6b2c1ff0143a1af0b9cf2ba159c7c%22%20style%3D%22width%3A%20100.0%25%3B%20height%3A%20100.0%25%3B%22%3EAngola%3C/div%3E%60%29%5B0%5D%3B%0A%20%20%20%20%20%20%20%20%20%20%20%20popup_2aeb88daf3fe427dbe488c781839e0ea.setContent%28html_3df6b2c1ff0143a1af0b9cf2ba159c7c%29%3B%0A%20%20%20%20%20%20%20%20%0A%0A%20%20%20%20%20%20%20%20circle_marker_3fa20f5c4f4048cdb959714fb5c9a973.bindPopup%28popup_2aeb88daf3fe427dbe488c781839e0ea%29%0A%20%20%20%20%20%20%20%20%3B%0A%0A%20%20%20%20%20%20%20%20%0A%20%20%20%20%0A%20%20%20%20%0A%20%20%20%20%20%20%20%20%20%20%20%20var%20circle_marker_8aa8674626814c14bb68f6d69325974e%20%3D%20L.circleMarker%28%0A%20%20%20%20%20%20%20%20%20%20%20%20%20%20%20%20%5B41.0%2C%2020.0%5D%2C%0A%20%20%20%20%20%20%20%20%20%20%20%20%20%20%20%20%7B%22bubblingMouseEvents%22%3A%20true%2C%20%22color%22%3A%20%22%233388ff%22%2C%20%22dashArray%22%3A%20null%2C%20%22dashOffset%22%3A%20null%2C%20%22fill%22%3A%20true%2C%20%22fillColor%22%3A%20%22black%22%2C%20%22fillOpacity%22%3A%200.2%2C%20%22fillRule%22%3A%20%22evenodd%22%2C%20%22lineCap%22%3A%20%22round%22%2C%20%22lineJoin%22%3A%20%22round%22%2C%20%22opacity%22%3A%201.0%2C%20%22radius%22%3A%200.6570083992262493%2C%20%22stroke%22%3A%20true%2C%20%22weight%22%3A%203%7D%0A%20%20%20%20%20%20%20%20%20%20%20%20%29.addTo%28map_32cccead184a40808fc661e404ec6e39%29%3B%0A%20%20%20%20%20%20%20%20%0A%20%20%20%20%0A%20%20%20%20%20%20%20%20var%20popup_75aa3b31015340f7819da67c3a544fee%20%3D%20L.popup%28%7B%22maxWidth%22%3A%20%22100%25%22%7D%29%3B%0A%0A%20%20%20%20%20%20%20%20%0A%20%20%20%20%20%20%20%20%20%20%20%20var%20html_6b64856bbf844c28965b489aa06660ec%20%3D%20%24%28%60%3Cdiv%20id%3D%22html_6b64856bbf844c28965b489aa06660ec%22%20style%3D%22width%3A%20100.0%25%3B%20height%3A%20100.0%25%3B%22%3EAlbania%3C/div%3E%60%29%5B0%5D%3B%0A%20%20%20%20%20%20%20%20%20%20%20%20popup_75aa3b31015340f7819da67c3a544fee.setContent%28html_6b64856bbf844c28965b489aa06660ec%29%3B%0A%20%20%20%20%20%20%20%20%0A%0A%20%20%20%20%20%20%20%20circle_marker_8aa8674626814c14bb68f6d69325974e.bindPopup%28popup_75aa3b31015340f7819da67c3a544fee%29%0A%20%20%20%20%20%20%20%20%3B%0A%0A%20%20%20%20%20%20%20%20%0A%20%20%20%20%0A%20%20%20%20%0A%20%20%20%20%20%20%20%20%20%20%20%20var%20circle_marker_d038444c27754ab18336c60461d5ac5f%20%3D%20L.circleMarker%28%0A%20%20%20%20%20%20%20%20%20%20%20%20%20%20%20%20%5B-34.0%2C%20-64.0%5D%2C%0A%20%20%20%20%20%20%20%20%20%20%20%20%20%20%20%20%7B%22bubblingMouseEvents%22%3A%20true%2C%20%22color%22%3A%20%22%233388ff%22%2C%20%22dashArray%22%3A%20null%2C%20%22dashOffset%22%3A%20null%2C%20%22fill%22%3A%20true%2C%20%22fillColor%22%3A%20%22green%22%2C%20%22fillOpacity%22%3A%200.2%2C%20%22fillRule%22%3A%20%22evenodd%22%2C%20%22lineCap%22%3A%20%22round%22%2C%20%22lineJoin%22%3A%20%22round%22%2C%20%22opacity%22%3A%201.0%2C%20%22radius%22%3A%204.284238901720576%2C%20%22stroke%22%3A%20true%2C%20%22weight%22%3A%203%7D%0A%20%20%20%20%20%20%20%20%20%20%20%20%29.addTo%28map_32cccead184a40808fc661e404ec6e39%29%3B%0A%20%20%20%20%20%20%20%20%0A%20%20%20%20%0A%20%20%20%20%20%20%20%20var%20popup_55d076b094574511821675283590839c%20%3D%20L.popup%28%7B%22maxWidth%22%3A%20%22100%25%22%7D%29%3B%0A%0A%20%20%20%20%20%20%20%20%0A%20%20%20%20%20%20%20%20%20%20%20%20var%20html_03b009b362144baaa00346efc99df481%20%3D%20%24%28%60%3Cdiv%20id%3D%22html_03b009b362144baaa00346efc99df481%22%20style%3D%22width%3A%20100.0%25%3B%20height%3A%20100.0%25%3B%22%3EArgentina%3C/div%3E%60%29%5B0%5D%3B%0A%20%20%20%20%20%20%20%20%20%20%20%20popup_55d076b094574511821675283590839c.setContent%28html_03b009b362144baaa00346efc99df481%29%3B%0A%20%20%20%20%20%20%20%20%0A%0A%20%20%20%20%20%20%20%20circle_marker_d038444c27754ab18336c60461d5ac5f.bindPopup%28popup_55d076b094574511821675283590839c%29%0A%20%20%20%20%20%20%20%20%3B%0A%0A%20%20%20%20%20%20%20%20%0A%20%20%20%20%0A%20%20%20%20%0A%20%20%20%20%20%20%20%20%20%20%20%20var%20circle_marker_8f914f78140143849b4049f6e4def161%20%3D%20L.circleMarker%28%0A%20%20%20%20%20%20%20%20%20%20%20%20%20%20%20%20%5B40.25%2C%2045.0%5D%2C%0A%20%20%20%20%20%20%20%20%20%20%20%20%20%20%20%20%7B%22bubblingMouseEvents%22%3A%20true%2C%20%22color%22%3A%20%22%233388ff%22%2C%20%22dashArray%22%3A%20null%2C%20%22dashOffset%22%3A%20null%2C%20%22fill%22%3A%20true%2C%20%22fillColor%22%3A%20%22black%22%2C%20%22fillOpacity%22%3A%200.2%2C%20%22fillRule%22%3A%20%22evenodd%22%2C%20%22lineCap%22%3A%20%22round%22%2C%20%22lineJoin%22%3A%20%22round%22%2C%20%22opacity%22%3A%201.0%2C%20%22radius%22%3A%201.2660117574103493%2C%20%22stroke%22%3A%20true%2C%20%22weight%22%3A%203%7D%0A%20%20%20%20%20%20%20%20%20%20%20%20%29.addTo%28map_32cccead184a40808fc661e404ec6e39%29%3B%0A%20%20%20%20%20%20%20%20%0A%20%20%20%20%0A%20%20%20%20%20%20%20%20var%20popup_4e01cb8144144f16ae793e76eeec3715%20%3D%20L.popup%28%7B%22maxWidth%22%3A%20%22100%25%22%7D%29%3B%0A%0A%20%20%20%20%20%20%20%20%0A%20%20%20%20%20%20%20%20%20%20%20%20var%20html_ad16763538d24482b418fc68df6460f8%20%3D%20%24%28%60%3Cdiv%20id%3D%22html_ad16763538d24482b418fc68df6460f8%22%20style%3D%22width%3A%20100.0%25%3B%20height%3A%20100.0%25%3B%22%3EArmenia%3C/div%3E%60%29%5B0%5D%3B%0A%20%20%20%20%20%20%20%20%20%20%20%20popup_4e01cb8144144f16ae793e76eeec3715.setContent%28html_ad16763538d24482b418fc68df6460f8%29%3B%0A%20%20%20%20%20%20%20%20%0A%0A%20%20%20%20%20%20%20%20circle_marker_8f914f78140143849b4049f6e4def161.bindPopup%28popup_4e01cb8144144f16ae793e76eeec3715%29%0A%20%20%20%20%20%20%20%20%3B%0A%0A%20%20%20%20%20%20%20%20%0A%20%20%20%20%0A%20%20%20%20%0A%20%20%20%20%20%20%20%20%20%20%20%20var%20circle_marker_ac39877fae194735bdfadb7fc61bcf50%20%3D%20L.circleMarker%28%0A%20%20%20%20%20%20%20%20%20%20%20%20%20%20%20%20%5B-25.0%2C%20135.0%5D%2C%0A%20%20%20%20%20%20%20%20%20%20%20%20%20%20%20%20%7B%22bubblingMouseEvents%22%3A%20true%2C%20%22color%22%3A%20%22%233388ff%22%2C%20%22dashArray%22%3A%20null%2C%20%22dashOffset%22%3A%20null%2C%20%22fill%22%3A%20true%2C%20%22fillColor%22%3A%20%22red%22%2C%20%22fillOpacity%22%3A%200.2%2C%20%22fillRule%22%3A%20%22evenodd%22%2C%20%22lineCap%22%3A%20%22round%22%2C%20%22lineJoin%22%3A%20%22round%22%2C%20%22opacity%22%3A%201.0%2C%20%22radius%22%3A%203.0969023547202914%2C%20%22stroke%22%3A%20true%2C%20%22weight%22%3A%203%7D%0A%20%20%20%20%20%20%20%20%20%20%20%20%29.addTo%28map_32cccead184a40808fc661e404ec6e39%29%3B%0A%20%20%20%20%20%20%20%20%0A%20%20%20%20%0A%20%20%20%20%20%20%20%20var%20popup_f4556523aa62482e861821fdd0ac46e2%20%3D%20L.popup%28%7B%22maxWidth%22%3A%20%22100%25%22%7D%29%3B%0A%0A%20%20%20%20%20%20%20%20%0A%20%20%20%20%20%20%20%20%20%20%20%20var%20html_f4a1ebd1774b4bbab9ae2ed976b96487%20%3D%20%24%28%60%3Cdiv%20id%3D%22html_f4a1ebd1774b4bbab9ae2ed976b96487%22%20style%3D%22width%3A%20100.0%25%3B%20height%3A%20100.0%25%3B%22%3EAustralia%3C/div%3E%60%29%5B0%5D%3B%0A%20%20%20%20%20%20%20%20%20%20%20%20popup_f4556523aa62482e861821fdd0ac46e2.setContent%28html_f4a1ebd1774b4bbab9ae2ed976b96487%29%3B%0A%20%20%20%20%20%20%20%20%0A%0A%20%20%20%20%20%20%20%20circle_marker_ac39877fae194735bdfadb7fc61bcf50.bindPopup%28popup_f4556523aa62482e861821fdd0ac46e2%29%0A%20%20%20%20%20%20%20%20%3B%0A%0A%20%20%20%20%20%20%20%20%0A%20%20%20%20%0A%20%20%20%20%0A%20%20%20%20%20%20%20%20%20%20%20%20var%20circle_marker_0a5f06975827403a80168170b2b61266%20%3D%20L.circleMarker%28%0A%20%20%20%20%20%20%20%20%20%20%20%20%20%20%20%20%5B47.33333%2C%2013.33333%5D%2C%0A%20%20%20%20%20%20%20%20%20%20%20%20%20%20%20%20%7B%22bubblingMouseEvents%22%3A%20true%2C%20%22color%22%3A%20%22%233388ff%22%2C%20%22dashArray%22%3A%20null%2C%20%22dashOffset%22%3A%20null%2C%20%22fill%22%3A%20true%2C%20%22fillColor%22%3A%20%22black%22%2C%20%22fillOpacity%22%3A%200.2%2C%20%22fillRule%22%3A%20%22evenodd%22%2C%20%22lineCap%22%3A%20%22round%22%2C%20%22lineJoin%22%3A%20%22round%22%2C%20%22opacity%22%3A%201.0%2C%20%22radius%22%3A%200.9540310731595334%2C%20%22stroke%22%3A%20true%2C%20%22weight%22%3A%203%7D%0A%20%20%20%20%20%20%20%20%20%20%20%20%29.addTo%28map_32cccead184a40808fc661e404ec6e39%29%3B%0A%20%20%20%20%20%20%20%20%0A%20%20%20%20%0A%20%20%20%20%20%20%20%20var%20popup_8e96eeac13fd4c0cb912bd52576cf4a2%20%3D%20L.popup%28%7B%22maxWidth%22%3A%20%22100%25%22%7D%29%3B%0A%0A%20%20%20%20%20%20%20%20%0A%20%20%20%20%20%20%20%20%20%20%20%20var%20html_bdd0836d2d134321b0082bc903e5d574%20%3D%20%24%28%60%3Cdiv%20id%3D%22html_bdd0836d2d134321b0082bc903e5d574%22%20style%3D%22width%3A%20100.0%25%3B%20height%3A%20100.0%25%3B%22%3EAustria%3C/div%3E%60%29%5B0%5D%3B%0A%20%20%20%20%20%20%20%20%20%20%20%20popup_8e96eeac13fd4c0cb912bd52576cf4a2.setContent%28html_bdd0836d2d134321b0082bc903e5d574%29%3B%0A%20%20%20%20%20%20%20%20%0A%0A%20%20%20%20%20%20%20%20circle_marker_0a5f06975827403a80168170b2b61266.bindPopup%28popup_8e96eeac13fd4c0cb912bd52576cf4a2%29%0A%20%20%20%20%20%20%20%20%3B%0A%0A%20%20%20%20%20%20%20%20%0A%20%20%20%20%0A%20%20%20%20%0A%20%20%20%20%20%20%20%20%20%20%20%20var%20circle_marker_03ada3695f504513ad10e462abb53673%20%3D%20L.circleMarker%28%0A%20%20%20%20%20%20%20%20%20%20%20%20%20%20%20%20%5B40.5%2C%2047.5%5D%2C%0A%20%20%20%20%20%20%20%20%20%20%20%20%20%20%20%20%7B%22bubblingMouseEvents%22%3A%20true%2C%20%22color%22%3A%20%22%233388ff%22%2C%20%22dashArray%22%3A%20null%2C%20%22dashOffset%22%3A%20null%2C%20%22fill%22%3A%20true%2C%20%22fillColor%22%3A%20%22black%22%2C%20%22fillOpacity%22%3A%200.2%2C%20%22fillRule%22%3A%20%22evenodd%22%2C%20%22lineCap%22%3A%20%22round%22%2C%20%22lineJoin%22%3A%20%22round%22%2C%20%22opacity%22%3A%201.0%2C%20%22radius%22%3A%200.9440866021203946%2C%20%22stroke%22%3A%20true%2C%20%22weight%22%3A%203%7D%0A%20%20%20%20%20%20%20%20%20%20%20%20%29.addTo%28map_32cccead184a40808fc661e404ec6e39%29%3B%0A%20%20%20%20%20%20%20%20%0A%20%20%20%20%0A%20%20%20%20%20%20%20%20var%20popup_3872548198f94a02b4f45d286994592e%20%3D%20L.popup%28%7B%22maxWidth%22%3A%20%22100%25%22%7D%29%3B%0A%0A%20%20%20%20%20%20%20%20%0A%20%20%20%20%20%20%20%20%20%20%20%20var%20html_41d6140f02fc49dba2e33a7deda8007c%20%3D%20%24%28%60%3Cdiv%20id%3D%22html_41d6140f02fc49dba2e33a7deda8007c%22%20style%3D%22width%3A%20100.0%25%3B%20height%3A%20100.0%25%3B%22%3EAzerbaijan%3C/div%3E%60%29%5B0%5D%3B%0A%20%20%20%20%20%20%20%20%20%20%20%20popup_3872548198f94a02b4f45d286994592e.setContent%28html_41d6140f02fc49dba2e33a7deda8007c%29%3B%0A%20%20%20%20%20%20%20%20%0A%0A%20%20%20%20%20%20%20%20circle_marker_03ada3695f504513ad10e462abb53673.bindPopup%28popup_3872548198f94a02b4f45d286994592e%29%0A%20%20%20%20%20%20%20%20%3B%0A%0A%20%20%20%20%20%20%20%20%0A%20%20%20%20%0A%20%20%20%20%0A%20%20%20%20%20%20%20%20%20%20%20%20var%20circle_marker_1989e0cd51994f36a4ac1570e832eced%20%3D%20L.circleMarker%28%0A%20%20%20%20%20%20%20%20%20%20%20%20%20%20%20%20%5B-3.5%2C%2030.0%5D%2C%0A%20%20%20%20%20%20%20%20%20%20%20%20%20%20%20%20%7B%22bubblingMouseEvents%22%3A%20true%2C%20%22color%22%3A%20%22%233388ff%22%2C%20%22dashArray%22%3A%20null%2C%20%22dashOffset%22%3A%20null%2C%20%22fill%22%3A%20true%2C%20%22fillColor%22%3A%20%22blue%22%2C%20%22fillOpacity%22%3A%200.2%2C%20%22fillRule%22%3A%20%22evenodd%22%2C%20%22lineCap%22%3A%20%22round%22%2C%20%22lineJoin%22%3A%20%22round%22%2C%20%22opacity%22%3A%201.0%2C%20%22radius%22%3A%2014.985583745574617%2C%20%22stroke%22%3A%20true%2C%20%22weight%22%3A%203%7D%0A%20%20%20%20%20%20%20%20%20%20%20%20%29.addTo%28map_32cccead184a40808fc661e404ec6e39%29%3B%0A%20%20%20%20%20%20%20%20%0A%20%20%20%20%0A%20%20%20%20%20%20%20%20var%20popup_282f1170de964958b77a8da533096764%20%3D%20L.popup%28%7B%22maxWidth%22%3A%20%22100%25%22%7D%29%3B%0A%0A%20%20%20%20%20%20%20%20%0A%20%20%20%20%20%20%20%20%20%20%20%20var%20html_f4011be1eb804c29ab2996091ddf07e6%20%3D%20%24%28%60%3Cdiv%20id%3D%22html_f4011be1eb804c29ab2996091ddf07e6%22%20style%3D%22width%3A%20100.0%25%3B%20height%3A%20100.0%25%3B%22%3EBurundi%3C/div%3E%60%29%5B0%5D%3B%0A%20%20%20%20%20%20%20%20%20%20%20%20popup_282f1170de964958b77a8da533096764.setContent%28html_f4011be1eb804c29ab2996091ddf07e6%29%3B%0A%20%20%20%20%20%20%20%20%0A%0A%20%20%20%20%20%20%20%20circle_marker_1989e0cd51994f36a4ac1570e832eced.bindPopup%28popup_282f1170de964958b77a8da533096764%29%0A%20%20%20%20%20%20%20%20%3B%0A%0A%20%20%20%20%20%20%20%20%0A%20%20%20%20%0A%20%20%20%20%0A%20%20%20%20%20%20%20%20%20%20%20%20var%20circle_marker_b9d26295e7294595a1e45513785e8659%20%3D%20L.circleMarker%28%0A%20%20%20%20%20%20%20%20%20%20%20%20%20%20%20%20%5B50.75%2C%204.5%5D%2C%0A%20%20%20%20%20%20%20%20%20%20%20%20%20%20%20%20%7B%22bubblingMouseEvents%22%3A%20true%2C%20%22color%22%3A%20%22%233388ff%22%2C%20%22dashArray%22%3A%20null%2C%20%22dashOffset%22%3A%20null%2C%20%22fill%22%3A%20true%2C%20%22fillColor%22%3A%20%22black%22%2C%20%22fillOpacity%22%3A%200.2%2C%20%22fillRule%22%3A%20%22evenodd%22%2C%20%22lineCap%22%3A%20%22round%22%2C%20%22lineJoin%22%3A%20%22round%22%2C%20%22opacity%22%3A%201.0%2C%20%22radius%22%3A%201.3194559831588262%2C%20%22stroke%22%3A%20true%2C%20%22weight%22%3A%203%7D%0A%20%20%20%20%20%20%20%20%20%20%20%20%29.addTo%28map_32cccead184a40808fc661e404ec6e39%29%3B%0A%20%20%20%20%20%20%20%20%0A%20%20%20%20%0A%20%20%20%20%20%20%20%20var%20popup_26844fd64f194d7191e06af2b67d17a6%20%3D%20L.popup%28%7B%22maxWidth%22%3A%20%22100%25%22%7D%29%3B%0A%0A%20%20%20%20%20%20%20%20%0A%20%20%20%20%20%20%20%20%20%20%20%20var%20html_a88f3c9ab508453f91131583a593dabb%20%3D%20%24%28%60%3Cdiv%20id%3D%22html_a88f3c9ab508453f91131583a593dabb%22%20style%3D%22width%3A%20100.0%25%3B%20height%3A%20100.0%25%3B%22%3EBelgium%3C/div%3E%60%29%5B0%5D%3B%0A%20%20%20%20%20%20%20%20%20%20%20%20popup_26844fd64f194d7191e06af2b67d17a6.setContent%28html_a88f3c9ab508453f91131583a593dabb%29%3B%0A%20%20%20%20%20%20%20%20%0A%0A%20%20%20%20%20%20%20%20circle_marker_b9d26295e7294595a1e45513785e8659.bindPopup%28popup_26844fd64f194d7191e06af2b67d17a6%29%0A%20%20%20%20%20%20%20%20%3B%0A%0A%20%20%20%20%20%20%20%20%0A%20%20%20%20%0A%20%20%20%20%0A%20%20%20%20%20%20%20%20%20%20%20%20var%20circle_marker_0402cf20a2734759857872f5e9e352c4%20%3D%20L.circleMarker%28%0A%20%20%20%20%20%20%20%20%20%20%20%20%20%20%20%20%5B9.5%2C%202.25%5D%2C%0A%20%20%20%20%20%20%20%20%20%20%20%20%20%20%20%20%7B%22bubblingMouseEvents%22%3A%20true%2C%20%22color%22%3A%20%22%233388ff%22%2C%20%22dashArray%22%3A%20null%2C%20%22dashOffset%22%3A%20null%2C%20%22fill%22%3A%20true%2C%20%22fillColor%22%3A%20%22blue%22%2C%20%22fillOpacity%22%3A%200.2%2C%20%22fillRule%22%3A%20%22evenodd%22%2C%20%22lineCap%22%3A%20%22round%22%2C%20%22lineJoin%22%3A%20%22round%22%2C%20%22opacity%22%3A%201.0%2C%20%22radius%22%3A%2012.293294869483931%2C%20%22stroke%22%3A%20true%2C%20%22weight%22%3A%203%7D%0A%20%20%20%20%20%20%20%20%20%20%20%20%29.addTo%28map_32cccead184a40808fc661e404ec6e39%29%3B%0A%20%20%20%20%20%20%20%20%0A%20%20%20%20%0A%20%20%20%20%20%20%20%20var%20popup_8de348234bc14310912f443165a9a7d6%20%3D%20L.popup%28%7B%22maxWidth%22%3A%20%22100%25%22%7D%29%3B%0A%0A%20%20%20%20%20%20%20%20%0A%20%20%20%20%20%20%20%20%20%20%20%20var%20html_984fb481bff5480f9cacf23a42dee06f%20%3D%20%24%28%60%3Cdiv%20id%3D%22html_984fb481bff5480f9cacf23a42dee06f%22%20style%3D%22width%3A%20100.0%25%3B%20height%3A%20100.0%25%3B%22%3EBenin%3C/div%3E%60%29%5B0%5D%3B%0A%20%20%20%20%20%20%20%20%20%20%20%20popup_8de348234bc14310912f443165a9a7d6.setContent%28html_984fb481bff5480f9cacf23a42dee06f%29%3B%0A%20%20%20%20%20%20%20%20%0A%0A%20%20%20%20%20%20%20%20circle_marker_0402cf20a2734759857872f5e9e352c4.bindPopup%28popup_8de348234bc14310912f443165a9a7d6%29%0A%20%20%20%20%20%20%20%20%3B%0A%0A%20%20%20%20%20%20%20%20%0A%20%20%20%20%0A%20%20%20%20%0A%20%20%20%20%20%20%20%20%20%20%20%20var%20circle_marker_339ba0be391c4870b0a794eae1b30b82%20%3D%20L.circleMarker%28%0A%20%20%20%20%20%20%20%20%20%20%20%20%20%20%20%20%5B12.5%2C%20-1.66667%5D%2C%0A%20%20%20%20%20%20%20%20%20%20%20%20%20%20%20%20%7B%22bubblingMouseEvents%22%3A%20true%2C%20%22color%22%3A%20%22%233388ff%22%2C%20%22dashArray%22%3A%20null%2C%20%22dashOffset%22%3A%20null%2C%20%22fill%22%3A%20true%2C%20%22fillColor%22%3A%20%22blue%22%2C%20%22fillOpacity%22%3A%200.2%2C%20%22fillRule%22%3A%20%22evenodd%22%2C%20%22lineCap%22%3A%20%22round%22%2C%20%22lineJoin%22%3A%20%22round%22%2C%20%22opacity%22%3A%201.0%2C%20%22radius%22%3A%2014.860883218047224%2C%20%22stroke%22%3A%20true%2C%20%22weight%22%3A%203%7D%0A%20%20%20%20%20%20%20%20%20%20%20%20%29.addTo%28map_32cccead184a40808fc661e404ec6e39%29%3B%0A%20%20%20%20%20%20%20%20%0A%20%20%20%20%0A%20%20%20%20%20%20%20%20var%20popup_a0a625769c984d43bb5b312873997bb9%20%3D%20L.popup%28%7B%22maxWidth%22%3A%20%22100%25%22%7D%29%3B%0A%0A%20%20%20%20%20%20%20%20%0A%20%20%20%20%20%20%20%20%20%20%20%20var%20html_ad76c33d064f44698497617e1a6667dd%20%3D%20%24%28%60%3Cdiv%20id%3D%22html_ad76c33d064f44698497617e1a6667dd%22%20style%3D%22width%3A%20100.0%25%3B%20height%3A%20100.0%25%3B%22%3EBurkina%20Faso%3C/div%3E%60%29%5B0%5D%3B%0A%20%20%20%20%20%20%20%20%20%20%20%20popup_a0a625769c984d43bb5b312873997bb9.setContent%28html_ad76c33d064f44698497617e1a6667dd%29%3B%0A%20%20%20%20%20%20%20%20%0A%0A%20%20%20%20%20%20%20%20circle_marker_339ba0be391c4870b0a794eae1b30b82.bindPopup%28popup_a0a625769c984d43bb5b312873997bb9%29%0A%20%20%20%20%20%20%20%20%3B%0A%0A%20%20%20%20%20%20%20%20%0A%20%20%20%20%0A%20%20%20%20%0A%20%20%20%20%20%20%20%20%20%20%20%20var%20circle_marker_2ee25bd6ee1942848024d27b68ca6a76%20%3D%20L.circleMarker%28%0A%20%20%20%20%20%20%20%20%20%20%20%20%20%20%20%20%5B24.0%2C%2090.0%5D%2C%0A%20%20%20%20%20%20%20%20%20%20%20%20%20%20%20%20%7B%22bubblingMouseEvents%22%3A%20true%2C%20%22color%22%3A%20%22%233388ff%22%2C%20%22dashArray%22%3A%20null%2C%20%22dashOffset%22%3A%20null%2C%20%22fill%22%3A%20true%2C%20%22fillColor%22%3A%20%22red%22%2C%20%22fillOpacity%22%3A%200.2%2C%20%22fillRule%22%3A%20%22evenodd%22%2C%20%22lineCap%22%3A%20%22round%22%2C%20%22lineJoin%22%3A%20%22round%22%2C%20%22opacity%22%3A%201.0%2C%20%22radius%22%3A%2045.07390171903687%2C%20%22stroke%22%3A%20true%2C%20%22weight%22%3A%203%7D%0A%20%20%20%20%20%20%20%20%20%20%20%20%29.addTo%28map_32cccead184a40808fc661e404ec6e39%29%3B%0A%20%20%20%20%20%20%20%20%0A%20%20%20%20%0A%20%20%20%20%20%20%20%20var%20popup_849f8c3c9d274dc6a44b852888cb950c%20%3D%20L.popup%28%7B%22maxWidth%22%3A%20%22100%25%22%7D%29%3B%0A%0A%20%20%20%20%20%20%20%20%0A%20%20%20%20%20%20%20%20%20%20%20%20var%20html_a7db3ce287a6438da4671a4e8a5edf3b%20%3D%20%24%28%60%3Cdiv%20id%3D%22html_a7db3ce287a6438da4671a4e8a5edf3b%22%20style%3D%22width%3A%20100.0%25%3B%20height%3A%20100.0%25%3B%22%3EBangladesh%3C/div%3E%60%29%5B0%5D%3B%0A%20%20%20%20%20%20%20%20%20%20%20%20popup_849f8c3c9d274dc6a44b852888cb950c.setContent%28html_a7db3ce287a6438da4671a4e8a5edf3b%29%3B%0A%20%20%20%20%20%20%20%20%0A%0A%20%20%20%20%20%20%20%20circle_marker_2ee25bd6ee1942848024d27b68ca6a76.bindPopup%28popup_849f8c3c9d274dc6a44b852888cb950c%29%0A%20%20%20%20%20%20%20%20%3B%0A%0A%20%20%20%20%20%20%20%20%0A%20%20%20%20%0A%20%20%20%20%0A%20%20%20%20%20%20%20%20%20%20%20%20var%20circle_marker_ac065e7876c04e2dab7538d233150fe2%20%3D%20L.circleMarker%28%0A%20%20%20%20%20%20%20%20%20%20%20%20%20%20%20%20%5B42.66667%2C%2025.25%5D%2C%0A%20%20%20%20%20%20%20%20%20%20%20%20%20%20%20%20%7B%22bubblingMouseEvents%22%3A%20true%2C%20%22color%22%3A%20%22%233388ff%22%2C%20%22dashArray%22%3A%20null%2C%20%22dashOffset%22%3A%20null%2C%20%22fill%22%3A%20true%2C%20%22fillColor%22%3A%20%22black%22%2C%20%22fillOpacity%22%3A%200.2%2C%20%22fillRule%22%3A%20%22evenodd%22%2C%20%22lineCap%22%3A%20%22round%22%2C%20%22lineJoin%22%3A%20%22round%22%2C%20%22opacity%22%3A%201.0%2C%20%22radius%22%3A%202.119093372019701%2C%20%22stroke%22%3A%20true%2C%20%22weight%22%3A%203%7D%0A%20%20%20%20%20%20%20%20%20%20%20%20%29.addTo%28map_32cccead184a40808fc661e404ec6e39%29%3B%0A%20%20%20%20%20%20%20%20%0A%20%20%20%20%0A%20%20%20%20%20%20%20%20var%20popup_0a868b48fd2a4d04a75cfeb04fb768fd%20%3D%20L.popup%28%7B%22maxWidth%22%3A%20%22100%25%22%7D%29%3B%0A%0A%20%20%20%20%20%20%20%20%0A%20%20%20%20%20%20%20%20%20%20%20%20var%20html_4fb939ece8ef410abeb79615b0a717d5%20%3D%20%24%28%60%3Cdiv%20id%3D%22html_4fb939ece8ef410abeb79615b0a717d5%22%20style%3D%22width%3A%20100.0%25%3B%20height%3A%20100.0%25%3B%22%3EBulgaria%3C/div%3E%60%29%5B0%5D%3B%0A%20%20%20%20%20%20%20%20%20%20%20%20popup_0a868b48fd2a4d04a75cfeb04fb768fd.setContent%28html_4fb939ece8ef410abeb79615b0a717d5%29%3B%0A%20%20%20%20%20%20%20%20%0A%0A%20%20%20%20%20%20%20%20circle_marker_ac065e7876c04e2dab7538d233150fe2.bindPopup%28popup_0a868b48fd2a4d04a75cfeb04fb768fd%29%0A%20%20%20%20%20%20%20%20%3B%0A%0A%20%20%20%20%20%20%20%20%0A%20%20%20%20%0A%20%20%20%20%0A%20%20%20%20%20%20%20%20%20%20%20%20var%20circle_marker_ef18deade1364c97b706c47a8a8e84fc%20%3D%20L.circleMarker%28%0A%20%20%20%20%20%20%20%20%20%20%20%20%20%20%20%20%5B44.25%2C%2017.83333%5D%2C%0A%20%20%20%20%20%20%20%20%20%20%20%20%20%20%20%20%7B%22bubblingMouseEvents%22%3A%20true%2C%20%22color%22%3A%20%22%233388ff%22%2C%20%22dashArray%22%3A%20null%2C%20%22dashOffset%22%3A%20null%2C%20%22fill%22%3A%20true%2C%20%22fillColor%22%3A%20%22black%22%2C%20%22fillOpacity%22%3A%200.2%2C%20%22fillRule%22%3A%20%22evenodd%22%2C%20%22lineCap%22%3A%20%22round%22%2C%20%22lineJoin%22%3A%20%22round%22%2C%20%22opacity%22%3A%201.0%2C%20%22radius%22%3A%200.217194671049816%2C%20%22stroke%22%3A%20true%2C%20%22weight%22%3A%203%7D%0A%20%20%20%20%20%20%20%20%20%20%20%20%29.addTo%28map_32cccead184a40808fc661e404ec6e39%29%3B%0A%20%20%20%20%20%20%20%20%0A%20%20%20%20%0A%20%20%20%20%20%20%20%20var%20popup_7e39621a57d64fe8a881b56b814785a3%20%3D%20L.popup%28%7B%22maxWidth%22%3A%20%22100%25%22%7D%29%3B%0A%0A%20%20%20%20%20%20%20%20%0A%20%20%20%20%20%20%20%20%20%20%20%20var%20html_f067b7ae8d2644da9aefeb4a2d9ab740%20%3D%20%24%28%60%3Cdiv%20id%3D%22html_f067b7ae8d2644da9aefeb4a2d9ab740%22%20style%3D%22width%3A%20100.0%25%3B%20height%3A%20100.0%25%3B%22%3EBosnia%20and%20Herzegovina%3C/div%3E%60%29%5B0%5D%3B%0A%20%20%20%20%20%20%20%20%20%20%20%20popup_7e39621a57d64fe8a881b56b814785a3.setContent%28html_f067b7ae8d2644da9aefeb4a2d9ab740%29%3B%0A%20%20%20%20%20%20%20%20%0A%0A%20%20%20%20%20%20%20%20circle_marker_ef18deade1364c97b706c47a8a8e84fc.bindPopup%28popup_7e39621a57d64fe8a881b56b814785a3%29%0A%20%20%20%20%20%20%20%20%3B%0A%0A%20%20%20%20%20%20%20%20%0A%20%20%20%20%0A%20%20%20%20%0A%20%20%20%20%20%20%20%20%20%20%20%20var%20circle_marker_d51bcc775d664774b5e3eb87c909c3a6%20%3D%20L.circleMarker%28%0A%20%20%20%20%20%20%20%20%20%20%20%20%20%20%20%20%5B53.0%2C%2028.0%5D%2C%0A%20%20%20%20%20%20%20%20%20%20%20%20%20%20%20%20%7B%22bubblingMouseEvents%22%3A%20true%2C%20%22color%22%3A%20%22%233388ff%22%2C%20%22dashArray%22%3A%20null%2C%20%22dashOffset%22%3A%20null%2C%20%22fill%22%3A%20true%2C%20%22fillColor%22%3A%20%22black%22%2C%20%22fillOpacity%22%3A%200.2%2C%20%22fillRule%22%3A%20%22evenodd%22%2C%20%22lineCap%22%3A%20%22round%22%2C%20%22lineJoin%22%3A%20%22round%22%2C%20%22opacity%22%3A%201.0%2C%20%22stroke%22%3A%20true%2C%20%22weight%22%3A%203%7D%0A%20%20%20%20%20%20%20%20%20%20%20%20%29.addTo%28map_32cccead184a40808fc661e404ec6e39%29%3B%0A%20%20%20%20%20%20%20%20%0A%20%20%20%20%0A%20%20%20%20%20%20%20%20var%20popup_4d444c90f05844b9b750e02220086bb4%20%3D%20L.popup%28%7B%22maxWidth%22%3A%20%22100%25%22%7D%29%3B%0A%0A%20%20%20%20%20%20%20%20%0A%20%20%20%20%20%20%20%20%20%20%20%20var%20html_233987ee361e41d4ba3f29ee7c2bf6bb%20%3D%20%24%28%60%3Cdiv%20id%3D%22html_233987ee361e41d4ba3f29ee7c2bf6bb%22%20style%3D%22width%3A%20100.0%25%3B%20height%3A%20100.0%25%3B%22%3EBelarus%3C/div%3E%60%29%5B0%5D%3B%0A%20%20%20%20%20%20%20%20%20%20%20%20popup_4d444c90f05844b9b750e02220086bb4.setContent%28html_233987ee361e41d4ba3f29ee7c2bf6bb%29%3B%0A%20%20%20%20%20%20%20%20%0A%0A%20%20%20%20%20%20%20%20circle_marker_d51bcc775d664774b5e3eb87c909c3a6.bindPopup%28popup_4d444c90f05844b9b750e02220086bb4%29%0A%20%20%20%20%20%20%20%20%3B%0A%0A%20%20%20%20%20%20%20%20%0A%20%20%20%20%0A%20%20%20%20%0A%20%20%20%20%20%20%20%20%20%20%20%20var%20circle_marker_4e4c161c6968409ea8590d67ca9292ef%20%3D%20L.circleMarker%28%0A%20%20%20%20%20%20%20%20%20%20%20%20%20%20%20%20%5B17.49952%2C%20-88.19756%5D%2C%0A%20%20%20%20%20%20%20%20%20%20%20%20%20%20%20%20%7B%22bubblingMouseEvents%22%3A%20true%2C%20%22color%22%3A%20%22%233388ff%22%2C%20%22dashArray%22%3A%20null%2C%20%22dashOffset%22%3A%20null%2C%20%22fill%22%3A%20true%2C%20%22fillColor%22%3A%20%22green%22%2C%20%22fillOpacity%22%3A%200.2%2C%20%22fillRule%22%3A%20%22evenodd%22%2C%20%22lineCap%22%3A%20%22round%22%2C%20%22lineJoin%22%3A%20%22round%22%2C%20%22opacity%22%3A%201.0%2C%20%22radius%22%3A%201.1195005649268066%2C%20%22stroke%22%3A%20true%2C%20%22weight%22%3A%203%7D%0A%20%20%20%20%20%20%20%20%20%20%20%20%29.addTo%28map_32cccead184a40808fc661e404ec6e39%29%3B%0A%20%20%20%20%20%20%20%20%0A%20%20%20%20%0A%20%20%20%20%20%20%20%20var%20popup_dced80dce2ce4031a8734b90b9f5e0a8%20%3D%20L.popup%28%7B%22maxWidth%22%3A%20%22100%25%22%7D%29%3B%0A%0A%20%20%20%20%20%20%20%20%0A%20%20%20%20%20%20%20%20%20%20%20%20var%20html_11280a5a05a840c689cd91efb4e8ecb2%20%3D%20%24%28%60%3Cdiv%20id%3D%22html_11280a5a05a840c689cd91efb4e8ecb2%22%20style%3D%22width%3A%20100.0%25%3B%20height%3A%20100.0%25%3B%22%3EBelize%3C/div%3E%60%29%5B0%5D%3B%0A%20%20%20%20%20%20%20%20%20%20%20%20popup_dced80dce2ce4031a8734b90b9f5e0a8.setContent%28html_11280a5a05a840c689cd91efb4e8ecb2%29%3B%0A%20%20%20%20%20%20%20%20%0A%0A%20%20%20%20%20%20%20%20circle_marker_4e4c161c6968409ea8590d67ca9292ef.bindPopup%28popup_dced80dce2ce4031a8734b90b9f5e0a8%29%0A%20%20%20%20%20%20%20%20%3B%0A%0A%20%20%20%20%20%20%20%20%0A%20%20%20%20%0A%20%20%20%20%0A%20%20%20%20%20%20%20%20%20%20%20%20var%20circle_marker_98f04e424b934c8da2bb341129fd0979%20%3D%20L.circleMarker%28%0A%20%20%20%20%20%20%20%20%20%20%20%20%20%20%20%20%5B-17.0%2C%20-65.0%5D%2C%0A%20%20%20%20%20%20%20%20%20%20%20%20%20%20%20%20%7B%22bubblingMouseEvents%22%3A%20true%2C%20%22color%22%3A%20%22%233388ff%22%2C%20%22dashArray%22%3A%20null%2C%20%22dashOffset%22%3A%20null%2C%20%22fill%22%3A%20true%2C%20%22fillColor%22%3A%20%22green%22%2C%20%22fillOpacity%22%3A%200.2%2C%20%22fillRule%22%3A%20%22evenodd%22%2C%20%22lineCap%22%3A%20%22round%22%2C%20%22lineJoin%22%3A%20%22round%22%2C%20%22opacity%22%3A%201.0%2C%20%22radius%22%3A%205.0521846256177705%2C%20%22stroke%22%3A%20true%2C%20%22weight%22%3A%203%7D%0A%20%20%20%20%20%20%20%20%20%20%20%20%29.addTo%28map_32cccead184a40808fc661e404ec6e39%29%3B%0A%20%20%20%20%20%20%20%20%0A%20%20%20%20%0A%20%20%20%20%20%20%20%20var%20popup_12e2c35ba6c940769cb407efb1b468b3%20%3D%20L.popup%28%7B%22maxWidth%22%3A%20%22100%25%22%7D%29%3B%0A%0A%20%20%20%20%20%20%20%20%0A%20%20%20%20%20%20%20%20%20%20%20%20var%20html_a233fff0cea741a293150f03c1975d87%20%3D%20%24%28%60%3Cdiv%20id%3D%22html_a233fff0cea741a293150f03c1975d87%22%20style%3D%22width%3A%20100.0%25%3B%20height%3A%20100.0%25%3B%22%3EBolivia%3C/div%3E%60%29%5B0%5D%3B%0A%20%20%20%20%20%20%20%20%20%20%20%20popup_12e2c35ba6c940769cb407efb1b468b3.setContent%28html_a233fff0cea741a293150f03c1975d87%29%3B%0A%20%20%20%20%20%20%20%20%0A%0A%20%20%20%20%20%20%20%20circle_marker_98f04e424b934c8da2bb341129fd0979.bindPopup%28popup_12e2c35ba6c940769cb407efb1b468b3%29%0A%20%20%20%20%20%20%20%20%3B%0A%0A%20%20%20%20%20%20%20%20%0A%20%20%20%20%0A%20%20%20%20%0A%20%20%20%20%20%20%20%20%20%20%20%20var%20circle_marker_c367ef379877446fbb9a2b1baf3fbead%20%3D%20L.circleMarker%28%0A%20%20%20%20%20%20%20%20%20%20%20%20%20%20%20%20%5B-10.0%2C%20-55.0%5D%2C%0A%20%20%20%20%20%20%20%20%20%20%20%20%20%20%20%20%7B%22bubblingMouseEvents%22%3A%20true%2C%20%22color%22%3A%20%22%233388ff%22%2C%20%22dashArray%22%3A%20null%2C%20%22dashOffset%22%3A%20null%2C%20%22fill%22%3A%20true%2C%20%22fillColor%22%3A%20%22green%22%2C%20%22fillOpacity%22%3A%200.2%2C%20%22fillRule%22%3A%20%22evenodd%22%2C%20%22lineCap%22%3A%20%22round%22%2C%20%22lineJoin%22%3A%20%22round%22%2C%20%22opacity%22%3A%201.0%2C%20%22radius%22%3A%2015.284499774553087%2C%20%22stroke%22%3A%20true%2C%20%22weight%22%3A%203%7D%0A%20%20%20%20%20%20%20%20%20%20%20%20%29.addTo%28map_32cccead184a40808fc661e404ec6e39%29%3B%0A%20%20%20%20%20%20%20%20%0A%20%20%20%20%0A%20%20%20%20%20%20%20%20var%20popup_dc7307448e84469b8a9b8c0d95440a6e%20%3D%20L.popup%28%7B%22maxWidth%22%3A%20%22100%25%22%7D%29%3B%0A%0A%20%20%20%20%20%20%20%20%0A%20%20%20%20%20%20%20%20%20%20%20%20var%20html_571048bfa21b4764889b60ca151ce712%20%3D%20%24%28%60%3Cdiv%20id%3D%22html_571048bfa21b4764889b60ca151ce712%22%20style%3D%22width%3A%20100.0%25%3B%20height%3A%20100.0%25%3B%22%3EBrazil%3C/div%3E%60%29%5B0%5D%3B%0A%20%20%20%20%20%20%20%20%20%20%20%20popup_dc7307448e84469b8a9b8c0d95440a6e.setContent%28html_571048bfa21b4764889b60ca151ce712%29%3B%0A%20%20%20%20%20%20%20%20%0A%0A%20%20%20%20%20%20%20%20circle_marker_c367ef379877446fbb9a2b1baf3fbead.bindPopup%28popup_dc7307448e84469b8a9b8c0d95440a6e%29%0A%20%20%20%20%20%20%20%20%3B%0A%0A%20%20%20%20%20%20%20%20%0A%20%20%20%20%0A%20%20%20%20%0A%20%20%20%20%20%20%20%20%20%20%20%20var%20circle_marker_5c68df49a75046d591265d1b61cee29f%20%3D%20L.circleMarker%28%0A%20%20%20%20%20%20%20%20%20%20%20%20%20%20%20%20%5B27.5%2C%2090.5%5D%2C%0A%20%20%20%20%20%20%20%20%20%20%20%20%20%20%20%20%7B%22bubblingMouseEvents%22%3A%20true%2C%20%22color%22%3A%20%22%233388ff%22%2C%20%22dashArray%22%3A%20null%2C%20%22dashOffset%22%3A%20null%2C%20%22fill%22%3A%20true%2C%20%22fillColor%22%3A%20%22red%22%2C%20%22fillOpacity%22%3A%200.2%2C%20%22fillRule%22%3A%20%22evenodd%22%2C%20%22lineCap%22%3A%20%22round%22%2C%20%22lineJoin%22%3A%20%22round%22%2C%20%22opacity%22%3A%201.0%2C%20%22radius%22%3A%200.7206403952796807%2C%20%22stroke%22%3A%20true%2C%20%22weight%22%3A%203%7D%0A%20%20%20%20%20%20%20%20%20%20%20%20%29.addTo%28map_32cccead184a40808fc661e404ec6e39%29%3B%0A%20%20%20%20%20%20%20%20%0A%20%20%20%20%0A%20%20%20%20%20%20%20%20var%20popup_27c75d832de14691a8dcb78c2c484e62%20%3D%20L.popup%28%7B%22maxWidth%22%3A%20%22100%25%22%7D%29%3B%0A%0A%20%20%20%20%20%20%20%20%0A%20%20%20%20%20%20%20%20%20%20%20%20var%20html_8171b53d5b504f2387e419e2fe4407e5%20%3D%20%24%28%60%3Cdiv%20id%3D%22html_8171b53d5b504f2387e419e2fe4407e5%22%20style%3D%22width%3A%20100.0%25%3B%20height%3A%20100.0%25%3B%22%3EBhutan%3C/div%3E%60%29%5B0%5D%3B%0A%20%20%20%20%20%20%20%20%20%20%20%20popup_27c75d832de14691a8dcb78c2c484e62.setContent%28html_8171b53d5b504f2387e419e2fe4407e5%29%3B%0A%20%20%20%20%20%20%20%20%0A%0A%20%20%20%20%20%20%20%20circle_marker_5c68df49a75046d591265d1b61cee29f.bindPopup%28popup_27c75d832de14691a8dcb78c2c484e62%29%0A%20%20%20%20%20%20%20%20%3B%0A%0A%20%20%20%20%20%20%20%20%0A%20%20%20%20%0A%20%20%20%20%0A%20%20%20%20%20%20%20%20%20%20%20%20var%20circle_marker_1d80c2b0197a4d2e96c22c9534175855%20%3D%20L.circleMarker%28%0A%20%20%20%20%20%20%20%20%20%20%20%20%20%20%20%20%5B-22.0%2C%2024.0%5D%2C%0A%20%20%20%20%20%20%20%20%20%20%20%20%20%20%20%20%7B%22bubblingMouseEvents%22%3A%20true%2C%20%22color%22%3A%20%22%233388ff%22%2C%20%22dashArray%22%3A%20null%2C%20%22dashOffset%22%3A%20null%2C%20%22fill%22%3A%20true%2C%20%22fillColor%22%3A%20%22blue%22%2C%20%22fillOpacity%22%3A%200.2%2C%20%22fillRule%22%3A%20%22evenodd%22%2C%20%22lineCap%22%3A%20%22round%22%2C%20%22lineJoin%22%3A%20%22round%22%2C%20%22opacity%22%3A%201.0%2C%20%22radius%22%3A%202.9123934088869396%2C%20%22stroke%22%3A%20true%2C%20%22weight%22%3A%203%7D%0A%20%20%20%20%20%20%20%20%20%20%20%20%29.addTo%28map_32cccead184a40808fc661e404ec6e39%29%3B%0A%20%20%20%20%20%20%20%20%0A%20%20%20%20%0A%20%20%20%20%20%20%20%20var%20popup_09d894b3342a4cd6a035bcb6eb951cef%20%3D%20L.popup%28%7B%22maxWidth%22%3A%20%22100%25%22%7D%29%3B%0A%0A%20%20%20%20%20%20%20%20%0A%20%20%20%20%20%20%20%20%20%20%20%20var%20html_ba6de951566849d8b7a28da50abd592d%20%3D%20%24%28%60%3Cdiv%20id%3D%22html_ba6de951566849d8b7a28da50abd592d%22%20style%3D%22width%3A%20100.0%25%3B%20height%3A%20100.0%25%3B%22%3EBotswana%3C/div%3E%60%29%5B0%5D%3B%0A%20%20%20%20%20%20%20%20%20%20%20%20popup_09d894b3342a4cd6a035bcb6eb951cef.setContent%28html_ba6de951566849d8b7a28da50abd592d%29%3B%0A%20%20%20%20%20%20%20%20%0A%0A%20%20%20%20%20%20%20%20circle_marker_1d80c2b0197a4d2e96c22c9534175855.bindPopup%28popup_09d894b3342a4cd6a035bcb6eb951cef%29%0A%20%20%20%20%20%20%20%20%3B%0A%0A%20%20%20%20%20%20%20%20%0A%20%20%20%20%0A%20%20%20%20%0A%20%20%20%20%20%20%20%20%20%20%20%20var%20circle_marker_74b8baea3ccb4fc4b67b1e85d13f2ab1%20%3D%20L.circleMarker%28%0A%20%20%20%20%20%20%20%20%20%20%20%20%20%20%20%20%5B7.0%2C%2021.0%5D%2C%0A%20%20%20%20%20%20%20%20%20%20%20%20%20%20%20%20%7B%22bubblingMouseEvents%22%3A%20true%2C%20%22color%22%3A%20%22%233388ff%22%2C%20%22dashArray%22%3A%20null%2C%20%22dashOffset%22%3A%20null%2C%20%22fill%22%3A%20true%2C%20%22fillColor%22%3A%20%22blue%22%2C%20%22fillOpacity%22%3A%200.2%2C%20%22fillRule%22%3A%20%22evenodd%22%2C%20%22lineCap%22%3A%20%22round%22%2C%20%22lineJoin%22%3A%20%22round%22%2C%20%22opacity%22%3A%201.0%2C%20%22radius%22%3A%209.366573447847983%2C%20%22stroke%22%3A%20true%2C%20%22weight%22%3A%203%7D%0A%20%20%20%20%20%20%20%20%20%20%20%20%29.addTo%28map_32cccead184a40808fc661e404ec6e39%29%3B%0A%20%20%20%20%20%20%20%20%0A%20%20%20%20%0A%20%20%20%20%20%20%20%20var%20popup_fcd48784ffa24931851f9976879d1c2a%20%3D%20L.popup%28%7B%22maxWidth%22%3A%20%22100%25%22%7D%29%3B%0A%0A%20%20%20%20%20%20%20%20%0A%20%20%20%20%20%20%20%20%20%20%20%20var%20html_49954f1b042d48f496f52d2c7528a782%20%3D%20%24%28%60%3Cdiv%20id%3D%22html_49954f1b042d48f496f52d2c7528a782%22%20style%3D%22width%3A%20100.0%25%3B%20height%3A%20100.0%25%3B%22%3ECentral%20African%20Republic%3C/div%3E%60%29%5B0%5D%3B%0A%20%20%20%20%20%20%20%20%20%20%20%20popup_fcd48784ffa24931851f9976879d1c2a.setContent%28html_49954f1b042d48f496f52d2c7528a782%29%3B%0A%20%20%20%20%20%20%20%20%0A%0A%20%20%20%20%20%20%20%20circle_marker_74b8baea3ccb4fc4b67b1e85d13f2ab1.bindPopup%28popup_fcd48784ffa24931851f9976879d1c2a%29%0A%20%20%20%20%20%20%20%20%3B%0A%0A%20%20%20%20%20%20%20%20%0A%20%20%20%20%0A%20%20%20%20%0A%20%20%20%20%20%20%20%20%20%20%20%20var%20circle_marker_f812a17a40a44e89a3af81ffea9cef0c%20%3D%20L.circleMarker%28%0A%20%20%20%20%20%20%20%20%20%20%20%20%20%20%20%20%5B60.10867%2C%20-113.64258%5D%2C%0A%20%20%20%20%20%20%20%20%20%20%20%20%20%20%20%20%7B%22bubblingMouseEvents%22%3A%20true%2C%20%22color%22%3A%20%22%233388ff%22%2C%20%22dashArray%22%3A%20null%2C%20%22dashOffset%22%3A%20null%2C%20%22fill%22%3A%20true%2C%20%22fillColor%22%3A%20%22green%22%2C%20%22fillOpacity%22%3A%200.2%2C%20%22fillRule%22%3A%20%22evenodd%22%2C%20%22lineCap%22%3A%20%22round%22%2C%20%22lineJoin%22%3A%20%22round%22%2C%20%22opacity%22%3A%201.0%2C%20%22radius%22%3A%201.9224051187434574%2C%20%22stroke%22%3A%20true%2C%20%22weight%22%3A%203%7D%0A%20%20%20%20%20%20%20%20%20%20%20%20%29.addTo%28map_32cccead184a40808fc661e404ec6e39%29%3B%0A%20%20%20%20%20%20%20%20%0A%20%20%20%20%0A%20%20%20%20%20%20%20%20var%20popup_9a8578884fb74763807c148aa8eebd9b%20%3D%20L.popup%28%7B%22maxWidth%22%3A%20%22100%25%22%7D%29%3B%0A%0A%20%20%20%20%20%20%20%20%0A%20%20%20%20%20%20%20%20%20%20%20%20var%20html_73ff0a40f9024bd4b077bcb1cb541fe6%20%3D%20%24%28%60%3Cdiv%20id%3D%22html_73ff0a40f9024bd4b077bcb1cb541fe6%22%20style%3D%22width%3A%20100.0%25%3B%20height%3A%20100.0%25%3B%22%3ECanada%3C/div%3E%60%29%5B0%5D%3B%0A%20%20%20%20%20%20%20%20%20%20%20%20popup_9a8578884fb74763807c148aa8eebd9b.setContent%28html_73ff0a40f9024bd4b077bcb1cb541fe6%29%3B%0A%20%20%20%20%20%20%20%20%0A%0A%20%20%20%20%20%20%20%20circle_marker_f812a17a40a44e89a3af81ffea9cef0c.bindPopup%28popup_9a8578884fb74763807c148aa8eebd9b%29%0A%20%20%20%20%20%20%20%20%3B%0A%0A%20%20%20%20%20%20%20%20%0A%20%20%20%20%0A%20%20%20%20%0A%20%20%20%20%20%20%20%20%20%20%20%20var%20circle_marker_213cc018c6594de6a35e4b069b3a2325%20%3D%20L.circleMarker%28%0A%20%20%20%20%20%20%20%20%20%20%20%20%20%20%20%20%5B47.00016%2C%208.01427%5D%2C%0A%20%20%20%20%20%20%20%20%20%20%20%20%20%20%20%20%7B%22bubblingMouseEvents%22%3A%20true%2C%20%22color%22%3A%20%22%233388ff%22%2C%20%22dashArray%22%3A%20null%2C%20%22dashOffset%22%3A%20null%2C%20%22fill%22%3A%20true%2C%20%22fillColor%22%3A%20%22black%22%2C%20%22fillOpacity%22%3A%200.2%2C%20%22fillRule%22%3A%20%22evenodd%22%2C%20%22lineCap%22%3A%20%22round%22%2C%20%22lineJoin%22%3A%20%22round%22%2C%20%22opacity%22%3A%201.0%2C%20%22radius%22%3A%201.2904780751862297%2C%20%22stroke%22%3A%20true%2C%20%22weight%22%3A%203%7D%0A%20%20%20%20%20%20%20%20%20%20%20%20%29.addTo%28map_32cccead184a40808fc661e404ec6e39%29%3B%0A%20%20%20%20%20%20%20%20%0A%20%20%20%20%0A%20%20%20%20%20%20%20%20var%20popup_46b392bb33c34a4fa69c275b08eb1358%20%3D%20L.popup%28%7B%22maxWidth%22%3A%20%22100%25%22%7D%29%3B%0A%0A%20%20%20%20%20%20%20%20%0A%20%20%20%20%20%20%20%20%20%20%20%20var%20html_067b497b7eba43f4afdbee6eff05228d%20%3D%20%24%28%60%3Cdiv%20id%3D%22html_067b497b7eba43f4afdbee6eff05228d%22%20style%3D%22width%3A%20100.0%25%3B%20height%3A%20100.0%25%3B%22%3ESwitzerland%3C/div%3E%60%29%5B0%5D%3B%0A%20%20%20%20%20%20%20%20%20%20%20%20popup_46b392bb33c34a4fa69c275b08eb1358.setContent%28html_067b497b7eba43f4afdbee6eff05228d%29%3B%0A%20%20%20%20%20%20%20%20%0A%0A%20%20%20%20%20%20%20%20circle_marker_213cc018c6594de6a35e4b069b3a2325.bindPopup%28popup_46b392bb33c34a4fa69c275b08eb1358%29%0A%20%20%20%20%20%20%20%20%3B%0A%0A%20%20%20%20%20%20%20%20%0A%20%20%20%20%0A%20%20%20%20%0A%20%20%20%20%20%20%20%20%20%20%20%20var%20circle_marker_6211bd7b189f4fc583774edf9f6c324d%20%3D%20L.circleMarker%28%0A%20%20%20%20%20%20%20%20%20%20%20%20%20%20%20%20%5B-33.45694%2C%20-70.64827%5D%2C%0A%20%20%20%20%20%20%20%20%20%20%20%20%20%20%20%20%7B%22bubblingMouseEvents%22%3A%20true%2C%20%22color%22%3A%20%22%233388ff%22%2C%20%22dashArray%22%3A%20null%2C%20%22dashOffset%22%3A%20null%2C%20%22fill%22%3A%20true%2C%20%22fillColor%22%3A%20%22green%22%2C%20%22fillOpacity%22%3A%200.2%2C%20%22fillRule%22%3A%20%22evenodd%22%2C%20%22lineCap%22%3A%20%22round%22%2C%20%22lineJoin%22%3A%20%22round%22%2C%20%22opacity%22%3A%201.0%2C%20%22radius%22%3A%202.123175164028212%2C%20%22stroke%22%3A%20true%2C%20%22weight%22%3A%203%7D%0A%20%20%20%20%20%20%20%20%20%20%20%20%29.addTo%28map_32cccead184a40808fc661e404ec6e39%29%3B%0A%20%20%20%20%20%20%20%20%0A%20%20%20%20%0A%20%20%20%20%20%20%20%20var%20popup_5ef44a22a4fd40e0935e26a7a83c5838%20%3D%20L.popup%28%7B%22maxWidth%22%3A%20%22100%25%22%7D%29%3B%0A%0A%20%20%20%20%20%20%20%20%0A%20%20%20%20%20%20%20%20%20%20%20%20var%20html_2c3026a9f01e451d962a58e8a1b2b703%20%3D%20%24%28%60%3Cdiv%20id%3D%22html_2c3026a9f01e451d962a58e8a1b2b703%22%20style%3D%22width%3A%20100.0%25%3B%20height%3A%20100.0%25%3B%22%3EChile%3C/div%3E%60%29%5B0%5D%3B%0A%20%20%20%20%20%20%20%20%20%20%20%20popup_5ef44a22a4fd40e0935e26a7a83c5838.setContent%28html_2c3026a9f01e451d962a58e8a1b2b703%29%3B%0A%20%20%20%20%20%20%20%20%0A%0A%20%20%20%20%20%20%20%20circle_marker_6211bd7b189f4fc583774edf9f6c324d.bindPopup%28popup_5ef44a22a4fd40e0935e26a7a83c5838%29%0A%20%20%20%20%20%20%20%20%3B%0A%0A%20%20%20%20%20%20%20%20%0A%20%20%20%20%0A%20%20%20%20%0A%20%20%20%20%20%20%20%20%20%20%20%20var%20circle_marker_e39269f2b77e474396492ee7c2f1b237%20%3D%20L.circleMarker%28%0A%20%20%20%20%20%20%20%20%20%20%20%20%20%20%20%20%5B35.0%2C%20105.0%5D%2C%0A%20%20%20%20%20%20%20%20%20%20%20%20%20%20%20%20%7B%22bubblingMouseEvents%22%3A%20true%2C%20%22color%22%3A%20%22%233388ff%22%2C%20%22dashArray%22%3A%20null%2C%20%22dashOffset%22%3A%20null%2C%20%22fill%22%3A%20true%2C%20%22fillColor%22%3A%20%22red%22%2C%20%22fillOpacity%22%3A%200.2%2C%20%22fillRule%22%3A%20%22evenodd%22%2C%20%22lineCap%22%3A%20%22round%22%2C%20%22lineJoin%22%3A%20%22round%22%2C%20%22opacity%22%3A%201.0%2C%20%22radius%22%3A%2052.225656891999506%2C%20%22stroke%22%3A%20true%2C%20%22weight%22%3A%203%7D%0A%20%20%20%20%20%20%20%20%20%20%20%20%29.addTo%28map_32cccead184a40808fc661e404ec6e39%29%3B%0A%20%20%20%20%20%20%20%20%0A%20%20%20%20%0A%20%20%20%20%20%20%20%20var%20popup_8d0b5f137d4c455a8217b2b8bf874fa6%20%3D%20L.popup%28%7B%22maxWidth%22%3A%20%22100%25%22%7D%29%3B%0A%0A%20%20%20%20%20%20%20%20%0A%20%20%20%20%20%20%20%20%20%20%20%20var%20html_91f066a9e8894b3b9608630690aab2e5%20%3D%20%24%28%60%3Cdiv%20id%3D%22html_91f066a9e8894b3b9608630690aab2e5%22%20style%3D%22width%3A%20100.0%25%3B%20height%3A%20100.0%25%3B%22%3EChina%3C/div%3E%60%29%5B0%5D%3B%0A%20%20%20%20%20%20%20%20%20%20%20%20popup_8d0b5f137d4c455a8217b2b8bf874fa6.setContent%28html_91f066a9e8894b3b9608630690aab2e5%29%3B%0A%20%20%20%20%20%20%20%20%0A%0A%20%20%20%20%20%20%20%20circle_marker_e39269f2b77e474396492ee7c2f1b237.bindPopup%28popup_8d0b5f137d4c455a8217b2b8bf874fa6%29%0A%20%20%20%20%20%20%20%20%3B%0A%0A%20%20%20%20%20%20%20%20%0A%20%20%20%20%0A%20%20%20%20%0A%20%20%20%20%20%20%20%20%20%20%20%20var%20circle_marker_a03f0e95b03447ecbd92d34b025e3613%20%3D%20L.circleMarker%28%0A%20%20%20%20%20%20%20%20%20%20%20%20%20%20%20%20%5B8.0%2C%20-5.5%5D%2C%0A%20%20%20%20%20%20%20%20%20%20%20%20%20%20%20%20%7B%22bubblingMouseEvents%22%3A%20true%2C%20%22color%22%3A%20%22%233388ff%22%2C%20%22dashArray%22%3A%20null%2C%20%22dashOffset%22%3A%20null%2C%20%22fill%22%3A%20true%2C%20%22fillColor%22%3A%20%22blue%22%2C%20%22fillOpacity%22%3A%200.2%2C%20%22fillRule%22%3A%20%22evenodd%22%2C%20%22lineCap%22%3A%20%22round%22%2C%20%22lineJoin%22%3A%20%22round%22%2C%20%22opacity%22%3A%201.0%2C%20%22radius%22%3A%2015.133268463096499%2C%20%22stroke%22%3A%20true%2C%20%22weight%22%3A%203%7D%0A%20%20%20%20%20%20%20%20%20%20%20%20%29.addTo%28map_32cccead184a40808fc661e404ec6e39%29%3B%0A%20%20%20%20%20%20%20%20%0A%20%20%20%20%0A%20%20%20%20%20%20%20%20var%20popup_e61f3f75db174e2f928cbfc853338c33%20%3D%20L.popup%28%7B%22maxWidth%22%3A%20%22100%25%22%7D%29%3B%0A%0A%20%20%20%20%20%20%20%20%0A%20%20%20%20%20%20%20%20%20%20%20%20var%20html_a140203bfd424769821f2fdad6224bdb%20%3D%20%24%28%60%3Cdiv%20id%3D%22html_a140203bfd424769821f2fdad6224bdb%22%20style%3D%22width%3A%20100.0%25%3B%20height%3A%20100.0%25%3B%22%3ECote%20d%27Ivoire%3C/div%3E%60%29%5B0%5D%3B%0A%20%20%20%20%20%20%20%20%20%20%20%20popup_e61f3f75db174e2f928cbfc853338c33.setContent%28html_a140203bfd424769821f2fdad6224bdb%29%3B%0A%20%20%20%20%20%20%20%20%0A%0A%20%20%20%20%20%20%20%20circle_marker_a03f0e95b03447ecbd92d34b025e3613.bindPopup%28popup_e61f3f75db174e2f928cbfc853338c33%29%0A%20%20%20%20%20%20%20%20%3B%0A%0A%20%20%20%20%20%20%20%20%0A%20%20%20%20%0A%20%20%20%20%0A%20%20%20%20%20%20%20%20%20%20%20%20var%20circle_marker_aa18da23bd4f42d1b2c463533b2ec039%20%3D%20L.circleMarker%28%0A%20%20%20%20%20%20%20%20%20%20%20%20%20%20%20%20%5B6.0%2C%2012.5%5D%2C%0A%20%20%20%20%20%20%20%20%20%20%20%20%20%20%20%20%7B%22bubblingMouseEvents%22%3A%20true%2C%20%22color%22%3A%20%22%233388ff%22%2C%20%22dashArray%22%3A%20null%2C%20%22dashOffset%22%3A%20null%2C%20%22fill%22%3A%20true%2C%20%22fillColor%22%3A%20%22blue%22%2C%20%22fillOpacity%22%3A%200.2%2C%20%22fillRule%22%3A%20%22evenodd%22%2C%20%22lineCap%22%3A%20%22round%22%2C%20%22lineJoin%22%3A%20%22round%22%2C%20%22opacity%22%3A%201.0%2C%20%22radius%22%3A%2013.37047776795466%2C%20%22stroke%22%3A%20true%2C%20%22weight%22%3A%203%7D%0A%20%20%20%20%20%20%20%20%20%20%20%20%29.addTo%28map_32cccead184a40808fc661e404ec6e39%29%3B%0A%20%20%20%20%20%20%20%20%0A%20%20%20%20%0A%20%20%20%20%20%20%20%20var%20popup_8ac386a4fc0947df89bd27982ff597be%20%3D%20L.popup%28%7B%22maxWidth%22%3A%20%22100%25%22%7D%29%3B%0A%0A%20%20%20%20%20%20%20%20%0A%20%20%20%20%20%20%20%20%20%20%20%20var%20html_1159ef8e45624ac7ad92d054e93a3bc3%20%3D%20%24%28%60%3Cdiv%20id%3D%22html_1159ef8e45624ac7ad92d054e93a3bc3%22%20style%3D%22width%3A%20100.0%25%3B%20height%3A%20100.0%25%3B%22%3ECameroon%3C/div%3E%60%29%5B0%5D%3B%0A%20%20%20%20%20%20%20%20%20%20%20%20popup_8ac386a4fc0947df89bd27982ff597be.setContent%28html_1159ef8e45624ac7ad92d054e93a3bc3%29%3B%0A%20%20%20%20%20%20%20%20%0A%0A%20%20%20%20%20%20%20%20circle_marker_aa18da23bd4f42d1b2c463533b2ec039.bindPopup%28popup_8ac386a4fc0947df89bd27982ff597be%29%0A%20%20%20%20%20%20%20%20%3B%0A%0A%20%20%20%20%20%20%20%20%0A%20%20%20%20%0A%20%20%20%20%0A%20%20%20%20%20%20%20%20%20%20%20%20var%20circle_marker_4c798111f6074faaa8b55d94f9ad5070%20%3D%20L.circleMarker%28%0A%20%20%20%20%20%20%20%20%20%20%20%20%20%20%20%20%5B-2.5%2C%2023.5%5D%2C%0A%20%20%20%20%20%20%20%20%20%20%20%20%20%20%20%20%7B%22bubblingMouseEvents%22%3A%20true%2C%20%22color%22%3A%20%22%233388ff%22%2C%20%22dashArray%22%3A%20null%2C%20%22dashOffset%22%3A%20null%2C%20%22fill%22%3A%20true%2C%20%22fillColor%22%3A%20%22blue%22%2C%20%22fillOpacity%22%3A%200.2%2C%20%22fillRule%22%3A%20%22evenodd%22%2C%20%22lineCap%22%3A%20%22round%22%2C%20%22lineJoin%22%3A%20%22round%22%2C%20%22opacity%22%3A%201.0%2C%20%22radius%22%3A%2042.45893492268982%2C%20%22stroke%22%3A%20true%2C%20%22weight%22%3A%203%7D%0A%20%20%20%20%20%20%20%20%20%20%20%20%29.addTo%28map_32cccead184a40808fc661e404ec6e39%29%3B%0A%20%20%20%20%20%20%20%20%0A%20%20%20%20%0A%20%20%20%20%20%20%20%20var%20popup_990e68b85e994ebabcb446cf71797afa%20%3D%20L.popup%28%7B%22maxWidth%22%3A%20%22100%25%22%7D%29%3B%0A%0A%20%20%20%20%20%20%20%20%0A%20%20%20%20%20%20%20%20%20%20%20%20var%20html_8800c08ad89847eca8dd226790c62b19%20%3D%20%24%28%60%3Cdiv%20id%3D%22html_8800c08ad89847eca8dd226790c62b19%22%20style%3D%22width%3A%20100.0%25%3B%20height%3A%20100.0%25%3B%22%3ECongo%2C%20Dem.%20Rep.%3C/div%3E%60%29%5B0%5D%3B%0A%20%20%20%20%20%20%20%20%20%20%20%20popup_990e68b85e994ebabcb446cf71797afa.setContent%28html_8800c08ad89847eca8dd226790c62b19%29%3B%0A%20%20%20%20%20%20%20%20%0A%0A%20%20%20%20%20%20%20%20circle_marker_4c798111f6074faaa8b55d94f9ad5070.bindPopup%28popup_990e68b85e994ebabcb446cf71797afa%29%0A%20%20%20%20%20%20%20%20%3B%0A%0A%20%20%20%20%20%20%20%20%0A%20%20%20%20%0A%20%20%20%20%0A%20%20%20%20%20%20%20%20%20%20%20%20var%20circle_marker_e32a3b98567d40e19c6d81eb4aab7d98%20%3D%20L.circleMarker%28%0A%20%20%20%20%20%20%20%20%20%20%20%20%20%20%20%20%5B-1.0%2C%2015.5%5D%2C%0A%20%20%20%20%20%20%20%20%20%20%20%20%20%20%20%20%7B%22bubblingMouseEvents%22%3A%20true%2C%20%22color%22%3A%20%22%233388ff%22%2C%20%22dashArray%22%3A%20null%2C%20%22dashOffset%22%3A%20null%2C%20%22fill%22%3A%20true%2C%20%22fillColor%22%3A%20%22blue%22%2C%20%22fillOpacity%22%3A%200.2%2C%20%22fillRule%22%3A%20%22evenodd%22%2C%20%22lineCap%22%3A%20%22round%22%2C%20%22lineJoin%22%3A%20%22round%22%2C%20%22opacity%22%3A%201.0%2C%20%22radius%22%3A%206.681874714978711%2C%20%22stroke%22%3A%20true%2C%20%22weight%22%3A%203%7D%0A%20%20%20%20%20%20%20%20%20%20%20%20%29.addTo%28map_32cccead184a40808fc661e404ec6e39%29%3B%0A%20%20%20%20%20%20%20%20%0A%20%20%20%20%0A%20%20%20%20%20%20%20%20var%20popup_638a204ae11d4e0da3c24fcdfaf8195e%20%3D%20L.popup%28%7B%22maxWidth%22%3A%20%22100%25%22%7D%29%3B%0A%0A%20%20%20%20%20%20%20%20%0A%20%20%20%20%20%20%20%20%20%20%20%20var%20html_9e1cf941bc9e45a9b2525968dbcfee56%20%3D%20%24%28%60%3Cdiv%20id%3D%22html_9e1cf941bc9e45a9b2525968dbcfee56%22%20style%3D%22width%3A%20100.0%25%3B%20height%3A%20100.0%25%3B%22%3ECongo%2C%20Rep.%3C/div%3E%60%29%5B0%5D%3B%0A%20%20%20%20%20%20%20%20%20%20%20%20popup_638a204ae11d4e0da3c24fcdfaf8195e.setContent%28html_9e1cf941bc9e45a9b2525968dbcfee56%29%3B%0A%20%20%20%20%20%20%20%20%0A%0A%20%20%20%20%20%20%20%20circle_marker_e32a3b98567d40e19c6d81eb4aab7d98.bindPopup%28popup_638a204ae11d4e0da3c24fcdfaf8195e%29%0A%20%20%20%20%20%20%20%20%3B%0A%0A%20%20%20%20%20%20%20%20%0A%20%20%20%20%0A%20%20%20%20%0A%20%20%20%20%20%20%20%20%20%20%20%20var%20circle_marker_17e7255edd0f4a51bea441df9f078661%20%3D%20L.circleMarker%28%0A%20%20%20%20%20%20%20%20%20%20%20%20%20%20%20%20%5B4.0%2C%20-73.25%5D%2C%0A%20%20%20%20%20%20%20%20%20%20%20%20%20%20%20%20%7B%22bubblingMouseEvents%22%3A%20true%2C%20%22color%22%3A%20%22%233388ff%22%2C%20%22dashArray%22%3A%20null%2C%20%22dashOffset%22%3A%20null%2C%20%22fill%22%3A%20true%2C%20%22fillColor%22%3A%20%22green%22%2C%20%22fillOpacity%22%3A%200.2%2C%20%22fillRule%22%3A%20%22evenodd%22%2C%20%22lineCap%22%3A%20%22round%22%2C%20%22lineJoin%22%3A%20%22round%22%2C%20%22opacity%22%3A%201.0%2C%20%22radius%22%3A%209.002383384413296%2C%20%22stroke%22%3A%20true%2C%20%22weight%22%3A%203%7D%0A%20%20%20%20%20%20%20%20%20%20%20%20%29.addTo%28map_32cccead184a40808fc661e404ec6e39%29%3B%0A%20%20%20%20%20%20%20%20%0A%20%20%20%20%0A%20%20%20%20%20%20%20%20var%20popup_7487ab7dc9524efc84b0bb7d9c289529%20%3D%20L.popup%28%7B%22maxWidth%22%3A%20%22100%25%22%7D%29%3B%0A%0A%20%20%20%20%20%20%20%20%0A%20%20%20%20%20%20%20%20%20%20%20%20var%20html_a7656eb27d344c49b749751bdae000c7%20%3D%20%24%28%60%3Cdiv%20id%3D%22html_a7656eb27d344c49b749751bdae000c7%22%20style%3D%22width%3A%20100.0%25%3B%20height%3A%20100.0%25%3B%22%3EColombia%3C/div%3E%60%29%5B0%5D%3B%0A%20%20%20%20%20%20%20%20%20%20%20%20popup_7487ab7dc9524efc84b0bb7d9c289529.setContent%28html_a7656eb27d344c49b749751bdae000c7%29%3B%0A%20%20%20%20%20%20%20%20%0A%0A%20%20%20%20%20%20%20%20circle_marker_17e7255edd0f4a51bea441df9f078661.bindPopup%28popup_7487ab7dc9524efc84b0bb7d9c289529%29%0A%20%20%20%20%20%20%20%20%3B%0A%0A%20%20%20%20%20%20%20%20%0A%20%20%20%20%0A%20%20%20%20%0A%20%20%20%20%20%20%20%20%20%20%20%20var%20circle_marker_4be29c1e47684221b095f8942c5bfbe3%20%3D%20L.circleMarker%28%0A%20%20%20%20%20%20%20%20%20%20%20%20%20%20%20%20%5B-12.23333%2C%2044.44553%5D%2C%0A%20%20%20%20%20%20%20%20%20%20%20%20%20%20%20%20%7B%22bubblingMouseEvents%22%3A%20true%2C%20%22color%22%3A%20%22%233388ff%22%2C%20%22dashArray%22%3A%20null%2C%20%22dashOffset%22%3A%20null%2C%20%22fill%22%3A%20true%2C%20%22fillColor%22%3A%20%22blue%22%2C%20%22fillOpacity%22%3A%200.2%2C%20%22fillRule%22%3A%20%22evenodd%22%2C%20%22lineCap%22%3A%20%22round%22%2C%20%22lineJoin%22%3A%20%22round%22%2C%20%22opacity%22%3A%201.0%2C%20%22radius%22%3A%203.1816440984856076%2C%20%22stroke%22%3A%20true%2C%20%22weight%22%3A%203%7D%0A%20%20%20%20%20%20%20%20%20%20%20%20%29.addTo%28map_32cccead184a40808fc661e404ec6e39%29%3B%0A%20%20%20%20%20%20%20%20%0A%20%20%20%20%0A%20%20%20%20%20%20%20%20var%20popup_fca7cab3ca734162853476786e40425e%20%3D%20L.popup%28%7B%22maxWidth%22%3A%20%22100%25%22%7D%29%3B%0A%0A%20%20%20%20%20%20%20%20%0A%20%20%20%20%20%20%20%20%20%20%20%20var%20html_94c4ebc6a33e4288b3e34655d9e9d71b%20%3D%20%24%28%60%3Cdiv%20id%3D%22html_94c4ebc6a33e4288b3e34655d9e9d71b%22%20style%3D%22width%3A%20100.0%25%3B%20height%3A%20100.0%25%3B%22%3EComoros%3C/div%3E%60%29%5B0%5D%3B%0A%20%20%20%20%20%20%20%20%20%20%20%20popup_fca7cab3ca734162853476786e40425e.setContent%28html_94c4ebc6a33e4288b3e34655d9e9d71b%29%3B%0A%20%20%20%20%20%20%20%20%0A%0A%20%20%20%20%20%20%20%20circle_marker_4be29c1e47684221b095f8942c5bfbe3.bindPopup%28popup_fca7cab3ca734162853476786e40425e%29%0A%20%20%20%20%20%20%20%20%3B%0A%0A%20%20%20%20%20%20%20%20%0A%20%20%20%20%0A%20%20%20%20%0A%20%20%20%20%20%20%20%20%20%20%20%20var%20circle_marker_3476c9987ab24d91bebb7806ffeb5533%20%3D%20L.circleMarker%28%0A%20%20%20%20%20%20%20%20%20%20%20%20%20%20%20%20%5B16.0%2C%20-24.0%5D%2C%0A%20%20%20%20%20%20%20%20%20%20%20%20%20%20%20%20%7B%22bubblingMouseEvents%22%3A%20true%2C%20%22color%22%3A%20%22%233388ff%22%2C%20%22dashArray%22%3A%20null%2C%20%22dashOffset%22%3A%20null%2C%20%22fill%22%3A%20true%2C%20%22fillColor%22%3A%20%22blue%22%2C%20%22fillOpacity%22%3A%200.2%2C%20%22fillRule%22%3A%20%22evenodd%22%2C%20%22lineCap%22%3A%20%22round%22%2C%20%22lineJoin%22%3A%20%22round%22%2C%20%22opacity%22%3A%201.0%2C%20%22radius%22%3A%201.4667952657766725%2C%20%22stroke%22%3A%20true%2C%20%22weight%22%3A%203%7D%0A%20%20%20%20%20%20%20%20%20%20%20%20%29.addTo%28map_32cccead184a40808fc661e404ec6e39%29%3B%0A%20%20%20%20%20%20%20%20%0A%20%20%20%20%0A%20%20%20%20%20%20%20%20var%20popup_ca9e332592254f25987ca813fcad02c3%20%3D%20L.popup%28%7B%22maxWidth%22%3A%20%22100%25%22%7D%29%3B%0A%0A%20%20%20%20%20%20%20%20%0A%20%20%20%20%20%20%20%20%20%20%20%20var%20html_2ff7e5d64f3243c4b705dfe766f57f38%20%3D%20%24%28%60%3Cdiv%20id%3D%22html_2ff7e5d64f3243c4b705dfe766f57f38%22%20style%3D%22width%3A%20100.0%25%3B%20height%3A%20100.0%25%3B%22%3ECape%20Verde%3C/div%3E%60%29%5B0%5D%3B%0A%20%20%20%20%20%20%20%20%20%20%20%20popup_ca9e332592254f25987ca813fcad02c3.setContent%28html_2ff7e5d64f3243c4b705dfe766f57f38%29%3B%0A%20%20%20%20%20%20%20%20%0A%0A%20%20%20%20%20%20%20%20circle_marker_3476c9987ab24d91bebb7806ffeb5533.bindPopup%28popup_ca9e332592254f25987ca813fcad02c3%29%0A%20%20%20%20%20%20%20%20%3B%0A%0A%20%20%20%20%20%20%20%20%0A%20%20%20%20%0A%20%20%20%20%0A%20%20%20%20%20%20%20%20%20%20%20%20var%20circle_marker_30749040d1f24f3da611d472ca380bd4%20%3D%20L.circleMarker%28%0A%20%20%20%20%20%20%20%20%20%20%20%20%20%20%20%20%5B10.0%2C%20-84.0%5D%2C%0A%20%20%20%20%20%20%20%20%20%20%20%20%20%20%20%20%7B%22bubblingMouseEvents%22%3A%20true%2C%20%22color%22%3A%20%22%233388ff%22%2C%20%22dashArray%22%3A%20null%2C%20%22dashOffset%22%3A%20null%2C%20%22fill%22%3A%20true%2C%20%22fillColor%22%3A%20%22green%22%2C%20%22fillOpacity%22%3A%200.2%2C%20%22fillRule%22%3A%20%22evenodd%22%2C%20%22lineCap%22%3A%20%22round%22%2C%20%22lineJoin%22%3A%20%22round%22%2C%20%22opacity%22%3A%201.0%2C%20%22radius%22%3A%201.402496325012203%2C%20%22stroke%22%3A%20true%2C%20%22weight%22%3A%203%7D%0A%20%20%20%20%20%20%20%20%20%20%20%20%29.addTo%28map_32cccead184a40808fc661e404ec6e39%29%3B%0A%20%20%20%20%20%20%20%20%0A%20%20%20%20%0A%20%20%20%20%20%20%20%20var%20popup_c0f2ca9b305d4b11823f61beb4f86b18%20%3D%20L.popup%28%7B%22maxWidth%22%3A%20%22100%25%22%7D%29%3B%0A%0A%20%20%20%20%20%20%20%20%0A%20%20%20%20%20%20%20%20%20%20%20%20var%20html_8ca863d3b50d4a9fa02869842e807473%20%3D%20%24%28%60%3Cdiv%20id%3D%22html_8ca863d3b50d4a9fa02869842e807473%22%20style%3D%22width%3A%20100.0%25%3B%20height%3A%20100.0%25%3B%22%3ECosta%20Rica%3C/div%3E%60%29%5B0%5D%3B%0A%20%20%20%20%20%20%20%20%20%20%20%20popup_c0f2ca9b305d4b11823f61beb4f86b18.setContent%28html_8ca863d3b50d4a9fa02869842e807473%29%3B%0A%20%20%20%20%20%20%20%20%0A%0A%20%20%20%20%20%20%20%20circle_marker_30749040d1f24f3da611d472ca380bd4.bindPopup%28popup_c0f2ca9b305d4b11823f61beb4f86b18%29%0A%20%20%20%20%20%20%20%20%3B%0A%0A%20%20%20%20%20%20%20%20%0A%20%20%20%20%0A%20%20%20%20%0A%20%20%20%20%20%20%20%20%20%20%20%20var%20circle_marker_9605fbb7668a4c68af0b6f6caf77dafe%20%3D%20L.circleMarker%28%0A%20%20%20%20%20%20%20%20%20%20%20%20%20%20%20%20%5B49.75%2C%2015.0%5D%2C%0A%20%20%20%20%20%20%20%20%20%20%20%20%20%20%20%20%7B%22bubblingMouseEvents%22%3A%20true%2C%20%22color%22%3A%20%22%233388ff%22%2C%20%22dashArray%22%3A%20null%2C%20%22dashOffset%22%3A%20null%2C%20%22fill%22%3A%20true%2C%20%22fillColor%22%3A%20%22black%22%2C%20%22fillOpacity%22%3A%200.2%2C%20%22fillRule%22%3A%20%22evenodd%22%2C%20%22lineCap%22%3A%20%22round%22%2C%20%22lineJoin%22%3A%20%22round%22%2C%20%22opacity%22%3A%201.0%2C%20%22radius%22%3A%200.31720301862166483%2C%20%22stroke%22%3A%20true%2C%20%22weight%22%3A%203%7D%0A%20%20%20%20%20%20%20%20%20%20%20%20%29.addTo%28map_32cccead184a40808fc661e404ec6e39%29%3B%0A%20%20%20%20%20%20%20%20%0A%20%20%20%20%0A%20%20%20%20%20%20%20%20var%20popup_6b5337e611b94696a832f85d9a736e30%20%3D%20L.popup%28%7B%22maxWidth%22%3A%20%22100%25%22%7D%29%3B%0A%0A%20%20%20%20%20%20%20%20%0A%20%20%20%20%20%20%20%20%20%20%20%20var%20html_7b0eadfa4f644e4ca104f80d355cab71%20%3D%20%24%28%60%3Cdiv%20id%3D%22html_7b0eadfa4f644e4ca104f80d355cab71%22%20style%3D%22width%3A%20100.0%25%3B%20height%3A%20100.0%25%3B%22%3ECzech%20Republic%3C/div%3E%60%29%5B0%5D%3B%0A%20%20%20%20%20%20%20%20%20%20%20%20popup_6b5337e611b94696a832f85d9a736e30.setContent%28html_7b0eadfa4f644e4ca104f80d355cab71%29%3B%0A%20%20%20%20%20%20%20%20%0A%0A%20%20%20%20%20%20%20%20circle_marker_9605fbb7668a4c68af0b6f6caf77dafe.bindPopup%28popup_6b5337e611b94696a832f85d9a736e30%29%0A%20%20%20%20%20%20%20%20%3B%0A%0A%20%20%20%20%20%20%20%20%0A%20%20%20%20%0A%20%20%20%20%0A%20%20%20%20%20%20%20%20%20%20%20%20var%20circle_marker_081fb1d224de4c64a7c50aa7ff0c5feb%20%3D%20L.circleMarker%28%0A%20%20%20%20%20%20%20%20%20%20%20%20%20%20%20%20%5B51.5%2C%2010.5%5D%2C%0A%20%20%20%20%20%20%20%20%20%20%20%20%20%20%20%20%7B%22bubblingMouseEvents%22%3A%20true%2C%20%22color%22%3A%20%22%233388ff%22%2C%20%22dashArray%22%3A%20null%2C%20%22dashOffset%22%3A%20null%2C%20%22fill%22%3A%20true%2C%20%22fillColor%22%3A%20%22black%22%2C%20%22fillOpacity%22%3A%200.2%2C%20%22fillRule%22%3A%20%22evenodd%22%2C%20%22lineCap%22%3A%20%22round%22%2C%20%22lineJoin%22%3A%20%22round%22%2C%20%22opacity%22%3A%201.0%2C%20%22radius%22%3A%202.957623648166546%2C%20%22stroke%22%3A%20true%2C%20%22weight%22%3A%203%7D%0A%20%20%20%20%20%20%20%20%20%20%20%20%29.addTo%28map_32cccead184a40808fc661e404ec6e39%29%3B%0A%20%20%20%20%20%20%20%20%0A%20%20%20%20%0A%20%20%20%20%20%20%20%20var%20popup_5e4566329b194847b2f029d63f75fb95%20%3D%20L.popup%28%7B%22maxWidth%22%3A%20%22100%25%22%7D%29%3B%0A%0A%20%20%20%20%20%20%20%20%0A%20%20%20%20%20%20%20%20%20%20%20%20var%20html_482946cfd3864b5f85680fda390385f1%20%3D%20%24%28%60%3Cdiv%20id%3D%22html_482946cfd3864b5f85680fda390385f1%22%20style%3D%22width%3A%20100.0%25%3B%20height%3A%20100.0%25%3B%22%3EGermany%3C/div%3E%60%29%5B0%5D%3B%0A%20%20%20%20%20%20%20%20%20%20%20%20popup_5e4566329b194847b2f029d63f75fb95.setContent%28html_482946cfd3864b5f85680fda390385f1%29%3B%0A%20%20%20%20%20%20%20%20%0A%0A%20%20%20%20%20%20%20%20circle_marker_081fb1d224de4c64a7c50aa7ff0c5feb.bindPopup%28popup_5e4566329b194847b2f029d63f75fb95%29%0A%20%20%20%20%20%20%20%20%3B%0A%0A%20%20%20%20%20%20%20%20%0A%20%20%20%20%0A%20%20%20%20%0A%20%20%20%20%20%20%20%20%20%20%20%20var%20circle_marker_fdd8efdfc5ed4b3e86f8f6463bc39a8f%20%3D%20L.circleMarker%28%0A%20%20%20%20%20%20%20%20%20%20%20%20%20%20%20%20%5B11.58901%2C%2043.14503%5D%2C%0A%20%20%20%20%20%20%20%20%20%20%20%20%20%20%20%20%7B%22bubblingMouseEvents%22%3A%20true%2C%20%22color%22%3A%20%22%233388ff%22%2C%20%22dashArray%22%3A%20null%2C%20%22dashOffset%22%3A%20null%2C%20%22fill%22%3A%20true%2C%20%22fillColor%22%3A%20%22blue%22%2C%20%22fillOpacity%22%3A%200.2%2C%20%22fillRule%22%3A%20%22evenodd%22%2C%20%22lineCap%22%3A%20%22round%22%2C%20%22lineJoin%22%3A%20%22round%22%2C%20%22opacity%22%3A%201.0%2C%20%22radius%22%3A%202.244091994176071%2C%20%22stroke%22%3A%20true%2C%20%22weight%22%3A%203%7D%0A%20%20%20%20%20%20%20%20%20%20%20%20%29.addTo%28map_32cccead184a40808fc661e404ec6e39%29%3B%0A%20%20%20%20%20%20%20%20%0A%20%20%20%20%0A%20%20%20%20%20%20%20%20var%20popup_34a1c55a670b4b7cb3565370d8c864dd%20%3D%20L.popup%28%7B%22maxWidth%22%3A%20%22100%25%22%7D%29%3B%0A%0A%20%20%20%20%20%20%20%20%0A%20%20%20%20%20%20%20%20%20%20%20%20var%20html_5f77eb924687435ea652c0774128f73b%20%3D%20%24%28%60%3Cdiv%20id%3D%22html_5f77eb924687435ea652c0774128f73b%22%20style%3D%22width%3A%20100.0%25%3B%20height%3A%20100.0%25%3B%22%3EDjibouti%3C/div%3E%60%29%5B0%5D%3B%0A%20%20%20%20%20%20%20%20%20%20%20%20popup_34a1c55a670b4b7cb3565370d8c864dd.setContent%28html_5f77eb924687435ea652c0774128f73b%29%3B%0A%20%20%20%20%20%20%20%20%0A%0A%20%20%20%20%20%20%20%20circle_marker_fdd8efdfc5ed4b3e86f8f6463bc39a8f.bindPopup%28popup_34a1c55a670b4b7cb3565370d8c864dd%29%0A%20%20%20%20%20%20%20%20%3B%0A%0A%20%20%20%20%20%20%20%20%0A%20%20%20%20%0A%20%20%20%20%0A%20%20%20%20%20%20%20%20%20%20%20%20var%20circle_marker_4dbcb5e1bc414c978be2d29c60730649%20%3D%20L.circleMarker%28%0A%20%20%20%20%20%20%20%20%20%20%20%20%20%20%20%20%5B56.0%2C%2010.0%5D%2C%0A%20%20%20%20%20%20%20%20%20%20%20%20%20%20%20%20%7B%22bubblingMouseEvents%22%3A%20true%2C%20%22color%22%3A%20%22%233388ff%22%2C%20%22dashArray%22%3A%20null%2C%20%22dashOffset%22%3A%20null%2C%20%22fill%22%3A%20true%2C%20%22fillColor%22%3A%20%22black%22%2C%20%22fillOpacity%22%3A%200.2%2C%20%22fillRule%22%3A%20%22evenodd%22%2C%20%22lineCap%22%3A%20%22round%22%2C%20%22lineJoin%22%3A%20%22round%22%2C%20%22opacity%22%3A%201.0%2C%20%22radius%22%3A%201.0884180738164053%2C%20%22stroke%22%3A%20true%2C%20%22weight%22%3A%203%7D%0A%20%20%20%20%20%20%20%20%20%20%20%20%29.addTo%28map_32cccead184a40808fc661e404ec6e39%29%3B%0A%20%20%20%20%20%20%20%20%0A%20%20%20%20%0A%20%20%20%20%20%20%20%20var%20popup_5dd2dcfd5f68456dbb16d3325935f703%20%3D%20L.popup%28%7B%22maxWidth%22%3A%20%22100%25%22%7D%29%3B%0A%0A%20%20%20%20%20%20%20%20%0A%20%20%20%20%20%20%20%20%20%20%20%20var%20html_d54fcad7b34a448baac8274619dfba7c%20%3D%20%24%28%60%3Cdiv%20id%3D%22html_d54fcad7b34a448baac8274619dfba7c%22%20style%3D%22width%3A%20100.0%25%3B%20height%3A%20100.0%25%3B%22%3EDenmark%3C/div%3E%60%29%5B0%5D%3B%0A%20%20%20%20%20%20%20%20%20%20%20%20popup_5dd2dcfd5f68456dbb16d3325935f703.setContent%28html_d54fcad7b34a448baac8274619dfba7c%29%3B%0A%20%20%20%20%20%20%20%20%0A%0A%20%20%20%20%20%20%20%20circle_marker_4dbcb5e1bc414c978be2d29c60730649.bindPopup%28popup_5dd2dcfd5f68456dbb16d3325935f703%29%0A%20%20%20%20%20%20%20%20%3B%0A%0A%20%20%20%20%20%20%20%20%0A%20%20%20%20%0A%20%20%20%20%0A%20%20%20%20%20%20%20%20%20%20%20%20var%20circle_marker_bf97e5d1ce844720826f08f4539c2801%20%3D%20L.circleMarker%28%0A%20%20%20%20%20%20%20%20%20%20%20%20%20%20%20%20%5B19.0%2C%20-70.66667%5D%2C%0A%20%20%20%20%20%20%20%20%20%20%20%20%20%20%20%20%7B%22bubblingMouseEvents%22%3A%20true%2C%20%22color%22%3A%20%22%233388ff%22%2C%20%22dashArray%22%3A%20null%2C%20%22dashOffset%22%3A%20null%2C%20%22fill%22%3A%20true%2C%20%22fillColor%22%3A%20%22green%22%2C%20%22fillOpacity%22%3A%200.2%2C%20%22fillRule%22%3A%20%22evenodd%22%2C%20%22lineCap%22%3A%20%22round%22%2C%20%22lineJoin%22%3A%20%22round%22%2C%20%22opacity%22%3A%201.0%2C%20%22radius%22%3A%202.6350734064183507%2C%20%22stroke%22%3A%20true%2C%20%22weight%22%3A%203%7D%0A%20%20%20%20%20%20%20%20%20%20%20%20%29.addTo%28map_32cccead184a40808fc661e404ec6e39%29%3B%0A%20%20%20%20%20%20%20%20%0A%20%20%20%20%0A%20%20%20%20%20%20%20%20var%20popup_e7e0c22837e34c45878de65490290847%20%3D%20L.popup%28%7B%22maxWidth%22%3A%20%22100%25%22%7D%29%3B%0A%0A%20%20%20%20%20%20%20%20%0A%20%20%20%20%20%20%20%20%20%20%20%20var%20html_f42668dd473a41988098137e672714c0%20%3D%20%24%28%60%3Cdiv%20id%3D%22html_f42668dd473a41988098137e672714c0%22%20style%3D%22width%3A%20100.0%25%3B%20height%3A%20100.0%25%3B%22%3EDominican%20Republic%3C/div%3E%60%29%5B0%5D%3B%0A%20%20%20%20%20%20%20%20%20%20%20%20popup_e7e0c22837e34c45878de65490290847.setContent%28html_f42668dd473a41988098137e672714c0%29%3B%0A%20%20%20%20%20%20%20%20%0A%0A%20%20%20%20%20%20%20%20circle_marker_bf97e5d1ce844720826f08f4539c2801.bindPopup%28popup_e7e0c22837e34c45878de65490290847%29%0A%20%20%20%20%20%20%20%20%3B%0A%0A%20%20%20%20%20%20%20%20%0A%20%20%20%20%0A%20%20%20%20%0A%20%20%20%20%20%20%20%20%20%20%20%20var%20circle_marker_d1b69ccad2e4488b8778d7ffc8c6b748%20%3D%20L.circleMarker%28%0A%20%20%20%20%20%20%20%20%20%20%20%20%20%20%20%20%5B28.0%2C%203.0%5D%2C%0A%20%20%20%20%20%20%20%20%20%20%20%20%20%20%20%20%7B%22bubblingMouseEvents%22%3A%20true%2C%20%22color%22%3A%20%22%233388ff%22%2C%20%22dashArray%22%3A%20null%2C%20%22dashOffset%22%3A%20null%2C%20%22fill%22%3A%20true%2C%20%22fillColor%22%3A%20%22blue%22%2C%20%22fillOpacity%22%3A%200.2%2C%20%22fillRule%22%3A%20%22evenodd%22%2C%20%22lineCap%22%3A%20%22round%22%2C%20%22lineJoin%22%3A%20%22round%22%2C%20%22opacity%22%3A%201.0%2C%20%22radius%22%3A%208.547725420605834%2C%20%22stroke%22%3A%20true%2C%20%22weight%22%3A%203%7D%0A%20%20%20%20%20%20%20%20%20%20%20%20%29.addTo%28map_32cccead184a40808fc661e404ec6e39%29%3B%0A%20%20%20%20%20%20%20%20%0A%20%20%20%20%0A%20%20%20%20%20%20%20%20var%20popup_d53dcdb01e1946e58ab5edc4b915d9cc%20%3D%20L.popup%28%7B%22maxWidth%22%3A%20%22100%25%22%7D%29%3B%0A%0A%20%20%20%20%20%20%20%20%0A%20%20%20%20%20%20%20%20%20%20%20%20var%20html_4075b81aacee48a68971f5eb627bd650%20%3D%20%24%28%60%3Cdiv%20id%3D%22html_4075b81aacee48a68971f5eb627bd650%22%20style%3D%22width%3A%20100.0%25%3B%20height%3A%20100.0%25%3B%22%3EAlgeria%3C/div%3E%60%29%5B0%5D%3B%0A%20%20%20%20%20%20%20%20%20%20%20%20popup_d53dcdb01e1946e58ab5edc4b915d9cc.setContent%28html_4075b81aacee48a68971f5eb627bd650%29%3B%0A%20%20%20%20%20%20%20%20%0A%0A%20%20%20%20%20%20%20%20circle_marker_d1b69ccad2e4488b8778d7ffc8c6b748.bindPopup%28popup_d53dcdb01e1946e58ab5edc4b915d9cc%29%0A%20%20%20%20%20%20%20%20%3B%0A%0A%20%20%20%20%20%20%20%20%0A%20%20%20%20%0A%20%20%20%20%0A%20%20%20%20%20%20%20%20%20%20%20%20var%20circle_marker_8ce2e94d5a3a4eb8afa4b951ba453169%20%3D%20L.circleMarker%28%0A%20%20%20%20%20%20%20%20%20%20%20%20%20%20%20%20%5B-1.25%2C%20-78.25%5D%2C%0A%20%20%20%20%20%20%20%20%20%20%20%20%20%20%20%20%7B%22bubblingMouseEvents%22%3A%20true%2C%20%22color%22%3A%20%22%233388ff%22%2C%20%22dashArray%22%3A%20null%2C%20%22dashOffset%22%3A%20null%2C%20%22fill%22%3A%20true%2C%20%22fillColor%22%3A%20%22green%22%2C%20%22fillOpacity%22%3A%200.2%2C%20%22fillRule%22%3A%20%22evenodd%22%2C%20%22lineCap%22%3A%20%22round%22%2C%20%22lineJoin%22%3A%20%22round%22%2C%20%22opacity%22%3A%201.0%2C%20%22radius%22%3A%204.34440267014846%2C%20%22stroke%22%3A%20true%2C%20%22weight%22%3A%203%7D%0A%20%20%20%20%20%20%20%20%20%20%20%20%29.addTo%28map_32cccead184a40808fc661e404ec6e39%29%3B%0A%20%20%20%20%20%20%20%20%0A%20%20%20%20%0A%20%20%20%20%20%20%20%20var%20popup_5539c127430c424483a1d2bc1a29e4c2%20%3D%20L.popup%28%7B%22maxWidth%22%3A%20%22100%25%22%7D%29%3B%0A%0A%20%20%20%20%20%20%20%20%0A%20%20%20%20%20%20%20%20%20%20%20%20var%20html_77db75b29f064ddaaab40afd52ca9db2%20%3D%20%24%28%60%3Cdiv%20id%3D%22html_77db75b29f064ddaaab40afd52ca9db2%22%20style%3D%22width%3A%20100.0%25%3B%20height%3A%20100.0%25%3B%22%3EEcuador%3C/div%3E%60%29%5B0%5D%3B%0A%20%20%20%20%20%20%20%20%20%20%20%20popup_5539c127430c424483a1d2bc1a29e4c2.setContent%28html_77db75b29f064ddaaab40afd52ca9db2%29%3B%0A%20%20%20%20%20%20%20%20%0A%0A%20%20%20%20%20%20%20%20circle_marker_8ce2e94d5a3a4eb8afa4b951ba453169.bindPopup%28popup_5539c127430c424483a1d2bc1a29e4c2%29%0A%20%20%20%20%20%20%20%20%3B%0A%0A%20%20%20%20%20%20%20%20%0A%20%20%20%20%0A%20%20%20%20%0A%20%20%20%20%20%20%20%20%20%20%20%20var%20circle_marker_18450a6070e948a8847d5adea11a2742%20%3D%20L.circleMarker%28%0A%20%20%20%20%20%20%20%20%20%20%20%20%20%20%20%20%5B27.0%2C%2030.0%5D%2C%0A%20%20%20%20%20%20%20%20%20%20%20%20%20%20%20%20%7B%22bubblingMouseEvents%22%3A%20true%2C%20%22color%22%3A%20%22%233388ff%22%2C%20%22dashArray%22%3A%20null%2C%20%22dashOffset%22%3A%20null%2C%20%22fill%22%3A%20true%2C%20%22fillColor%22%3A%20%22blue%22%2C%20%22fillOpacity%22%3A%200.2%2C%20%22fillRule%22%3A%20%22evenodd%22%2C%20%22lineCap%22%3A%20%22round%22%2C%20%22lineJoin%22%3A%20%22round%22%2C%20%22opacity%22%3A%201.0%2C%20%22radius%22%3A%206.652627784125568%2C%20%22stroke%22%3A%20true%2C%20%22weight%22%3A%203%7D%0A%20%20%20%20%20%20%20%20%20%20%20%20%29.addTo%28map_32cccead184a40808fc661e404ec6e39%29%3B%0A%20%20%20%20%20%20%20%20%0A%20%20%20%20%0A%20%20%20%20%20%20%20%20var%20popup_6d0b665bc16342e1bf8765b23f78bb14%20%3D%20L.popup%28%7B%22maxWidth%22%3A%20%22100%25%22%7D%29%3B%0A%0A%20%20%20%20%20%20%20%20%0A%20%20%20%20%20%20%20%20%20%20%20%20var%20html_448cfc681a8d44379b63d2580e18fab3%20%3D%20%24%28%60%3Cdiv%20id%3D%22html_448cfc681a8d44379b63d2580e18fab3%22%20style%3D%22width%3A%20100.0%25%3B%20height%3A%20100.0%25%3B%22%3EEgypt%3C/div%3E%60%29%5B0%5D%3B%0A%20%20%20%20%20%20%20%20%20%20%20%20popup_6d0b665bc16342e1bf8765b23f78bb14.setContent%28html_448cfc681a8d44379b63d2580e18fab3%29%3B%0A%20%20%20%20%20%20%20%20%0A%0A%20%20%20%20%20%20%20%20circle_marker_18450a6070e948a8847d5adea11a2742.bindPopup%28popup_6d0b665bc16342e1bf8765b23f78bb14%29%0A%20%20%20%20%20%20%20%20%3B%0A%0A%20%20%20%20%20%20%20%20%0A%20%20%20%20%0A%20%20%20%20%0A%20%20%20%20%20%20%20%20%20%20%20%20var%20circle_marker_ea5a99c1402e4550b87bbece59f35740%20%3D%20L.circleMarker%28%0A%20%20%20%20%20%20%20%20%20%20%20%20%20%20%20%20%5B40.0%2C%20-4.0%5D%2C%0A%20%20%20%20%20%20%20%20%20%20%20%20%20%20%20%20%7B%22bubblingMouseEvents%22%3A%20true%2C%20%22color%22%3A%20%22%233388ff%22%2C%20%22dashArray%22%3A%20null%2C%20%22dashOffset%22%3A%20null%2C%20%22fill%22%3A%20true%2C%20%22fillColor%22%3A%20%22black%22%2C%20%22fillOpacity%22%3A%200.2%2C%20%22fillRule%22%3A%20%22evenodd%22%2C%20%22lineCap%22%3A%20%22round%22%2C%20%22lineJoin%22%3A%20%22round%22%2C%20%22opacity%22%3A%201.0%2C%20%22radius%22%3A%205.912389201233562%2C%20%22stroke%22%3A%20true%2C%20%22weight%22%3A%203%7D%0A%20%20%20%20%20%20%20%20%20%20%20%20%29.addTo%28map_32cccead184a40808fc661e404ec6e39%29%3B%0A%20%20%20%20%20%20%20%20%0A%20%20%20%20%0A%20%20%20%20%20%20%20%20var%20popup_e8722570bed84a4d847dea6022428851%20%3D%20L.popup%28%7B%22maxWidth%22%3A%20%22100%25%22%7D%29%3B%0A%0A%20%20%20%20%20%20%20%20%0A%20%20%20%20%20%20%20%20%20%20%20%20var%20html_b9cb3e578c194c72a2b54303e53fcd6c%20%3D%20%24%28%60%3Cdiv%20id%3D%22html_b9cb3e578c194c72a2b54303e53fcd6c%22%20style%3D%22width%3A%20100.0%25%3B%20height%3A%20100.0%25%3B%22%3ESpain%3C/div%3E%60%29%5B0%5D%3B%0A%20%20%20%20%20%20%20%20%20%20%20%20popup_e8722570bed84a4d847dea6022428851.setContent%28html_b9cb3e578c194c72a2b54303e53fcd6c%29%3B%0A%20%20%20%20%20%20%20%20%0A%0A%20%20%20%20%20%20%20%20circle_marker_ea5a99c1402e4550b87bbece59f35740.bindPopup%28popup_e8722570bed84a4d847dea6022428851%29%0A%20%20%20%20%20%20%20%20%3B%0A%0A%20%20%20%20%20%20%20%20%0A%20%20%20%20%0A%20%20%20%20%0A%20%20%20%20%20%20%20%20%20%20%20%20var%20circle_marker_4fb9b171b38a4ed9a56ff82ada707b99%20%3D%20L.circleMarker%28%0A%20%20%20%20%20%20%20%20%20%20%20%20%20%20%20%20%5B59.0%2C%2026.0%5D%2C%0A%20%20%20%20%20%20%20%20%20%20%20%20%20%20%20%20%7B%22bubblingMouseEvents%22%3A%20true%2C%20%22color%22%3A%20%22%233388ff%22%2C%20%22dashArray%22%3A%20null%2C%20%22dashOffset%22%3A%20null%2C%20%22fill%22%3A%20true%2C%20%22fillColor%22%3A%20%22black%22%2C%20%22fillOpacity%22%3A%200.2%2C%20%22fillRule%22%3A%20%22evenodd%22%2C%20%22lineCap%22%3A%20%22round%22%2C%20%22lineJoin%22%3A%20%22round%22%2C%20%22opacity%22%3A%201.0%2C%20%22radius%22%3A%200.6446344362605358%2C%20%22stroke%22%3A%20true%2C%20%22weight%22%3A%203%7D%0A%20%20%20%20%20%20%20%20%20%20%20%20%29.addTo%28map_32cccead184a40808fc661e404ec6e39%29%3B%0A%20%20%20%20%20%20%20%20%0A%20%20%20%20%0A%20%20%20%20%20%20%20%20var%20popup_1da02ee21b1a47ba877a888bee59eaf2%20%3D%20L.popup%28%7B%22maxWidth%22%3A%20%22100%25%22%7D%29%3B%0A%0A%20%20%20%20%20%20%20%20%0A%20%20%20%20%20%20%20%20%20%20%20%20var%20html_6069e078422e4cc5a05c6798030761f1%20%3D%20%24%28%60%3Cdiv%20id%3D%22html_6069e078422e4cc5a05c6798030761f1%22%20style%3D%22width%3A%20100.0%25%3B%20height%3A%20100.0%25%3B%22%3EEstonia%3C/div%3E%60%29%5B0%5D%3B%0A%20%20%20%20%20%20%20%20%20%20%20%20popup_1da02ee21b1a47ba877a888bee59eaf2.setContent%28html_6069e078422e4cc5a05c6798030761f1%29%3B%0A%20%20%20%20%20%20%20%20%0A%0A%20%20%20%20%20%20%20%20circle_marker_4fb9b171b38a4ed9a56ff82ada707b99.bindPopup%28popup_1da02ee21b1a47ba877a888bee59eaf2%29%0A%20%20%20%20%20%20%20%20%3B%0A%0A%20%20%20%20%20%20%20%20%0A%20%20%20%20%0A%20%20%20%20%0A%20%20%20%20%20%20%20%20%20%20%20%20var%20circle_marker_2906f3e4889c4d4d87f322466c154df6%20%3D%20L.circleMarker%28%0A%20%20%20%20%20%20%20%20%20%20%20%20%20%20%20%20%5B9.0%2C%2039.5%5D%2C%0A%20%20%20%20%20%20%20%20%20%20%20%20%20%20%20%20%7B%22bubblingMouseEvents%22%3A%20true%2C%20%22color%22%3A%20%22%233388ff%22%2C%20%22dashArray%22%3A%20null%2C%20%22dashOffset%22%3A%20null%2C%20%22fill%22%3A%20true%2C%20%22fillColor%22%3A%20%22blue%22%2C%20%22fillOpacity%22%3A%200.2%2C%20%22fillRule%22%3A%20%22evenodd%22%2C%20%22lineCap%22%3A%20%22round%22%2C%20%22lineJoin%22%3A%20%22round%22%2C%20%22opacity%22%3A%201.0%2C%20%22radius%22%3A%2032.036203795508186%2C%20%22stroke%22%3A%20true%2C%20%22weight%22%3A%203%7D%0A%20%20%20%20%20%20%20%20%20%20%20%20%29.addTo%28map_32cccead184a40808fc661e404ec6e39%29%3B%0A%20%20%20%20%20%20%20%20%0A%20%20%20%20%0A%20%20%20%20%20%20%20%20var%20popup_0fb76d255c4a4a32a971a89470f1c0e4%20%3D%20L.popup%28%7B%22maxWidth%22%3A%20%22100%25%22%7D%29%3B%0A%0A%20%20%20%20%20%20%20%20%0A%20%20%20%20%20%20%20%20%20%20%20%20var%20html_0d10844ff5d24768b1d22a5d625cf4c7%20%3D%20%24%28%60%3Cdiv%20id%3D%22html_0d10844ff5d24768b1d22a5d625cf4c7%22%20style%3D%22width%3A%20100.0%25%3B%20height%3A%20100.0%25%3B%22%3EEthiopia%3C/div%3E%60%29%5B0%5D%3B%0A%20%20%20%20%20%20%20%20%20%20%20%20popup_0fb76d255c4a4a32a971a89470f1c0e4.setContent%28html_0d10844ff5d24768b1d22a5d625cf4c7%29%3B%0A%20%20%20%20%20%20%20%20%0A%0A%20%20%20%20%20%20%20%20circle_marker_2906f3e4889c4d4d87f322466c154df6.bindPopup%28popup_0fb76d255c4a4a32a971a89470f1c0e4%29%0A%20%20%20%20%20%20%20%20%3B%0A%0A%20%20%20%20%20%20%20%20%0A%20%20%20%20%0A%20%20%20%20%0A%20%20%20%20%20%20%20%20%20%20%20%20var%20circle_marker_0b1e44faba9041ceb14eeb397e42b1b4%20%3D%20L.circleMarker%28%0A%20%20%20%20%20%20%20%20%20%20%20%20%20%20%20%20%5B64.0%2C%2026.0%5D%2C%0A%20%20%20%20%20%20%20%20%20%20%20%20%20%20%20%20%7B%22bubblingMouseEvents%22%3A%20true%2C%20%22color%22%3A%20%22%233388ff%22%2C%20%22dashArray%22%3A%20null%2C%20%22dashOffset%22%3A%20null%2C%20%22fill%22%3A%20true%2C%20%22fillColor%22%3A%20%22black%22%2C%20%22fillOpacity%22%3A%200.2%2C%20%22fillRule%22%3A%20%22evenodd%22%2C%20%22lineCap%22%3A%20%22round%22%2C%20%22lineJoin%22%3A%20%22round%22%2C%20%22opacity%22%3A%201.0%2C%20%22stroke%22%3A%20true%2C%20%22weight%22%3A%203%7D%0A%20%20%20%20%20%20%20%20%20%20%20%20%29.addTo%28map_32cccead184a40808fc661e404ec6e39%29%3B%0A%20%20%20%20%20%20%20%20%0A%20%20%20%20%0A%20%20%20%20%20%20%20%20var%20popup_602b8d8de37a473abcd2d644adeb0d1e%20%3D%20L.popup%28%7B%22maxWidth%22%3A%20%22100%25%22%7D%29%3B%0A%0A%20%20%20%20%20%20%20%20%0A%20%20%20%20%20%20%20%20%20%20%20%20var%20html_99ea0847e8e54e769acf8ef50ba31439%20%3D%20%24%28%60%3Cdiv%20id%3D%22html_99ea0847e8e54e769acf8ef50ba31439%22%20style%3D%22width%3A%20100.0%25%3B%20height%3A%20100.0%25%3B%22%3EFinland%3C/div%3E%60%29%5B0%5D%3B%0A%20%20%20%20%20%20%20%20%20%20%20%20popup_602b8d8de37a473abcd2d644adeb0d1e.setContent%28html_99ea0847e8e54e769acf8ef50ba31439%29%3B%0A%20%20%20%20%20%20%20%20%0A%0A%20%20%20%20%20%20%20%20circle_marker_0b1e44faba9041ceb14eeb397e42b1b4.bindPopup%28popup_602b8d8de37a473abcd2d644adeb0d1e%29%0A%20%20%20%20%20%20%20%20%3B%0A%0A%20%20%20%20%20%20%20%20%0A%20%20%20%20%0A%20%20%20%20%0A%20%20%20%20%20%20%20%20%20%20%20%20var%20circle_marker_d29bc9fc6bde4985954b459ad52a88ec%20%3D%20L.circleMarker%28%0A%20%20%20%20%20%20%20%20%20%20%20%20%20%20%20%20%5B-18.0%2C%20178.0%5D%2C%0A%20%20%20%20%20%20%20%20%20%20%20%20%20%20%20%20%7B%22bubblingMouseEvents%22%3A%20true%2C%20%22color%22%3A%20%22%233388ff%22%2C%20%22dashArray%22%3A%20null%2C%20%22dashOffset%22%3A%20null%2C%20%22fill%22%3A%20true%2C%20%22fillColor%22%3A%20%22red%22%2C%20%22fillOpacity%22%3A%200.2%2C%20%22fillRule%22%3A%20%22evenodd%22%2C%20%22lineCap%22%3A%20%22round%22%2C%20%22lineJoin%22%3A%20%22round%22%2C%20%22opacity%22%3A%201.0%2C%20%22radius%22%3A%201.2685737233520922%2C%20%22stroke%22%3A%20true%2C%20%22weight%22%3A%203%7D%0A%20%20%20%20%20%20%20%20%20%20%20%20%29.addTo%28map_32cccead184a40808fc661e404ec6e39%29%3B%0A%20%20%20%20%20%20%20%20%0A%20%20%20%20%0A%20%20%20%20%20%20%20%20var%20popup_ebd05751c647437ab638967b43ebd471%20%3D%20L.popup%28%7B%22maxWidth%22%3A%20%22100%25%22%7D%29%3B%0A%0A%20%20%20%20%20%20%20%20%0A%20%20%20%20%20%20%20%20%20%20%20%20var%20html_176dee2c30984262b8bb4644c7e85dde%20%3D%20%24%28%60%3Cdiv%20id%3D%22html_176dee2c30984262b8bb4644c7e85dde%22%20style%3D%22width%3A%20100.0%25%3B%20height%3A%20100.0%25%3B%22%3EFiji%3C/div%3E%60%29%5B0%5D%3B%0A%20%20%20%20%20%20%20%20%20%20%20%20popup_ebd05751c647437ab638967b43ebd471.setContent%28html_176dee2c30984262b8bb4644c7e85dde%29%3B%0A%20%20%20%20%20%20%20%20%0A%0A%20%20%20%20%20%20%20%20circle_marker_d29bc9fc6bde4985954b459ad52a88ec.bindPopup%28popup_ebd05751c647437ab638967b43ebd471%29%0A%20%20%20%20%20%20%20%20%3B%0A%0A%20%20%20%20%20%20%20%20%0A%20%20%20%20%0A%20%20%20%20%0A%20%20%20%20%20%20%20%20%20%20%20%20var%20circle_marker_ef6f12d644614de2b891790ccf8fc51c%20%3D%20L.circleMarker%28%0A%20%20%20%20%20%20%20%20%20%20%20%20%20%20%20%20%5B46.0%2C%202.0%5D%2C%0A%20%20%20%20%20%20%20%20%20%20%20%20%20%20%20%20%7B%22bubblingMouseEvents%22%3A%20true%2C%20%22color%22%3A%20%22%233388ff%22%2C%20%22dashArray%22%3A%20null%2C%20%22dashOffset%22%3A%20null%2C%20%22fill%22%3A%20true%2C%20%22fillColor%22%3A%20%22black%22%2C%20%22fillOpacity%22%3A%200.2%2C%20%22fillRule%22%3A%20%22evenodd%22%2C%20%22lineCap%22%3A%20%22round%22%2C%20%22lineJoin%22%3A%20%22round%22%2C%20%22opacity%22%3A%201.0%2C%20%22radius%22%3A%202.57001824901904%2C%20%22stroke%22%3A%20true%2C%20%22weight%22%3A%203%7D%0A%20%20%20%20%20%20%20%20%20%20%20%20%29.addTo%28map_32cccead184a40808fc661e404ec6e39%29%3B%0A%20%20%20%20%20%20%20%20%0A%20%20%20%20%0A%20%20%20%20%20%20%20%20var%20popup_67e25ba850b8409cbc116adbbfc0d9f1%20%3D%20L.popup%28%7B%22maxWidth%22%3A%20%22100%25%22%7D%29%3B%0A%0A%20%20%20%20%20%20%20%20%0A%20%20%20%20%20%20%20%20%20%20%20%20var%20html_ad540c363255422ca2f364419cc6b9f4%20%3D%20%24%28%60%3Cdiv%20id%3D%22html_ad540c363255422ca2f364419cc6b9f4%22%20style%3D%22width%3A%20100.0%25%3B%20height%3A%20100.0%25%3B%22%3EFrance%3C/div%3E%60%29%5B0%5D%3B%0A%20%20%20%20%20%20%20%20%20%20%20%20popup_67e25ba850b8409cbc116adbbfc0d9f1.setContent%28html_ad540c363255422ca2f364419cc6b9f4%29%3B%0A%20%20%20%20%20%20%20%20%0A%0A%20%20%20%20%20%20%20%20circle_marker_ef6f12d644614de2b891790ccf8fc51c.bindPopup%28popup_67e25ba850b8409cbc116adbbfc0d9f1%29%0A%20%20%20%20%20%20%20%20%3B%0A%0A%20%20%20%20%20%20%20%20%0A%20%20%20%20%0A%20%20%20%20%0A%20%20%20%20%20%20%20%20%20%20%20%20var%20circle_marker_3b87ed6b9b6f435d85e6478d84b77511%20%3D%20L.circleMarker%28%0A%20%20%20%20%20%20%20%20%20%20%20%20%20%20%20%20%5B6.924%2C%20158.162%5D%2C%0A%20%20%20%20%20%20%20%20%20%20%20%20%20%20%20%20%7B%22bubblingMouseEvents%22%3A%20true%2C%20%22color%22%3A%20%22%233388ff%22%2C%20%22dashArray%22%3A%20null%2C%20%22dashOffset%22%3A%20null%2C%20%22fill%22%3A%20true%2C%20%22fillColor%22%3A%20%22red%22%2C%20%22fillOpacity%22%3A%200.2%2C%20%22fillRule%22%3A%20%22evenodd%22%2C%20%22lineCap%22%3A%20%22round%22%2C%20%22lineJoin%22%3A%20%22round%22%2C%20%22opacity%22%3A%201.0%2C%20%22radius%22%3A%201.0101672302782327%2C%20%22stroke%22%3A%20true%2C%20%22weight%22%3A%203%7D%0A%20%20%20%20%20%20%20%20%20%20%20%20%29.addTo%28map_32cccead184a40808fc661e404ec6e39%29%3B%0A%20%20%20%20%20%20%20%20%0A%20%20%20%20%0A%20%20%20%20%20%20%20%20var%20popup_92ae8ffc29044c17bfad06da76b1ba10%20%3D%20L.popup%28%7B%22maxWidth%22%3A%20%22100%25%22%7D%29%3B%0A%0A%20%20%20%20%20%20%20%20%0A%20%20%20%20%20%20%20%20%20%20%20%20var%20html_aab4d0a6d8ba451190bbffd8791ee54f%20%3D%20%24%28%60%3Cdiv%20id%3D%22html_aab4d0a6d8ba451190bbffd8791ee54f%22%20style%3D%22width%3A%20100.0%25%3B%20height%3A%20100.0%25%3B%22%3EMicronesia%2C%20Fed.%20Sts.%3C/div%3E%60%29%5B0%5D%3B%0A%20%20%20%20%20%20%20%20%20%20%20%20popup_92ae8ffc29044c17bfad06da76b1ba10.setContent%28html_aab4d0a6d8ba451190bbffd8791ee54f%29%3B%0A%20%20%20%20%20%20%20%20%0A%0A%20%20%20%20%20%20%20%20circle_marker_3b87ed6b9b6f435d85e6478d84b77511.bindPopup%28popup_92ae8ffc29044c17bfad06da76b1ba10%29%0A%20%20%20%20%20%20%20%20%3B%0A%0A%20%20%20%20%20%20%20%20%0A%20%20%20%20%0A%20%20%20%20%0A%20%20%20%20%20%20%20%20%20%20%20%20var%20circle_marker_fe3d4a26cd19475db0bee5f53e62dada%20%3D%20L.circleMarker%28%0A%20%20%20%20%20%20%20%20%20%20%20%20%20%20%20%20%5B-1.0%2C%2011.75%5D%2C%0A%20%20%20%20%20%20%20%20%20%20%20%20%20%20%20%20%7B%22bubblingMouseEvents%22%3A%20true%2C%20%22color%22%3A%20%22%233388ff%22%2C%20%22dashArray%22%3A%20null%2C%20%22dashOffset%22%3A%20null%2C%20%22fill%22%3A%20true%2C%20%22fillColor%22%3A%20%22blue%22%2C%20%22fillOpacity%22%3A%200.2%2C%20%22fillRule%22%3A%20%22evenodd%22%2C%20%22lineCap%22%3A%20%22round%22%2C%20%22lineJoin%22%3A%20%22round%22%2C%20%22opacity%22%3A%201.0%2C%20%22radius%22%3A%201.7743739978493467%2C%20%22stroke%22%3A%20true%2C%20%22weight%22%3A%203%7D%0A%20%20%20%20%20%20%20%20%20%20%20%20%29.addTo%28map_32cccead184a40808fc661e404ec6e39%29%3B%0A%20%20%20%20%20%20%20%20%0A%20%20%20%20%0A%20%20%20%20%20%20%20%20var%20popup_9fba68b34fa542bb8bb4a3a8a4995f0a%20%3D%20L.popup%28%7B%22maxWidth%22%3A%20%22100%25%22%7D%29%3B%0A%0A%20%20%20%20%20%20%20%20%0A%20%20%20%20%20%20%20%20%20%20%20%20var%20html_3dd6c4f6f40442b9acedcc2dac4a287f%20%3D%20%24%28%60%3Cdiv%20id%3D%22html_3dd6c4f6f40442b9acedcc2dac4a287f%22%20style%3D%22width%3A%20100.0%25%3B%20height%3A%20100.0%25%3B%22%3EGabon%3C/div%3E%60%29%5B0%5D%3B%0A%20%20%20%20%20%20%20%20%20%20%20%20popup_9fba68b34fa542bb8bb4a3a8a4995f0a.setContent%28html_3dd6c4f6f40442b9acedcc2dac4a287f%29%3B%0A%20%20%20%20%20%20%20%20%0A%0A%20%20%20%20%20%20%20%20circle_marker_fe3d4a26cd19475db0bee5f53e62dada.bindPopup%28popup_9fba68b34fa542bb8bb4a3a8a4995f0a%29%0A%20%20%20%20%20%20%20%20%3B%0A%0A%20%20%20%20%20%20%20%20%0A%20%20%20%20%0A%20%20%20%20%0A%20%20%20%20%20%20%20%20%20%20%20%20var%20circle_marker_5bbf493055de49d582aed1a26fac50c5%20%3D%20L.circleMarker%28%0A%20%20%20%20%20%20%20%20%20%20%20%20%20%20%20%20%5B54.75844%2C%20-2.69531%5D%2C%0A%20%20%20%20%20%20%20%20%20%20%20%20%20%20%20%20%7B%22bubblingMouseEvents%22%3A%20true%2C%20%22color%22%3A%20%22%233388ff%22%2C%20%22dashArray%22%3A%20null%2C%20%22dashOffset%22%3A%20null%2C%20%22fill%22%3A%20true%2C%20%22fillColor%22%3A%20%22black%22%2C%20%22fillOpacity%22%3A%200.2%2C%20%22fillRule%22%3A%20%22evenodd%22%2C%20%22lineCap%22%3A%20%22round%22%2C%20%22lineJoin%22%3A%20%22round%22%2C%20%22opacity%22%3A%201.0%2C%20%22radius%22%3A%204.516844160364442%2C%20%22stroke%22%3A%20true%2C%20%22weight%22%3A%203%7D%0A%20%20%20%20%20%20%20%20%20%20%20%20%29.addTo%28map_32cccead184a40808fc661e404ec6e39%29%3B%0A%20%20%20%20%20%20%20%20%0A%20%20%20%20%0A%20%20%20%20%20%20%20%20var%20popup_3236895aae794995bcd0b438be000a81%20%3D%20L.popup%28%7B%22maxWidth%22%3A%20%22100%25%22%7D%29%3B%0A%0A%20%20%20%20%20%20%20%20%0A%20%20%20%20%20%20%20%20%20%20%20%20var%20html_d3f4f80dca474bda88450b102096b2c7%20%3D%20%24%28%60%3Cdiv%20id%3D%22html_d3f4f80dca474bda88450b102096b2c7%22%20style%3D%22width%3A%20100.0%25%3B%20height%3A%20100.0%25%3B%22%3EUnited%20Kingdom%3C/div%3E%60%29%5B0%5D%3B%0A%20%20%20%20%20%20%20%20%20%20%20%20popup_3236895aae794995bcd0b438be000a81.setContent%28html_d3f4f80dca474bda88450b102096b2c7%29%3B%0A%20%20%20%20%20%20%20%20%0A%0A%20%20%20%20%20%20%20%20circle_marker_5bbf493055de49d582aed1a26fac50c5.bindPopup%28popup_3236895aae794995bcd0b438be000a81%29%0A%20%20%20%20%20%20%20%20%3B%0A%0A%20%20%20%20%20%20%20%20%0A%20%20%20%20%0A%20%20%20%20%0A%20%20%20%20%20%20%20%20%20%20%20%20var%20circle_marker_bafe460927494d0b96ac6eacc951dde2%20%3D%20L.circleMarker%28%0A%20%20%20%20%20%20%20%20%20%20%20%20%20%20%20%20%5B41.99998%2C%2043.4999%5D%2C%0A%20%20%20%20%20%20%20%20%20%20%20%20%20%20%20%20%7B%22bubblingMouseEvents%22%3A%20true%2C%20%22color%22%3A%20%22%233388ff%22%2C%20%22dashArray%22%3A%20null%2C%20%22dashOffset%22%3A%20null%2C%20%22fill%22%3A%20true%2C%20%22fillColor%22%3A%20%22black%22%2C%20%22fillOpacity%22%3A%200.2%2C%20%22fillRule%22%3A%20%22evenodd%22%2C%20%22lineCap%22%3A%20%22round%22%2C%20%22lineJoin%22%3A%20%22round%22%2C%20%22opacity%22%3A%201.0%2C%20%22radius%22%3A%204.2953024311538215%2C%20%22stroke%22%3A%20true%2C%20%22weight%22%3A%203%7D%0A%20%20%20%20%20%20%20%20%20%20%20%20%29.addTo%28map_32cccead184a40808fc661e404ec6e39%29%3B%0A%20%20%20%20%20%20%20%20%0A%20%20%20%20%0A%20%20%20%20%20%20%20%20var%20popup_585b5024a9eb499f98c60784d435f1a5%20%3D%20L.popup%28%7B%22maxWidth%22%3A%20%22100%25%22%7D%29%3B%0A%0A%20%20%20%20%20%20%20%20%0A%20%20%20%20%20%20%20%20%20%20%20%20var%20html_cebca13c99b44abe88000f6c0254cfaf%20%3D%20%24%28%60%3Cdiv%20id%3D%22html_cebca13c99b44abe88000f6c0254cfaf%22%20style%3D%22width%3A%20100.0%25%3B%20height%3A%20100.0%25%3B%22%3EGeorgia%3C/div%3E%60%29%5B0%5D%3B%0A%20%20%20%20%20%20%20%20%20%20%20%20popup_585b5024a9eb499f98c60784d435f1a5.setContent%28html_cebca13c99b44abe88000f6c0254cfaf%29%3B%0A%20%20%20%20%20%20%20%20%0A%0A%20%20%20%20%20%20%20%20circle_marker_bafe460927494d0b96ac6eacc951dde2.bindPopup%28popup_585b5024a9eb499f98c60784d435f1a5%29%0A%20%20%20%20%20%20%20%20%3B%0A%0A%20%20%20%20%20%20%20%20%0A%20%20%20%20%0A%20%20%20%20%0A%20%20%20%20%20%20%20%20%20%20%20%20var%20circle_marker_19cfe7189fd746379ce2101909005199%20%3D%20L.circleMarker%28%0A%20%20%20%20%20%20%20%20%20%20%20%20%20%20%20%20%5B8.1%2C%20-1.2%5D%2C%0A%20%20%20%20%20%20%20%20%20%20%20%20%20%20%20%20%7B%22bubblingMouseEvents%22%3A%20true%2C%20%22color%22%3A%20%22%233388ff%22%2C%20%22dashArray%22%3A%20null%2C%20%22dashOffset%22%3A%20null%2C%20%22fill%22%3A%20true%2C%20%22fillColor%22%3A%20%22blue%22%2C%20%22fillOpacity%22%3A%200.2%2C%20%22fillRule%22%3A%20%22evenodd%22%2C%20%22lineCap%22%3A%20%22round%22%2C%20%22lineJoin%22%3A%20%22round%22%2C%20%22opacity%22%3A%201.0%2C%20%22radius%22%3A%2015.016869987417403%2C%20%22stroke%22%3A%20true%2C%20%22weight%22%3A%203%7D%0A%20%20%20%20%20%20%20%20%20%20%20%20%29.addTo%28map_32cccead184a40808fc661e404ec6e39%29%3B%0A%20%20%20%20%20%20%20%20%0A%20%20%20%20%0A%20%20%20%20%20%20%20%20var%20popup_5d355441825542b2a258ee56ac5074e1%20%3D%20L.popup%28%7B%22maxWidth%22%3A%20%22100%25%22%7D%29%3B%0A%0A%20%20%20%20%20%20%20%20%0A%20%20%20%20%20%20%20%20%20%20%20%20var%20html_2e8a918ffbce42aebae2369272eb085e%20%3D%20%24%28%60%3Cdiv%20id%3D%22html_2e8a918ffbce42aebae2369272eb085e%22%20style%3D%22width%3A%20100.0%25%3B%20height%3A%20100.0%25%3B%22%3EGhana%3C/div%3E%60%29%5B0%5D%3B%0A%20%20%20%20%20%20%20%20%20%20%20%20popup_5d355441825542b2a258ee56ac5074e1.setContent%28html_2e8a918ffbce42aebae2369272eb085e%29%3B%0A%20%20%20%20%20%20%20%20%0A%0A%20%20%20%20%20%20%20%20circle_marker_19cfe7189fd746379ce2101909005199.bindPopup%28popup_5d355441825542b2a258ee56ac5074e1%29%0A%20%20%20%20%20%20%20%20%3B%0A%0A%20%20%20%20%20%20%20%20%0A%20%20%20%20%0A%20%20%20%20%0A%20%20%20%20%20%20%20%20%20%20%20%20var%20circle_marker_44df924d3483424eac146d36a1b2b079%20%3D%20L.circleMarker%28%0A%20%20%20%20%20%20%20%20%20%20%20%20%20%20%20%20%5B10.83333%2C%20-10.66667%5D%2C%0A%20%20%20%20%20%20%20%20%20%20%20%20%20%20%20%20%7B%22bubblingMouseEvents%22%3A%20true%2C%20%22color%22%3A%20%22%233388ff%22%2C%20%22dashArray%22%3A%20null%2C%20%22dashOffset%22%3A%20null%2C%20%22fill%22%3A%20true%2C%20%22fillColor%22%3A%20%22blue%22%2C%20%22fillOpacity%22%3A%200.2%2C%20%22fillRule%22%3A%20%22evenodd%22%2C%20%22lineCap%22%3A%20%22round%22%2C%20%22lineJoin%22%3A%20%22round%22%2C%20%22opacity%22%3A%201.0%2C%20%22radius%22%3A%2011.514913134644747%2C%20%22stroke%22%3A%20true%2C%20%22weight%22%3A%203%7D%0A%20%20%20%20%20%20%20%20%20%20%20%20%29.addTo%28map_32cccead184a40808fc661e404ec6e39%29%3B%0A%20%20%20%20%20%20%20%20%0A%20%20%20%20%0A%20%20%20%20%20%20%20%20var%20popup_7eccd9c2495e489ca25b81ef3fd7b6de%20%3D%20L.popup%28%7B%22maxWidth%22%3A%20%22100%25%22%7D%29%3B%0A%0A%20%20%20%20%20%20%20%20%0A%20%20%20%20%20%20%20%20%20%20%20%20var%20html_3428d76bb1064828b37802b0c715381f%20%3D%20%24%28%60%3Cdiv%20id%3D%22html_3428d76bb1064828b37802b0c715381f%22%20style%3D%22width%3A%20100.0%25%3B%20height%3A%20100.0%25%3B%22%3EGuinea%3C/div%3E%60%29%5B0%5D%3B%0A%20%20%20%20%20%20%20%20%20%20%20%20popup_7eccd9c2495e489ca25b81ef3fd7b6de.setContent%28html_3428d76bb1064828b37802b0c715381f%29%3B%0A%20%20%20%20%20%20%20%20%0A%0A%20%20%20%20%20%20%20%20circle_marker_44df924d3483424eac146d36a1b2b079.bindPopup%28popup_7eccd9c2495e489ca25b81ef3fd7b6de%29%0A%20%20%20%20%20%20%20%20%3B%0A%0A%20%20%20%20%20%20%20%20%0A%20%20%20%20%0A%20%20%20%20%0A%20%20%20%20%20%20%20%20%20%20%20%20var%20circle_marker_4fef06ab79e541fe8951bee48ffc266a%20%3D%20L.circleMarker%28%0A%20%20%20%20%20%20%20%20%20%20%20%20%20%20%20%20%5B13.5%2C%20-15.5%5D%2C%0A%20%20%20%20%20%20%20%20%20%20%20%20%20%20%20%20%7B%22bubblingMouseEvents%22%3A%20true%2C%20%22color%22%3A%20%22%233388ff%22%2C%20%22dashArray%22%3A%20null%2C%20%22dashOffset%22%3A%20null%2C%20%22fill%22%3A%20true%2C%20%22fillColor%22%3A%20%22blue%22%2C%20%22fillOpacity%22%3A%200.2%2C%20%22fillRule%22%3A%20%22evenodd%22%2C%20%22lineCap%22%3A%20%22round%22%2C%20%22lineJoin%22%3A%20%22round%22%2C%20%22opacity%22%3A%201.0%2C%20%22radius%22%3A%204.381298115773378%2C%20%22stroke%22%3A%20true%2C%20%22weight%22%3A%203%7D%0A%20%20%20%20%20%20%20%20%20%20%20%20%29.addTo%28map_32cccead184a40808fc661e404ec6e39%29%3B%0A%20%20%20%20%20%20%20%20%0A%20%20%20%20%0A%20%20%20%20%20%20%20%20var%20popup_2233159a099148a88be58fe8a729cfc3%20%3D%20L.popup%28%7B%22maxWidth%22%3A%20%22100%25%22%7D%29%3B%0A%0A%20%20%20%20%20%20%20%20%0A%20%20%20%20%20%20%20%20%20%20%20%20var%20html_8115002437504468b8096fe685e50121%20%3D%20%24%28%60%3Cdiv%20id%3D%22html_8115002437504468b8096fe685e50121%22%20style%3D%22width%3A%20100.0%25%3B%20height%3A%20100.0%25%3B%22%3EGambia%3C/div%3E%60%29%5B0%5D%3B%0A%20%20%20%20%20%20%20%20%20%20%20%20popup_2233159a099148a88be58fe8a729cfc3.setContent%28html_8115002437504468b8096fe685e50121%29%3B%0A%20%20%20%20%20%20%20%20%0A%0A%20%20%20%20%20%20%20%20circle_marker_4fef06ab79e541fe8951bee48ffc266a.bindPopup%28popup_2233159a099148a88be58fe8a729cfc3%29%0A%20%20%20%20%20%20%20%20%3B%0A%0A%20%20%20%20%20%20%20%20%0A%20%20%20%20%0A%20%20%20%20%0A%20%20%20%20%20%20%20%20%20%20%20%20var%20circle_marker_f13a028c70a04e18b1b4ec8efbfe1349%20%3D%20L.circleMarker%28%0A%20%20%20%20%20%20%20%20%20%20%20%20%20%20%20%20%5B12.0%2C%20-15.0%5D%2C%0A%20%20%20%20%20%20%20%20%20%20%20%20%20%20%20%20%7B%22bubblingMouseEvents%22%3A%20true%2C%20%22color%22%3A%20%22%233388ff%22%2C%20%22dashArray%22%3A%20null%2C%20%22dashOffset%22%3A%20null%2C%20%22fill%22%3A%20true%2C%20%22fillColor%22%3A%20%22blue%22%2C%20%22fillOpacity%22%3A%200.2%2C%20%22fillRule%22%3A%20%22evenodd%22%2C%20%22lineCap%22%3A%20%22round%22%2C%20%22lineJoin%22%3A%20%22round%22%2C%20%22opacity%22%3A%201.0%2C%20%22radius%22%3A%204.868250000644995%2C%20%22stroke%22%3A%20true%2C%20%22weight%22%3A%203%7D%0A%20%20%20%20%20%20%20%20%20%20%20%20%29.addTo%28map_32cccead184a40808fc661e404ec6e39%29%3B%0A%20%20%20%20%20%20%20%20%0A%20%20%20%20%0A%20%20%20%20%20%20%20%20var%20popup_ead4db0fbaa2499584ef7d8836a459ff%20%3D%20L.popup%28%7B%22maxWidth%22%3A%20%22100%25%22%7D%29%3B%0A%0A%20%20%20%20%20%20%20%20%0A%20%20%20%20%20%20%20%20%20%20%20%20var%20html_f2698975830d4500a8aff4755616088d%20%3D%20%24%28%60%3Cdiv%20id%3D%22html_f2698975830d4500a8aff4755616088d%22%20style%3D%22width%3A%20100.0%25%3B%20height%3A%20100.0%25%3B%22%3EGuinea-Bissau%3C/div%3E%60%29%5B0%5D%3B%0A%20%20%20%20%20%20%20%20%20%20%20%20popup_ead4db0fbaa2499584ef7d8836a459ff.setContent%28html_f2698975830d4500a8aff4755616088d%29%3B%0A%20%20%20%20%20%20%20%20%0A%0A%20%20%20%20%20%20%20%20circle_marker_f13a028c70a04e18b1b4ec8efbfe1349.bindPopup%28popup_ead4db0fbaa2499584ef7d8836a459ff%29%0A%20%20%20%20%20%20%20%20%3B%0A%0A%20%20%20%20%20%20%20%20%0A%20%20%20%20%0A%20%20%20%20%0A%20%20%20%20%20%20%20%20%20%20%20%20var%20circle_marker_e28507b3713e4adf971c8140ad6df859%20%3D%20L.circleMarker%28%0A%20%20%20%20%20%20%20%20%20%20%20%20%20%20%20%20%5B39.0%2C%2022.0%5D%2C%0A%20%20%20%20%20%20%20%20%20%20%20%20%20%20%20%20%7B%22bubblingMouseEvents%22%3A%20true%2C%20%22color%22%3A%20%22%233388ff%22%2C%20%22dashArray%22%3A%20null%2C%20%22dashOffset%22%3A%20null%2C%20%22fill%22%3A%20true%2C%20%22fillColor%22%3A%20%22black%22%2C%20%22fillOpacity%22%3A%200.2%2C%20%22fillRule%22%3A%20%22evenodd%22%2C%20%22lineCap%22%3A%20%22round%22%2C%20%22lineJoin%22%3A%20%22round%22%2C%20%22opacity%22%3A%201.0%2C%20%22radius%22%3A%202.178977304449507%2C%20%22stroke%22%3A%20true%2C%20%22weight%22%3A%203%7D%0A%20%20%20%20%20%20%20%20%20%20%20%20%29.addTo%28map_32cccead184a40808fc661e404ec6e39%29%3B%0A%20%20%20%20%20%20%20%20%0A%20%20%20%20%0A%20%20%20%20%20%20%20%20var%20popup_728513685323424ba77a6154ca48da58%20%3D%20L.popup%28%7B%22maxWidth%22%3A%20%22100%25%22%7D%29%3B%0A%0A%20%20%20%20%20%20%20%20%0A%20%20%20%20%20%20%20%20%20%20%20%20var%20html_1f845acbd73847b2814d9521bb33ff72%20%3D%20%24%28%60%3Cdiv%20id%3D%22html_1f845acbd73847b2814d9521bb33ff72%22%20style%3D%22width%3A%20100.0%25%3B%20height%3A%20100.0%25%3B%22%3EGreece%3C/div%3E%60%29%5B0%5D%3B%0A%20%20%20%20%20%20%20%20%20%20%20%20popup_728513685323424ba77a6154ca48da58.setContent%28html_1f845acbd73847b2814d9521bb33ff72%29%3B%0A%20%20%20%20%20%20%20%20%0A%0A%20%20%20%20%20%20%20%20circle_marker_e28507b3713e4adf971c8140ad6df859.bindPopup%28popup_728513685323424ba77a6154ca48da58%29%0A%20%20%20%20%20%20%20%20%3B%0A%0A%20%20%20%20%20%20%20%20%0A%20%20%20%20%0A%20%20%20%20%0A%20%20%20%20%20%20%20%20%20%20%20%20var%20circle_marker_24008b354fb143a89a599a93f857780c%20%3D%20L.circleMarker%28%0A%20%20%20%20%20%20%20%20%20%20%20%20%20%20%20%20%5B14.64072%2C%20-90.51327%5D%2C%0A%20%20%20%20%20%20%20%20%20%20%20%20%20%20%20%20%7B%22bubblingMouseEvents%22%3A%20true%2C%20%22color%22%3A%20%22%233388ff%22%2C%20%22dashArray%22%3A%20null%2C%20%22dashOffset%22%3A%20null%2C%20%22fill%22%3A%20true%2C%20%22fillColor%22%3A%20%22green%22%2C%20%22fillOpacity%22%3A%200.2%2C%20%22fillRule%22%3A%20%22evenodd%22%2C%20%22lineCap%22%3A%20%22round%22%2C%20%22lineJoin%22%3A%20%22round%22%2C%20%22opacity%22%3A%201.0%2C%20%22radius%22%3A%207.987553755377376%2C%20%22stroke%22%3A%20true%2C%20%22weight%22%3A%203%7D%0A%20%20%20%20%20%20%20%20%20%20%20%20%29.addTo%28map_32cccead184a40808fc661e404ec6e39%29%3B%0A%20%20%20%20%20%20%20%20%0A%20%20%20%20%0A%20%20%20%20%20%20%20%20var%20popup_b3e7a5f8d8804c7bae79dec96afa7870%20%3D%20L.popup%28%7B%22maxWidth%22%3A%20%22100%25%22%7D%29%3B%0A%0A%20%20%20%20%20%20%20%20%0A%20%20%20%20%20%20%20%20%20%20%20%20var%20html_fdb9b3ae0b474c4dabc761e7167ca863%20%3D%20%24%28%60%3Cdiv%20id%3D%22html_fdb9b3ae0b474c4dabc761e7167ca863%22%20style%3D%22width%3A%20100.0%25%3B%20height%3A%20100.0%25%3B%22%3EGuatemala%3C/div%3E%60%29%5B0%5D%3B%0A%20%20%20%20%20%20%20%20%20%20%20%20popup_b3e7a5f8d8804c7bae79dec96afa7870.setContent%28html_fdb9b3ae0b474c4dabc761e7167ca863%29%3B%0A%20%20%20%20%20%20%20%20%0A%0A%20%20%20%20%20%20%20%20circle_marker_24008b354fb143a89a599a93f857780c.bindPopup%28popup_b3e7a5f8d8804c7bae79dec96afa7870%29%0A%20%20%20%20%20%20%20%20%3B%0A%0A%20%20%20%20%20%20%20%20%0A%20%20%20%20%0A%20%20%20%20%0A%20%20%20%20%20%20%20%20%20%20%20%20var%20circle_marker_cfd0dc44dc934abf9c55e0598b4b9ccc%20%3D%20L.circleMarker%28%0A%20%20%20%20%20%20%20%20%20%20%20%20%20%20%20%20%5B5.0%2C%20-59.0%5D%2C%0A%20%20%20%20%20%20%20%20%20%20%20%20%20%20%20%20%7B%22bubblingMouseEvents%22%3A%20true%2C%20%22color%22%3A%20%22%233388ff%22%2C%20%22dashArray%22%3A%20null%2C%20%22dashOffset%22%3A%20null%2C%20%22fill%22%3A%20true%2C%20%22fillColor%22%3A%20%22green%22%2C%20%22fillOpacity%22%3A%200.2%2C%20%22fillRule%22%3A%20%22evenodd%22%2C%20%22lineCap%22%3A%20%22round%22%2C%20%22lineJoin%22%3A%20%22round%22%2C%20%22opacity%22%3A%201.0%2C%20%22radius%22%3A%201.4406180819073164%2C%20%22stroke%22%3A%20true%2C%20%22weight%22%3A%203%7D%0A%20%20%20%20%20%20%20%20%20%20%20%20%29.addTo%28map_32cccead184a40808fc661e404ec6e39%29%3B%0A%20%20%20%20%20%20%20%20%0A%20%20%20%20%0A%20%20%20%20%20%20%20%20var%20popup_d10a1c3e0fb24e3fb894836081831455%20%3D%20L.popup%28%7B%22maxWidth%22%3A%20%22100%25%22%7D%29%3B%0A%0A%20%20%20%20%20%20%20%20%0A%20%20%20%20%20%20%20%20%20%20%20%20var%20html_4907443e505f45dc8e9a5435cc94122b%20%3D%20%24%28%60%3Cdiv%20id%3D%22html_4907443e505f45dc8e9a5435cc94122b%22%20style%3D%22width%3A%20100.0%25%3B%20height%3A%20100.0%25%3B%22%3EGuyana%3C/div%3E%60%29%5B0%5D%3B%0A%20%20%20%20%20%20%20%20%20%20%20%20popup_d10a1c3e0fb24e3fb894836081831455.setContent%28html_4907443e505f45dc8e9a5435cc94122b%29%3B%0A%20%20%20%20%20%20%20%20%0A%0A%20%20%20%20%20%20%20%20circle_marker_cfd0dc44dc934abf9c55e0598b4b9ccc.bindPopup%28popup_d10a1c3e0fb24e3fb894836081831455%29%0A%20%20%20%20%20%20%20%20%3B%0A%0A%20%20%20%20%20%20%20%20%0A%20%20%20%20%0A%20%20%20%20%0A%20%20%20%20%20%20%20%20%20%20%20%20var%20circle_marker_24d6621731a847edb591c8c571f7125e%20%3D%20L.circleMarker%28%0A%20%20%20%20%20%20%20%20%20%20%20%20%20%20%20%20%5B15.0%2C%20-86.5%5D%2C%0A%20%20%20%20%20%20%20%20%20%20%20%20%20%20%20%20%7B%22bubblingMouseEvents%22%3A%20true%2C%20%22color%22%3A%20%22%233388ff%22%2C%20%22dashArray%22%3A%20null%2C%20%22dashOffset%22%3A%20null%2C%20%22fill%22%3A%20true%2C%20%22fillColor%22%3A%20%22green%22%2C%20%22fillOpacity%22%3A%200.2%2C%20%22fillRule%22%3A%20%22evenodd%22%2C%20%22lineCap%22%3A%20%22round%22%2C%20%22lineJoin%22%3A%20%22round%22%2C%20%22opacity%22%3A%201.0%2C%20%22radius%22%3A%206.605402401670616%2C%20%22stroke%22%3A%20true%2C%20%22weight%22%3A%203%7D%0A%20%20%20%20%20%20%20%20%20%20%20%20%29.addTo%28map_32cccead184a40808fc661e404ec6e39%29%3B%0A%20%20%20%20%20%20%20%20%0A%20%20%20%20%0A%20%20%20%20%20%20%20%20var%20popup_a8f1b924ab7d4c529dbb9fed5bc1f786%20%3D%20L.popup%28%7B%22maxWidth%22%3A%20%22100%25%22%7D%29%3B%0A%0A%20%20%20%20%20%20%20%20%0A%20%20%20%20%20%20%20%20%20%20%20%20var%20html_957952725f3b43889768ac229b37a533%20%3D%20%24%28%60%3Cdiv%20id%3D%22html_957952725f3b43889768ac229b37a533%22%20style%3D%22width%3A%20100.0%25%3B%20height%3A%20100.0%25%3B%22%3EHonduras%3C/div%3E%60%29%5B0%5D%3B%0A%20%20%20%20%20%20%20%20%20%20%20%20popup_a8f1b924ab7d4c529dbb9fed5bc1f786.setContent%28html_957952725f3b43889768ac229b37a533%29%3B%0A%20%20%20%20%20%20%20%20%0A%0A%20%20%20%20%20%20%20%20circle_marker_24d6621731a847edb591c8c571f7125e.bindPopup%28popup_a8f1b924ab7d4c529dbb9fed5bc1f786%29%0A%20%20%20%20%20%20%20%20%3B%0A%0A%20%20%20%20%20%20%20%20%0A%20%20%20%20%0A%20%20%20%20%0A%20%20%20%20%20%20%20%20%20%20%20%20var%20circle_marker_a5744929ff8649c99e100b127dd38c8b%20%3D%20L.circleMarker%28%0A%20%20%20%20%20%20%20%20%20%20%20%20%20%20%20%20%5B45.16667%2C%2015.5%5D%2C%0A%20%20%20%20%20%20%20%20%20%20%20%20%20%20%20%20%7B%22bubblingMouseEvents%22%3A%20true%2C%20%22color%22%3A%20%22%233388ff%22%2C%20%22dashArray%22%3A%20null%2C%20%22dashOffset%22%3A%20null%2C%20%22fill%22%3A%20true%2C%20%22fillColor%22%3A%20%22black%22%2C%20%22fillOpacity%22%3A%200.2%2C%20%22fillRule%22%3A%20%22evenodd%22%2C%20%22lineCap%22%3A%20%22round%22%2C%20%22lineJoin%22%3A%20%22round%22%2C%20%22opacity%22%3A%201.0%2C%20%22stroke%22%3A%20true%2C%20%22weight%22%3A%203%7D%0A%20%20%20%20%20%20%20%20%20%20%20%20%29.addTo%28map_32cccead184a40808fc661e404ec6e39%29%3B%0A%20%20%20%20%20%20%20%20%0A%20%20%20%20%0A%20%20%20%20%20%20%20%20var%20popup_567e80f1f6b6434fa7202cb3075326f8%20%3D%20L.popup%28%7B%22maxWidth%22%3A%20%22100%25%22%7D%29%3B%0A%0A%20%20%20%20%20%20%20%20%0A%20%20%20%20%20%20%20%20%20%20%20%20var%20html_4602969aac124f50b34d0af5bcb69c76%20%3D%20%24%28%60%3Cdiv%20id%3D%22html_4602969aac124f50b34d0af5bcb69c76%22%20style%3D%22width%3A%20100.0%25%3B%20height%3A%20100.0%25%3B%22%3ECroatia%3C/div%3E%60%29%5B0%5D%3B%0A%20%20%20%20%20%20%20%20%20%20%20%20popup_567e80f1f6b6434fa7202cb3075326f8.setContent%28html_4602969aac124f50b34d0af5bcb69c76%29%3B%0A%20%20%20%20%20%20%20%20%0A%0A%20%20%20%20%20%20%20%20circle_marker_a5744929ff8649c99e100b127dd38c8b.bindPopup%28popup_567e80f1f6b6434fa7202cb3075326f8%29%0A%20%20%20%20%20%20%20%20%3B%0A%0A%20%20%20%20%20%20%20%20%0A%20%20%20%20%0A%20%20%20%20%0A%20%20%20%20%20%20%20%20%20%20%20%20var%20circle_marker_17505b1b52094d65a02d796bdd958e1a%20%3D%20L.circleMarker%28%0A%20%20%20%20%20%20%20%20%20%20%20%20%20%20%20%20%5B19.0%2C%20-72.41667%5D%2C%0A%20%20%20%20%20%20%20%20%20%20%20%20%20%20%20%20%7B%22bubblingMouseEvents%22%3A%20true%2C%20%22color%22%3A%20%22%233388ff%22%2C%20%22dashArray%22%3A%20null%2C%20%22dashOffset%22%3A%20null%2C%20%22fill%22%3A%20true%2C%20%22fillColor%22%3A%20%22green%22%2C%20%22fillOpacity%22%3A%200.2%2C%20%22fillRule%22%3A%20%22evenodd%22%2C%20%22lineCap%22%3A%20%22round%22%2C%20%22lineJoin%22%3A%20%22round%22%2C%20%22opacity%22%3A%201.0%2C%20%22radius%22%3A%2013.979752671774591%2C%20%22stroke%22%3A%20true%2C%20%22weight%22%3A%203%7D%0A%20%20%20%20%20%20%20%20%20%20%20%20%29.addTo%28map_32cccead184a40808fc661e404ec6e39%29%3B%0A%20%20%20%20%20%20%20%20%0A%20%20%20%20%0A%20%20%20%20%20%20%20%20var%20popup_85b1b760261346f29287c8c03dd07b4e%20%3D%20L.popup%28%7B%22maxWidth%22%3A%20%22100%25%22%7D%29%3B%0A%0A%20%20%20%20%20%20%20%20%0A%20%20%20%20%20%20%20%20%20%20%20%20var%20html_1ba5e05c746049f19b679404936ecfba%20%3D%20%24%28%60%3Cdiv%20id%3D%22html_1ba5e05c746049f19b679404936ecfba%22%20style%3D%22width%3A%20100.0%25%3B%20height%3A%20100.0%25%3B%22%3EHaiti%3C/div%3E%60%29%5B0%5D%3B%0A%20%20%20%20%20%20%20%20%20%20%20%20popup_85b1b760261346f29287c8c03dd07b4e.setContent%28html_1ba5e05c746049f19b679404936ecfba%29%3B%0A%20%20%20%20%20%20%20%20%0A%0A%20%20%20%20%20%20%20%20circle_marker_17505b1b52094d65a02d796bdd958e1a.bindPopup%28popup_85b1b760261346f29287c8c03dd07b4e%29%0A%20%20%20%20%20%20%20%20%3B%0A%0A%20%20%20%20%20%20%20%20%0A%20%20%20%20%0A%20%20%20%20%0A%20%20%20%20%20%20%20%20%20%20%20%20var%20circle_marker_a89442b941f34ee6a994d8622fedc58d%20%3D%20L.circleMarker%28%0A%20%20%20%20%20%20%20%20%20%20%20%20%20%20%20%20%5B47.0%2C%2020.0%5D%2C%0A%20%20%20%20%20%20%20%20%20%20%20%20%20%20%20%20%7B%22bubblingMouseEvents%22%3A%20true%2C%20%22color%22%3A%20%22%233388ff%22%2C%20%22dashArray%22%3A%20null%2C%20%22dashOffset%22%3A%20null%2C%20%22fill%22%3A%20true%2C%20%22fillColor%22%3A%20%22black%22%2C%20%22fillOpacity%22%3A%200.2%2C%20%22fillRule%22%3A%20%22evenodd%22%2C%20%22lineCap%22%3A%20%22round%22%2C%20%22lineJoin%22%3A%20%22round%22%2C%20%22opacity%22%3A%201.0%2C%20%22radius%22%3A%200.39750349369739346%2C%20%22stroke%22%3A%20true%2C%20%22weight%22%3A%203%7D%0A%20%20%20%20%20%20%20%20%20%20%20%20%29.addTo%28map_32cccead184a40808fc661e404ec6e39%29%3B%0A%20%20%20%20%20%20%20%20%0A%20%20%20%20%0A%20%20%20%20%20%20%20%20var%20popup_dc47631180e346cbb78d3cfe3af12319%20%3D%20L.popup%28%7B%22maxWidth%22%3A%20%22100%25%22%7D%29%3B%0A%0A%20%20%20%20%20%20%20%20%0A%20%20%20%20%20%20%20%20%20%20%20%20var%20html_40924691e47a4e699bd2f620ba7243b1%20%3D%20%24%28%60%3Cdiv%20id%3D%22html_40924691e47a4e699bd2f620ba7243b1%22%20style%3D%22width%3A%20100.0%25%3B%20height%3A%20100.0%25%3B%22%3EHungary%3C/div%3E%60%29%5B0%5D%3B%0A%20%20%20%20%20%20%20%20%20%20%20%20popup_dc47631180e346cbb78d3cfe3af12319.setContent%28html_40924691e47a4e699bd2f620ba7243b1%29%3B%0A%20%20%20%20%20%20%20%20%0A%0A%20%20%20%20%20%20%20%20circle_marker_a89442b941f34ee6a994d8622fedc58d.bindPopup%28popup_dc47631180e346cbb78d3cfe3af12319%29%0A%20%20%20%20%20%20%20%20%3B%0A%0A%20%20%20%20%20%20%20%20%0A%20%20%20%20%0A%20%20%20%20%0A%20%20%20%20%20%20%20%20%20%20%20%20var%20circle_marker_2978268ab2784b07b90038b42e8d9fdb%20%3D%20L.circleMarker%28%0A%20%20%20%20%20%20%20%20%20%20%20%20%20%20%20%20%5B-5.0%2C%20120.0%5D%2C%0A%20%20%20%20%20%20%20%20%20%20%20%20%20%20%20%20%7B%22bubblingMouseEvents%22%3A%20true%2C%20%22color%22%3A%20%22%233388ff%22%2C%20%22dashArray%22%3A%20null%2C%20%22dashOffset%22%3A%20null%2C%20%22fill%22%3A%20true%2C%20%22fillColor%22%3A%20%22red%22%2C%20%22fillOpacity%22%3A%200.2%2C%20%22fillRule%22%3A%20%22evenodd%22%2C%20%22lineCap%22%3A%20%22round%22%2C%20%22lineJoin%22%3A%20%22round%22%2C%20%22opacity%22%3A%201.0%2C%20%22radius%22%3A%2035.313556272281424%2C%20%22stroke%22%3A%20true%2C%20%22weight%22%3A%203%7D%0A%20%20%20%20%20%20%20%20%20%20%20%20%29.addTo%28map_32cccead184a40808fc661e404ec6e39%29%3B%0A%20%20%20%20%20%20%20%20%0A%20%20%20%20%0A%20%20%20%20%20%20%20%20var%20popup_d50f6ec951ba40bcb958facf0a13aa78%20%3D%20L.popup%28%7B%22maxWidth%22%3A%20%22100%25%22%7D%29%3B%0A%0A%20%20%20%20%20%20%20%20%0A%20%20%20%20%20%20%20%20%20%20%20%20var%20html_3e55db99dbd6450cae45bc333db7174b%20%3D%20%24%28%60%3Cdiv%20id%3D%22html_3e55db99dbd6450cae45bc333db7174b%22%20style%3D%22width%3A%20100.0%25%3B%20height%3A%20100.0%25%3B%22%3EIndonesia%3C/div%3E%60%29%5B0%5D%3B%0A%20%20%20%20%20%20%20%20%20%20%20%20popup_d50f6ec951ba40bcb958facf0a13aa78.setContent%28html_3e55db99dbd6450cae45bc333db7174b%29%3B%0A%20%20%20%20%20%20%20%20%0A%0A%20%20%20%20%20%20%20%20circle_marker_2978268ab2784b07b90038b42e8d9fdb.bindPopup%28popup_d50f6ec951ba40bcb958facf0a13aa78%29%0A%20%20%20%20%20%20%20%20%3B%0A%0A%20%20%20%20%20%20%20%20%0A%20%20%20%20%0A%20%20%20%20%0A%20%20%20%20%20%20%20%20%20%20%20%20var%20circle_marker_1dd470107dea4039b40e721d941ad04d%20%3D%20L.circleMarker%28%0A%20%20%20%20%20%20%20%20%20%20%20%20%20%20%20%20%5B22.0%2C%2079.0%5D%2C%0A%20%20%20%20%20%20%20%20%20%20%20%20%20%20%20%20%7B%22bubblingMouseEvents%22%3A%20true%2C%20%22color%22%3A%20%22%233388ff%22%2C%20%22dashArray%22%3A%20null%2C%20%22dashOffset%22%3A%20null%2C%20%22fill%22%3A%20true%2C%20%22fillColor%22%3A%20%22red%22%2C%20%22fillOpacity%22%3A%200.2%2C%20%22fillRule%22%3A%20%22evenodd%22%2C%20%22lineCap%22%3A%20%22round%22%2C%20%22lineJoin%22%3A%20%22round%22%2C%20%22opacity%22%3A%201.0%2C%20%22radius%22%3A%2096.35271911284168%2C%20%22stroke%22%3A%20true%2C%20%22weight%22%3A%203%7D%0A%20%20%20%20%20%20%20%20%20%20%20%20%29.addTo%28map_32cccead184a40808fc661e404ec6e39%29%3B%0A%20%20%20%20%20%20%20%20%0A%20%20%20%20%0A%20%20%20%20%20%20%20%20var%20popup_834b49e8ea854bcf93ec2da1190b59f8%20%3D%20L.popup%28%7B%22maxWidth%22%3A%20%22100%25%22%7D%29%3B%0A%0A%20%20%20%20%20%20%20%20%0A%20%20%20%20%20%20%20%20%20%20%20%20var%20html_55d6c670fde94dfe9eb6d8d05f790c7a%20%3D%20%24%28%60%3Cdiv%20id%3D%22html_55d6c670fde94dfe9eb6d8d05f790c7a%22%20style%3D%22width%3A%20100.0%25%3B%20height%3A%20100.0%25%3B%22%3EIndia%3C/div%3E%60%29%5B0%5D%3B%0A%20%20%20%20%20%20%20%20%20%20%20%20popup_834b49e8ea854bcf93ec2da1190b59f8.setContent%28html_55d6c670fde94dfe9eb6d8d05f790c7a%29%3B%0A%20%20%20%20%20%20%20%20%0A%0A%20%20%20%20%20%20%20%20circle_marker_1dd470107dea4039b40e721d941ad04d.bindPopup%28popup_834b49e8ea854bcf93ec2da1190b59f8%29%0A%20%20%20%20%20%20%20%20%3B%0A%0A%20%20%20%20%20%20%20%20%0A%20%20%20%20%0A%20%20%20%20%0A%20%20%20%20%20%20%20%20%20%20%20%20var%20circle_marker_f61215e3b6244738898ea148330ab20d%20%3D%20L.circleMarker%28%0A%20%20%20%20%20%20%20%20%20%20%20%20%20%20%20%20%5B53.0%2C%20-8.0%5D%2C%0A%20%20%20%20%20%20%20%20%20%20%20%20%20%20%20%20%7B%22bubblingMouseEvents%22%3A%20true%2C%20%22color%22%3A%20%22%233388ff%22%2C%20%22dashArray%22%3A%20null%2C%20%22dashOffset%22%3A%20null%2C%20%22fill%22%3A%20true%2C%20%22fillColor%22%3A%20%22black%22%2C%20%22fillOpacity%22%3A%200.2%2C%20%22fillRule%22%3A%20%22evenodd%22%2C%20%22lineCap%22%3A%20%22round%22%2C%20%22lineJoin%22%3A%20%22round%22%2C%20%22opacity%22%3A%201.0%2C%20%22radius%22%3A%200.7224270824013612%2C%20%22stroke%22%3A%20true%2C%20%22weight%22%3A%203%7D%0A%20%20%20%20%20%20%20%20%20%20%20%20%29.addTo%28map_32cccead184a40808fc661e404ec6e39%29%3B%0A%20%20%20%20%20%20%20%20%0A%20%20%20%20%0A%20%20%20%20%20%20%20%20var%20popup_723fbbe3c1fc4c3aabb5f81b7221f2ca%20%3D%20L.popup%28%7B%22maxWidth%22%3A%20%22100%25%22%7D%29%3B%0A%0A%20%20%20%20%20%20%20%20%0A%20%20%20%20%20%20%20%20%20%20%20%20var%20html_10be0264100f4b4d88f3a8f9f424125e%20%3D%20%24%28%60%3Cdiv%20id%3D%22html_10be0264100f4b4d88f3a8f9f424125e%22%20style%3D%22width%3A%20100.0%25%3B%20height%3A%20100.0%25%3B%22%3EIreland%3C/div%3E%60%29%5B0%5D%3B%0A%20%20%20%20%20%20%20%20%20%20%20%20popup_723fbbe3c1fc4c3aabb5f81b7221f2ca.setContent%28html_10be0264100f4b4d88f3a8f9f424125e%29%3B%0A%20%20%20%20%20%20%20%20%0A%0A%20%20%20%20%20%20%20%20circle_marker_f61215e3b6244738898ea148330ab20d.bindPopup%28popup_723fbbe3c1fc4c3aabb5f81b7221f2ca%29%0A%20%20%20%20%20%20%20%20%3B%0A%0A%20%20%20%20%20%20%20%20%0A%20%20%20%20%0A%20%20%20%20%0A%20%20%20%20%20%20%20%20%20%20%20%20var%20circle_marker_9172af67839f4725b1a791f5367423ef%20%3D%20L.circleMarker%28%0A%20%20%20%20%20%20%20%20%20%20%20%20%20%20%20%20%5B32.0%2C%2053.0%5D%2C%0A%20%20%20%20%20%20%20%20%20%20%20%20%20%20%20%20%7B%22bubblingMouseEvents%22%3A%20true%2C%20%22color%22%3A%20%22%233388ff%22%2C%20%22dashArray%22%3A%20null%2C%20%22dashOffset%22%3A%20null%2C%20%22fill%22%3A%20true%2C%20%22fillColor%22%3A%20%22red%22%2C%20%22fillOpacity%22%3A%200.2%2C%20%22fillRule%22%3A%20%22evenodd%22%2C%20%22lineCap%22%3A%20%22round%22%2C%20%22lineJoin%22%3A%20%22round%22%2C%20%22opacity%22%3A%201.0%2C%20%22radius%22%3A%205.834814195302852%2C%20%22stroke%22%3A%20true%2C%20%22weight%22%3A%203%7D%0A%20%20%20%20%20%20%20%20%20%20%20%20%29.addTo%28map_32cccead184a40808fc661e404ec6e39%29%3B%0A%20%20%20%20%20%20%20%20%0A%20%20%20%20%0A%20%20%20%20%20%20%20%20var%20popup_281c6fea9e684bd2a74a7cc86f27463b%20%3D%20L.popup%28%7B%22maxWidth%22%3A%20%22100%25%22%7D%29%3B%0A%0A%20%20%20%20%20%20%20%20%0A%20%20%20%20%20%20%20%20%20%20%20%20var%20html_ff8f28c9bb7e404b8b60d8a523db3972%20%3D%20%24%28%60%3Cdiv%20id%3D%22html_ff8f28c9bb7e404b8b60d8a523db3972%22%20style%3D%22width%3A%20100.0%25%3B%20height%3A%20100.0%25%3B%22%3EIran%3C/div%3E%60%29%5B0%5D%3B%0A%20%20%20%20%20%20%20%20%20%20%20%20popup_281c6fea9e684bd2a74a7cc86f27463b.setContent%28html_ff8f28c9bb7e404b8b60d8a523db3972%29%3B%0A%20%20%20%20%20%20%20%20%0A%0A%20%20%20%20%20%20%20%20circle_marker_9172af67839f4725b1a791f5367423ef.bindPopup%28popup_281c6fea9e684bd2a74a7cc86f27463b%29%0A%20%20%20%20%20%20%20%20%3B%0A%0A%20%20%20%20%20%20%20%20%0A%20%20%20%20%0A%20%20%20%20%0A%20%20%20%20%20%20%20%20%20%20%20%20var%20circle_marker_dfc9887433ef465b98d1b524387e701f%20%3D%20L.circleMarker%28%0A%20%20%20%20%20%20%20%20%20%20%20%20%20%20%20%20%5B33.0%2C%2044.0%5D%2C%0A%20%20%20%20%20%20%20%20%20%20%20%20%20%20%20%20%7B%22bubblingMouseEvents%22%3A%20true%2C%20%22color%22%3A%20%22%233388ff%22%2C%20%22dashArray%22%3A%20null%2C%20%22dashOffset%22%3A%20null%2C%20%22fill%22%3A%20true%2C%20%22fillColor%22%3A%20%22red%22%2C%20%22fillOpacity%22%3A%200.2%2C%20%22fillRule%22%3A%20%22evenodd%22%2C%20%22lineCap%22%3A%20%22round%22%2C%20%22lineJoin%22%3A%20%22round%22%2C%20%22opacity%22%3A%201.0%2C%20%22radius%22%3A%206.084127448138132%2C%20%22stroke%22%3A%20true%2C%20%22weight%22%3A%203%7D%0A%20%20%20%20%20%20%20%20%20%20%20%20%29.addTo%28map_32cccead184a40808fc661e404ec6e39%29%3B%0A%20%20%20%20%20%20%20%20%0A%20%20%20%20%0A%20%20%20%20%20%20%20%20var%20popup_a108977acb56435aa90f70560a7b848c%20%3D%20L.popup%28%7B%22maxWidth%22%3A%20%22100%25%22%7D%29%3B%0A%0A%20%20%20%20%20%20%20%20%0A%20%20%20%20%20%20%20%20%20%20%20%20var%20html_1ad9fd80dd6c444aafdd11ec1c4861dd%20%3D%20%24%28%60%3Cdiv%20id%3D%22html_1ad9fd80dd6c444aafdd11ec1c4861dd%22%20style%3D%22width%3A%20100.0%25%3B%20height%3A%20100.0%25%3B%22%3EIraq%3C/div%3E%60%29%5B0%5D%3B%0A%20%20%20%20%20%20%20%20%20%20%20%20popup_a108977acb56435aa90f70560a7b848c.setContent%28html_1ad9fd80dd6c444aafdd11ec1c4861dd%29%3B%0A%20%20%20%20%20%20%20%20%0A%0A%20%20%20%20%20%20%20%20circle_marker_dfc9887433ef465b98d1b524387e701f.bindPopup%28popup_a108977acb56435aa90f70560a7b848c%29%0A%20%20%20%20%20%20%20%20%3B%0A%0A%20%20%20%20%20%20%20%20%0A%20%20%20%20%0A%20%20%20%20%0A%20%20%20%20%20%20%20%20%20%20%20%20var%20circle_marker_ef9f70fd83f546e6b68149d0a6fbbfc5%20%3D%20L.circleMarker%28%0A%20%20%20%20%20%20%20%20%20%20%20%20%20%20%20%20%5B31.5%2C%2034.75%5D%2C%0A%20%20%20%20%20%20%20%20%20%20%20%20%20%20%20%20%7B%22bubblingMouseEvents%22%3A%20true%2C%20%22color%22%3A%20%22%233388ff%22%2C%20%22dashArray%22%3A%20null%2C%20%22dashOffset%22%3A%20null%2C%20%22fill%22%3A%20true%2C%20%22fillColor%22%3A%20%22red%22%2C%20%22fillOpacity%22%3A%200.2%2C%20%22fillRule%22%3A%20%22evenodd%22%2C%20%22lineCap%22%3A%20%22round%22%2C%20%22lineJoin%22%3A%20%22round%22%2C%20%22opacity%22%3A%201.0%2C%20%22radius%22%3A%200.9549814945354589%2C%20%22stroke%22%3A%20true%2C%20%22weight%22%3A%203%7D%0A%20%20%20%20%20%20%20%20%20%20%20%20%29.addTo%28map_32cccead184a40808fc661e404ec6e39%29%3B%0A%20%20%20%20%20%20%20%20%0A%20%20%20%20%0A%20%20%20%20%20%20%20%20var%20popup_f3f69e31e0144d97b84c3e62ce7a405c%20%3D%20L.popup%28%7B%22maxWidth%22%3A%20%22100%25%22%7D%29%3B%0A%0A%20%20%20%20%20%20%20%20%0A%20%20%20%20%20%20%20%20%20%20%20%20var%20html_057b18297a4649a491bc79ad935907eb%20%3D%20%24%28%60%3Cdiv%20id%3D%22html_057b18297a4649a491bc79ad935907eb%22%20style%3D%22width%3A%20100.0%25%3B%20height%3A%20100.0%25%3B%22%3EIsrael%3C/div%3E%60%29%5B0%5D%3B%0A%20%20%20%20%20%20%20%20%20%20%20%20popup_f3f69e31e0144d97b84c3e62ce7a405c.setContent%28html_057b18297a4649a491bc79ad935907eb%29%3B%0A%20%20%20%20%20%20%20%20%0A%0A%20%20%20%20%20%20%20%20circle_marker_ef9f70fd83f546e6b68149d0a6fbbfc5.bindPopup%28popup_f3f69e31e0144d97b84c3e62ce7a405c%29%0A%20%20%20%20%20%20%20%20%3B%0A%0A%20%20%20%20%20%20%20%20%0A%20%20%20%20%0A%20%20%20%20%0A%20%20%20%20%20%20%20%20%20%20%20%20var%20circle_marker_3893e623438f4e63b8c3c57f0a752a86%20%3D%20L.circleMarker%28%0A%20%20%20%20%20%20%20%20%20%20%20%20%20%20%20%20%5B42.83333%2C%2012.83333%5D%2C%0A%20%20%20%20%20%20%20%20%20%20%20%20%20%20%20%20%7B%22bubblingMouseEvents%22%3A%20true%2C%20%22color%22%3A%20%22%233388ff%22%2C%20%22dashArray%22%3A%20null%2C%20%22dashOffset%22%3A%20null%2C%20%22fill%22%3A%20true%2C%20%22fillColor%22%3A%20%22black%22%2C%20%22fillOpacity%22%3A%200.2%2C%20%22fillRule%22%3A%20%22evenodd%22%2C%20%22lineCap%22%3A%20%22round%22%2C%20%22lineJoin%22%3A%20%22round%22%2C%20%22opacity%22%3A%201.0%2C%20%22radius%22%3A%205.049074400874107%2C%20%22stroke%22%3A%20true%2C%20%22weight%22%3A%203%7D%0A%20%20%20%20%20%20%20%20%20%20%20%20%29.addTo%28map_32cccead184a40808fc661e404ec6e39%29%3B%0A%20%20%20%20%20%20%20%20%0A%20%20%20%20%0A%20%20%20%20%20%20%20%20var%20popup_1c3fe9007aff41acadba54ae1718cd3d%20%3D%20L.popup%28%7B%22maxWidth%22%3A%20%22100%25%22%7D%29%3B%0A%0A%20%20%20%20%20%20%20%20%0A%20%20%20%20%20%20%20%20%20%20%20%20var%20html_b6e428e66c2949f0b4aabb626f8b739b%20%3D%20%24%28%60%3Cdiv%20id%3D%22html_b6e428e66c2949f0b4aabb626f8b739b%22%20style%3D%22width%3A%20100.0%25%3B%20height%3A%20100.0%25%3B%22%3EItaly%3C/div%3E%60%29%5B0%5D%3B%0A%20%20%20%20%20%20%20%20%20%20%20%20popup_1c3fe9007aff41acadba54ae1718cd3d.setContent%28html_b6e428e66c2949f0b4aabb626f8b739b%29%3B%0A%20%20%20%20%20%20%20%20%0A%0A%20%20%20%20%20%20%20%20circle_marker_3893e623438f4e63b8c3c57f0a752a86.bindPopup%28popup_1c3fe9007aff41acadba54ae1718cd3d%29%0A%20%20%20%20%20%20%20%20%3B%0A%0A%20%20%20%20%20%20%20%20%0A%20%20%20%20%0A%20%20%20%20%0A%20%20%20%20%20%20%20%20%20%20%20%20var%20circle_marker_eeb090ac467b45e8a3998714984aa312%20%3D%20L.circleMarker%28%0A%20%20%20%20%20%20%20%20%20%20%20%20%20%20%20%20%5B18.16667%2C%20-77.25%5D%2C%0A%20%20%20%20%20%20%20%20%20%20%20%20%20%20%20%20%7B%22bubblingMouseEvents%22%3A%20true%2C%20%22color%22%3A%20%22%233388ff%22%2C%20%22dashArray%22%3A%20null%2C%20%22dashOffset%22%3A%20null%2C%20%22fill%22%3A%20true%2C%20%22fillColor%22%3A%20%22green%22%2C%20%22fillOpacity%22%3A%200.2%2C%20%22fillRule%22%3A%20%22evenodd%22%2C%20%22lineCap%22%3A%20%22round%22%2C%20%22lineJoin%22%3A%20%22round%22%2C%20%22opacity%22%3A%201.0%2C%20%22radius%22%3A%200.4633573332008104%2C%20%22stroke%22%3A%20true%2C%20%22weight%22%3A%203%7D%0A%20%20%20%20%20%20%20%20%20%20%20%20%29.addTo%28map_32cccead184a40808fc661e404ec6e39%29%3B%0A%20%20%20%20%20%20%20%20%0A%20%20%20%20%0A%20%20%20%20%20%20%20%20var%20popup_eb6baad098394fdba875179cfd1c2c15%20%3D%20L.popup%28%7B%22maxWidth%22%3A%20%22100%25%22%7D%29%3B%0A%0A%20%20%20%20%20%20%20%20%0A%20%20%20%20%20%20%20%20%20%20%20%20var%20html_e49b0952241e4e0b96ab39c0848b7330%20%3D%20%24%28%60%3Cdiv%20id%3D%22html_e49b0952241e4e0b96ab39c0848b7330%22%20style%3D%22width%3A%20100.0%25%3B%20height%3A%20100.0%25%3B%22%3EJamaica%3C/div%3E%60%29%5B0%5D%3B%0A%20%20%20%20%20%20%20%20%20%20%20%20popup_eb6baad098394fdba875179cfd1c2c15.setContent%28html_e49b0952241e4e0b96ab39c0848b7330%29%3B%0A%20%20%20%20%20%20%20%20%0A%0A%20%20%20%20%20%20%20%20circle_marker_eeb090ac467b45e8a3998714984aa312.bindPopup%28popup_eb6baad098394fdba875179cfd1c2c15%29%0A%20%20%20%20%20%20%20%20%3B%0A%0A%20%20%20%20%20%20%20%20%0A%20%20%20%20%0A%20%20%20%20%0A%20%20%20%20%20%20%20%20%20%20%20%20var%20circle_marker_cd5856bda8874ab880a187c6d869045f%20%3D%20L.circleMarker%28%0A%20%20%20%20%20%20%20%20%20%20%20%20%20%20%20%20%5B31.0%2C%2036.0%5D%2C%0A%20%20%20%20%20%20%20%20%20%20%20%20%20%20%20%20%7B%22bubblingMouseEvents%22%3A%20true%2C%20%22color%22%3A%20%22%233388ff%22%2C%20%22dashArray%22%3A%20null%2C%20%22dashOffset%22%3A%20null%2C%20%22fill%22%3A%20true%2C%20%22fillColor%22%3A%20%22red%22%2C%20%22fillOpacity%22%3A%200.2%2C%20%22fillRule%22%3A%20%22evenodd%22%2C%20%22lineCap%22%3A%20%22round%22%2C%20%22lineJoin%22%3A%20%22round%22%2C%20%22opacity%22%3A%201.0%2C%20%22radius%22%3A%200.4300072242232263%2C%20%22stroke%22%3A%20true%2C%20%22weight%22%3A%203%7D%0A%20%20%20%20%20%20%20%20%20%20%20%20%29.addTo%28map_32cccead184a40808fc661e404ec6e39%29%3B%0A%20%20%20%20%20%20%20%20%0A%20%20%20%20%0A%20%20%20%20%20%20%20%20var%20popup_900848d90ee044e4bfd42e2af6b14973%20%3D%20L.popup%28%7B%22maxWidth%22%3A%20%22100%25%22%7D%29%3B%0A%0A%20%20%20%20%20%20%20%20%0A%20%20%20%20%20%20%20%20%20%20%20%20var%20html_095329c0fc994ecb83bc236ee03de33e%20%3D%20%24%28%60%3Cdiv%20id%3D%22html_095329c0fc994ecb83bc236ee03de33e%22%20style%3D%22width%3A%20100.0%25%3B%20height%3A%20100.0%25%3B%22%3EJordan%3C/div%3E%60%29%5B0%5D%3B%0A%20%20%20%20%20%20%20%20%20%20%20%20popup_900848d90ee044e4bfd42e2af6b14973.setContent%28html_095329c0fc994ecb83bc236ee03de33e%29%3B%0A%20%20%20%20%20%20%20%20%0A%0A%20%20%20%20%20%20%20%20circle_marker_cd5856bda8874ab880a187c6d869045f.bindPopup%28popup_900848d90ee044e4bfd42e2af6b14973%29%0A%20%20%20%20%20%20%20%20%3B%0A%0A%20%20%20%20%20%20%20%20%0A%20%20%20%20%0A%20%20%20%20%0A%20%20%20%20%20%20%20%20%20%20%20%20var%20circle_marker_8f0cffe4154a4094bff67fbd42c3406d%20%3D%20L.circleMarker%28%0A%20%20%20%20%20%20%20%20%20%20%20%20%20%20%20%20%5B35.68536%2C%20139.75309%5D%2C%0A%20%20%20%20%20%20%20%20%20%20%20%20%20%20%20%20%7B%22bubblingMouseEvents%22%3A%20true%2C%20%22color%22%3A%20%22%233388ff%22%2C%20%22dashArray%22%3A%20null%2C%20%22dashOffset%22%3A%20null%2C%20%22fill%22%3A%20true%2C%20%22fillColor%22%3A%20%22red%22%2C%20%22fillOpacity%22%3A%200.2%2C%20%22fillRule%22%3A%20%22evenodd%22%2C%20%22lineCap%22%3A%20%22round%22%2C%20%22lineJoin%22%3A%20%22round%22%2C%20%22opacity%22%3A%201.0%2C%20%22radius%22%3A%203.784269826192565%2C%20%22stroke%22%3A%20true%2C%20%22weight%22%3A%203%7D%0A%20%20%20%20%20%20%20%20%20%20%20%20%29.addTo%28map_32cccead184a40808fc661e404ec6e39%29%3B%0A%20%20%20%20%20%20%20%20%0A%20%20%20%20%0A%20%20%20%20%20%20%20%20var%20popup_19b0589c847044b99282cd34da1735bc%20%3D%20L.popup%28%7B%22maxWidth%22%3A%20%22100%25%22%7D%29%3B%0A%0A%20%20%20%20%20%20%20%20%0A%20%20%20%20%20%20%20%20%20%20%20%20var%20html_2eaca58f15a44ca19e1ad27ec2657220%20%3D%20%24%28%60%3Cdiv%20id%3D%22html_2eaca58f15a44ca19e1ad27ec2657220%22%20style%3D%22width%3A%20100.0%25%3B%20height%3A%20100.0%25%3B%22%3EJapan%3C/div%3E%60%29%5B0%5D%3B%0A%20%20%20%20%20%20%20%20%20%20%20%20popup_19b0589c847044b99282cd34da1735bc.setContent%28html_2eaca58f15a44ca19e1ad27ec2657220%29%3B%0A%20%20%20%20%20%20%20%20%0A%0A%20%20%20%20%20%20%20%20circle_marker_8f0cffe4154a4094bff67fbd42c3406d.bindPopup%28popup_19b0589c847044b99282cd34da1735bc%29%0A%20%20%20%20%20%20%20%20%3B%0A%0A%20%20%20%20%20%20%20%20%0A%20%20%20%20%0A%20%20%20%20%0A%20%20%20%20%20%20%20%20%20%20%20%20var%20circle_marker_3cc3416a0134427d8738f4123ffdeb1c%20%3D%20L.circleMarker%28%0A%20%20%20%20%20%20%20%20%20%20%20%20%20%20%20%20%5B48.0%2C%2068.0%5D%2C%0A%20%20%20%20%20%20%20%20%20%20%20%20%20%20%20%20%7B%22bubblingMouseEvents%22%3A%20true%2C%20%22color%22%3A%20%22%233388ff%22%2C%20%22dashArray%22%3A%20null%2C%20%22dashOffset%22%3A%20null%2C%20%22fill%22%3A%20true%2C%20%22fillColor%22%3A%20%22red%22%2C%20%22fillOpacity%22%3A%200.2%2C%20%22fillRule%22%3A%20%22evenodd%22%2C%20%22lineCap%22%3A%20%22round%22%2C%20%22lineJoin%22%3A%20%22round%22%2C%20%22opacity%22%3A%201.0%2C%20%22radius%22%3A%200.5571211448310092%2C%20%22stroke%22%3A%20true%2C%20%22weight%22%3A%203%7D%0A%20%20%20%20%20%20%20%20%20%20%20%20%29.addTo%28map_32cccead184a40808fc661e404ec6e39%29%3B%0A%20%20%20%20%20%20%20%20%0A%20%20%20%20%0A%20%20%20%20%20%20%20%20var%20popup_4dd583cc12754953bfe3da50aa97ec83%20%3D%20L.popup%28%7B%22maxWidth%22%3A%20%22100%25%22%7D%29%3B%0A%0A%20%20%20%20%20%20%20%20%0A%20%20%20%20%20%20%20%20%20%20%20%20var%20html_df498bc29634422b82c7312061fe00cb%20%3D%20%24%28%60%3Cdiv%20id%3D%22html_df498bc29634422b82c7312061fe00cb%22%20style%3D%22width%3A%20100.0%25%3B%20height%3A%20100.0%25%3B%22%3EKazakhstan%3C/div%3E%60%29%5B0%5D%3B%0A%20%20%20%20%20%20%20%20%20%20%20%20popup_4dd583cc12754953bfe3da50aa97ec83.setContent%28html_df498bc29634422b82c7312061fe00cb%29%3B%0A%20%20%20%20%20%20%20%20%0A%0A%20%20%20%20%20%20%20%20circle_marker_3cc3416a0134427d8738f4123ffdeb1c.bindPopup%28popup_4dd583cc12754953bfe3da50aa97ec83%29%0A%20%20%20%20%20%20%20%20%3B%0A%0A%20%20%20%20%20%20%20%20%0A%20%20%20%20%0A%20%20%20%20%0A%20%20%20%20%20%20%20%20%20%20%20%20var%20circle_marker_8971ead33e8a440eb30e068d46c019cf%20%3D%20L.circleMarker%28%0A%20%20%20%20%20%20%20%20%20%20%20%20%20%20%20%20%5B1.0%2C%2038.0%5D%2C%0A%20%20%20%20%20%20%20%20%20%20%20%20%20%20%20%20%7B%22bubblingMouseEvents%22%3A%20true%2C%20%22color%22%3A%20%22%233388ff%22%2C%20%22dashArray%22%3A%20null%2C%20%22dashOffset%22%3A%20null%2C%20%22fill%22%3A%20true%2C%20%22fillColor%22%3A%20%22blue%22%2C%20%22fillOpacity%22%3A%200.2%2C%20%22fillRule%22%3A%20%22evenodd%22%2C%20%22lineCap%22%3A%20%22round%22%2C%20%22lineJoin%22%3A%20%22round%22%2C%20%22opacity%22%3A%201.0%2C%20%22radius%22%3A%2024.088125640567295%2C%20%22stroke%22%3A%20true%2C%20%22weight%22%3A%203%7D%0A%20%20%20%20%20%20%20%20%20%20%20%20%29.addTo%28map_32cccead184a40808fc661e404ec6e39%29%3B%0A%20%20%20%20%20%20%20%20%0A%20%20%20%20%0A%20%20%20%20%20%20%20%20var%20popup_fe90ca77b64c45279d69d7f2501f2100%20%3D%20L.popup%28%7B%22maxWidth%22%3A%20%22100%25%22%7D%29%3B%0A%0A%20%20%20%20%20%20%20%20%0A%20%20%20%20%20%20%20%20%20%20%20%20var%20html_03df4901f1394e23818c582036e3ecc8%20%3D%20%24%28%60%3Cdiv%20id%3D%22html_03df4901f1394e23818c582036e3ecc8%22%20style%3D%22width%3A%20100.0%25%3B%20height%3A%20100.0%25%3B%22%3EKenya%3C/div%3E%60%29%5B0%5D%3B%0A%20%20%20%20%20%20%20%20%20%20%20%20popup_fe90ca77b64c45279d69d7f2501f2100.setContent%28html_03df4901f1394e23818c582036e3ecc8%29%3B%0A%20%20%20%20%20%20%20%20%0A%0A%20%20%20%20%20%20%20%20circle_marker_8971ead33e8a440eb30e068d46c019cf.bindPopup%28popup_fe90ca77b64c45279d69d7f2501f2100%29%0A%20%20%20%20%20%20%20%20%3B%0A%0A%20%20%20%20%20%20%20%20%0A%20%20%20%20%0A%20%20%20%20%0A%20%20%20%20%20%20%20%20%20%20%20%20var%20circle_marker_b6b9b4714793409d98a4dbf441b8a440%20%3D%20L.circleMarker%28%0A%20%20%20%20%20%20%20%20%20%20%20%20%20%20%20%20%5B41.5%2C%2075.0%5D%2C%0A%20%20%20%20%20%20%20%20%20%20%20%20%20%20%20%20%7B%22bubblingMouseEvents%22%3A%20true%2C%20%22color%22%3A%20%22%233388ff%22%2C%20%22dashArray%22%3A%20null%2C%20%22dashOffset%22%3A%20null%2C%20%22fill%22%3A%20true%2C%20%22fillColor%22%3A%20%22red%22%2C%20%22fillOpacity%22%3A%200.2%2C%20%22fillRule%22%3A%20%22evenodd%22%2C%20%22lineCap%22%3A%20%22round%22%2C%20%22lineJoin%22%3A%20%22round%22%2C%20%22opacity%22%3A%201.0%2C%20%22radius%22%3A%202.9697977196085015%2C%20%22stroke%22%3A%20true%2C%20%22weight%22%3A%203%7D%0A%20%20%20%20%20%20%20%20%20%20%20%20%29.addTo%28map_32cccead184a40808fc661e404ec6e39%29%3B%0A%20%20%20%20%20%20%20%20%0A%20%20%20%20%0A%20%20%20%20%20%20%20%20var%20popup_aaa9417ba4c049fda7405090a1da71b7%20%3D%20L.popup%28%7B%22maxWidth%22%3A%20%22100%25%22%7D%29%3B%0A%0A%20%20%20%20%20%20%20%20%0A%20%20%20%20%20%20%20%20%20%20%20%20var%20html_af6c93b292c64174b62ddd4f230c9f78%20%3D%20%24%28%60%3Cdiv%20id%3D%22html_af6c93b292c64174b62ddd4f230c9f78%22%20style%3D%22width%3A%20100.0%25%3B%20height%3A%20100.0%25%3B%22%3EKyrgyz%20Republic%3C/div%3E%60%29%5B0%5D%3B%0A%20%20%20%20%20%20%20%20%20%20%20%20popup_aaa9417ba4c049fda7405090a1da71b7.setContent%28html_af6c93b292c64174b62ddd4f230c9f78%29%3B%0A%20%20%20%20%20%20%20%20%0A%0A%20%20%20%20%20%20%20%20circle_marker_b6b9b4714793409d98a4dbf441b8a440.bindPopup%28popup_aaa9417ba4c049fda7405090a1da71b7%29%0A%20%20%20%20%20%20%20%20%3B%0A%0A%20%20%20%20%20%20%20%20%0A%20%20%20%20%0A%20%20%20%20%0A%20%20%20%20%20%20%20%20%20%20%20%20var%20circle_marker_86f79458258f411ba13492df0a41a8e7%20%3D%20L.circleMarker%28%0A%20%20%20%20%20%20%20%20%20%20%20%20%20%20%20%20%5B13.0%2C%20105.0%5D%2C%0A%20%20%20%20%20%20%20%20%20%20%20%20%20%20%20%20%7B%22bubblingMouseEvents%22%3A%20true%2C%20%22color%22%3A%20%22%233388ff%22%2C%20%22dashArray%22%3A%20null%2C%20%22dashOffset%22%3A%20null%2C%20%22fill%22%3A%20true%2C%20%22fillColor%22%3A%20%22red%22%2C%20%22fillOpacity%22%3A%200.2%2C%20%22fillRule%22%3A%20%22evenodd%22%2C%20%22lineCap%22%3A%20%22round%22%2C%20%22lineJoin%22%3A%20%22round%22%2C%20%22opacity%22%3A%201.0%2C%20%22radius%22%3A%206.766458594858778%2C%20%22stroke%22%3A%20true%2C%20%22weight%22%3A%203%7D%0A%20%20%20%20%20%20%20%20%20%20%20%20%29.addTo%28map_32cccead184a40808fc661e404ec6e39%29%3B%0A%20%20%20%20%20%20%20%20%0A%20%20%20%20%0A%20%20%20%20%20%20%20%20var%20popup_e0c4e4b843ec4181b6367f6949c4be14%20%3D%20L.popup%28%7B%22maxWidth%22%3A%20%22100%25%22%7D%29%3B%0A%0A%20%20%20%20%20%20%20%20%0A%20%20%20%20%20%20%20%20%20%20%20%20var%20html_72a3e97eeeb4465087d27411822cc500%20%3D%20%24%28%60%3Cdiv%20id%3D%22html_72a3e97eeeb4465087d27411822cc500%22%20style%3D%22width%3A%20100.0%25%3B%20height%3A%20100.0%25%3B%22%3ECambodia%3C/div%3E%60%29%5B0%5D%3B%0A%20%20%20%20%20%20%20%20%20%20%20%20popup_e0c4e4b843ec4181b6367f6949c4be14.setContent%28html_72a3e97eeeb4465087d27411822cc500%29%3B%0A%20%20%20%20%20%20%20%20%0A%0A%20%20%20%20%20%20%20%20circle_marker_86f79458258f411ba13492df0a41a8e7.bindPopup%28popup_e0c4e4b843ec4181b6367f6949c4be14%29%0A%20%20%20%20%20%20%20%20%3B%0A%0A%20%20%20%20%20%20%20%20%0A%20%20%20%20%0A%20%20%20%20%0A%20%20%20%20%20%20%20%20%20%20%20%20var%20circle_marker_ec88d80481c94775ada0d20f7af25c4c%20%3D%20L.circleMarker%28%0A%20%20%20%20%20%20%20%20%20%20%20%20%20%20%20%20%5B18.0%2C%20105.0%5D%2C%0A%20%20%20%20%20%20%20%20%20%20%20%20%20%20%20%20%7B%22bubblingMouseEvents%22%3A%20true%2C%20%22color%22%3A%20%22%233388ff%22%2C%20%22dashArray%22%3A%20null%2C%20%22dashOffset%22%3A%20null%2C%20%22fill%22%3A%20true%2C%20%22fillColor%22%3A%20%22red%22%2C%20%22fillOpacity%22%3A%200.2%2C%20%22fillRule%22%3A%20%22evenodd%22%2C%20%22lineCap%22%3A%20%22round%22%2C%20%22lineJoin%22%3A%20%22round%22%2C%20%22opacity%22%3A%201.0%2C%20%22radius%22%3A%207.758371982276796%2C%20%22stroke%22%3A%20true%2C%20%22weight%22%3A%203%7D%0A%20%20%20%20%20%20%20%20%20%20%20%20%29.addTo%28map_32cccead184a40808fc661e404ec6e39%29%3B%0A%20%20%20%20%20%20%20%20%0A%20%20%20%20%0A%20%20%20%20%20%20%20%20var%20popup_fb23e80791f046cf8c0bef9ec0b30fc7%20%3D%20L.popup%28%7B%22maxWidth%22%3A%20%22100%25%22%7D%29%3B%0A%0A%20%20%20%20%20%20%20%20%0A%20%20%20%20%20%20%20%20%20%20%20%20var%20html_67c0b3df16b845fda1a9d39679730036%20%3D%20%24%28%60%3Cdiv%20id%3D%22html_67c0b3df16b845fda1a9d39679730036%22%20style%3D%22width%3A%20100.0%25%3B%20height%3A%20100.0%25%3B%22%3ELao%3C/div%3E%60%29%5B0%5D%3B%0A%20%20%20%20%20%20%20%20%20%20%20%20popup_fb23e80791f046cf8c0bef9ec0b30fc7.setContent%28html_67c0b3df16b845fda1a9d39679730036%29%3B%0A%20%20%20%20%20%20%20%20%0A%0A%20%20%20%20%20%20%20%20circle_marker_ec88d80481c94775ada0d20f7af25c4c.bindPopup%28popup_fb23e80791f046cf8c0bef9ec0b30fc7%29%0A%20%20%20%20%20%20%20%20%3B%0A%0A%20%20%20%20%20%20%20%20%0A%20%20%20%20%0A%20%20%20%20%0A%20%20%20%20%20%20%20%20%20%20%20%20var%20circle_marker_fff552a8070441c09b67575a3ad6920b%20%3D%20L.circleMarker%28%0A%20%20%20%20%20%20%20%20%20%20%20%20%20%20%20%20%5B6.5%2C%20-9.5%5D%2C%0A%20%20%20%20%20%20%20%20%20%20%20%20%20%20%20%20%7B%22bubblingMouseEvents%22%3A%20true%2C%20%22color%22%3A%20%22%233388ff%22%2C%20%22dashArray%22%3A%20null%2C%20%22dashOffset%22%3A%20null%2C%20%22fill%22%3A%20true%2C%20%22fillColor%22%3A%20%22blue%22%2C%20%22fillOpacity%22%3A%200.2%2C%20%22fillRule%22%3A%20%22evenodd%22%2C%20%22lineCap%22%3A%20%22round%22%2C%20%22lineJoin%22%3A%20%22round%22%2C%20%22opacity%22%3A%201.0%2C%20%22radius%22%3A%2010.185772240421114%2C%20%22stroke%22%3A%20true%2C%20%22weight%22%3A%203%7D%0A%20%20%20%20%20%20%20%20%20%20%20%20%29.addTo%28map_32cccead184a40808fc661e404ec6e39%29%3B%0A%20%20%20%20%20%20%20%20%0A%20%20%20%20%0A%20%20%20%20%20%20%20%20var%20popup_e54d12b9e14f4de192b3c5a53f8916bd%20%3D%20L.popup%28%7B%22maxWidth%22%3A%20%22100%25%22%7D%29%3B%0A%0A%20%20%20%20%20%20%20%20%0A%20%20%20%20%20%20%20%20%20%20%20%20var%20html_4d06d312e2414db29f2034f13335c360%20%3D%20%24%28%60%3Cdiv%20id%3D%22html_4d06d312e2414db29f2034f13335c360%22%20style%3D%22width%3A%20100.0%25%3B%20height%3A%20100.0%25%3B%22%3ELiberia%3C/div%3E%60%29%5B0%5D%3B%0A%20%20%20%20%20%20%20%20%20%20%20%20popup_e54d12b9e14f4de192b3c5a53f8916bd.setContent%28html_4d06d312e2414db29f2034f13335c360%29%3B%0A%20%20%20%20%20%20%20%20%0A%0A%20%20%20%20%20%20%20%20circle_marker_fff552a8070441c09b67575a3ad6920b.bindPopup%28popup_e54d12b9e14f4de192b3c5a53f8916bd%29%0A%20%20%20%20%20%20%20%20%3B%0A%0A%20%20%20%20%20%20%20%20%0A%20%20%20%20%0A%20%20%20%20%0A%20%20%20%20%20%20%20%20%20%20%20%20var%20circle_marker_a1da92a20c1c443fa18fd20d8edc6198%20%3D%20L.circleMarker%28%0A%20%20%20%20%20%20%20%20%20%20%20%20%20%20%20%20%5B13.88333%2C%20-60.96667%5D%2C%0A%20%20%20%20%20%20%20%20%20%20%20%20%20%20%20%20%7B%22bubblingMouseEvents%22%3A%20true%2C%20%22color%22%3A%20%22%233388ff%22%2C%20%22dashArray%22%3A%20null%2C%20%22dashOffset%22%3A%20null%2C%20%22fill%22%3A%20true%2C%20%22fillColor%22%3A%20%22green%22%2C%20%22fillOpacity%22%3A%200.2%2C%20%22fillRule%22%3A%20%22evenodd%22%2C%20%22lineCap%22%3A%20%22round%22%2C%20%22lineJoin%22%3A%20%22round%22%2C%20%22opacity%22%3A%201.0%2C%20%22radius%22%3A%201.0777350206264305%2C%20%22stroke%22%3A%20true%2C%20%22weight%22%3A%203%7D%0A%20%20%20%20%20%20%20%20%20%20%20%20%29.addTo%28map_32cccead184a40808fc661e404ec6e39%29%3B%0A%20%20%20%20%20%20%20%20%0A%20%20%20%20%0A%20%20%20%20%20%20%20%20var%20popup_1ade6f00dba14cf08189438336bf1f80%20%3D%20L.popup%28%7B%22maxWidth%22%3A%20%22100%25%22%7D%29%3B%0A%0A%20%20%20%20%20%20%20%20%0A%20%20%20%20%20%20%20%20%20%20%20%20var%20html_f078ae309e2f46ba8f131a8571aaa289%20%3D%20%24%28%60%3Cdiv%20id%3D%22html_f078ae309e2f46ba8f131a8571aaa289%22%20style%3D%22width%3A%20100.0%25%3B%20height%3A%20100.0%25%3B%22%3ESt.%20Lucia%3C/div%3E%60%29%5B0%5D%3B%0A%20%20%20%20%20%20%20%20%20%20%20%20popup_1ade6f00dba14cf08189438336bf1f80.setContent%28html_f078ae309e2f46ba8f131a8571aaa289%29%3B%0A%20%20%20%20%20%20%20%20%0A%0A%20%20%20%20%20%20%20%20circle_marker_a1da92a20c1c443fa18fd20d8edc6198.bindPopup%28popup_1ade6f00dba14cf08189438336bf1f80%29%0A%20%20%20%20%20%20%20%20%3B%0A%0A%20%20%20%20%20%20%20%20%0A%20%20%20%20%0A%20%20%20%20%0A%20%20%20%20%20%20%20%20%20%20%20%20var%20circle_marker_e9f9f0887ca14a319847c14098e857e3%20%3D%20L.circleMarker%28%0A%20%20%20%20%20%20%20%20%20%20%20%20%20%20%20%20%5B7.75%2C%2080.75%5D%2C%0A%20%20%20%20%20%20%20%20%20%20%20%20%20%20%20%20%7B%22bubblingMouseEvents%22%3A%20true%2C%20%22color%22%3A%20%22%233388ff%22%2C%20%22dashArray%22%3A%20null%2C%20%22dashOffset%22%3A%20null%2C%20%22fill%22%3A%20true%2C%20%22fillColor%22%3A%20%22red%22%2C%20%22fillOpacity%22%3A%200.2%2C%20%22fillRule%22%3A%20%22evenodd%22%2C%20%22lineCap%22%3A%20%22round%22%2C%20%22lineJoin%22%3A%20%22round%22%2C%20%22opacity%22%3A%201.0%2C%20%22radius%22%3A%205.148541404016821%2C%20%22stroke%22%3A%20true%2C%20%22weight%22%3A%203%7D%0A%20%20%20%20%20%20%20%20%20%20%20%20%29.addTo%28map_32cccead184a40808fc661e404ec6e39%29%3B%0A%20%20%20%20%20%20%20%20%0A%20%20%20%20%0A%20%20%20%20%20%20%20%20var%20popup_e430861ac2734202ad999ea8d5878eb5%20%3D%20L.popup%28%7B%22maxWidth%22%3A%20%22100%25%22%7D%29%3B%0A%0A%20%20%20%20%20%20%20%20%0A%20%20%20%20%20%20%20%20%20%20%20%20var%20html_917d1ccbcd154493a1c0ad9b4006ccad%20%3D%20%24%28%60%3Cdiv%20id%3D%22html_917d1ccbcd154493a1c0ad9b4006ccad%22%20style%3D%22width%3A%20100.0%25%3B%20height%3A%20100.0%25%3B%22%3ESri%20Lanka%3C/div%3E%60%29%5B0%5D%3B%0A%20%20%20%20%20%20%20%20%20%20%20%20popup_e430861ac2734202ad999ea8d5878eb5.setContent%28html_917d1ccbcd154493a1c0ad9b4006ccad%29%3B%0A%20%20%20%20%20%20%20%20%0A%0A%20%20%20%20%20%20%20%20circle_marker_e9f9f0887ca14a319847c14098e857e3.bindPopup%28popup_e430861ac2734202ad999ea8d5878eb5%29%0A%20%20%20%20%20%20%20%20%3B%0A%0A%20%20%20%20%20%20%20%20%0A%20%20%20%20%0A%20%20%20%20%0A%20%20%20%20%20%20%20%20%20%20%20%20var%20circle_marker_f7282f345e934afbbcc47a9bd4d3c931%20%3D%20L.circleMarker%28%0A%20%20%20%20%20%20%20%20%20%20%20%20%20%20%20%20%5B-29.5%2C%2028.25%5D%2C%0A%20%20%20%20%20%20%20%20%20%20%20%20%20%20%20%20%7B%22bubblingMouseEvents%22%3A%20true%2C%20%22color%22%3A%20%22%233388ff%22%2C%20%22dashArray%22%3A%20null%2C%20%22dashOffset%22%3A%20null%2C%20%22fill%22%3A%20true%2C%20%22fillColor%22%3A%20%22blue%22%2C%20%22fillOpacity%22%3A%200.2%2C%20%22fillRule%22%3A%20%22evenodd%22%2C%20%22lineCap%22%3A%20%22round%22%2C%20%22lineJoin%22%3A%20%22round%22%2C%20%22opacity%22%3A%201.0%2C%20%22radius%22%3A%205.97591567065859%2C%20%22stroke%22%3A%20true%2C%20%22weight%22%3A%203%7D%0A%20%20%20%20%20%20%20%20%20%20%20%20%29.addTo%28map_32cccead184a40808fc661e404ec6e39%29%3B%0A%20%20%20%20%20%20%20%20%0A%20%20%20%20%0A%20%20%20%20%20%20%20%20var%20popup_ad88daa7034c435eb5a7376e6271a3d3%20%3D%20L.popup%28%7B%22maxWidth%22%3A%20%22100%25%22%7D%29%3B%0A%0A%20%20%20%20%20%20%20%20%0A%20%20%20%20%20%20%20%20%20%20%20%20var%20html_25f92a78d34a49f5b80996e586d7f826%20%3D%20%24%28%60%3Cdiv%20id%3D%22html_25f92a78d34a49f5b80996e586d7f826%22%20style%3D%22width%3A%20100.0%25%3B%20height%3A%20100.0%25%3B%22%3ELesotho%3C/div%3E%60%29%5B0%5D%3B%0A%20%20%20%20%20%20%20%20%20%20%20%20popup_ad88daa7034c435eb5a7376e6271a3d3.setContent%28html_25f92a78d34a49f5b80996e586d7f826%29%3B%0A%20%20%20%20%20%20%20%20%0A%0A%20%20%20%20%20%20%20%20circle_marker_f7282f345e934afbbcc47a9bd4d3c931.bindPopup%28popup_ad88daa7034c435eb5a7376e6271a3d3%29%0A%20%20%20%20%20%20%20%20%3B%0A%0A%20%20%20%20%20%20%20%20%0A%20%20%20%20%0A%20%20%20%20%0A%20%20%20%20%20%20%20%20%20%20%20%20var%20circle_marker_50b452e876864a6587aed4200bdd1a75%20%3D%20L.circleMarker%28%0A%20%20%20%20%20%20%20%20%20%20%20%20%20%20%20%20%5B55.41667%2C%2024.0%5D%2C%0A%20%20%20%20%20%20%20%20%20%20%20%20%20%20%20%20%7B%22bubblingMouseEvents%22%3A%20true%2C%20%22color%22%3A%20%22%233388ff%22%2C%20%22dashArray%22%3A%20null%2C%20%22dashOffset%22%3A%20null%2C%20%22fill%22%3A%20true%2C%20%22fillColor%22%3A%20%22black%22%2C%20%22fillOpacity%22%3A%200.2%2C%20%22fillRule%22%3A%20%22evenodd%22%2C%20%22lineCap%22%3A%20%22round%22%2C%20%22lineJoin%22%3A%20%22round%22%2C%20%22opacity%22%3A%201.0%2C%20%22radius%22%3A%200.9084678711420302%2C%20%22stroke%22%3A%20true%2C%20%22weight%22%3A%203%7D%0A%20%20%20%20%20%20%20%20%20%20%20%20%29.addTo%28map_32cccead184a40808fc661e404ec6e39%29%3B%0A%20%20%20%20%20%20%20%20%0A%20%20%20%20%0A%20%20%20%20%20%20%20%20var%20popup_e49e09f3299643aba26393a82b3a7730%20%3D%20L.popup%28%7B%22maxWidth%22%3A%20%22100%25%22%7D%29%3B%0A%0A%20%20%20%20%20%20%20%20%0A%20%20%20%20%20%20%20%20%20%20%20%20var%20html_45581b368e0d4012a700b06abc07d0d1%20%3D%20%24%28%60%3Cdiv%20id%3D%22html_45581b368e0d4012a700b06abc07d0d1%22%20style%3D%22width%3A%20100.0%25%3B%20height%3A%20100.0%25%3B%22%3ELithuania%3C/div%3E%60%29%5B0%5D%3B%0A%20%20%20%20%20%20%20%20%20%20%20%20popup_e49e09f3299643aba26393a82b3a7730.setContent%28html_45581b368e0d4012a700b06abc07d0d1%29%3B%0A%20%20%20%20%20%20%20%20%0A%0A%20%20%20%20%20%20%20%20circle_marker_50b452e876864a6587aed4200bdd1a75.bindPopup%28popup_e49e09f3299643aba26393a82b3a7730%29%0A%20%20%20%20%20%20%20%20%3B%0A%0A%20%20%20%20%20%20%20%20%0A%20%20%20%20%0A%20%20%20%20%0A%20%20%20%20%20%20%20%20%20%20%20%20var%20circle_marker_1aaee39d022849fbac97fb5590eb79b2%20%3D%20L.circleMarker%28%0A%20%20%20%20%20%20%20%20%20%20%20%20%20%20%20%20%5B57.0%2C%2025.0%5D%2C%0A%20%20%20%20%20%20%20%20%20%20%20%20%20%20%20%20%7B%22bubblingMouseEvents%22%3A%20true%2C%20%22color%22%3A%20%22%233388ff%22%2C%20%22dashArray%22%3A%20null%2C%20%22dashOffset%22%3A%20null%2C%20%22fill%22%3A%20true%2C%20%22fillColor%22%3A%20%22black%22%2C%20%22fillOpacity%22%3A%200.2%2C%20%22fillRule%22%3A%20%22evenodd%22%2C%20%22lineCap%22%3A%20%22round%22%2C%20%22lineJoin%22%3A%20%22round%22%2C%20%22opacity%22%3A%201.0%2C%20%22radius%22%3A%200.8495129039372447%2C%20%22stroke%22%3A%20true%2C%20%22weight%22%3A%203%7D%0A%20%20%20%20%20%20%20%20%20%20%20%20%29.addTo%28map_32cccead184a40808fc661e404ec6e39%29%3B%0A%20%20%20%20%20%20%20%20%0A%20%20%20%20%0A%20%20%20%20%20%20%20%20var%20popup_06dc83312bc64c48abc541de6a0ac135%20%3D%20L.popup%28%7B%22maxWidth%22%3A%20%22100%25%22%7D%29%3B%0A%0A%20%20%20%20%20%20%20%20%0A%20%20%20%20%20%20%20%20%20%20%20%20var%20html_38f9efb68f9f45b686d69c1f40ff989b%20%3D%20%24%28%60%3Cdiv%20id%3D%22html_38f9efb68f9f45b686d69c1f40ff989b%22%20style%3D%22width%3A%20100.0%25%3B%20height%3A%20100.0%25%3B%22%3ELatvia%3C/div%3E%60%29%5B0%5D%3B%0A%20%20%20%20%20%20%20%20%20%20%20%20popup_06dc83312bc64c48abc541de6a0ac135.setContent%28html_38f9efb68f9f45b686d69c1f40ff989b%29%3B%0A%20%20%20%20%20%20%20%20%0A%0A%20%20%20%20%20%20%20%20circle_marker_1aaee39d022849fbac97fb5590eb79b2.bindPopup%28popup_06dc83312bc64c48abc541de6a0ac135%29%0A%20%20%20%20%20%20%20%20%3B%0A%0A%20%20%20%20%20%20%20%20%0A%20%20%20%20%0A%20%20%20%20%0A%20%20%20%20%20%20%20%20%20%20%20%20var%20circle_marker_a93a53eaf7f14a8ab4a5dabbfd714085%20%3D%20L.circleMarker%28%0A%20%20%20%20%20%20%20%20%20%20%20%20%20%20%20%20%5B32.0%2C%20-6.0%5D%2C%0A%20%20%20%20%20%20%20%20%20%20%20%20%20%20%20%20%7B%22bubblingMouseEvents%22%3A%20true%2C%20%22color%22%3A%20%22%233388ff%22%2C%20%22dashArray%22%3A%20null%2C%20%22dashOffset%22%3A%20null%2C%20%22fill%22%3A%20true%2C%20%22fillColor%22%3A%20%22blue%22%2C%20%22fillOpacity%22%3A%200.2%2C%20%22fillRule%22%3A%20%22evenodd%22%2C%20%22lineCap%22%3A%20%22round%22%2C%20%22lineJoin%22%3A%20%22round%22%2C%20%22opacity%22%3A%201.0%2C%20%22radius%22%3A%205.143803409376387%2C%20%22stroke%22%3A%20true%2C%20%22weight%22%3A%203%7D%0A%20%20%20%20%20%20%20%20%20%20%20%20%29.addTo%28map_32cccead184a40808fc661e404ec6e39%29%3B%0A%20%20%20%20%20%20%20%20%0A%20%20%20%20%0A%20%20%20%20%20%20%20%20var%20popup_8bd3f365e2564e48b439620014e459a3%20%3D%20L.popup%28%7B%22maxWidth%22%3A%20%22100%25%22%7D%29%3B%0A%0A%20%20%20%20%20%20%20%20%0A%20%20%20%20%20%20%20%20%20%20%20%20var%20html_1fdea589d41546b29f611fa6b45af908%20%3D%20%24%28%60%3Cdiv%20id%3D%22html_1fdea589d41546b29f611fa6b45af908%22%20style%3D%22width%3A%20100.0%25%3B%20height%3A%20100.0%25%3B%22%3EMorocco%3C/div%3E%60%29%5B0%5D%3B%0A%20%20%20%20%20%20%20%20%20%20%20%20popup_8bd3f365e2564e48b439620014e459a3.setContent%28html_1fdea589d41546b29f611fa6b45af908%29%3B%0A%20%20%20%20%20%20%20%20%0A%0A%20%20%20%20%20%20%20%20circle_marker_a93a53eaf7f14a8ab4a5dabbfd714085.bindPopup%28popup_8bd3f365e2564e48b439620014e459a3%29%0A%20%20%20%20%20%20%20%20%3B%0A%0A%20%20%20%20%20%20%20%20%0A%20%20%20%20%0A%20%20%20%20%0A%20%20%20%20%20%20%20%20%20%20%20%20var%20circle_marker_bda2acd2b981438a8c6acd657dd0e916%20%3D%20L.circleMarker%28%0A%20%20%20%20%20%20%20%20%20%20%20%20%20%20%20%20%5B47.25%2C%2028.58333%5D%2C%0A%20%20%20%20%20%20%20%20%20%20%20%20%20%20%20%20%7B%22bubblingMouseEvents%22%3A%20true%2C%20%22color%22%3A%20%22%233388ff%22%2C%20%22dashArray%22%3A%20null%2C%20%22dashOffset%22%3A%20null%2C%20%22fill%22%3A%20true%2C%20%22fillColor%22%3A%20%22black%22%2C%20%22fillOpacity%22%3A%200.2%2C%20%22fillRule%22%3A%20%22evenodd%22%2C%20%22lineCap%22%3A%20%22round%22%2C%20%22lineJoin%22%3A%20%22round%22%2C%20%22opacity%22%3A%201.0%2C%20%22radius%22%3A%200.5469439011777409%2C%20%22stroke%22%3A%20true%2C%20%22weight%22%3A%203%7D%0A%20%20%20%20%20%20%20%20%20%20%20%20%29.addTo%28map_32cccead184a40808fc661e404ec6e39%29%3B%0A%20%20%20%20%20%20%20%20%0A%20%20%20%20%0A%20%20%20%20%20%20%20%20var%20popup_bd57a73830064bed80172ea992b022db%20%3D%20L.popup%28%7B%22maxWidth%22%3A%20%22100%25%22%7D%29%3B%0A%0A%20%20%20%20%20%20%20%20%0A%20%20%20%20%20%20%20%20%20%20%20%20var%20html_5838caeb2c1e400b9e5f6c7b118c72fe%20%3D%20%24%28%60%3Cdiv%20id%3D%22html_5838caeb2c1e400b9e5f6c7b118c72fe%22%20style%3D%22width%3A%20100.0%25%3B%20height%3A%20100.0%25%3B%22%3EMoldova%3C/div%3E%60%29%5B0%5D%3B%0A%20%20%20%20%20%20%20%20%20%20%20%20popup_bd57a73830064bed80172ea992b022db.setContent%28html_5838caeb2c1e400b9e5f6c7b118c72fe%29%3B%0A%20%20%20%20%20%20%20%20%0A%0A%20%20%20%20%20%20%20%20circle_marker_bda2acd2b981438a8c6acd657dd0e916.bindPopup%28popup_bd57a73830064bed80172ea992b022db%29%0A%20%20%20%20%20%20%20%20%3B%0A%0A%20%20%20%20%20%20%20%20%0A%20%20%20%20%0A%20%20%20%20%0A%20%20%20%20%20%20%20%20%20%20%20%20var%20circle_marker_8b95448bd5aa4f86bebe6ee237245960%20%3D%20L.circleMarker%28%0A%20%20%20%20%20%20%20%20%20%20%20%20%20%20%20%20%5B-20.0%2C%2047.0%5D%2C%0A%20%20%20%20%20%20%20%20%20%20%20%20%20%20%20%20%7B%22bubblingMouseEvents%22%3A%20true%2C%20%22color%22%3A%20%22%233388ff%22%2C%20%22dashArray%22%3A%20null%2C%20%22dashOffset%22%3A%20null%2C%20%22fill%22%3A%20true%2C%20%22fillColor%22%3A%20%22blue%22%2C%20%22fillOpacity%22%3A%200.2%2C%20%22fillRule%22%3A%20%22evenodd%22%2C%20%22lineCap%22%3A%20%22round%22%2C%20%22lineJoin%22%3A%20%22round%22%2C%20%22opacity%22%3A%201.0%2C%20%22radius%22%3A%2024.295318258386423%2C%20%22stroke%22%3A%20true%2C%20%22weight%22%3A%203%7D%0A%20%20%20%20%20%20%20%20%20%20%20%20%29.addTo%28map_32cccead184a40808fc661e404ec6e39%29%3B%0A%20%20%20%20%20%20%20%20%0A%20%20%20%20%0A%20%20%20%20%20%20%20%20var%20popup_5d1146d3c78b42a897d577865947f255%20%3D%20L.popup%28%7B%22maxWidth%22%3A%20%22100%25%22%7D%29%3B%0A%0A%20%20%20%20%20%20%20%20%0A%20%20%20%20%20%20%20%20%20%20%20%20var%20html_610db8083fd34a69a148d1d12eccfda1%20%3D%20%24%28%60%3Cdiv%20id%3D%22html_610db8083fd34a69a148d1d12eccfda1%22%20style%3D%22width%3A%20100.0%25%3B%20height%3A%20100.0%25%3B%22%3EMadagascar%3C/div%3E%60%29%5B0%5D%3B%0A%20%20%20%20%20%20%20%20%20%20%20%20popup_5d1146d3c78b42a897d577865947f255.setContent%28html_610db8083fd34a69a148d1d12eccfda1%29%3B%0A%20%20%20%20%20%20%20%20%0A%0A%20%20%20%20%20%20%20%20circle_marker_8b95448bd5aa4f86bebe6ee237245960.bindPopup%28popup_5d1146d3c78b42a897d577865947f255%29%0A%20%20%20%20%20%20%20%20%3B%0A%0A%20%20%20%20%20%20%20%20%0A%20%20%20%20%0A%20%20%20%20%0A%20%20%20%20%20%20%20%20%20%20%20%20var%20circle_marker_045075ec9ef04eecafe7c85af694f26c%20%3D%20L.circleMarker%28%0A%20%20%20%20%20%20%20%20%20%20%20%20%20%20%20%20%5B3.2%2C%2073.0%5D%2C%0A%20%20%20%20%20%20%20%20%20%20%20%20%20%20%20%20%7B%22bubblingMouseEvents%22%3A%20true%2C%20%22color%22%3A%20%22%233388ff%22%2C%20%22dashArray%22%3A%20null%2C%20%22dashOffset%22%3A%20null%2C%20%22fill%22%3A%20true%2C%20%22fillColor%22%3A%20%22red%22%2C%20%22fillOpacity%22%3A%200.2%2C%20%22fillRule%22%3A%20%22evenodd%22%2C%20%22lineCap%22%3A%20%22round%22%2C%20%22lineJoin%22%3A%20%22round%22%2C%20%22opacity%22%3A%201.0%2C%20%22radius%22%3A%200.4150917264789626%2C%20%22stroke%22%3A%20true%2C%20%22weight%22%3A%203%7D%0A%20%20%20%20%20%20%20%20%20%20%20%20%29.addTo%28map_32cccead184a40808fc661e404ec6e39%29%3B%0A%20%20%20%20%20%20%20%20%0A%20%20%20%20%0A%20%20%20%20%20%20%20%20var%20popup_4d97efcd463149ddbcf97108a2fe3043%20%3D%20L.popup%28%7B%22maxWidth%22%3A%20%22100%25%22%7D%29%3B%0A%0A%20%20%20%20%20%20%20%20%0A%20%20%20%20%20%20%20%20%20%20%20%20var%20html_3ea7c9ec8c9c4fdaac46930a1537939f%20%3D%20%24%28%60%3Cdiv%20id%3D%22html_3ea7c9ec8c9c4fdaac46930a1537939f%22%20style%3D%22width%3A%20100.0%25%3B%20height%3A%20100.0%25%3B%22%3EMaldives%3C/div%3E%60%29%5B0%5D%3B%0A%20%20%20%20%20%20%20%20%20%20%20%20popup_4d97efcd463149ddbcf97108a2fe3043.setContent%28html_3ea7c9ec8c9c4fdaac46930a1537939f%29%3B%0A%20%20%20%20%20%20%20%20%0A%0A%20%20%20%20%20%20%20%20circle_marker_045075ec9ef04eecafe7c85af694f26c.bindPopup%28popup_4d97efcd463149ddbcf97108a2fe3043%29%0A%20%20%20%20%20%20%20%20%3B%0A%0A%20%20%20%20%20%20%20%20%0A%20%20%20%20%0A%20%20%20%20%0A%20%20%20%20%20%20%20%20%20%20%20%20var%20circle_marker_fe1f35fad8e84113af7dfa20ca71b414%20%3D%20L.circleMarker%28%0A%20%20%20%20%20%20%20%20%20%20%20%20%20%20%20%20%5B19.42847%2C%20-99.12766%5D%2C%0A%20%20%20%20%20%20%20%20%20%20%20%20%20%20%20%20%7B%22bubblingMouseEvents%22%3A%20true%2C%20%22color%22%3A%20%22%233388ff%22%2C%20%22dashArray%22%3A%20null%2C%20%22dashOffset%22%3A%20null%2C%20%22fill%22%3A%20true%2C%20%22fillColor%22%3A%20%22green%22%2C%20%22fillOpacity%22%3A%200.2%2C%20%22fillRule%22%3A%20%22evenodd%22%2C%20%22lineCap%22%3A%20%22round%22%2C%20%22lineJoin%22%3A%20%22round%22%2C%20%22opacity%22%3A%201.0%2C%20%22radius%22%3A%206.116077917408222%2C%20%22stroke%22%3A%20true%2C%20%22weight%22%3A%203%7D%0A%20%20%20%20%20%20%20%20%20%20%20%20%29.addTo%28map_32cccead184a40808fc661e404ec6e39%29%3B%0A%20%20%20%20%20%20%20%20%0A%20%20%20%20%0A%20%20%20%20%20%20%20%20var%20popup_55f46a06194d40fa9987cc0d0b2e4066%20%3D%20L.popup%28%7B%22maxWidth%22%3A%20%22100%25%22%7D%29%3B%0A%0A%20%20%20%20%20%20%20%20%0A%20%20%20%20%20%20%20%20%20%20%20%20var%20html_0289ab2006ba4dd889d9cb436ece9d98%20%3D%20%24%28%60%3Cdiv%20id%3D%22html_0289ab2006ba4dd889d9cb436ece9d98%22%20style%3D%22width%3A%20100.0%25%3B%20height%3A%20100.0%25%3B%22%3EMexico%3C/div%3E%60%29%5B0%5D%3B%0A%20%20%20%20%20%20%20%20%20%20%20%20popup_55f46a06194d40fa9987cc0d0b2e4066.setContent%28html_0289ab2006ba4dd889d9cb436ece9d98%29%3B%0A%20%20%20%20%20%20%20%20%0A%0A%20%20%20%20%20%20%20%20circle_marker_fe1f35fad8e84113af7dfa20ca71b414.bindPopup%28popup_55f46a06194d40fa9987cc0d0b2e4066%29%0A%20%20%20%20%20%20%20%20%3B%0A%0A%20%20%20%20%20%20%20%20%0A%20%20%20%20%0A%20%20%20%20%0A%20%20%20%20%20%20%20%20%20%20%20%20var%20circle_marker_20f3c41e08144fba9447a8b4a5eeaf01%20%3D%20L.circleMarker%28%0A%20%20%20%20%20%20%20%20%20%20%20%20%20%20%20%20%5B41.66667%2C%2021.75%5D%2C%0A%20%20%20%20%20%20%20%20%20%20%20%20%20%20%20%20%7B%22bubblingMouseEvents%22%3A%20true%2C%20%22color%22%3A%20%22%233388ff%22%2C%20%22dashArray%22%3A%20null%2C%20%22dashOffset%22%3A%20null%2C%20%22fill%22%3A%20true%2C%20%22fillColor%22%3A%20%22black%22%2C%20%22fillOpacity%22%3A%200.2%2C%20%22fillRule%22%3A%20%22evenodd%22%2C%20%22lineCap%22%3A%20%22round%22%2C%20%22lineJoin%22%3A%20%22round%22%2C%20%22opacity%22%3A%201.0%2C%20%22radius%22%3A%200.42959989759002715%2C%20%22stroke%22%3A%20true%2C%20%22weight%22%3A%203%7D%0A%20%20%20%20%20%20%20%20%20%20%20%20%29.addTo%28map_32cccead184a40808fc661e404ec6e39%29%3B%0A%20%20%20%20%20%20%20%20%0A%20%20%20%20%0A%20%20%20%20%20%20%20%20var%20popup_014923dbab294a338026f97481087ba6%20%3D%20L.popup%28%7B%22maxWidth%22%3A%20%22100%25%22%7D%29%3B%0A%0A%20%20%20%20%20%20%20%20%0A%20%20%20%20%20%20%20%20%20%20%20%20var%20html_f98797b7168b4fb8b55ef66324e82aba%20%3D%20%24%28%60%3Cdiv%20id%3D%22html_f98797b7168b4fb8b55ef66324e82aba%22%20style%3D%22width%3A%20100.0%25%3B%20height%3A%20100.0%25%3B%22%3ENorth%20Macedonia%3C/div%3E%60%29%5B0%5D%3B%0A%20%20%20%20%20%20%20%20%20%20%20%20popup_014923dbab294a338026f97481087ba6.setContent%28html_f98797b7168b4fb8b55ef66324e82aba%29%3B%0A%20%20%20%20%20%20%20%20%0A%0A%20%20%20%20%20%20%20%20circle_marker_20f3c41e08144fba9447a8b4a5eeaf01.bindPopup%28popup_014923dbab294a338026f97481087ba6%29%0A%20%20%20%20%20%20%20%20%3B%0A%0A%20%20%20%20%20%20%20%20%0A%20%20%20%20%0A%20%20%20%20%0A%20%20%20%20%20%20%20%20%20%20%20%20var%20circle_marker_2d0e49887e744ba7bc91530b049cd7be%20%3D%20L.circleMarker%28%0A%20%20%20%20%20%20%20%20%20%20%20%20%20%20%20%20%5B18.0%2C%20-2.0%5D%2C%0A%20%20%20%20%20%20%20%20%20%20%20%20%20%20%20%20%7B%22bubblingMouseEvents%22%3A%20true%2C%20%22color%22%3A%20%22%233388ff%22%2C%20%22dashArray%22%3A%20null%2C%20%22dashOffset%22%3A%20null%2C%20%22fill%22%3A%20true%2C%20%22fillColor%22%3A%20%22blue%22%2C%20%22fillOpacity%22%3A%200.2%2C%20%22fillRule%22%3A%20%22evenodd%22%2C%20%22lineCap%22%3A%20%22round%22%2C%20%22lineJoin%22%3A%20%22round%22%2C%20%22opacity%22%3A%201.0%2C%20%22radius%22%3A%2015.570484664876235%2C%20%22stroke%22%3A%20true%2C%20%22weight%22%3A%203%7D%0A%20%20%20%20%20%20%20%20%20%20%20%20%29.addTo%28map_32cccead184a40808fc661e404ec6e39%29%3B%0A%20%20%20%20%20%20%20%20%0A%20%20%20%20%0A%20%20%20%20%20%20%20%20var%20popup_9fe4c5aafaee434d900fccf77bbb26ec%20%3D%20L.popup%28%7B%22maxWidth%22%3A%20%22100%25%22%7D%29%3B%0A%0A%20%20%20%20%20%20%20%20%0A%20%20%20%20%20%20%20%20%20%20%20%20var%20html_bd6fae4e8c344435b4d5107a9ff8c34f%20%3D%20%24%28%60%3Cdiv%20id%3D%22html_bd6fae4e8c344435b4d5107a9ff8c34f%22%20style%3D%22width%3A%20100.0%25%3B%20height%3A%20100.0%25%3B%22%3EMali%3C/div%3E%60%29%5B0%5D%3B%0A%20%20%20%20%20%20%20%20%20%20%20%20popup_9fe4c5aafaee434d900fccf77bbb26ec.setContent%28html_bd6fae4e8c344435b4d5107a9ff8c34f%29%3B%0A%20%20%20%20%20%20%20%20%0A%0A%20%20%20%20%20%20%20%20circle_marker_2d0e49887e744ba7bc91530b049cd7be.bindPopup%28popup_9fe4c5aafaee434d900fccf77bbb26ec%29%0A%20%20%20%20%20%20%20%20%3B%0A%0A%20%20%20%20%20%20%20%20%0A%20%20%20%20%0A%20%20%20%20%0A%20%20%20%20%20%20%20%20%20%20%20%20var%20circle_marker_8fa35200f423455284b369d8d4aaa86b%20%3D%20L.circleMarker%28%0A%20%20%20%20%20%20%20%20%20%20%20%20%20%20%20%20%5B42.75%2C%2019.25%5D%2C%0A%20%20%20%20%20%20%20%20%20%20%20%20%20%20%20%20%7B%22bubblingMouseEvents%22%3A%20true%2C%20%22color%22%3A%20%22%233388ff%22%2C%20%22dashArray%22%3A%20null%2C%20%22dashOffset%22%3A%20null%2C%20%22fill%22%3A%20true%2C%20%22fillColor%22%3A%20%22black%22%2C%20%22fillOpacity%22%3A%200.2%2C%20%22fillRule%22%3A%20%22evenodd%22%2C%20%22lineCap%22%3A%20%22round%22%2C%20%22lineJoin%22%3A%20%22round%22%2C%20%22opacity%22%3A%201.0%2C%20%22radius%22%3A%200.2042802635564556%2C%20%22stroke%22%3A%20true%2C%20%22weight%22%3A%203%7D%0A%20%20%20%20%20%20%20%20%20%20%20%20%29.addTo%28map_32cccead184a40808fc661e404ec6e39%29%3B%0A%20%20%20%20%20%20%20%20%0A%20%20%20%20%0A%20%20%20%20%20%20%20%20var%20popup_1cffa209422243c29f1630bbfd910451%20%3D%20L.popup%28%7B%22maxWidth%22%3A%20%22100%25%22%7D%29%3B%0A%0A%20%20%20%20%20%20%20%20%0A%20%20%20%20%20%20%20%20%20%20%20%20var%20html_23f4b999026e451c8489b6bc8908938d%20%3D%20%24%28%60%3Cdiv%20id%3D%22html_23f4b999026e451c8489b6bc8908938d%22%20style%3D%22width%3A%20100.0%25%3B%20height%3A%20100.0%25%3B%22%3EMontenegro%3C/div%3E%60%29%5B0%5D%3B%0A%20%20%20%20%20%20%20%20%20%20%20%20popup_1cffa209422243c29f1630bbfd910451.setContent%28html_23f4b999026e451c8489b6bc8908938d%29%3B%0A%20%20%20%20%20%20%20%20%0A%0A%20%20%20%20%20%20%20%20circle_marker_8fa35200f423455284b369d8d4aaa86b.bindPopup%28popup_1cffa209422243c29f1630bbfd910451%29%0A%20%20%20%20%20%20%20%20%3B%0A%0A%20%20%20%20%20%20%20%20%0A%20%20%20%20%0A%20%20%20%20%0A%20%20%20%20%20%20%20%20%20%20%20%20var%20circle_marker_dd151bdfe28a49fe99bbcf6807c5a78d%20%3D%20L.circleMarker%28%0A%20%20%20%20%20%20%20%20%20%20%20%20%20%20%20%20%5B-18.25%2C%2035.0%5D%2C%0A%20%20%20%20%20%20%20%20%20%20%20%20%20%20%20%20%7B%22bubblingMouseEvents%22%3A%20true%2C%20%22color%22%3A%20%22%233388ff%22%2C%20%22dashArray%22%3A%20null%2C%20%22dashOffset%22%3A%20null%2C%20%22fill%22%3A%20true%2C%20%22fillColor%22%3A%20%22blue%22%2C%20%22fillOpacity%22%3A%200.2%2C%20%22fillRule%22%3A%20%22evenodd%22%2C%20%22lineCap%22%3A%20%22round%22%2C%20%22lineJoin%22%3A%20%22round%22%2C%20%22opacity%22%3A%201.0%2C%20%22radius%22%3A%2021.32458555367499%2C%20%22stroke%22%3A%20true%2C%20%22weight%22%3A%203%7D%0A%20%20%20%20%20%20%20%20%20%20%20%20%29.addTo%28map_32cccead184a40808fc661e404ec6e39%29%3B%0A%20%20%20%20%20%20%20%20%0A%20%20%20%20%0A%20%20%20%20%20%20%20%20var%20popup_522234df90d24fa28b888b3626304f7f%20%3D%20L.popup%28%7B%22maxWidth%22%3A%20%22100%25%22%7D%29%3B%0A%0A%20%20%20%20%20%20%20%20%0A%20%20%20%20%20%20%20%20%20%20%20%20var%20html_9454005b62a24d6d9fb697de8b5b621a%20%3D%20%24%28%60%3Cdiv%20id%3D%22html_9454005b62a24d6d9fb697de8b5b621a%22%20style%3D%22width%3A%20100.0%25%3B%20height%3A%20100.0%25%3B%22%3EMozambique%3C/div%3E%60%29%5B0%5D%3B%0A%20%20%20%20%20%20%20%20%20%20%20%20popup_522234df90d24fa28b888b3626304f7f.setContent%28html_9454005b62a24d6d9fb697de8b5b621a%29%3B%0A%20%20%20%20%20%20%20%20%0A%0A%20%20%20%20%20%20%20%20circle_marker_dd151bdfe28a49fe99bbcf6807c5a78d.bindPopup%28popup_522234df90d24fa28b888b3626304f7f%29%0A%20%20%20%20%20%20%20%20%3B%0A%0A%20%20%20%20%20%20%20%20%0A%20%20%20%20%0A%20%20%20%20%0A%20%20%20%20%20%20%20%20%20%20%20%20var%20circle_marker_909ba7335bda4c2a8bfed9ac3a05e02d%20%3D%20L.circleMarker%28%0A%20%20%20%20%20%20%20%20%20%20%20%20%20%20%20%20%5B20.25%2C%20-10.5%5D%2C%0A%20%20%20%20%20%20%20%20%20%20%20%20%20%20%20%20%7B%22bubblingMouseEvents%22%3A%20true%2C%20%22color%22%3A%20%22%233388ff%22%2C%20%22dashArray%22%3A%20null%2C%20%22dashOffset%22%3A%20null%2C%20%22fill%22%3A%20true%2C%20%22fillColor%22%3A%20%22blue%22%2C%20%22fillOpacity%22%3A%200.2%2C%20%22fillRule%22%3A%20%22evenodd%22%2C%20%22lineCap%22%3A%20%22round%22%2C%20%22lineJoin%22%3A%20%22round%22%2C%20%22opacity%22%3A%201.0%2C%20%22radius%22%3A%205.104874523724298%2C%20%22stroke%22%3A%20true%2C%20%22weight%22%3A%203%7D%0A%20%20%20%20%20%20%20%20%20%20%20%20%29.addTo%28map_32cccead184a40808fc661e404ec6e39%29%3B%0A%20%20%20%20%20%20%20%20%0A%20%20%20%20%0A%20%20%20%20%20%20%20%20var%20popup_6e3ec88328d049d8aff2cb47a90f5a6e%20%3D%20L.popup%28%7B%22maxWidth%22%3A%20%22100%25%22%7D%29%3B%0A%0A%20%20%20%20%20%20%20%20%0A%20%20%20%20%20%20%20%20%20%20%20%20var%20html_2b78bed0f21443a4a7595fb222fc38fc%20%3D%20%24%28%60%3Cdiv%20id%3D%22html_2b78bed0f21443a4a7595fb222fc38fc%22%20style%3D%22width%3A%20100.0%25%3B%20height%3A%20100.0%25%3B%22%3EMauritania%3C/div%3E%60%29%5B0%5D%3B%0A%20%20%20%20%20%20%20%20%20%20%20%20popup_6e3ec88328d049d8aff2cb47a90f5a6e.setContent%28html_2b78bed0f21443a4a7595fb222fc38fc%29%3B%0A%20%20%20%20%20%20%20%20%0A%0A%20%20%20%20%20%20%20%20circle_marker_909ba7335bda4c2a8bfed9ac3a05e02d.bindPopup%28popup_6e3ec88328d049d8aff2cb47a90f5a6e%29%0A%20%20%20%20%20%20%20%20%3B%0A%0A%20%20%20%20%20%20%20%20%0A%20%20%20%20%0A%20%20%20%20%0A%20%20%20%20%20%20%20%20%20%20%20%20var%20circle_marker_d51d279fc5a84d1b94dc85863c2cc457%20%3D%20L.circleMarker%28%0A%20%20%20%20%20%20%20%20%20%20%20%20%20%20%20%20%5B-13.5%2C%2034.0%5D%2C%0A%20%20%20%20%20%20%20%20%20%20%20%20%20%20%20%20%7B%22bubblingMouseEvents%22%3A%20true%2C%20%22color%22%3A%20%22%233388ff%22%2C%20%22dashArray%22%3A%20null%2C%20%22dashOffset%22%3A%20null%2C%20%22fill%22%3A%20true%2C%20%22fillColor%22%3A%20%22blue%22%2C%20%22fillOpacity%22%3A%200.2%2C%20%22fillRule%22%3A%20%22evenodd%22%2C%20%22lineCap%22%3A%20%22round%22%2C%20%22lineJoin%22%3A%20%22round%22%2C%20%22opacity%22%3A%201.0%2C%20%22radius%22%3A%2018.27467628792681%2C%20%22stroke%22%3A%20true%2C%20%22weight%22%3A%203%7D%0A%20%20%20%20%20%20%20%20%20%20%20%20%29.addTo%28map_32cccead184a40808fc661e404ec6e39%29%3B%0A%20%20%20%20%20%20%20%20%0A%20%20%20%20%0A%20%20%20%20%20%20%20%20var%20popup_50c611d80bb9440bbf09121cedf0cfc0%20%3D%20L.popup%28%7B%22maxWidth%22%3A%20%22100%25%22%7D%29%3B%0A%0A%20%20%20%20%20%20%20%20%0A%20%20%20%20%20%20%20%20%20%20%20%20var%20html_0ad59a0311854fd28d7cc72a42cd540f%20%3D%20%24%28%60%3Cdiv%20id%3D%22html_0ad59a0311854fd28d7cc72a42cd540f%22%20style%3D%22width%3A%20100.0%25%3B%20height%3A%20100.0%25%3B%22%3EMalawi%3C/div%3E%60%29%5B0%5D%3B%0A%20%20%20%20%20%20%20%20%20%20%20%20popup_50c611d80bb9440bbf09121cedf0cfc0.setContent%28html_0ad59a0311854fd28d7cc72a42cd540f%29%3B%0A%20%20%20%20%20%20%20%20%0A%0A%20%20%20%20%20%20%20%20circle_marker_d51d279fc5a84d1b94dc85863c2cc457.bindPopup%28popup_50c611d80bb9440bbf09121cedf0cfc0%29%0A%20%20%20%20%20%20%20%20%3B%0A%0A%20%20%20%20%20%20%20%20%0A%20%20%20%20%0A%20%20%20%20%0A%20%20%20%20%20%20%20%20%20%20%20%20var%20circle_marker_f34b057f635645b5a4d9c9c366c080fb%20%3D%20L.circleMarker%28%0A%20%20%20%20%20%20%20%20%20%20%20%20%20%20%20%20%5B2.5%2C%20112.5%5D%2C%0A%20%20%20%20%20%20%20%20%20%20%20%20%20%20%20%20%7B%22bubblingMouseEvents%22%3A%20true%2C%20%22color%22%3A%20%22%233388ff%22%2C%20%22dashArray%22%3A%20null%2C%20%22dashOffset%22%3A%20null%2C%20%22fill%22%3A%20true%2C%20%22fillColor%22%3A%20%22red%22%2C%20%22fillOpacity%22%3A%200.2%2C%20%22fillRule%22%3A%20%22evenodd%22%2C%20%22lineCap%22%3A%20%22round%22%2C%20%22lineJoin%22%3A%20%22round%22%2C%20%22opacity%22%3A%201.0%2C%20%22stroke%22%3A%20true%2C%20%22weight%22%3A%203%7D%0A%20%20%20%20%20%20%20%20%20%20%20%20%29.addTo%28map_32cccead184a40808fc661e404ec6e39%29%3B%0A%20%20%20%20%20%20%20%20%0A%20%20%20%20%0A%20%20%20%20%20%20%20%20var%20popup_c163491574254affb165006d477ada12%20%3D%20L.popup%28%7B%22maxWidth%22%3A%20%22100%25%22%7D%29%3B%0A%0A%20%20%20%20%20%20%20%20%0A%20%20%20%20%20%20%20%20%20%20%20%20var%20html_9fccce984bb14f19a212b521c6eb4709%20%3D%20%24%28%60%3Cdiv%20id%3D%22html_9fccce984bb14f19a212b521c6eb4709%22%20style%3D%22width%3A%20100.0%25%3B%20height%3A%20100.0%25%3B%22%3EMalaysia%3C/div%3E%60%29%5B0%5D%3B%0A%20%20%20%20%20%20%20%20%20%20%20%20popup_c163491574254affb165006d477ada12.setContent%28html_9fccce984bb14f19a212b521c6eb4709%29%3B%0A%20%20%20%20%20%20%20%20%0A%0A%20%20%20%20%20%20%20%20circle_marker_f34b057f635645b5a4d9c9c366c080fb.bindPopup%28popup_c163491574254affb165006d477ada12%29%0A%20%20%20%20%20%20%20%20%3B%0A%0A%20%20%20%20%20%20%20%20%0A%20%20%20%20%0A%20%20%20%20%0A%20%20%20%20%20%20%20%20%20%20%20%20var%20circle_marker_a4eb1a1b3727441c9b053696814b32ed%20%3D%20L.circleMarker%28%0A%20%20%20%20%20%20%20%20%20%20%20%20%20%20%20%20%5B-22.0%2C%2017.0%5D%2C%0A%20%20%20%20%20%20%20%20%20%20%20%20%20%20%20%20%7B%22bubblingMouseEvents%22%3A%20true%2C%20%22color%22%3A%20%22%233388ff%22%2C%20%22dashArray%22%3A%20null%2C%20%22dashOffset%22%3A%20null%2C%20%22fill%22%3A%20true%2C%20%22fillColor%22%3A%20%22blue%22%2C%20%22fillOpacity%22%3A%200.2%2C%20%22fillRule%22%3A%20%22evenodd%22%2C%20%22lineCap%22%3A%20%22round%22%2C%20%22lineJoin%22%3A%20%22round%22%2C%20%22opacity%22%3A%201.0%2C%20%22radius%22%3A%203.9845687128006193%2C%20%22stroke%22%3A%20true%2C%20%22weight%22%3A%203%7D%0A%20%20%20%20%20%20%20%20%20%20%20%20%29.addTo%28map_32cccead184a40808fc661e404ec6e39%29%3B%0A%20%20%20%20%20%20%20%20%0A%20%20%20%20%0A%20%20%20%20%20%20%20%20var%20popup_ebef4f9b1762403582c8992623a92639%20%3D%20L.popup%28%7B%22maxWidth%22%3A%20%22100%25%22%7D%29%3B%0A%0A%20%20%20%20%20%20%20%20%0A%20%20%20%20%20%20%20%20%20%20%20%20var%20html_8be8e123b50f4c12b5fe040d90dd06e5%20%3D%20%24%28%60%3Cdiv%20id%3D%22html_8be8e123b50f4c12b5fe040d90dd06e5%22%20style%3D%22width%3A%20100.0%25%3B%20height%3A%20100.0%25%3B%22%3ENamibia%3C/div%3E%60%29%5B0%5D%3B%0A%20%20%20%20%20%20%20%20%20%20%20%20popup_ebef4f9b1762403582c8992623a92639.setContent%28html_8be8e123b50f4c12b5fe040d90dd06e5%29%3B%0A%20%20%20%20%20%20%20%20%0A%0A%20%20%20%20%20%20%20%20circle_marker_a4eb1a1b3727441c9b053696814b32ed.bindPopup%28popup_ebef4f9b1762403582c8992623a92639%29%0A%20%20%20%20%20%20%20%20%3B%0A%0A%20%20%20%20%20%20%20%20%0A%20%20%20%20%0A%20%20%20%20%0A%20%20%20%20%20%20%20%20%20%20%20%20var%20circle_marker_6f9ff5187f5049bcb38b7e7b65a35717%20%3D%20L.circleMarker%28%0A%20%20%20%20%20%20%20%20%20%20%20%20%20%20%20%20%5B18.0%2C%209.0%5D%2C%0A%20%20%20%20%20%20%20%20%20%20%20%20%20%20%20%20%7B%22bubblingMouseEvents%22%3A%20true%2C%20%22color%22%3A%20%22%233388ff%22%2C%20%22dashArray%22%3A%20null%2C%20%22dashOffset%22%3A%20null%2C%20%22fill%22%3A%20true%2C%20%22fillColor%22%3A%20%22blue%22%2C%20%22fillOpacity%22%3A%200.2%2C%20%22fillRule%22%3A%20%22evenodd%22%2C%20%22lineCap%22%3A%20%22round%22%2C%20%22lineJoin%22%3A%20%22round%22%2C%20%22opacity%22%3A%201.0%2C%20%22radius%22%3A%2014.624343601209656%2C%20%22stroke%22%3A%20true%2C%20%22weight%22%3A%203%7D%0A%20%20%20%20%20%20%20%20%20%20%20%20%29.addTo%28map_32cccead184a40808fc661e404ec6e39%29%3B%0A%20%20%20%20%20%20%20%20%0A%20%20%20%20%0A%20%20%20%20%20%20%20%20var%20popup_af69d9f1cfa0463d9dd35d0a40ecfcd0%20%3D%20L.popup%28%7B%22maxWidth%22%3A%20%22100%25%22%7D%29%3B%0A%0A%20%20%20%20%20%20%20%20%0A%20%20%20%20%20%20%20%20%20%20%20%20var%20html_cde3506f63624bc7b5dbc9b90220acd8%20%3D%20%24%28%60%3Cdiv%20id%3D%22html_cde3506f63624bc7b5dbc9b90220acd8%22%20style%3D%22width%3A%20100.0%25%3B%20height%3A%20100.0%25%3B%22%3ENiger%3C/div%3E%60%29%5B0%5D%3B%0A%20%20%20%20%20%20%20%20%20%20%20%20popup_af69d9f1cfa0463d9dd35d0a40ecfcd0.setContent%28html_cde3506f63624bc7b5dbc9b90220acd8%29%3B%0A%20%20%20%20%20%20%20%20%0A%0A%20%20%20%20%20%20%20%20circle_marker_6f9ff5187f5049bcb38b7e7b65a35717.bindPopup%28popup_af69d9f1cfa0463d9dd35d0a40ecfcd0%29%0A%20%20%20%20%20%20%20%20%3B%0A%0A%20%20%20%20%20%20%20%20%0A%20%20%20%20%0A%20%20%20%20%0A%20%20%20%20%20%20%20%20%20%20%20%20var%20circle_marker_2c1ea0ab9e0f454ba713a96ce502ffd3%20%3D%20L.circleMarker%28%0A%20%20%20%20%20%20%20%20%20%20%20%20%20%20%20%20%5B10.0%2C%208.0%5D%2C%0A%20%20%20%20%20%20%20%20%20%20%20%20%20%20%20%20%7B%22bubblingMouseEvents%22%3A%20true%2C%20%22color%22%3A%20%22%233388ff%22%2C%20%22dashArray%22%3A%20null%2C%20%22dashOffset%22%3A%20null%2C%20%22fill%22%3A%20true%2C%20%22fillColor%22%3A%20%22blue%22%2C%20%22fillOpacity%22%3A%200.2%2C%20%22fillRule%22%3A%20%22evenodd%22%2C%20%22lineCap%22%3A%20%22round%22%2C%20%22lineJoin%22%3A%20%22round%22%2C%20%22opacity%22%3A%201.0%2C%20%22radius%22%3A%2055.94290002503713%2C%20%22stroke%22%3A%20true%2C%20%22weight%22%3A%203%7D%0A%20%20%20%20%20%20%20%20%20%20%20%20%29.addTo%28map_32cccead184a40808fc661e404ec6e39%29%3B%0A%20%20%20%20%20%20%20%20%0A%20%20%20%20%0A%20%20%20%20%20%20%20%20var%20popup_d51ce66ca81443c5a6e314c0fbe9eb68%20%3D%20L.popup%28%7B%22maxWidth%22%3A%20%22100%25%22%7D%29%3B%0A%0A%20%20%20%20%20%20%20%20%0A%20%20%20%20%20%20%20%20%20%20%20%20var%20html_ca41a72e81894afdaf2d8ee8c97d66cb%20%3D%20%24%28%60%3Cdiv%20id%3D%22html_ca41a72e81894afdaf2d8ee8c97d66cb%22%20style%3D%22width%3A%20100.0%25%3B%20height%3A%20100.0%25%3B%22%3ENigeria%3C/div%3E%60%29%5B0%5D%3B%0A%20%20%20%20%20%20%20%20%20%20%20%20popup_d51ce66ca81443c5a6e314c0fbe9eb68.setContent%28html_ca41a72e81894afdaf2d8ee8c97d66cb%29%3B%0A%20%20%20%20%20%20%20%20%0A%0A%20%20%20%20%20%20%20%20circle_marker_2c1ea0ab9e0f454ba713a96ce502ffd3.bindPopup%28popup_d51ce66ca81443c5a6e314c0fbe9eb68%29%0A%20%20%20%20%20%20%20%20%3B%0A%0A%20%20%20%20%20%20%20%20%0A%20%20%20%20%0A%20%20%20%20%0A%20%20%20%20%20%20%20%20%20%20%20%20var%20circle_marker_176566a6e8bc45b990a25329550fcb00%20%3D%20L.circleMarker%28%0A%20%20%20%20%20%20%20%20%20%20%20%20%20%20%20%20%5B13.0%2C%20-85.0%5D%2C%0A%20%20%20%20%20%20%20%20%20%20%20%20%20%20%20%20%7B%22bubblingMouseEvents%22%3A%20true%2C%20%22color%22%3A%20%22%233388ff%22%2C%20%22dashArray%22%3A%20null%2C%20%22dashOffset%22%3A%20null%2C%20%22fill%22%3A%20true%2C%20%22fillColor%22%3A%20%22green%22%2C%20%22fillOpacity%22%3A%200.2%2C%20%22fillRule%22%3A%20%22evenodd%22%2C%20%22lineCap%22%3A%20%22round%22%2C%20%22lineJoin%22%3A%20%22round%22%2C%20%22opacity%22%3A%201.0%2C%20%22radius%22%3A%203.9789367881465885%2C%20%22stroke%22%3A%20true%2C%20%22weight%22%3A%203%7D%0A%20%20%20%20%20%20%20%20%20%20%20%20%29.addTo%28map_32cccead184a40808fc661e404ec6e39%29%3B%0A%20%20%20%20%20%20%20%20%0A%20%20%20%20%0A%20%20%20%20%20%20%20%20var%20popup_d40e5888b9d54ee580008609c8b186e8%20%3D%20L.popup%28%7B%22maxWidth%22%3A%20%22100%25%22%7D%29%3B%0A%0A%20%20%20%20%20%20%20%20%0A%20%20%20%20%20%20%20%20%20%20%20%20var%20html_6a5a2cc591124e738b4394f6f3ccd3a0%20%3D%20%24%28%60%3Cdiv%20id%3D%22html_6a5a2cc591124e738b4394f6f3ccd3a0%22%20style%3D%22width%3A%20100.0%25%3B%20height%3A%20100.0%25%3B%22%3ENicaragua%3C/div%3E%60%29%5B0%5D%3B%0A%20%20%20%20%20%20%20%20%20%20%20%20popup_d40e5888b9d54ee580008609c8b186e8.setContent%28html_6a5a2cc591124e738b4394f6f3ccd3a0%29%3B%0A%20%20%20%20%20%20%20%20%0A%0A%20%20%20%20%20%20%20%20circle_marker_176566a6e8bc45b990a25329550fcb00.bindPopup%28popup_d40e5888b9d54ee580008609c8b186e8%29%0A%20%20%20%20%20%20%20%20%3B%0A%0A%20%20%20%20%20%20%20%20%0A%20%20%20%20%0A%20%20%20%20%0A%20%20%20%20%20%20%20%20%20%20%20%20var%20circle_marker_cec21ff1af404961b6aa38e447bfe4e1%20%3D%20L.circleMarker%28%0A%20%20%20%20%20%20%20%20%20%20%20%20%20%20%20%20%5B52.25%2C%205.75%5D%2C%0A%20%20%20%20%20%20%20%20%20%20%20%20%20%20%20%20%7B%22bubblingMouseEvents%22%3A%20true%2C%20%22color%22%3A%20%22%233388ff%22%2C%20%22dashArray%22%3A%20null%2C%20%22dashOffset%22%3A%20null%2C%20%22fill%22%3A%20true%2C%20%22fillColor%22%3A%20%22black%22%2C%20%22fillOpacity%22%3A%200.2%2C%20%22fillRule%22%3A%20%22evenodd%22%2C%20%22lineCap%22%3A%20%22round%22%2C%20%22lineJoin%22%3A%20%22round%22%2C%20%22opacity%22%3A%201.0%2C%20%22radius%22%3A%201.363308998513233%2C%20%22stroke%22%3A%20true%2C%20%22weight%22%3A%203%7D%0A%20%20%20%20%20%20%20%20%20%20%20%20%29.addTo%28map_32cccead184a40808fc661e404ec6e39%29%3B%0A%20%20%20%20%20%20%20%20%0A%20%20%20%20%0A%20%20%20%20%20%20%20%20var%20popup_5845b6d2835241c2b9cf74e337fe8115%20%3D%20L.popup%28%7B%22maxWidth%22%3A%20%22100%25%22%7D%29%3B%0A%0A%20%20%20%20%20%20%20%20%0A%20%20%20%20%20%20%20%20%20%20%20%20var%20html_dc823aeac13d4f13a3ffef8dc96f35dc%20%3D%20%24%28%60%3Cdiv%20id%3D%22html_dc823aeac13d4f13a3ffef8dc96f35dc%22%20style%3D%22width%3A%20100.0%25%3B%20height%3A%20100.0%25%3B%22%3ENetherlands%3C/div%3E%60%29%5B0%5D%3B%0A%20%20%20%20%20%20%20%20%20%20%20%20popup_5845b6d2835241c2b9cf74e337fe8115.setContent%28html_dc823aeac13d4f13a3ffef8dc96f35dc%29%3B%0A%20%20%20%20%20%20%20%20%0A%0A%20%20%20%20%20%20%20%20circle_marker_cec21ff1af404961b6aa38e447bfe4e1.bindPopup%28popup_5845b6d2835241c2b9cf74e337fe8115%29%0A%20%20%20%20%20%20%20%20%3B%0A%0A%20%20%20%20%20%20%20%20%0A%20%20%20%20%0A%20%20%20%20%0A%20%20%20%20%20%20%20%20%20%20%20%20var%20circle_marker_75cfcb31413b40d4bd3bac0803376ee1%20%3D%20L.circleMarker%28%0A%20%20%20%20%20%20%20%20%20%20%20%20%20%20%20%20%5B62.0%2C%2010.0%5D%2C%0A%20%20%20%20%20%20%20%20%20%20%20%20%20%20%20%20%7B%22bubblingMouseEvents%22%3A%20true%2C%20%22color%22%3A%20%22%233388ff%22%2C%20%22dashArray%22%3A%20null%2C%20%22dashOffset%22%3A%20null%2C%20%22fill%22%3A%20true%2C%20%22fillColor%22%3A%20%22black%22%2C%20%22fillOpacity%22%3A%200.2%2C%20%22fillRule%22%3A%20%22evenodd%22%2C%20%22lineCap%22%3A%20%22round%22%2C%20%22lineJoin%22%3A%20%22round%22%2C%20%22opacity%22%3A%201.0%2C%20%22radius%22%3A%201.0207778467534643%2C%20%22stroke%22%3A%20true%2C%20%22weight%22%3A%203%7D%0A%20%20%20%20%20%20%20%20%20%20%20%20%29.addTo%28map_32cccead184a40808fc661e404ec6e39%29%3B%0A%20%20%20%20%20%20%20%20%0A%20%20%20%20%0A%20%20%20%20%20%20%20%20var%20popup_5cef73959a084ade8cb4be463bf92e65%20%3D%20L.popup%28%7B%22maxWidth%22%3A%20%22100%25%22%7D%29%3B%0A%0A%20%20%20%20%20%20%20%20%0A%20%20%20%20%20%20%20%20%20%20%20%20var%20html_7244504481024bbfa03a98c0b5407828%20%3D%20%24%28%60%3Cdiv%20id%3D%22html_7244504481024bbfa03a98c0b5407828%22%20style%3D%22width%3A%20100.0%25%3B%20height%3A%20100.0%25%3B%22%3ENorway%3C/div%3E%60%29%5B0%5D%3B%0A%20%20%20%20%20%20%20%20%20%20%20%20popup_5cef73959a084ade8cb4be463bf92e65.setContent%28html_7244504481024bbfa03a98c0b5407828%29%3B%0A%20%20%20%20%20%20%20%20%0A%0A%20%20%20%20%20%20%20%20circle_marker_75cfcb31413b40d4bd3bac0803376ee1.bindPopup%28popup_5cef73959a084ade8cb4be463bf92e65%29%0A%20%20%20%20%20%20%20%20%3B%0A%0A%20%20%20%20%20%20%20%20%0A%20%20%20%20%0A%20%20%20%20%0A%20%20%20%20%20%20%20%20%20%20%20%20var%20circle_marker_4fcba8bfccb0465d946846d01cd93258%20%3D%20L.circleMarker%28%0A%20%20%20%20%20%20%20%20%20%20%20%20%20%20%20%20%5B28.0%2C%2084.0%5D%2C%0A%20%20%20%20%20%20%20%20%20%20%20%20%20%20%20%20%7B%22bubblingMouseEvents%22%3A%20true%2C%20%22color%22%3A%20%22%233388ff%22%2C%20%22dashArray%22%3A%20null%2C%20%22dashOffset%22%3A%20null%2C%20%22fill%22%3A%20true%2C%20%22fillColor%22%3A%20%22red%22%2C%20%22fillOpacity%22%3A%200.2%2C%20%22fillRule%22%3A%20%22evenodd%22%2C%20%22lineCap%22%3A%20%22round%22%2C%20%22lineJoin%22%3A%20%22round%22%2C%20%22opacity%22%3A%201.0%2C%20%22radius%22%3A%2014.287409177153314%2C%20%22stroke%22%3A%20true%2C%20%22weight%22%3A%203%7D%0A%20%20%20%20%20%20%20%20%20%20%20%20%29.addTo%28map_32cccead184a40808fc661e404ec6e39%29%3B%0A%20%20%20%20%20%20%20%20%0A%20%20%20%20%0A%20%20%20%20%20%20%20%20var%20popup_8c6b1336c57f41dc8aec419cf6d661c9%20%3D%20L.popup%28%7B%22maxWidth%22%3A%20%22100%25%22%7D%29%3B%0A%0A%20%20%20%20%20%20%20%20%0A%20%20%20%20%20%20%20%20%20%20%20%20var%20html_db6c93f1907945e09d7c6c378e3b278c%20%3D%20%24%28%60%3Cdiv%20id%3D%22html_db6c93f1907945e09d7c6c378e3b278c%22%20style%3D%22width%3A%20100.0%25%3B%20height%3A%20100.0%25%3B%22%3ENepal%3C/div%3E%60%29%5B0%5D%3B%0A%20%20%20%20%20%20%20%20%20%20%20%20popup_8c6b1336c57f41dc8aec419cf6d661c9.setContent%28html_db6c93f1907945e09d7c6c378e3b278c%29%3B%0A%20%20%20%20%20%20%20%20%0A%0A%20%20%20%20%20%20%20%20circle_marker_4fcba8bfccb0465d946846d01cd93258.bindPopup%28popup_8c6b1336c57f41dc8aec419cf6d661c9%29%0A%20%20%20%20%20%20%20%20%3B%0A%0A%20%20%20%20%20%20%20%20%0A%20%20%20%20%0A%20%20%20%20%0A%20%20%20%20%20%20%20%20%20%20%20%20var%20circle_marker_2a1c3270127c41158268ac5caabb402f%20%3D%20L.circleMarker%28%0A%20%20%20%20%20%20%20%20%20%20%20%20%20%20%20%20%5B30.0%2C%2070.0%5D%2C%0A%20%20%20%20%20%20%20%20%20%20%20%20%20%20%20%20%7B%22bubblingMouseEvents%22%3A%20true%2C%20%22color%22%3A%20%22%233388ff%22%2C%20%22dashArray%22%3A%20null%2C%20%22dashOffset%22%3A%20null%2C%20%22fill%22%3A%20true%2C%20%22fillColor%22%3A%20%22red%22%2C%20%22fillOpacity%22%3A%200.2%2C%20%22fillRule%22%3A%20%22evenodd%22%2C%20%22lineCap%22%3A%20%22round%22%2C%20%22lineJoin%22%3A%20%22round%22%2C%20%22opacity%22%3A%201.0%2C%20%22radius%22%3A%2026.974340020303398%2C%20%22stroke%22%3A%20true%2C%20%22weight%22%3A%203%7D%0A%20%20%20%20%20%20%20%20%20%20%20%20%29.addTo%28map_32cccead184a40808fc661e404ec6e39%29%3B%0A%20%20%20%20%20%20%20%20%0A%20%20%20%20%0A%20%20%20%20%20%20%20%20var%20popup_40306934723847519db242434981d904%20%3D%20L.popup%28%7B%22maxWidth%22%3A%20%22100%25%22%7D%29%3B%0A%0A%20%20%20%20%20%20%20%20%0A%20%20%20%20%20%20%20%20%20%20%20%20var%20html_8dff5c4fb5b64454b34eda01ecbe5d9f%20%3D%20%24%28%60%3Cdiv%20id%3D%22html_8dff5c4fb5b64454b34eda01ecbe5d9f%22%20style%3D%22width%3A%20100.0%25%3B%20height%3A%20100.0%25%3B%22%3EPakistan%3C/div%3E%60%29%5B0%5D%3B%0A%20%20%20%20%20%20%20%20%20%20%20%20popup_40306934723847519db242434981d904.setContent%28html_8dff5c4fb5b64454b34eda01ecbe5d9f%29%3B%0A%20%20%20%20%20%20%20%20%0A%0A%20%20%20%20%20%20%20%20circle_marker_2a1c3270127c41158268ac5caabb402f.bindPopup%28popup_40306934723847519db242434981d904%29%0A%20%20%20%20%20%20%20%20%3B%0A%0A%20%20%20%20%20%20%20%20%0A%20%20%20%20%0A%20%20%20%20%0A%20%20%20%20%20%20%20%20%20%20%20%20var%20circle_marker_444025dc0b454f1cb3d6827f469c1443%20%3D%20L.circleMarker%28%0A%20%20%20%20%20%20%20%20%20%20%20%20%20%20%20%20%5B8.9936%2C%20-79.51973%5D%2C%0A%20%20%20%20%20%20%20%20%20%20%20%20%20%20%20%20%7B%22bubblingMouseEvents%22%3A%20true%2C%20%22color%22%3A%20%22%233388ff%22%2C%20%22dashArray%22%3A%20null%2C%20%22dashOffset%22%3A%20null%2C%20%22fill%22%3A%20true%2C%20%22fillColor%22%3A%20%22green%22%2C%20%22fillOpacity%22%3A%200.2%2C%20%22fillRule%22%3A%20%22evenodd%22%2C%20%22lineCap%22%3A%20%22round%22%2C%20%22lineJoin%22%3A%20%22round%22%2C%20%22opacity%22%3A%201.0%2C%20%22radius%22%3A%202.15090943062721%2C%20%22stroke%22%3A%20true%2C%20%22weight%22%3A%203%7D%0A%20%20%20%20%20%20%20%20%20%20%20%20%29.addTo%28map_32cccead184a40808fc661e404ec6e39%29%3B%0A%20%20%20%20%20%20%20%20%0A%20%20%20%20%0A%20%20%20%20%20%20%20%20var%20popup_8883309f64bd41ac83246738081923ba%20%3D%20L.popup%28%7B%22maxWidth%22%3A%20%22100%25%22%7D%29%3B%0A%0A%20%20%20%20%20%20%20%20%0A%20%20%20%20%20%20%20%20%20%20%20%20var%20html_4e543c34785c45c68f87b71942282d4d%20%3D%20%24%28%60%3Cdiv%20id%3D%22html_4e543c34785c45c68f87b71942282d4d%22%20style%3D%22width%3A%20100.0%25%3B%20height%3A%20100.0%25%3B%22%3EPanama%3C/div%3E%60%29%5B0%5D%3B%0A%20%20%20%20%20%20%20%20%20%20%20%20popup_8883309f64bd41ac83246738081923ba.setContent%28html_4e543c34785c45c68f87b71942282d4d%29%3B%0A%20%20%20%20%20%20%20%20%0A%0A%20%20%20%20%20%20%20%20circle_marker_444025dc0b454f1cb3d6827f469c1443.bindPopup%28popup_8883309f64bd41ac83246738081923ba%29%0A%20%20%20%20%20%20%20%20%3B%0A%0A%20%20%20%20%20%20%20%20%0A%20%20%20%20%0A%20%20%20%20%0A%20%20%20%20%20%20%20%20%20%20%20%20var%20circle_marker_0c3a03afde214bf6a04d381f994ddfe9%20%3D%20L.circleMarker%28%0A%20%20%20%20%20%20%20%20%20%20%20%20%20%20%20%20%5B-10.0%2C%20-75.25%5D%2C%0A%20%20%20%20%20%20%20%20%20%20%20%20%20%20%20%20%7B%22bubblingMouseEvents%22%3A%20true%2C%20%22color%22%3A%20%22%233388ff%22%2C%20%22dashArray%22%3A%20null%2C%20%22dashOffset%22%3A%20null%2C%20%22fill%22%3A%20true%2C%20%22fillColor%22%3A%20%22green%22%2C%20%22fillOpacity%22%3A%200.2%2C%20%22fillRule%22%3A%20%22evenodd%22%2C%20%22lineCap%22%3A%20%22round%22%2C%20%22lineJoin%22%3A%20%22round%22%2C%20%22opacity%22%3A%201.0%2C%20%22radius%22%3A%205.167496139520397%2C%20%22stroke%22%3A%20true%2C%20%22weight%22%3A%203%7D%0A%20%20%20%20%20%20%20%20%20%20%20%20%29.addTo%28map_32cccead184a40808fc661e404ec6e39%29%3B%0A%20%20%20%20%20%20%20%20%0A%20%20%20%20%0A%20%20%20%20%20%20%20%20var%20popup_2fe6e738240941eba1748b99ae01aec3%20%3D%20L.popup%28%7B%22maxWidth%22%3A%20%22100%25%22%7D%29%3B%0A%0A%20%20%20%20%20%20%20%20%0A%20%20%20%20%20%20%20%20%20%20%20%20var%20html_f59cb853f6714dccb7687ee9719194ad%20%3D%20%24%28%60%3Cdiv%20id%3D%22html_f59cb853f6714dccb7687ee9719194ad%22%20style%3D%22width%3A%20100.0%25%3B%20height%3A%20100.0%25%3B%22%3EPeru%3C/div%3E%60%29%5B0%5D%3B%0A%20%20%20%20%20%20%20%20%20%20%20%20popup_2fe6e738240941eba1748b99ae01aec3.setContent%28html_f59cb853f6714dccb7687ee9719194ad%29%3B%0A%20%20%20%20%20%20%20%20%0A%0A%20%20%20%20%20%20%20%20circle_marker_0c3a03afde214bf6a04d381f994ddfe9.bindPopup%28popup_2fe6e738240941eba1748b99ae01aec3%29%0A%20%20%20%20%20%20%20%20%3B%0A%0A%20%20%20%20%20%20%20%20%0A%20%20%20%20%0A%20%20%20%20%0A%20%20%20%20%20%20%20%20%20%20%20%20var%20circle_marker_c90731fb42ef422f92bc3a54ec787212%20%3D%20L.circleMarker%28%0A%20%20%20%20%20%20%20%20%20%20%20%20%20%20%20%20%5B13.0%2C%20122.0%5D%2C%0A%20%20%20%20%20%20%20%20%20%20%20%20%20%20%20%20%7B%22bubblingMouseEvents%22%3A%20true%2C%20%22color%22%3A%20%22%233388ff%22%2C%20%22dashArray%22%3A%20null%2C%20%22dashOffset%22%3A%20null%2C%20%22fill%22%3A%20true%2C%20%22fillColor%22%3A%20%22red%22%2C%20%22fillOpacity%22%3A%200.2%2C%20%22fillRule%22%3A%20%22evenodd%22%2C%20%22lineCap%22%3A%20%22round%22%2C%20%22lineJoin%22%3A%20%22round%22%2C%20%22opacity%22%3A%201.0%2C%20%22radius%22%3A%2023.813948433342183%2C%20%22stroke%22%3A%20true%2C%20%22weight%22%3A%203%7D%0A%20%20%20%20%20%20%20%20%20%20%20%20%29.addTo%28map_32cccead184a40808fc661e404ec6e39%29%3B%0A%20%20%20%20%20%20%20%20%0A%20%20%20%20%0A%20%20%20%20%20%20%20%20var%20popup_f5b3e55022f84d9994aee4093d4a0be5%20%3D%20L.popup%28%7B%22maxWidth%22%3A%20%22100%25%22%7D%29%3B%0A%0A%20%20%20%20%20%20%20%20%0A%20%20%20%20%20%20%20%20%20%20%20%20var%20html_8f68fe964d684f70bcf2c5c406e0f376%20%3D%20%24%28%60%3Cdiv%20id%3D%22html_8f68fe964d684f70bcf2c5c406e0f376%22%20style%3D%22width%3A%20100.0%25%3B%20height%3A%20100.0%25%3B%22%3EPhilippines%3C/div%3E%60%29%5B0%5D%3B%0A%20%20%20%20%20%20%20%20%20%20%20%20popup_f5b3e55022f84d9994aee4093d4a0be5.setContent%28html_8f68fe964d684f70bcf2c5c406e0f376%29%3B%0A%20%20%20%20%20%20%20%20%0A%0A%20%20%20%20%20%20%20%20circle_marker_c90731fb42ef422f92bc3a54ec787212.bindPopup%28popup_f5b3e55022f84d9994aee4093d4a0be5%29%0A%20%20%20%20%20%20%20%20%3B%0A%0A%20%20%20%20%20%20%20%20%0A%20%20%20%20%0A%20%20%20%20%0A%20%20%20%20%20%20%20%20%20%20%20%20var%20circle_marker_9605fa164e5c48108e44af06e4a65917%20%3D%20L.circleMarker%28%0A%20%20%20%20%20%20%20%20%20%20%20%20%20%20%20%20%5B-6.0%2C%20147.0%5D%2C%0A%20%20%20%20%20%20%20%20%20%20%20%20%20%20%20%20%7B%22bubblingMouseEvents%22%3A%20true%2C%20%22color%22%3A%20%22%233388ff%22%2C%20%22dashArray%22%3A%20null%2C%20%22dashOffset%22%3A%20null%2C%20%22fill%22%3A%20true%2C%20%22fillColor%22%3A%20%22red%22%2C%20%22fillOpacity%22%3A%200.2%2C%20%22fillRule%22%3A%20%22evenodd%22%2C%20%22lineCap%22%3A%20%22round%22%2C%20%22lineJoin%22%3A%20%22round%22%2C%20%22opacity%22%3A%201.0%2C%20%22radius%22%3A%209.125985821420215%2C%20%22stroke%22%3A%20true%2C%20%22weight%22%3A%203%7D%0A%20%20%20%20%20%20%20%20%20%20%20%20%29.addTo%28map_32cccead184a40808fc661e404ec6e39%29%3B%0A%20%20%20%20%20%20%20%20%0A%20%20%20%20%0A%20%20%20%20%20%20%20%20var%20popup_038c76f700df41ddaff4042d44f62552%20%3D%20L.popup%28%7B%22maxWidth%22%3A%20%22100%25%22%7D%29%3B%0A%0A%20%20%20%20%20%20%20%20%0A%20%20%20%20%20%20%20%20%20%20%20%20var%20html_5c787adc19cc43e680d680bdae6a4fcd%20%3D%20%24%28%60%3Cdiv%20id%3D%22html_5c787adc19cc43e680d680bdae6a4fcd%22%20style%3D%22width%3A%20100.0%25%3B%20height%3A%20100.0%25%3B%22%3EPapua%20New%20Guinea%3C/div%3E%60%29%5B0%5D%3B%0A%20%20%20%20%20%20%20%20%20%20%20%20popup_038c76f700df41ddaff4042d44f62552.setContent%28html_5c787adc19cc43e680d680bdae6a4fcd%29%3B%0A%20%20%20%20%20%20%20%20%0A%0A%20%20%20%20%20%20%20%20circle_marker_9605fa164e5c48108e44af06e4a65917.bindPopup%28popup_038c76f700df41ddaff4042d44f62552%29%0A%20%20%20%20%20%20%20%20%3B%0A%0A%20%20%20%20%20%20%20%20%0A%20%20%20%20%0A%20%20%20%20%0A%20%20%20%20%20%20%20%20%20%20%20%20var%20circle_marker_2fb8ca3f8a5a491abce25783719b11fa%20%3D%20L.circleMarker%28%0A%20%20%20%20%20%20%20%20%20%20%20%20%20%20%20%20%5B52.0%2C%2020.0%5D%2C%0A%20%20%20%20%20%20%20%20%20%20%20%20%20%20%20%20%7B%22bubblingMouseEvents%22%3A%20true%2C%20%22color%22%3A%20%22%233388ff%22%2C%20%22dashArray%22%3A%20null%2C%20%22dashOffset%22%3A%20null%2C%20%22fill%22%3A%20true%2C%20%22fillColor%22%3A%20%22black%22%2C%20%22fillOpacity%22%3A%200.2%2C%20%22fillRule%22%3A%20%22evenodd%22%2C%20%22lineCap%22%3A%20%22round%22%2C%20%22lineJoin%22%3A%20%22round%22%2C%20%22opacity%22%3A%201.0%2C%20%22stroke%22%3A%20true%2C%20%22weight%22%3A%203%7D%0A%20%20%20%20%20%20%20%20%20%20%20%20%29.addTo%28map_32cccead184a40808fc661e404ec6e39%29%3B%0A%20%20%20%20%20%20%20%20%0A%20%20%20%20%0A%20%20%20%20%20%20%20%20var%20popup_e15cf26b02e44bf4aa6a14595e95303e%20%3D%20L.popup%28%7B%22maxWidth%22%3A%20%22100%25%22%7D%29%3B%0A%0A%20%20%20%20%20%20%20%20%0A%20%20%20%20%20%20%20%20%20%20%20%20var%20html_d24376726dbd46c3a71cde4e8d5293ce%20%3D%20%24%28%60%3Cdiv%20id%3D%22html_d24376726dbd46c3a71cde4e8d5293ce%22%20style%3D%22width%3A%20100.0%25%3B%20height%3A%20100.0%25%3B%22%3EPoland%3C/div%3E%60%29%5B0%5D%3B%0A%20%20%20%20%20%20%20%20%20%20%20%20popup_e15cf26b02e44bf4aa6a14595e95303e.setContent%28html_d24376726dbd46c3a71cde4e8d5293ce%29%3B%0A%20%20%20%20%20%20%20%20%0A%0A%20%20%20%20%20%20%20%20circle_marker_2fb8ca3f8a5a491abce25783719b11fa.bindPopup%28popup_e15cf26b02e44bf4aa6a14595e95303e%29%0A%20%20%20%20%20%20%20%20%3B%0A%0A%20%20%20%20%20%20%20%20%0A%20%20%20%20%0A%20%20%20%20%0A%20%20%20%20%20%20%20%20%20%20%20%20var%20circle_marker_ca4ed184f8bf412ab0f7e6fd6ebc81d1%20%3D%20L.circleMarker%28%0A%20%20%20%20%20%20%20%20%20%20%20%20%20%20%20%20%5B-23.33333%2C%20-58.0%5D%2C%0A%20%20%20%20%20%20%20%20%20%20%20%20%20%20%20%20%7B%22bubblingMouseEvents%22%3A%20true%2C%20%22color%22%3A%20%22%233388ff%22%2C%20%22dashArray%22%3A%20null%2C%20%22dashOffset%22%3A%20null%2C%20%22fill%22%3A%20true%2C%20%22fillColor%22%3A%20%22green%22%2C%20%22fillOpacity%22%3A%200.2%2C%20%22fillRule%22%3A%20%22evenodd%22%2C%20%22lineCap%22%3A%20%22round%22%2C%20%22lineJoin%22%3A%20%22round%22%2C%20%22opacity%22%3A%201.0%2C%20%22radius%22%3A%202.454808263447154%2C%20%22stroke%22%3A%20true%2C%20%22weight%22%3A%203%7D%0A%20%20%20%20%20%20%20%20%20%20%20%20%29.addTo%28map_32cccead184a40808fc661e404ec6e39%29%3B%0A%20%20%20%20%20%20%20%20%0A%20%20%20%20%0A%20%20%20%20%20%20%20%20var%20popup_9a3ac672b89c4208b661a1e4653ef079%20%3D%20L.popup%28%7B%22maxWidth%22%3A%20%22100%25%22%7D%29%3B%0A%0A%20%20%20%20%20%20%20%20%0A%20%20%20%20%20%20%20%20%20%20%20%20var%20html_1df9cb3f44cd48ffb735a8976fb0fee2%20%3D%20%24%28%60%3Cdiv%20id%3D%22html_1df9cb3f44cd48ffb735a8976fb0fee2%22%20style%3D%22width%3A%20100.0%25%3B%20height%3A%20100.0%25%3B%22%3EParaguay%3C/div%3E%60%29%5B0%5D%3B%0A%20%20%20%20%20%20%20%20%20%20%20%20popup_9a3ac672b89c4208b661a1e4653ef079.setContent%28html_1df9cb3f44cd48ffb735a8976fb0fee2%29%3B%0A%20%20%20%20%20%20%20%20%0A%0A%20%20%20%20%20%20%20%20circle_marker_ca4ed184f8bf412ab0f7e6fd6ebc81d1.bindPopup%28popup_9a3ac672b89c4208b661a1e4653ef079%29%0A%20%20%20%20%20%20%20%20%3B%0A%0A%20%20%20%20%20%20%20%20%0A%20%20%20%20%0A%20%20%20%20%0A%20%20%20%20%20%20%20%20%20%20%20%20var%20circle_marker_58c2697f403e425cb5a5ce755ee1e73c%20%3D%20L.circleMarker%28%0A%20%20%20%20%20%20%20%20%20%20%20%20%20%20%20%20%5B31.92157%2C%2035.20329%5D%2C%0A%20%20%20%20%20%20%20%20%20%20%20%20%20%20%20%20%7B%22bubblingMouseEvents%22%3A%20true%2C%20%22color%22%3A%20%22%233388ff%22%2C%20%22dashArray%22%3A%20null%2C%20%22dashOffset%22%3A%20null%2C%20%22fill%22%3A%20true%2C%20%22fillColor%22%3A%20%22red%22%2C%20%22fillOpacity%22%3A%200.2%2C%20%22fillRule%22%3A%20%22evenodd%22%2C%20%22lineCap%22%3A%20%22round%22%2C%20%22lineJoin%22%3A%20%22round%22%2C%20%22opacity%22%3A%201.0%2C%20%22radius%22%3A%200.3213900403973964%2C%20%22stroke%22%3A%20true%2C%20%22weight%22%3A%203%7D%0A%20%20%20%20%20%20%20%20%20%20%20%20%29.addTo%28map_32cccead184a40808fc661e404ec6e39%29%3B%0A%20%20%20%20%20%20%20%20%0A%20%20%20%20%0A%20%20%20%20%20%20%20%20var%20popup_b38202d134664f9fbfc6f041225e38c9%20%3D%20L.popup%28%7B%22maxWidth%22%3A%20%22100%25%22%7D%29%3B%0A%0A%20%20%20%20%20%20%20%20%0A%20%20%20%20%20%20%20%20%20%20%20%20var%20html_6243054ad4a74c589a1ccedbf7cdff7d%20%3D%20%24%28%60%3Cdiv%20id%3D%22html_6243054ad4a74c589a1ccedbf7cdff7d%22%20style%3D%22width%3A%20100.0%25%3B%20height%3A%20100.0%25%3B%22%3EPalestine%3C/div%3E%60%29%5B0%5D%3B%0A%20%20%20%20%20%20%20%20%20%20%20%20popup_b38202d134664f9fbfc6f041225e38c9.setContent%28html_6243054ad4a74c589a1ccedbf7cdff7d%29%3B%0A%20%20%20%20%20%20%20%20%0A%0A%20%20%20%20%20%20%20%20circle_marker_58c2697f403e425cb5a5ce755ee1e73c.bindPopup%28popup_b38202d134664f9fbfc6f041225e38c9%29%0A%20%20%20%20%20%20%20%20%3B%0A%0A%20%20%20%20%20%20%20%20%0A%20%20%20%20%0A%20%20%20%20%0A%20%20%20%20%20%20%20%20%20%20%20%20var%20circle_marker_7284d98e0acc4e138e1d4e177723fbc7%20%3D%20L.circleMarker%28%0A%20%20%20%20%20%20%20%20%20%20%20%20%20%20%20%20%5B46.0%2C%2025.0%5D%2C%0A%20%20%20%20%20%20%20%20%20%20%20%20%20%20%20%20%7B%22bubblingMouseEvents%22%3A%20true%2C%20%22color%22%3A%20%22%233388ff%22%2C%20%22dashArray%22%3A%20null%2C%20%22dashOffset%22%3A%20null%2C%20%22fill%22%3A%20true%2C%20%22fillColor%22%3A%20%22black%22%2C%20%22fillOpacity%22%3A%200.2%2C%20%22fillRule%22%3A%20%22evenodd%22%2C%20%22lineCap%22%3A%20%22round%22%2C%20%22lineJoin%22%3A%20%22round%22%2C%20%22opacity%22%3A%201.0%2C%20%22stroke%22%3A%20true%2C%20%22weight%22%3A%203%7D%0A%20%20%20%20%20%20%20%20%20%20%20%20%29.addTo%28map_32cccead184a40808fc661e404ec6e39%29%3B%0A%20%20%20%20%20%20%20%20%0A%20%20%20%20%0A%20%20%20%20%20%20%20%20var%20popup_a0cdfb9d471d46658272f5d9a03a9fc2%20%3D%20L.popup%28%7B%22maxWidth%22%3A%20%22100%25%22%7D%29%3B%0A%0A%20%20%20%20%20%20%20%20%0A%20%20%20%20%20%20%20%20%20%20%20%20var%20html_70db23bb34cd40e9b213e9e294c412ef%20%3D%20%24%28%60%3Cdiv%20id%3D%22html_70db23bb34cd40e9b213e9e294c412ef%22%20style%3D%22width%3A%20100.0%25%3B%20height%3A%20100.0%25%3B%22%3ERomania%3C/div%3E%60%29%5B0%5D%3B%0A%20%20%20%20%20%20%20%20%20%20%20%20popup_a0cdfb9d471d46658272f5d9a03a9fc2.setContent%28html_70db23bb34cd40e9b213e9e294c412ef%29%3B%0A%20%20%20%20%20%20%20%20%0A%0A%20%20%20%20%20%20%20%20circle_marker_7284d98e0acc4e138e1d4e177723fbc7.bindPopup%28popup_a0cdfb9d471d46658272f5d9a03a9fc2%29%0A%20%20%20%20%20%20%20%20%3B%0A%0A%20%20%20%20%20%20%20%20%0A%20%20%20%20%0A%20%20%20%20%0A%20%20%20%20%20%20%20%20%20%20%20%20var%20circle_marker_640f706ccc474cdd80f5a16f2b3e98bd%20%3D%20L.circleMarker%28%0A%20%20%20%20%20%20%20%20%20%20%20%20%20%20%20%20%5B60.0%2C%20100.0%5D%2C%0A%20%20%20%20%20%20%20%20%20%20%20%20%20%20%20%20%7B%22bubblingMouseEvents%22%3A%20true%2C%20%22color%22%3A%20%22%233388ff%22%2C%20%22dashArray%22%3A%20null%2C%20%22dashOffset%22%3A%20null%2C%20%22fill%22%3A%20true%2C%20%22fillColor%22%3A%20%22black%22%2C%20%22fillOpacity%22%3A%200.2%2C%20%22fillRule%22%3A%20%22evenodd%22%2C%20%22lineCap%22%3A%20%22round%22%2C%20%22lineJoin%22%3A%20%22round%22%2C%20%22opacity%22%3A%201.0%2C%20%22radius%22%3A%201.1705268361253016%2C%20%22stroke%22%3A%20true%2C%20%22weight%22%3A%203%7D%0A%20%20%20%20%20%20%20%20%20%20%20%20%29.addTo%28map_32cccead184a40808fc661e404ec6e39%29%3B%0A%20%20%20%20%20%20%20%20%0A%20%20%20%20%0A%20%20%20%20%20%20%20%20var%20popup_e09970efecd8483d8d6ccb5989c09d6e%20%3D%20L.popup%28%7B%22maxWidth%22%3A%20%22100%25%22%7D%29%3B%0A%0A%20%20%20%20%20%20%20%20%0A%20%20%20%20%20%20%20%20%20%20%20%20var%20html_f2a28f711e114047994b6b504047060a%20%3D%20%24%28%60%3Cdiv%20id%3D%22html_f2a28f711e114047994b6b504047060a%22%20style%3D%22width%3A%20100.0%25%3B%20height%3A%20100.0%25%3B%22%3ERussia%3C/div%3E%60%29%5B0%5D%3B%0A%20%20%20%20%20%20%20%20%20%20%20%20popup_e09970efecd8483d8d6ccb5989c09d6e.setContent%28html_f2a28f711e114047994b6b504047060a%29%3B%0A%20%20%20%20%20%20%20%20%0A%0A%20%20%20%20%20%20%20%20circle_marker_640f706ccc474cdd80f5a16f2b3e98bd.bindPopup%28popup_e09970efecd8483d8d6ccb5989c09d6e%29%0A%20%20%20%20%20%20%20%20%3B%0A%0A%20%20%20%20%20%20%20%20%0A%20%20%20%20%0A%20%20%20%20%0A%20%20%20%20%20%20%20%20%20%20%20%20var%20circle_marker_a4574866e693454f832da7d7eb72507a%20%3D%20L.circleMarker%28%0A%20%20%20%20%20%20%20%20%20%20%20%20%20%20%20%20%5B-2.0%2C%2030.0%5D%2C%0A%20%20%20%20%20%20%20%20%20%20%20%20%20%20%20%20%7B%22bubblingMouseEvents%22%3A%20true%2C%20%22color%22%3A%20%22%233388ff%22%2C%20%22dashArray%22%3A%20null%2C%20%22dashOffset%22%3A%20null%2C%20%22fill%22%3A%20true%2C%20%22fillColor%22%3A%20%22blue%22%2C%20%22fillOpacity%22%3A%200.2%2C%20%22fillRule%22%3A%20%22evenodd%22%2C%20%22lineCap%22%3A%20%22round%22%2C%20%22lineJoin%22%3A%20%22round%22%2C%20%22opacity%22%3A%201.0%2C%20%22radius%22%3A%2014.191124420279852%2C%20%22stroke%22%3A%20true%2C%20%22weight%22%3A%203%7D%0A%20%20%20%20%20%20%20%20%20%20%20%20%29.addTo%28map_32cccead184a40808fc661e404ec6e39%29%3B%0A%20%20%20%20%20%20%20%20%0A%20%20%20%20%0A%20%20%20%20%20%20%20%20var%20popup_ba2685b603134deea48bd86579f4b90c%20%3D%20L.popup%28%7B%22maxWidth%22%3A%20%22100%25%22%7D%29%3B%0A%0A%20%20%20%20%20%20%20%20%0A%20%20%20%20%20%20%20%20%20%20%20%20var%20html_18011b442e424220aed7ad1e558076b2%20%3D%20%24%28%60%3Cdiv%20id%3D%22html_18011b442e424220aed7ad1e558076b2%22%20style%3D%22width%3A%20100.0%25%3B%20height%3A%20100.0%25%3B%22%3ERwanda%3C/div%3E%60%29%5B0%5D%3B%0A%20%20%20%20%20%20%20%20%20%20%20%20popup_ba2685b603134deea48bd86579f4b90c.setContent%28html_18011b442e424220aed7ad1e558076b2%29%3B%0A%20%20%20%20%20%20%20%20%0A%0A%20%20%20%20%20%20%20%20circle_marker_a4574866e693454f832da7d7eb72507a.bindPopup%28popup_ba2685b603134deea48bd86579f4b90c%29%0A%20%20%20%20%20%20%20%20%3B%0A%0A%20%20%20%20%20%20%20%20%0A%20%20%20%20%0A%20%20%20%20%0A%20%20%20%20%20%20%20%20%20%20%20%20var%20circle_marker_c8a39090b2b744abbecad12bebcc6938%20%3D%20L.circleMarker%28%0A%20%20%20%20%20%20%20%20%20%20%20%20%20%20%20%20%5B16.0%2C%2030.0%5D%2C%0A%20%20%20%20%20%20%20%20%20%20%20%20%20%20%20%20%7B%22bubblingMouseEvents%22%3A%20true%2C%20%22color%22%3A%20%22%233388ff%22%2C%20%22dashArray%22%3A%20null%2C%20%22dashOffset%22%3A%20null%2C%20%22fill%22%3A%20true%2C%20%22fillColor%22%3A%20%22blue%22%2C%20%22fillOpacity%22%3A%200.2%2C%20%22fillRule%22%3A%20%22evenodd%22%2C%20%22lineCap%22%3A%20%22round%22%2C%20%22lineJoin%22%3A%20%22round%22%2C%20%22opacity%22%3A%201.0%2C%20%22radius%22%3A%2014.75537843817308%2C%20%22stroke%22%3A%20true%2C%20%22weight%22%3A%203%7D%0A%20%20%20%20%20%20%20%20%20%20%20%20%29.addTo%28map_32cccead184a40808fc661e404ec6e39%29%3B%0A%20%20%20%20%20%20%20%20%0A%20%20%20%20%0A%20%20%20%20%20%20%20%20var%20popup_fc930c575dad4193b9fcf9c9d3d431f6%20%3D%20L.popup%28%7B%22maxWidth%22%3A%20%22100%25%22%7D%29%3B%0A%0A%20%20%20%20%20%20%20%20%0A%20%20%20%20%20%20%20%20%20%20%20%20var%20html_f079201291154525a87c3aad28b4d0c9%20%3D%20%24%28%60%3Cdiv%20id%3D%22html_f079201291154525a87c3aad28b4d0c9%22%20style%3D%22width%3A%20100.0%25%3B%20height%3A%20100.0%25%3B%22%3ESudan%3C/div%3E%60%29%5B0%5D%3B%0A%20%20%20%20%20%20%20%20%20%20%20%20popup_fc930c575dad4193b9fcf9c9d3d431f6.setContent%28html_f079201291154525a87c3aad28b4d0c9%29%3B%0A%20%20%20%20%20%20%20%20%0A%0A%20%20%20%20%20%20%20%20circle_marker_c8a39090b2b744abbecad12bebcc6938.bindPopup%28popup_fc930c575dad4193b9fcf9c9d3d431f6%29%0A%20%20%20%20%20%20%20%20%3B%0A%0A%20%20%20%20%20%20%20%20%0A%20%20%20%20%0A%20%20%20%20%0A%20%20%20%20%20%20%20%20%20%20%20%20var%20circle_marker_e5502987791646bb8575549bfe241b73%20%3D%20L.circleMarker%28%0A%20%20%20%20%20%20%20%20%20%20%20%20%20%20%20%20%5B14.5%2C%20-14.25%5D%2C%0A%20%20%20%20%20%20%20%20%20%20%20%20%20%20%20%20%7B%22bubblingMouseEvents%22%3A%20true%2C%20%22color%22%3A%20%22%233388ff%22%2C%20%22dashArray%22%3A%20null%2C%20%22dashOffset%22%3A%20null%2C%20%22fill%22%3A%20true%2C%20%22fillColor%22%3A%20%22blue%22%2C%20%22fillOpacity%22%3A%200.2%2C%20%22fillRule%22%3A%20%22evenodd%22%2C%20%22lineCap%22%3A%20%22round%22%2C%20%22lineJoin%22%3A%20%22round%22%2C%20%22opacity%22%3A%201.0%2C%20%22radius%22%3A%2011.723984438242729%2C%20%22stroke%22%3A%20true%2C%20%22weight%22%3A%203%7D%0A%20%20%20%20%20%20%20%20%20%20%20%20%29.addTo%28map_32cccead184a40808fc661e404ec6e39%29%3B%0A%20%20%20%20%20%20%20%20%0A%20%20%20%20%0A%20%20%20%20%20%20%20%20var%20popup_272de0b8352848e588dce1fb9cb49952%20%3D%20L.popup%28%7B%22maxWidth%22%3A%20%22100%25%22%7D%29%3B%0A%0A%20%20%20%20%20%20%20%20%0A%20%20%20%20%20%20%20%20%20%20%20%20var%20html_d29be5a9302f456bb9cc344dcfc3854a%20%3D%20%24%28%60%3Cdiv%20id%3D%22html_d29be5a9302f456bb9cc344dcfc3854a%22%20style%3D%22width%3A%20100.0%25%3B%20height%3A%20100.0%25%3B%22%3ESenegal%3C/div%3E%60%29%5B0%5D%3B%0A%20%20%20%20%20%20%20%20%20%20%20%20popup_272de0b8352848e588dce1fb9cb49952.setContent%28html_d29be5a9302f456bb9cc344dcfc3854a%29%3B%0A%20%20%20%20%20%20%20%20%0A%0A%20%20%20%20%20%20%20%20circle_marker_e5502987791646bb8575549bfe241b73.bindPopup%28popup_272de0b8352848e588dce1fb9cb49952%29%0A%20%20%20%20%20%20%20%20%3B%0A%0A%20%20%20%20%20%20%20%20%0A%20%20%20%20%0A%20%20%20%20%0A%20%20%20%20%20%20%20%20%20%20%20%20var%20circle_marker_252acfe8946749feb2f8e56ec2b87b0d%20%3D%20L.circleMarker%28%0A%20%20%20%20%20%20%20%20%20%20%20%20%20%20%20%20%5B8.5%2C%20-11.5%5D%2C%0A%20%20%20%20%20%20%20%20%20%20%20%20%20%20%20%20%7B%22bubblingMouseEvents%22%3A%20true%2C%20%22color%22%3A%20%22%233388ff%22%2C%20%22dashArray%22%3A%20null%2C%20%22dashOffset%22%3A%20null%2C%20%22fill%22%3A%20true%2C%20%22fillColor%22%3A%20%22blue%22%2C%20%22fillOpacity%22%3A%200.2%2C%20%22fillRule%22%3A%20%22evenodd%22%2C%20%22lineCap%22%3A%20%22round%22%2C%20%22lineJoin%22%3A%20%22round%22%2C%20%22opacity%22%3A%201.0%2C%20%22radius%22%3A%2010.75395518279574%2C%20%22stroke%22%3A%20true%2C%20%22weight%22%3A%203%7D%0A%20%20%20%20%20%20%20%20%20%20%20%20%29.addTo%28map_32cccead184a40808fc661e404ec6e39%29%3B%0A%20%20%20%20%20%20%20%20%0A%20%20%20%20%0A%20%20%20%20%20%20%20%20var%20popup_9527d47e31854d3a9e87d76885d1283c%20%3D%20L.popup%28%7B%22maxWidth%22%3A%20%22100%25%22%7D%29%3B%0A%0A%20%20%20%20%20%20%20%20%0A%20%20%20%20%20%20%20%20%20%20%20%20var%20html_ada6803b4b40454fad42436e3aff50d7%20%3D%20%24%28%60%3Cdiv%20id%3D%22html_ada6803b4b40454fad42436e3aff50d7%22%20style%3D%22width%3A%20100.0%25%3B%20height%3A%20100.0%25%3B%22%3ESierra%20Leone%3C/div%3E%60%29%5B0%5D%3B%0A%20%20%20%20%20%20%20%20%20%20%20%20popup_9527d47e31854d3a9e87d76885d1283c.setContent%28html_ada6803b4b40454fad42436e3aff50d7%29%3B%0A%20%20%20%20%20%20%20%20%0A%0A%20%20%20%20%20%20%20%20circle_marker_252acfe8946749feb2f8e56ec2b87b0d.bindPopup%28popup_9527d47e31854d3a9e87d76885d1283c%29%0A%20%20%20%20%20%20%20%20%3B%0A%0A%20%20%20%20%20%20%20%20%0A%20%20%20%20%0A%20%20%20%20%0A%20%20%20%20%20%20%20%20%20%20%20%20var%20circle_marker_e95f12a8f8ea4cdd9d1cee58faa2dc79%20%3D%20L.circleMarker%28%0A%20%20%20%20%20%20%20%20%20%20%20%20%20%20%20%20%5B13.83333%2C%20-88.91667%5D%2C%0A%20%20%20%20%20%20%20%20%20%20%20%20%20%20%20%20%7B%22bubblingMouseEvents%22%3A%20true%2C%20%22color%22%3A%20%22%233388ff%22%2C%20%22dashArray%22%3A%20null%2C%20%22dashOffset%22%3A%20null%2C%20%22fill%22%3A%20true%2C%20%22fillColor%22%3A%20%22green%22%2C%20%22fillOpacity%22%3A%200.2%2C%20%22fillRule%22%3A%20%22evenodd%22%2C%20%22lineCap%22%3A%20%22round%22%2C%20%22lineJoin%22%3A%20%22round%22%2C%20%22opacity%22%3A%201.0%2C%20%22radius%22%3A%202.231596251861578%2C%20%22stroke%22%3A%20true%2C%20%22weight%22%3A%203%7D%0A%20%20%20%20%20%20%20%20%20%20%20%20%29.addTo%28map_32cccead184a40808fc661e404ec6e39%29%3B%0A%20%20%20%20%20%20%20%20%0A%20%20%20%20%0A%20%20%20%20%20%20%20%20var%20popup_ba8fd1b664e5416ab53afb47a89ce857%20%3D%20L.popup%28%7B%22maxWidth%22%3A%20%22100%25%22%7D%29%3B%0A%0A%20%20%20%20%20%20%20%20%0A%20%20%20%20%20%20%20%20%20%20%20%20var%20html_d1ed7405899543a1b0fa6c2bbde0e39a%20%3D%20%24%28%60%3Cdiv%20id%3D%22html_d1ed7405899543a1b0fa6c2bbde0e39a%22%20style%3D%22width%3A%20100.0%25%3B%20height%3A%20100.0%25%3B%22%3EEl%20Salvador%3C/div%3E%60%29%5B0%5D%3B%0A%20%20%20%20%20%20%20%20%20%20%20%20popup_ba8fd1b664e5416ab53afb47a89ce857.setContent%28html_d1ed7405899543a1b0fa6c2bbde0e39a%29%3B%0A%20%20%20%20%20%20%20%20%0A%0A%20%20%20%20%20%20%20%20circle_marker_e95f12a8f8ea4cdd9d1cee58faa2dc79.bindPopup%28popup_ba8fd1b664e5416ab53afb47a89ce857%29%0A%20%20%20%20%20%20%20%20%3B%0A%0A%20%20%20%20%20%20%20%20%0A%20%20%20%20%0A%20%20%20%20%0A%20%20%20%20%20%20%20%20%20%20%20%20var%20circle_marker_d63a7c19345e4cd3b43cc5974a73aa60%20%3D%20L.circleMarker%28%0A%20%20%20%20%20%20%20%20%20%20%20%20%20%20%20%20%5B44.81892%2C%2020.45998%5D%2C%0A%20%20%20%20%20%20%20%20%20%20%20%20%20%20%20%20%7B%22bubblingMouseEvents%22%3A%20true%2C%20%22color%22%3A%20%22%233388ff%22%2C%20%22dashArray%22%3A%20null%2C%20%22dashOffset%22%3A%20null%2C%20%22fill%22%3A%20true%2C%20%22fillColor%22%3A%20%22black%22%2C%20%22fillOpacity%22%3A%200.2%2C%20%22fillRule%22%3A%20%22evenodd%22%2C%20%22lineCap%22%3A%20%22round%22%2C%20%22lineJoin%22%3A%20%22round%22%2C%20%22opacity%22%3A%201.0%2C%20%22radius%22%3A%200.37830163207185913%2C%20%22stroke%22%3A%20true%2C%20%22weight%22%3A%203%7D%0A%20%20%20%20%20%20%20%20%20%20%20%20%29.addTo%28map_32cccead184a40808fc661e404ec6e39%29%3B%0A%20%20%20%20%20%20%20%20%0A%20%20%20%20%0A%20%20%20%20%20%20%20%20var%20popup_8698da0a97c24bc29c288cabfd9e5f09%20%3D%20L.popup%28%7B%22maxWidth%22%3A%20%22100%25%22%7D%29%3B%0A%0A%20%20%20%20%20%20%20%20%0A%20%20%20%20%20%20%20%20%20%20%20%20var%20html_3e72ae8a4a8c40cb9080641b7ef47e23%20%3D%20%24%28%60%3Cdiv%20id%3D%22html_3e72ae8a4a8c40cb9080641b7ef47e23%22%20style%3D%22width%3A%20100.0%25%3B%20height%3A%20100.0%25%3B%22%3ESerbia%3C/div%3E%60%29%5B0%5D%3B%0A%20%20%20%20%20%20%20%20%20%20%20%20popup_8698da0a97c24bc29c288cabfd9e5f09.setContent%28html_3e72ae8a4a8c40cb9080641b7ef47e23%29%3B%0A%20%20%20%20%20%20%20%20%0A%0A%20%20%20%20%20%20%20%20circle_marker_d63a7c19345e4cd3b43cc5974a73aa60.bindPopup%28popup_8698da0a97c24bc29c288cabfd9e5f09%29%0A%20%20%20%20%20%20%20%20%3B%0A%0A%20%20%20%20%20%20%20%20%0A%20%20%20%20%0A%20%20%20%20%0A%20%20%20%20%20%20%20%20%20%20%20%20var%20circle_marker_a15867620772467fbb5675ee34584cd4%20%3D%20L.circleMarker%28%0A%20%20%20%20%20%20%20%20%20%20%20%20%20%20%20%20%5B1.0%2C%207.0%5D%2C%0A%20%20%20%20%20%20%20%20%20%20%20%20%20%20%20%20%7B%22bubblingMouseEvents%22%3A%20true%2C%20%22color%22%3A%20%22%233388ff%22%2C%20%22dashArray%22%3A%20null%2C%20%22dashOffset%22%3A%20null%2C%20%22fill%22%3A%20true%2C%20%22fillColor%22%3A%20%22blue%22%2C%20%22fillOpacity%22%3A%200.2%2C%20%22fillRule%22%3A%20%22evenodd%22%2C%20%22lineCap%22%3A%20%22round%22%2C%20%22lineJoin%22%3A%20%22round%22%2C%20%22opacity%22%3A%201.0%2C%20%22radius%22%3A%201.5808990803845295%2C%20%22stroke%22%3A%20true%2C%20%22weight%22%3A%203%7D%0A%20%20%20%20%20%20%20%20%20%20%20%20%29.addTo%28map_32cccead184a40808fc661e404ec6e39%29%3B%0A%20%20%20%20%20%20%20%20%0A%20%20%20%20%0A%20%20%20%20%20%20%20%20var%20popup_534c60c464f444a59b5d0937d91a1b8c%20%3D%20L.popup%28%7B%22maxWidth%22%3A%20%22100%25%22%7D%29%3B%0A%0A%20%20%20%20%20%20%20%20%0A%20%20%20%20%20%20%20%20%20%20%20%20var%20html_014363c264c74f99a1aec219f32bc94c%20%3D%20%24%28%60%3Cdiv%20id%3D%22html_014363c264c74f99a1aec219f32bc94c%22%20style%3D%22width%3A%20100.0%25%3B%20height%3A%20100.0%25%3B%22%3ESao%20Tome%20and%20Principe%3C/div%3E%60%29%5B0%5D%3B%0A%20%20%20%20%20%20%20%20%20%20%20%20popup_534c60c464f444a59b5d0937d91a1b8c.setContent%28html_014363c264c74f99a1aec219f32bc94c%29%3B%0A%20%20%20%20%20%20%20%20%0A%0A%20%20%20%20%20%20%20%20circle_marker_a15867620772467fbb5675ee34584cd4.bindPopup%28popup_534c60c464f444a59b5d0937d91a1b8c%29%0A%20%20%20%20%20%20%20%20%3B%0A%0A%20%20%20%20%20%20%20%20%0A%20%20%20%20%0A%20%20%20%20%0A%20%20%20%20%20%20%20%20%20%20%20%20var%20circle_marker_243b107dc0fe4cfdb73c2b831f897ded%20%3D%20L.circleMarker%28%0A%20%20%20%20%20%20%20%20%20%20%20%20%20%20%20%20%5B4.0%2C%20-56.0%5D%2C%0A%20%20%20%20%20%20%20%20%20%20%20%20%20%20%20%20%7B%22bubblingMouseEvents%22%3A%20true%2C%20%22color%22%3A%20%22%233388ff%22%2C%20%22dashArray%22%3A%20null%2C%20%22dashOffset%22%3A%20null%2C%20%22fill%22%3A%20true%2C%20%22fillColor%22%3A%20%22green%22%2C%20%22fillOpacity%22%3A%200.2%2C%20%22fillRule%22%3A%20%22evenodd%22%2C%20%22lineCap%22%3A%20%22round%22%2C%20%22lineJoin%22%3A%20%22round%22%2C%20%22opacity%22%3A%201.0%2C%20%22radius%22%3A%201.6178179347920572%2C%20%22stroke%22%3A%20true%2C%20%22weight%22%3A%203%7D%0A%20%20%20%20%20%20%20%20%20%20%20%20%29.addTo%28map_32cccead184a40808fc661e404ec6e39%29%3B%0A%20%20%20%20%20%20%20%20%0A%20%20%20%20%0A%20%20%20%20%20%20%20%20var%20popup_5f303c9ac27f4c0a881f9d12fc761236%20%3D%20L.popup%28%7B%22maxWidth%22%3A%20%22100%25%22%7D%29%3B%0A%0A%20%20%20%20%20%20%20%20%0A%20%20%20%20%20%20%20%20%20%20%20%20var%20html_93cd0252b1994bde8d6a5950fcbee569%20%3D%20%24%28%60%3Cdiv%20id%3D%22html_93cd0252b1994bde8d6a5950fcbee569%22%20style%3D%22width%3A%20100.0%25%3B%20height%3A%20100.0%25%3B%22%3ESuriname%3C/div%3E%60%29%5B0%5D%3B%0A%20%20%20%20%20%20%20%20%20%20%20%20popup_5f303c9ac27f4c0a881f9d12fc761236.setContent%28html_93cd0252b1994bde8d6a5950fcbee569%29%3B%0A%20%20%20%20%20%20%20%20%0A%0A%20%20%20%20%20%20%20%20circle_marker_243b107dc0fe4cfdb73c2b831f897ded.bindPopup%28popup_5f303c9ac27f4c0a881f9d12fc761236%29%0A%20%20%20%20%20%20%20%20%3B%0A%0A%20%20%20%20%20%20%20%20%0A%20%20%20%20%0A%20%20%20%20%0A%20%20%20%20%20%20%20%20%20%20%20%20var%20circle_marker_56d70e3e71524e7c8fbaff8b902ffd23%20%3D%20L.circleMarker%28%0A%20%20%20%20%20%20%20%20%20%20%20%20%20%20%20%20%5B48.66667%2C%2019.5%5D%2C%0A%20%20%20%20%20%20%20%20%20%20%20%20%20%20%20%20%7B%22bubblingMouseEvents%22%3A%20true%2C%20%22color%22%3A%20%22%233388ff%22%2C%20%22dashArray%22%3A%20null%2C%20%22dashOffset%22%3A%20null%2C%20%22fill%22%3A%20true%2C%20%22fillColor%22%3A%20%22black%22%2C%20%22fillOpacity%22%3A%200.2%2C%20%22fillRule%22%3A%20%22evenodd%22%2C%20%22lineCap%22%3A%20%22round%22%2C%20%22lineJoin%22%3A%20%22round%22%2C%20%22opacity%22%3A%201.0%2C%20%22radius%22%3A%200.7183841719231987%2C%20%22stroke%22%3A%20true%2C%20%22weight%22%3A%203%7D%0A%20%20%20%20%20%20%20%20%20%20%20%20%29.addTo%28map_32cccead184a40808fc661e404ec6e39%29%3B%0A%20%20%20%20%20%20%20%20%0A%20%20%20%20%0A%20%20%20%20%20%20%20%20var%20popup_9b2a53a330194c368a77a9e6fb8ca1db%20%3D%20L.popup%28%7B%22maxWidth%22%3A%20%22100%25%22%7D%29%3B%0A%0A%20%20%20%20%20%20%20%20%0A%20%20%20%20%20%20%20%20%20%20%20%20var%20html_88eb12ec60d64eed88ba9bba625af072%20%3D%20%24%28%60%3Cdiv%20id%3D%22html_88eb12ec60d64eed88ba9bba625af072%22%20style%3D%22width%3A%20100.0%25%3B%20height%3A%20100.0%25%3B%22%3ESlovak%20Republic%3C/div%3E%60%29%5B0%5D%3B%0A%20%20%20%20%20%20%20%20%20%20%20%20popup_9b2a53a330194c368a77a9e6fb8ca1db.setContent%28html_88eb12ec60d64eed88ba9bba625af072%29%3B%0A%20%20%20%20%20%20%20%20%0A%0A%20%20%20%20%20%20%20%20circle_marker_56d70e3e71524e7c8fbaff8b902ffd23.bindPopup%28popup_9b2a53a330194c368a77a9e6fb8ca1db%29%0A%20%20%20%20%20%20%20%20%3B%0A%0A%20%20%20%20%20%20%20%20%0A%20%20%20%20%0A%20%20%20%20%0A%20%20%20%20%20%20%20%20%20%20%20%20var%20circle_marker_98a26e2ec7f143a2a6751530b1508dc4%20%3D%20L.circleMarker%28%0A%20%20%20%20%20%20%20%20%20%20%20%20%20%20%20%20%5B46.08333%2C%2015.0%5D%2C%0A%20%20%20%20%20%20%20%20%20%20%20%20%20%20%20%20%7B%22bubblingMouseEvents%22%3A%20true%2C%20%22color%22%3A%20%22%233388ff%22%2C%20%22dashArray%22%3A%20null%2C%20%22dashOffset%22%3A%20null%2C%20%22fill%22%3A%20true%2C%20%22fillColor%22%3A%20%22black%22%2C%20%22fillOpacity%22%3A%200.2%2C%20%22fillRule%22%3A%20%22evenodd%22%2C%20%22lineCap%22%3A%20%22round%22%2C%20%22lineJoin%22%3A%20%22round%22%2C%20%22opacity%22%3A%201.0%2C%20%22stroke%22%3A%20true%2C%20%22weight%22%3A%203%7D%0A%20%20%20%20%20%20%20%20%20%20%20%20%29.addTo%28map_32cccead184a40808fc661e404ec6e39%29%3B%0A%20%20%20%20%20%20%20%20%0A%20%20%20%20%0A%20%20%20%20%20%20%20%20var%20popup_962ecbc2d55544b8a60a694f3ace8efb%20%3D%20L.popup%28%7B%22maxWidth%22%3A%20%22100%25%22%7D%29%3B%0A%0A%20%20%20%20%20%20%20%20%0A%20%20%20%20%20%20%20%20%20%20%20%20var%20html_a653df8e764340e9a29f48751fc5e61a%20%3D%20%24%28%60%3Cdiv%20id%3D%22html_a653df8e764340e9a29f48751fc5e61a%22%20style%3D%22width%3A%20100.0%25%3B%20height%3A%20100.0%25%3B%22%3ESlovenia%3C/div%3E%60%29%5B0%5D%3B%0A%20%20%20%20%20%20%20%20%20%20%20%20popup_962ecbc2d55544b8a60a694f3ace8efb.setContent%28html_a653df8e764340e9a29f48751fc5e61a%29%3B%0A%20%20%20%20%20%20%20%20%0A%0A%20%20%20%20%20%20%20%20circle_marker_98a26e2ec7f143a2a6751530b1508dc4.bindPopup%28popup_962ecbc2d55544b8a60a694f3ace8efb%29%0A%20%20%20%20%20%20%20%20%3B%0A%0A%20%20%20%20%20%20%20%20%0A%20%20%20%20%0A%20%20%20%20%0A%20%20%20%20%20%20%20%20%20%20%20%20var%20circle_marker_655d398f601c45f1946e9d0c78a0594b%20%3D%20L.circleMarker%28%0A%20%20%20%20%20%20%20%20%20%20%20%20%20%20%20%20%5B62.0%2C%2015.0%5D%2C%0A%20%20%20%20%20%20%20%20%20%20%20%20%20%20%20%20%7B%22bubblingMouseEvents%22%3A%20true%2C%20%22color%22%3A%20%22%233388ff%22%2C%20%22dashArray%22%3A%20null%2C%20%22dashOffset%22%3A%20null%2C%20%22fill%22%3A%20true%2C%20%22fillColor%22%3A%20%22black%22%2C%20%22fillOpacity%22%3A%200.2%2C%20%22fillRule%22%3A%20%22evenodd%22%2C%20%22lineCap%22%3A%20%22round%22%2C%20%22lineJoin%22%3A%20%22round%22%2C%20%22opacity%22%3A%201.0%2C%20%22radius%22%3A%201.0228182985905399%2C%20%22stroke%22%3A%20true%2C%20%22weight%22%3A%203%7D%0A%20%20%20%20%20%20%20%20%20%20%20%20%29.addTo%28map_32cccead184a40808fc661e404ec6e39%29%3B%0A%20%20%20%20%20%20%20%20%0A%20%20%20%20%0A%20%20%20%20%20%20%20%20var%20popup_18475c364c0a4b9e9878da8330c9a265%20%3D%20L.popup%28%7B%22maxWidth%22%3A%20%22100%25%22%7D%29%3B%0A%0A%20%20%20%20%20%20%20%20%0A%20%20%20%20%20%20%20%20%20%20%20%20var%20html_6aaae003b158428a81617762dc121e26%20%3D%20%24%28%60%3Cdiv%20id%3D%22html_6aaae003b158428a81617762dc121e26%22%20style%3D%22width%3A%20100.0%25%3B%20height%3A%20100.0%25%3B%22%3ESweden%3C/div%3E%60%29%5B0%5D%3B%0A%20%20%20%20%20%20%20%20%20%20%20%20popup_18475c364c0a4b9e9878da8330c9a265.setContent%28html_6aaae003b158428a81617762dc121e26%29%3B%0A%20%20%20%20%20%20%20%20%0A%0A%20%20%20%20%20%20%20%20circle_marker_655d398f601c45f1946e9d0c78a0594b.bindPopup%28popup_18475c364c0a4b9e9878da8330c9a265%29%0A%20%20%20%20%20%20%20%20%3B%0A%0A%20%20%20%20%20%20%20%20%0A%20%20%20%20%0A%20%20%20%20%0A%20%20%20%20%20%20%20%20%20%20%20%20var%20circle_marker_41e9e05366804a42b1507ff0981cb615%20%3D%20L.circleMarker%28%0A%20%20%20%20%20%20%20%20%20%20%20%20%20%20%20%20%5B-26.5%2C%2031.5%5D%2C%0A%20%20%20%20%20%20%20%20%20%20%20%20%20%20%20%20%7B%22bubblingMouseEvents%22%3A%20true%2C%20%22color%22%3A%20%22%233388ff%22%2C%20%22dashArray%22%3A%20null%2C%20%22dashOffset%22%3A%20null%2C%20%22fill%22%3A%20true%2C%20%22fillColor%22%3A%20%22blue%22%2C%20%22fillOpacity%22%3A%200.2%2C%20%22fillRule%22%3A%20%22evenodd%22%2C%20%22lineCap%22%3A%20%22round%22%2C%20%22lineJoin%22%3A%20%22round%22%2C%20%22opacity%22%3A%201.0%2C%20%22radius%22%3A%203.6497571987716015%2C%20%22stroke%22%3A%20true%2C%20%22weight%22%3A%203%7D%0A%20%20%20%20%20%20%20%20%20%20%20%20%29.addTo%28map_32cccead184a40808fc661e404ec6e39%29%3B%0A%20%20%20%20%20%20%20%20%0A%20%20%20%20%0A%20%20%20%20%20%20%20%20var%20popup_3de0311b02a2410eb4d522be15f1b770%20%3D%20L.popup%28%7B%22maxWidth%22%3A%20%22100%25%22%7D%29%3B%0A%0A%20%20%20%20%20%20%20%20%0A%20%20%20%20%20%20%20%20%20%20%20%20var%20html_1c766500034a43c19786a50c3ea84289%20%3D%20%24%28%60%3Cdiv%20id%3D%22html_1c766500034a43c19786a50c3ea84289%22%20style%3D%22width%3A%20100.0%25%3B%20height%3A%20100.0%25%3B%22%3ESwaziland%3C/div%3E%60%29%5B0%5D%3B%0A%20%20%20%20%20%20%20%20%20%20%20%20popup_3de0311b02a2410eb4d522be15f1b770.setContent%28html_1c766500034a43c19786a50c3ea84289%29%3B%0A%20%20%20%20%20%20%20%20%0A%0A%20%20%20%20%20%20%20%20circle_marker_41e9e05366804a42b1507ff0981cb615.bindPopup%28popup_3de0311b02a2410eb4d522be15f1b770%29%0A%20%20%20%20%20%20%20%20%3B%0A%0A%20%20%20%20%20%20%20%20%0A%20%20%20%20%0A%20%20%20%20%0A%20%20%20%20%20%20%20%20%20%20%20%20var%20circle_marker_208a0f142cf84290b5d9e0178c4f59db%20%3D%20L.circleMarker%28%0A%20%20%20%20%20%20%20%20%20%20%20%20%20%20%20%20%5B-4.58333%2C%2055.66667%5D%2C%0A%20%20%20%20%20%20%20%20%20%20%20%20%20%20%20%20%7B%22bubblingMouseEvents%22%3A%20true%2C%20%22color%22%3A%20%22%233388ff%22%2C%20%22dashArray%22%3A%20null%2C%20%22dashOffset%22%3A%20null%2C%20%22fill%22%3A%20true%2C%20%22fillColor%22%3A%20%22blue%22%2C%20%22fillOpacity%22%3A%200.2%2C%20%22fillRule%22%3A%20%22evenodd%22%2C%20%22lineCap%22%3A%20%22round%22%2C%20%22lineJoin%22%3A%20%22round%22%2C%20%22opacity%22%3A%201.0%2C%20%22radius%22%3A%200.08519075891779829%2C%20%22stroke%22%3A%20true%2C%20%22weight%22%3A%203%7D%0A%20%20%20%20%20%20%20%20%20%20%20%20%29.addTo%28map_32cccead184a40808fc661e404ec6e39%29%3B%0A%20%20%20%20%20%20%20%20%0A%20%20%20%20%0A%20%20%20%20%20%20%20%20var%20popup_2e8767a3b862475093e573ffacfe85cb%20%3D%20L.popup%28%7B%22maxWidth%22%3A%20%22100%25%22%7D%29%3B%0A%0A%20%20%20%20%20%20%20%20%0A%20%20%20%20%20%20%20%20%20%20%20%20var%20html_c2983595fcf540d38bb1786401fb0aab%20%3D%20%24%28%60%3Cdiv%20id%3D%22html_c2983595fcf540d38bb1786401fb0aab%22%20style%3D%22width%3A%20100.0%25%3B%20height%3A%20100.0%25%3B%22%3ESeychelles%3C/div%3E%60%29%5B0%5D%3B%0A%20%20%20%20%20%20%20%20%20%20%20%20popup_2e8767a3b862475093e573ffacfe85cb.setContent%28html_c2983595fcf540d38bb1786401fb0aab%29%3B%0A%20%20%20%20%20%20%20%20%0A%0A%20%20%20%20%20%20%20%20circle_marker_208a0f142cf84290b5d9e0178c4f59db.bindPopup%28popup_2e8767a3b862475093e573ffacfe85cb%29%0A%20%20%20%20%20%20%20%20%3B%0A%0A%20%20%20%20%20%20%20%20%0A%20%20%20%20%0A%20%20%20%20%0A%20%20%20%20%20%20%20%20%20%20%20%20var%20circle_marker_33b5b57428ef4d7f8f0cb26604d8831f%20%3D%20L.circleMarker%28%0A%20%20%20%20%20%20%20%20%20%20%20%20%20%20%20%20%5B35.0%2C%2038.0%5D%2C%0A%20%20%20%20%20%20%20%20%20%20%20%20%20%20%20%20%7B%22bubblingMouseEvents%22%3A%20true%2C%20%22color%22%3A%20%22%233388ff%22%2C%20%22dashArray%22%3A%20null%2C%20%22dashOffset%22%3A%20null%2C%20%22fill%22%3A%20true%2C%20%22fillColor%22%3A%20%22red%22%2C%20%22fillOpacity%22%3A%200.2%2C%20%22fillRule%22%3A%20%22evenodd%22%2C%20%22lineCap%22%3A%20%22round%22%2C%20%22lineJoin%22%3A%20%22round%22%2C%20%22opacity%22%3A%201.0%2C%20%22radius%22%3A%203.4099601627152856%2C%20%22stroke%22%3A%20true%2C%20%22weight%22%3A%203%7D%0A%20%20%20%20%20%20%20%20%20%20%20%20%29.addTo%28map_32cccead184a40808fc661e404ec6e39%29%3B%0A%20%20%20%20%20%20%20%20%0A%20%20%20%20%0A%20%20%20%20%20%20%20%20var%20popup_2d49613aff2c4dfd9708ab584769d716%20%3D%20L.popup%28%7B%22maxWidth%22%3A%20%22100%25%22%7D%29%3B%0A%0A%20%20%20%20%20%20%20%20%0A%20%20%20%20%20%20%20%20%20%20%20%20var%20html_8ac8940bdace47509e466720dbda3470%20%3D%20%24%28%60%3Cdiv%20id%3D%22html_8ac8940bdace47509e466720dbda3470%22%20style%3D%22width%3A%20100.0%25%3B%20height%3A%20100.0%25%3B%22%3ESyria%3C/div%3E%60%29%5B0%5D%3B%0A%20%20%20%20%20%20%20%20%20%20%20%20popup_2d49613aff2c4dfd9708ab584769d716.setContent%28html_8ac8940bdace47509e466720dbda3470%29%3B%0A%20%20%20%20%20%20%20%20%0A%0A%20%20%20%20%20%20%20%20circle_marker_33b5b57428ef4d7f8f0cb26604d8831f.bindPopup%28popup_2d49613aff2c4dfd9708ab584769d716%29%0A%20%20%20%20%20%20%20%20%3B%0A%0A%20%20%20%20%20%20%20%20%0A%20%20%20%20%0A%20%20%20%20%0A%20%20%20%20%20%20%20%20%20%20%20%20var%20circle_marker_9bfa35be712e49fea57859098097ce5d%20%3D%20L.circleMarker%28%0A%20%20%20%20%20%20%20%20%20%20%20%20%20%20%20%20%5B15.0%2C%2019.0%5D%2C%0A%20%20%20%20%20%20%20%20%20%20%20%20%20%20%20%20%7B%22bubblingMouseEvents%22%3A%20true%2C%20%22color%22%3A%20%22%233388ff%22%2C%20%22dashArray%22%3A%20null%2C%20%22dashOffset%22%3A%20null%2C%20%22fill%22%3A%20true%2C%20%22fillColor%22%3A%20%22blue%22%2C%20%22fillOpacity%22%3A%200.2%2C%20%22fillRule%22%3A%20%22evenodd%22%2C%20%22lineCap%22%3A%20%22round%22%2C%20%22lineJoin%22%3A%20%22round%22%2C%20%22opacity%22%3A%201.0%2C%20%22radius%22%3A%2011.78726800446764%2C%20%22stroke%22%3A%20true%2C%20%22weight%22%3A%203%7D%0A%20%20%20%20%20%20%20%20%20%20%20%20%29.addTo%28map_32cccead184a40808fc661e404ec6e39%29%3B%0A%20%20%20%20%20%20%20%20%0A%20%20%20%20%0A%20%20%20%20%20%20%20%20var%20popup_c8ed05d735734cad83b33b3dc1d47cd9%20%3D%20L.popup%28%7B%22maxWidth%22%3A%20%22100%25%22%7D%29%3B%0A%0A%20%20%20%20%20%20%20%20%0A%20%20%20%20%20%20%20%20%20%20%20%20var%20html_4acbbc93ad2245f4a1e4d9a859b5ca25%20%3D%20%24%28%60%3Cdiv%20id%3D%22html_4acbbc93ad2245f4a1e4d9a859b5ca25%22%20style%3D%22width%3A%20100.0%25%3B%20height%3A%20100.0%25%3B%22%3EChad%3C/div%3E%60%29%5B0%5D%3B%0A%20%20%20%20%20%20%20%20%20%20%20%20popup_c8ed05d735734cad83b33b3dc1d47cd9.setContent%28html_4acbbc93ad2245f4a1e4d9a859b5ca25%29%3B%0A%20%20%20%20%20%20%20%20%0A%0A%20%20%20%20%20%20%20%20circle_marker_9bfa35be712e49fea57859098097ce5d.bindPopup%28popup_c8ed05d735734cad83b33b3dc1d47cd9%29%0A%20%20%20%20%20%20%20%20%3B%0A%0A%20%20%20%20%20%20%20%20%0A%20%20%20%20%0A%20%20%20%20%0A%20%20%20%20%20%20%20%20%20%20%20%20var%20circle_marker_ca6af8486d474be1ae7fed60987c66ef%20%3D%20L.circleMarker%28%0A%20%20%20%20%20%20%20%20%20%20%20%20%20%20%20%20%5B8.66667%2C%201.08333%5D%2C%0A%20%20%20%20%20%20%20%20%20%20%20%20%20%20%20%20%7B%22bubblingMouseEvents%22%3A%20true%2C%20%22color%22%3A%20%22%233388ff%22%2C%20%22dashArray%22%3A%20null%2C%20%22dashOffset%22%3A%20null%2C%20%22fill%22%3A%20true%2C%20%22fillColor%22%3A%20%22blue%22%2C%20%22fillOpacity%22%3A%200.2%2C%20%22fillRule%22%3A%20%22evenodd%22%2C%20%22lineCap%22%3A%20%22round%22%2C%20%22lineJoin%22%3A%20%22round%22%2C%20%22opacity%22%3A%201.0%2C%20%22radius%22%3A%2010.35531519401904%2C%20%22stroke%22%3A%20true%2C%20%22weight%22%3A%203%7D%0A%20%20%20%20%20%20%20%20%20%20%20%20%29.addTo%28map_32cccead184a40808fc661e404ec6e39%29%3B%0A%20%20%20%20%20%20%20%20%0A%20%20%20%20%0A%20%20%20%20%20%20%20%20var%20popup_56791ea0ed2d4e91be7f585ffedf5cbd%20%3D%20L.popup%28%7B%22maxWidth%22%3A%20%22100%25%22%7D%29%3B%0A%0A%20%20%20%20%20%20%20%20%0A%20%20%20%20%20%20%20%20%20%20%20%20var%20html_88c33e487f864f96985c455954ef23f3%20%3D%20%24%28%60%3Cdiv%20id%3D%22html_88c33e487f864f96985c455954ef23f3%22%20style%3D%22width%3A%20100.0%25%3B%20height%3A%20100.0%25%3B%22%3ETogo%3C/div%3E%60%29%5B0%5D%3B%0A%20%20%20%20%20%20%20%20%20%20%20%20popup_56791ea0ed2d4e91be7f585ffedf5cbd.setContent%28html_88c33e487f864f96985c455954ef23f3%29%3B%0A%20%20%20%20%20%20%20%20%0A%0A%20%20%20%20%20%20%20%20circle_marker_ca6af8486d474be1ae7fed60987c66ef.bindPopup%28popup_56791ea0ed2d4e91be7f585ffedf5cbd%29%0A%20%20%20%20%20%20%20%20%3B%0A%0A%20%20%20%20%20%20%20%20%0A%20%20%20%20%0A%20%20%20%20%0A%20%20%20%20%20%20%20%20%20%20%20%20var%20circle_marker_8be6d734b4cd469a976de6bd3595a489%20%3D%20L.circleMarker%28%0A%20%20%20%20%20%20%20%20%20%20%20%20%20%20%20%20%5B15.5%2C%20101.0%5D%2C%0A%20%20%20%20%20%20%20%20%20%20%20%20%20%20%20%20%7B%22bubblingMouseEvents%22%3A%20true%2C%20%22color%22%3A%20%22%233388ff%22%2C%20%22dashArray%22%3A%20null%2C%20%22dashOffset%22%3A%20null%2C%20%22fill%22%3A%20true%2C%20%22fillColor%22%3A%20%22red%22%2C%20%22fillOpacity%22%3A%200.2%2C%20%22fillRule%22%3A%20%22evenodd%22%2C%20%22lineCap%22%3A%20%22round%22%2C%20%22lineJoin%22%3A%20%22round%22%2C%20%22opacity%22%3A%201.0%2C%20%22radius%22%3A%202.574986229895502%2C%20%22stroke%22%3A%20true%2C%20%22weight%22%3A%203%7D%0A%20%20%20%20%20%20%20%20%20%20%20%20%29.addTo%28map_32cccead184a40808fc661e404ec6e39%29%3B%0A%20%20%20%20%20%20%20%20%0A%20%20%20%20%0A%20%20%20%20%20%20%20%20var%20popup_0f681f47ca5c493c83e9055a82bbf504%20%3D%20L.popup%28%7B%22maxWidth%22%3A%20%22100%25%22%7D%29%3B%0A%0A%20%20%20%20%20%20%20%20%0A%20%20%20%20%20%20%20%20%20%20%20%20var%20html_5f1a312aa3f44906a4cf3d26ef70da21%20%3D%20%24%28%60%3Cdiv%20id%3D%22html_5f1a312aa3f44906a4cf3d26ef70da21%22%20style%3D%22width%3A%20100.0%25%3B%20height%3A%20100.0%25%3B%22%3EThailand%3C/div%3E%60%29%5B0%5D%3B%0A%20%20%20%20%20%20%20%20%20%20%20%20popup_0f681f47ca5c493c83e9055a82bbf504.setContent%28html_5f1a312aa3f44906a4cf3d26ef70da21%29%3B%0A%20%20%20%20%20%20%20%20%0A%0A%20%20%20%20%20%20%20%20circle_marker_8be6d734b4cd469a976de6bd3595a489.bindPopup%28popup_0f681f47ca5c493c83e9055a82bbf504%29%0A%20%20%20%20%20%20%20%20%3B%0A%0A%20%20%20%20%20%20%20%20%0A%20%20%20%20%0A%20%20%20%20%0A%20%20%20%20%20%20%20%20%20%20%20%20var%20circle_marker_dd1900ebd95441a3960a7cf27939269c%20%3D%20L.circleMarker%28%0A%20%20%20%20%20%20%20%20%20%20%20%20%20%20%20%20%5B39.0%2C%2071.0%5D%2C%0A%20%20%20%20%20%20%20%20%20%20%20%20%20%20%20%20%7B%22bubblingMouseEvents%22%3A%20true%2C%20%22color%22%3A%20%22%233388ff%22%2C%20%22dashArray%22%3A%20null%2C%20%22dashOffset%22%3A%20null%2C%20%22fill%22%3A%20true%2C%20%22fillColor%22%3A%20%22red%22%2C%20%22fillOpacity%22%3A%200.2%2C%20%22fillRule%22%3A%20%22evenodd%22%2C%20%22lineCap%22%3A%20%22round%22%2C%20%22lineJoin%22%3A%20%22round%22%2C%20%22opacity%22%3A%201.0%2C%20%22radius%22%3A%203.937311718658916%2C%20%22stroke%22%3A%20true%2C%20%22weight%22%3A%203%7D%0A%20%20%20%20%20%20%20%20%20%20%20%20%29.addTo%28map_32cccead184a40808fc661e404ec6e39%29%3B%0A%20%20%20%20%20%20%20%20%0A%20%20%20%20%0A%20%20%20%20%20%20%20%20var%20popup_529106ec25b248e7aa4d4ef5f6740f69%20%3D%20L.popup%28%7B%22maxWidth%22%3A%20%22100%25%22%7D%29%3B%0A%0A%20%20%20%20%20%20%20%20%0A%20%20%20%20%20%20%20%20%20%20%20%20var%20html_279e3080088c4a62ac57cca3a68fa562%20%3D%20%24%28%60%3Cdiv%20id%3D%22html_279e3080088c4a62ac57cca3a68fa562%22%20style%3D%22width%3A%20100.0%25%3B%20height%3A%20100.0%25%3B%22%3ETajikistan%3C/div%3E%60%29%5B0%5D%3B%0A%20%20%20%20%20%20%20%20%20%20%20%20popup_529106ec25b248e7aa4d4ef5f6740f69.setContent%28html_279e3080088c4a62ac57cca3a68fa562%29%3B%0A%20%20%20%20%20%20%20%20%0A%0A%20%20%20%20%20%20%20%20circle_marker_dd1900ebd95441a3960a7cf27939269c.bindPopup%28popup_529106ec25b248e7aa4d4ef5f6740f69%29%0A%20%20%20%20%20%20%20%20%3B%0A%0A%20%20%20%20%20%20%20%20%0A%20%20%20%20%0A%20%20%20%20%0A%20%20%20%20%20%20%20%20%20%20%20%20var%20circle_marker_29963078511d4db38405991fc6bec13e%20%3D%20L.circleMarker%28%0A%20%20%20%20%20%20%20%20%20%20%20%20%20%20%20%20%5B39.75%2C%2059.66667%5D%2C%0A%20%20%20%20%20%20%20%20%20%20%20%20%20%20%20%20%7B%22bubblingMouseEvents%22%3A%20true%2C%20%22color%22%3A%20%22%233388ff%22%2C%20%22dashArray%22%3A%20null%2C%20%22dashOffset%22%3A%20null%2C%20%22fill%22%3A%20true%2C%20%22fillColor%22%3A%20%22red%22%2C%20%22fillOpacity%22%3A%200.2%2C%20%22fillRule%22%3A%20%22evenodd%22%2C%20%22lineCap%22%3A%20%22round%22%2C%20%22lineJoin%22%3A%20%22round%22%2C%20%22opacity%22%3A%201.0%2C%20%22radius%22%3A%206.339658544041773%2C%20%22stroke%22%3A%20true%2C%20%22weight%22%3A%203%7D%0A%20%20%20%20%20%20%20%20%20%20%20%20%29.addTo%28map_32cccead184a40808fc661e404ec6e39%29%3B%0A%20%20%20%20%20%20%20%20%0A%20%20%20%20%0A%20%20%20%20%20%20%20%20var%20popup_c1befbae70764b9da3a2d4389790c5a8%20%3D%20L.popup%28%7B%22maxWidth%22%3A%20%22100%25%22%7D%29%3B%0A%0A%20%20%20%20%20%20%20%20%0A%20%20%20%20%20%20%20%20%20%20%20%20var%20html_18c1074a7cf24490868404a7c1161a00%20%3D%20%24%28%60%3Cdiv%20id%3D%22html_18c1074a7cf24490868404a7c1161a00%22%20style%3D%22width%3A%20100.0%25%3B%20height%3A%20100.0%25%3B%22%3ETurkmenistan%3C/div%3E%60%29%5B0%5D%3B%0A%20%20%20%20%20%20%20%20%20%20%20%20popup_c1befbae70764b9da3a2d4389790c5a8.setContent%28html_18c1074a7cf24490868404a7c1161a00%29%3B%0A%20%20%20%20%20%20%20%20%0A%0A%20%20%20%20%20%20%20%20circle_marker_29963078511d4db38405991fc6bec13e.bindPopup%28popup_c1befbae70764b9da3a2d4389790c5a8%29%0A%20%20%20%20%20%20%20%20%3B%0A%0A%20%20%20%20%20%20%20%20%0A%20%20%20%20%0A%20%20%20%20%0A%20%20%20%20%20%20%20%20%20%20%20%20var%20circle_marker_9dd88cae4a15457a98ad8f692ff9e20a%20%3D%20L.circleMarker%28%0A%20%20%20%20%20%20%20%20%20%20%20%20%20%20%20%20%5B-8.83333%2C%20125.75%5D%2C%0A%20%20%20%20%20%20%20%20%20%20%20%20%20%20%20%20%7B%22bubblingMouseEvents%22%3A%20true%2C%20%22color%22%3A%20%22%233388ff%22%2C%20%22dashArray%22%3A%20null%2C%20%22dashOffset%22%3A%20null%2C%20%22fill%22%3A%20true%2C%20%22fillColor%22%3A%20%22red%22%2C%20%22fillOpacity%22%3A%200.2%2C%20%22fillRule%22%3A%20%22evenodd%22%2C%20%22lineCap%22%3A%20%22round%22%2C%20%22lineJoin%22%3A%20%22round%22%2C%20%22opacity%22%3A%201.0%2C%20%22radius%22%3A%203.4838832413106937%2C%20%22stroke%22%3A%20true%2C%20%22weight%22%3A%203%7D%0A%20%20%20%20%20%20%20%20%20%20%20%20%29.addTo%28map_32cccead184a40808fc661e404ec6e39%29%3B%0A%20%20%20%20%20%20%20%20%0A%20%20%20%20%0A%20%20%20%20%20%20%20%20var%20popup_0ec50739a071442881d9e45d05263069%20%3D%20L.popup%28%7B%22maxWidth%22%3A%20%22100%25%22%7D%29%3B%0A%0A%20%20%20%20%20%20%20%20%0A%20%20%20%20%20%20%20%20%20%20%20%20var%20html_67fa3445e13441a7ac7fab1827532049%20%3D%20%24%28%60%3Cdiv%20id%3D%22html_67fa3445e13441a7ac7fab1827532049%22%20style%3D%22width%3A%20100.0%25%3B%20height%3A%20100.0%25%3B%22%3ETimor-Leste%3C/div%3E%60%29%5B0%5D%3B%0A%20%20%20%20%20%20%20%20%20%20%20%20popup_0ec50739a071442881d9e45d05263069.setContent%28html_67fa3445e13441a7ac7fab1827532049%29%3B%0A%20%20%20%20%20%20%20%20%0A%0A%20%20%20%20%20%20%20%20circle_marker_9dd88cae4a15457a98ad8f692ff9e20a.bindPopup%28popup_0ec50739a071442881d9e45d05263069%29%0A%20%20%20%20%20%20%20%20%3B%0A%0A%20%20%20%20%20%20%20%20%0A%20%20%20%20%0A%20%20%20%20%0A%20%20%20%20%20%20%20%20%20%20%20%20var%20circle_marker_757e1960ec324c8186674a663f31d826%20%3D%20L.circleMarker%28%0A%20%20%20%20%20%20%20%20%20%20%20%20%20%20%20%20%5B11.0%2C%20-61.0%5D%2C%0A%20%20%20%20%20%20%20%20%20%20%20%20%20%20%20%20%7B%22bubblingMouseEvents%22%3A%20true%2C%20%22color%22%3A%20%22%233388ff%22%2C%20%22dashArray%22%3A%20null%2C%20%22dashOffset%22%3A%20null%2C%20%22fill%22%3A%20true%2C%20%22fillColor%22%3A%20%22green%22%2C%20%22fillOpacity%22%3A%200.2%2C%20%22fillRule%22%3A%20%22evenodd%22%2C%20%22lineCap%22%3A%20%22round%22%2C%20%22lineJoin%22%3A%20%22round%22%2C%20%22opacity%22%3A%201.0%2C%20%22radius%22%3A%201.3261575894870345%2C%20%22stroke%22%3A%20true%2C%20%22weight%22%3A%203%7D%0A%20%20%20%20%20%20%20%20%20%20%20%20%29.addTo%28map_32cccead184a40808fc661e404ec6e39%29%3B%0A%20%20%20%20%20%20%20%20%0A%20%20%20%20%0A%20%20%20%20%20%20%20%20var%20popup_ad1a22cdd0bc4120a03c5b6904878d91%20%3D%20L.popup%28%7B%22maxWidth%22%3A%20%22100%25%22%7D%29%3B%0A%0A%20%20%20%20%20%20%20%20%0A%20%20%20%20%20%20%20%20%20%20%20%20var%20html_29e826440c7c4f528b092c36e08667a2%20%3D%20%24%28%60%3Cdiv%20id%3D%22html_29e826440c7c4f528b092c36e08667a2%22%20style%3D%22width%3A%20100.0%25%3B%20height%3A%20100.0%25%3B%22%3ETrinidad%20and%20Tobago%3C/div%3E%60%29%5B0%5D%3B%0A%20%20%20%20%20%20%20%20%20%20%20%20popup_ad1a22cdd0bc4120a03c5b6904878d91.setContent%28html_29e826440c7c4f528b092c36e08667a2%29%3B%0A%20%20%20%20%20%20%20%20%0A%0A%20%20%20%20%20%20%20%20circle_marker_757e1960ec324c8186674a663f31d826.bindPopup%28popup_ad1a22cdd0bc4120a03c5b6904878d91%29%0A%20%20%20%20%20%20%20%20%3B%0A%0A%20%20%20%20%20%20%20%20%0A%20%20%20%20%0A%20%20%20%20%0A%20%20%20%20%20%20%20%20%20%20%20%20var%20circle_marker_000b5cd24c774c7b9652e0620ffa0f2d%20%3D%20L.circleMarker%28%0A%20%20%20%20%20%20%20%20%20%20%20%20%20%20%20%20%5B34.0%2C%209.0%5D%2C%0A%20%20%20%20%20%20%20%20%20%20%20%20%20%20%20%20%7B%22bubblingMouseEvents%22%3A%20true%2C%20%22color%22%3A%20%22%233388ff%22%2C%20%22dashArray%22%3A%20null%2C%20%22dashOffset%22%3A%20null%2C%20%22fill%22%3A%20true%2C%20%22fillColor%22%3A%20%22blue%22%2C%20%22fillOpacity%22%3A%200.2%2C%20%22fillRule%22%3A%20%22evenodd%22%2C%20%22lineCap%22%3A%20%22round%22%2C%20%22lineJoin%22%3A%20%22round%22%2C%20%22opacity%22%3A%201.0%2C%20%22radius%22%3A%201.5827604478426454%2C%20%22stroke%22%3A%20true%2C%20%22weight%22%3A%203%7D%0A%20%20%20%20%20%20%20%20%20%20%20%20%29.addTo%28map_32cccead184a40808fc661e404ec6e39%29%3B%0A%20%20%20%20%20%20%20%20%0A%20%20%20%20%0A%20%20%20%20%20%20%20%20var%20popup_3668cd77f012462daa863e923335dd65%20%3D%20L.popup%28%7B%22maxWidth%22%3A%20%22100%25%22%7D%29%3B%0A%0A%20%20%20%20%20%20%20%20%0A%20%20%20%20%20%20%20%20%20%20%20%20var%20html_b3defa7f1b62408c8b955cae9ff2434f%20%3D%20%24%28%60%3Cdiv%20id%3D%22html_b3defa7f1b62408c8b955cae9ff2434f%22%20style%3D%22width%3A%20100.0%25%3B%20height%3A%20100.0%25%3B%22%3ETunisia%3C/div%3E%60%29%5B0%5D%3B%0A%20%20%20%20%20%20%20%20%20%20%20%20popup_3668cd77f012462daa863e923335dd65.setContent%28html_b3defa7f1b62408c8b955cae9ff2434f%29%3B%0A%20%20%20%20%20%20%20%20%0A%0A%20%20%20%20%20%20%20%20circle_marker_000b5cd24c774c7b9652e0620ffa0f2d.bindPopup%28popup_3668cd77f012462daa863e923335dd65%29%0A%20%20%20%20%20%20%20%20%3B%0A%0A%20%20%20%20%20%20%20%20%0A%20%20%20%20%0A%20%20%20%20%0A%20%20%20%20%20%20%20%20%20%20%20%20var%20circle_marker_a51c4fbe61a24640b38970a57c2283a7%20%3D%20L.circleMarker%28%0A%20%20%20%20%20%20%20%20%20%20%20%20%20%20%20%20%5B39.0%2C%2035.0%5D%2C%0A%20%20%20%20%20%20%20%20%20%20%20%20%20%20%20%20%7B%22bubblingMouseEvents%22%3A%20true%2C%20%22color%22%3A%20%22%233388ff%22%2C%20%22dashArray%22%3A%20null%2C%20%22dashOffset%22%3A%20null%2C%20%22fill%22%3A%20true%2C%20%22fillColor%22%3A%20%22black%22%2C%20%22fillOpacity%22%3A%200.2%2C%20%22fillRule%22%3A%20%22evenodd%22%2C%20%22lineCap%22%3A%20%22round%22%2C%20%22lineJoin%22%3A%20%22round%22%2C%20%22opacity%22%3A%201.0%2C%20%22radius%22%3A%201.3571310413650737%2C%20%22stroke%22%3A%20true%2C%20%22weight%22%3A%203%7D%0A%20%20%20%20%20%20%20%20%20%20%20%20%29.addTo%28map_32cccead184a40808fc661e404ec6e39%29%3B%0A%20%20%20%20%20%20%20%20%0A%20%20%20%20%0A%20%20%20%20%20%20%20%20var%20popup_b8eefd3676424c859b663598588ec2c9%20%3D%20L.popup%28%7B%22maxWidth%22%3A%20%22100%25%22%7D%29%3B%0A%0A%20%20%20%20%20%20%20%20%0A%20%20%20%20%20%20%20%20%20%20%20%20var%20html_fa4145bb631f49a883d7c3b767781389%20%3D%20%24%28%60%3Cdiv%20id%3D%22html_fa4145bb631f49a883d7c3b767781389%22%20style%3D%22width%3A%20100.0%25%3B%20height%3A%20100.0%25%3B%22%3ETurkey%3C/div%3E%60%29%5B0%5D%3B%0A%20%20%20%20%20%20%20%20%20%20%20%20popup_b8eefd3676424c859b663598588ec2c9.setContent%28html_fa4145bb631f49a883d7c3b767781389%29%3B%0A%20%20%20%20%20%20%20%20%0A%0A%20%20%20%20%20%20%20%20circle_marker_a51c4fbe61a24640b38970a57c2283a7.bindPopup%28popup_b8eefd3676424c859b663598588ec2c9%29%0A%20%20%20%20%20%20%20%20%3B%0A%0A%20%20%20%20%20%20%20%20%0A%20%20%20%20%0A%20%20%20%20%0A%20%20%20%20%20%20%20%20%20%20%20%20var%20circle_marker_8a90b0dda79e492c8dd5456ab7ec5884%20%3D%20L.circleMarker%28%0A%20%20%20%20%20%20%20%20%20%20%20%20%20%20%20%20%5B-6.0%2C%2035.0%5D%2C%0A%20%20%20%20%20%20%20%20%20%20%20%20%20%20%20%20%7B%22bubblingMouseEvents%22%3A%20true%2C%20%22color%22%3A%20%22%233388ff%22%2C%20%22dashArray%22%3A%20null%2C%20%22dashOffset%22%3A%20null%2C%20%22fill%22%3A%20true%2C%20%22fillColor%22%3A%20%22blue%22%2C%20%22fillOpacity%22%3A%200.2%2C%20%22fillRule%22%3A%20%22evenodd%22%2C%20%22lineCap%22%3A%20%22round%22%2C%20%22lineJoin%22%3A%20%22round%22%2C%20%22opacity%22%3A%201.0%2C%20%22radius%22%3A%2024.774201262059734%2C%20%22stroke%22%3A%20true%2C%20%22weight%22%3A%203%7D%0A%20%20%20%20%20%20%20%20%20%20%20%20%29.addTo%28map_32cccead184a40808fc661e404ec6e39%29%3B%0A%20%20%20%20%20%20%20%20%0A%20%20%20%20%0A%20%20%20%20%20%20%20%20var%20popup_5633b24cf3e54c5aa8df2461da2010a9%20%3D%20L.popup%28%7B%22maxWidth%22%3A%20%22100%25%22%7D%29%3B%0A%0A%20%20%20%20%20%20%20%20%0A%20%20%20%20%20%20%20%20%20%20%20%20var%20html_48395b35876c496799f39d2d892a17f8%20%3D%20%24%28%60%3Cdiv%20id%3D%22html_48395b35876c496799f39d2d892a17f8%22%20style%3D%22width%3A%20100.0%25%3B%20height%3A%20100.0%25%3B%22%3ETanzania%3C/div%3E%60%29%5B0%5D%3B%0A%20%20%20%20%20%20%20%20%20%20%20%20popup_5633b24cf3e54c5aa8df2461da2010a9.setContent%28html_48395b35876c496799f39d2d892a17f8%29%3B%0A%20%20%20%20%20%20%20%20%0A%0A%20%20%20%20%20%20%20%20circle_marker_8a90b0dda79e492c8dd5456ab7ec5884.bindPopup%28popup_5633b24cf3e54c5aa8df2461da2010a9%29%0A%20%20%20%20%20%20%20%20%3B%0A%0A%20%20%20%20%20%20%20%20%0A%20%20%20%20%0A%20%20%20%20%0A%20%20%20%20%20%20%20%20%20%20%20%20var%20circle_marker_e302be376832470c86c090a1f173d683%20%3D%20L.circleMarker%28%0A%20%20%20%20%20%20%20%20%20%20%20%20%20%20%20%20%5B1.25%2C%2032.5%5D%2C%0A%20%20%20%20%20%20%20%20%20%20%20%20%20%20%20%20%7B%22bubblingMouseEvents%22%3A%20true%2C%20%22color%22%3A%20%22%233388ff%22%2C%20%22dashArray%22%3A%20null%2C%20%22dashOffset%22%3A%20null%2C%20%22fill%22%3A%20true%2C%20%22fillColor%22%3A%20%22blue%22%2C%20%22fillOpacity%22%3A%200.2%2C%20%22fillRule%22%3A%20%22evenodd%22%2C%20%22lineCap%22%3A%20%22round%22%2C%20%22lineJoin%22%3A%20%22round%22%2C%20%22opacity%22%3A%201.0%2C%20%22radius%22%3A%2019.74773153351201%2C%20%22stroke%22%3A%20true%2C%20%22weight%22%3A%203%7D%0A%20%20%20%20%20%20%20%20%20%20%20%20%29.addTo%28map_32cccead184a40808fc661e404ec6e39%29%3B%0A%20%20%20%20%20%20%20%20%0A%20%20%20%20%0A%20%20%20%20%20%20%20%20var%20popup_ba6db053f65d4c3892695a7cd4499590%20%3D%20L.popup%28%7B%22maxWidth%22%3A%20%22100%25%22%7D%29%3B%0A%0A%20%20%20%20%20%20%20%20%0A%20%20%20%20%20%20%20%20%20%20%20%20var%20html_82603e49e4ec450485bc8287d9325eb2%20%3D%20%24%28%60%3Cdiv%20id%3D%22html_82603e49e4ec450485bc8287d9325eb2%22%20style%3D%22width%3A%20100.0%25%3B%20height%3A%20100.0%25%3B%22%3EUganda%3C/div%3E%60%29%5B0%5D%3B%0A%20%20%20%20%20%20%20%20%20%20%20%20popup_ba6db053f65d4c3892695a7cd4499590.setContent%28html_82603e49e4ec450485bc8287d9325eb2%29%3B%0A%20%20%20%20%20%20%20%20%0A%0A%20%20%20%20%20%20%20%20circle_marker_e302be376832470c86c090a1f173d683.bindPopup%28popup_ba6db053f65d4c3892695a7cd4499590%29%0A%20%20%20%20%20%20%20%20%3B%0A%0A%20%20%20%20%20%20%20%20%0A%20%20%20%20%0A%20%20%20%20%0A%20%20%20%20%20%20%20%20%20%20%20%20var%20circle_marker_dd7e9a6dc45c4b9684ef75231d6db3a8%20%3D%20L.circleMarker%28%0A%20%20%20%20%20%20%20%20%20%20%20%20%20%20%20%20%5B49.0%2C%2032.0%5D%2C%0A%20%20%20%20%20%20%20%20%20%20%20%20%20%20%20%20%7B%22bubblingMouseEvents%22%3A%20true%2C%20%22color%22%3A%20%22%233388ff%22%2C%20%22dashArray%22%3A%20null%2C%20%22dashOffset%22%3A%20null%2C%20%22fill%22%3A%20true%2C%20%22fillColor%22%3A%20%22black%22%2C%20%22fillOpacity%22%3A%200.2%2C%20%22fillRule%22%3A%20%22evenodd%22%2C%20%22lineCap%22%3A%20%22round%22%2C%20%22lineJoin%22%3A%20%22round%22%2C%20%22opacity%22%3A%201.0%2C%20%22stroke%22%3A%20true%2C%20%22weight%22%3A%203%7D%0A%20%20%20%20%20%20%20%20%20%20%20%20%29.addTo%28map_32cccead184a40808fc661e404ec6e39%29%3B%0A%20%20%20%20%20%20%20%20%0A%20%20%20%20%0A%20%20%20%20%20%20%20%20var%20popup_6de1bdaf28e543138ff9ddaa45544708%20%3D%20L.popup%28%7B%22maxWidth%22%3A%20%22100%25%22%7D%29%3B%0A%0A%20%20%20%20%20%20%20%20%0A%20%20%20%20%20%20%20%20%20%20%20%20var%20html_8f5ecc8ea33f4ee0b8fd9614d2cfdc89%20%3D%20%24%28%60%3Cdiv%20id%3D%22html_8f5ecc8ea33f4ee0b8fd9614d2cfdc89%22%20style%3D%22width%3A%20100.0%25%3B%20height%3A%20100.0%25%3B%22%3EUkraine%3C/div%3E%60%29%5B0%5D%3B%0A%20%20%20%20%20%20%20%20%20%20%20%20popup_6de1bdaf28e543138ff9ddaa45544708.setContent%28html_8f5ecc8ea33f4ee0b8fd9614d2cfdc89%29%3B%0A%20%20%20%20%20%20%20%20%0A%0A%20%20%20%20%20%20%20%20circle_marker_dd7e9a6dc45c4b9684ef75231d6db3a8.bindPopup%28popup_6de1bdaf28e543138ff9ddaa45544708%29%0A%20%20%20%20%20%20%20%20%3B%0A%0A%20%20%20%20%20%20%20%20%0A%20%20%20%20%0A%20%20%20%20%0A%20%20%20%20%20%20%20%20%20%20%20%20var%20circle_marker_7e2b71d0399547dc994488d0c60a7825%20%3D%20L.circleMarker%28%0A%20%20%20%20%20%20%20%20%20%20%20%20%20%20%20%20%5B-33.0%2C%20-56.0%5D%2C%0A%20%20%20%20%20%20%20%20%20%20%20%20%20%20%20%20%7B%22bubblingMouseEvents%22%3A%20true%2C%20%22color%22%3A%20%22%233388ff%22%2C%20%22dashArray%22%3A%20null%2C%20%22dashOffset%22%3A%20null%2C%20%22fill%22%3A%20true%2C%20%22fillColor%22%3A%20%22green%22%2C%20%22fillOpacity%22%3A%200.2%2C%20%22fillRule%22%3A%20%22evenodd%22%2C%20%22lineCap%22%3A%20%22round%22%2C%20%22lineJoin%22%3A%20%22round%22%2C%20%22opacity%22%3A%201.0%2C%20%22radius%22%3A%200.5757498723159213%2C%20%22stroke%22%3A%20true%2C%20%22weight%22%3A%203%7D%0A%20%20%20%20%20%20%20%20%20%20%20%20%29.addTo%28map_32cccead184a40808fc661e404ec6e39%29%3B%0A%20%20%20%20%20%20%20%20%0A%20%20%20%20%0A%20%20%20%20%20%20%20%20var%20popup_fd60dc8a88fc4be0b7e769d15ceca335%20%3D%20L.popup%28%7B%22maxWidth%22%3A%20%22100%25%22%7D%29%3B%0A%0A%20%20%20%20%20%20%20%20%0A%20%20%20%20%20%20%20%20%20%20%20%20var%20html_0530cc2c213549e9a7cefa133f5a1240%20%3D%20%24%28%60%3Cdiv%20id%3D%22html_0530cc2c213549e9a7cefa133f5a1240%22%20style%3D%22width%3A%20100.0%25%3B%20height%3A%20100.0%25%3B%22%3EUruguay%3C/div%3E%60%29%5B0%5D%3B%0A%20%20%20%20%20%20%20%20%20%20%20%20popup_fd60dc8a88fc4be0b7e769d15ceca335.setContent%28html_0530cc2c213549e9a7cefa133f5a1240%29%3B%0A%20%20%20%20%20%20%20%20%0A%0A%20%20%20%20%20%20%20%20circle_marker_7e2b71d0399547dc994488d0c60a7825.bindPopup%28popup_fd60dc8a88fc4be0b7e769d15ceca335%29%0A%20%20%20%20%20%20%20%20%3B%0A%0A%20%20%20%20%20%20%20%20%0A%20%20%20%20%0A%20%20%20%20%0A%20%20%20%20%20%20%20%20%20%20%20%20var%20circle_marker_b7fb42e2987e457e86fd6cebb7972a58%20%3D%20L.circleMarker%28%0A%20%20%20%20%20%20%20%20%20%20%20%20%20%20%20%20%5B39.76%2C%20-98.5%5D%2C%0A%20%20%20%20%20%20%20%20%20%20%20%20%20%20%20%20%7B%22bubblingMouseEvents%22%3A%20true%2C%20%22color%22%3A%20%22%233388ff%22%2C%20%22dashArray%22%3A%20null%2C%20%22dashOffset%22%3A%20null%2C%20%22fill%22%3A%20true%2C%20%22fillColor%22%3A%20%22green%22%2C%20%22fillOpacity%22%3A%200.2%2C%20%22fillRule%22%3A%20%22evenodd%22%2C%20%22lineCap%22%3A%20%22round%22%2C%20%22lineJoin%22%3A%20%22round%22%2C%20%22opacity%22%3A%201.0%2C%20%22radius%22%3A%2012.816534715641207%2C%20%22stroke%22%3A%20true%2C%20%22weight%22%3A%203%7D%0A%20%20%20%20%20%20%20%20%20%20%20%20%29.addTo%28map_32cccead184a40808fc661e404ec6e39%29%3B%0A%20%20%20%20%20%20%20%20%0A%20%20%20%20%0A%20%20%20%20%20%20%20%20var%20popup_74c62dee5e3c426a96e0d06849efc7b5%20%3D%20L.popup%28%7B%22maxWidth%22%3A%20%22100%25%22%7D%29%3B%0A%0A%20%20%20%20%20%20%20%20%0A%20%20%20%20%20%20%20%20%20%20%20%20var%20html_4625cc6fc78b45bd8792b2fd44251db4%20%3D%20%24%28%60%3Cdiv%20id%3D%22html_4625cc6fc78b45bd8792b2fd44251db4%22%20style%3D%22width%3A%20100.0%25%3B%20height%3A%20100.0%25%3B%22%3EUnited%20States%3C/div%3E%60%29%5B0%5D%3B%0A%20%20%20%20%20%20%20%20%20%20%20%20popup_74c62dee5e3c426a96e0d06849efc7b5.setContent%28html_4625cc6fc78b45bd8792b2fd44251db4%29%3B%0A%20%20%20%20%20%20%20%20%0A%0A%20%20%20%20%20%20%20%20circle_marker_b7fb42e2987e457e86fd6cebb7972a58.bindPopup%28popup_74c62dee5e3c426a96e0d06849efc7b5%29%0A%20%20%20%20%20%20%20%20%3B%0A%0A%20%20%20%20%20%20%20%20%0A%20%20%20%20%0A%20%20%20%20%0A%20%20%20%20%20%20%20%20%20%20%20%20var%20circle_marker_0f1fc958f10840dca2dd749c3e321e05%20%3D%20L.circleMarker%28%0A%20%20%20%20%20%20%20%20%20%20%20%20%20%20%20%20%5B8.0%2C%20-66.0%5D%2C%0A%20%20%20%20%20%20%20%20%20%20%20%20%20%20%20%20%7B%22bubblingMouseEvents%22%3A%20true%2C%20%22color%22%3A%20%22%233388ff%22%2C%20%22dashArray%22%3A%20null%2C%20%22dashOffset%22%3A%20null%2C%20%22fill%22%3A%20true%2C%20%22fillColor%22%3A%20%22green%22%2C%20%22fillOpacity%22%3A%200.2%2C%20%22fillRule%22%3A%20%22evenodd%22%2C%20%22lineCap%22%3A%20%22round%22%2C%20%22lineJoin%22%3A%20%22round%22%2C%20%22opacity%22%3A%201.0%2C%20%22radius%22%3A%207.747224893287904%2C%20%22stroke%22%3A%20true%2C%20%22weight%22%3A%203%7D%0A%20%20%20%20%20%20%20%20%20%20%20%20%29.addTo%28map_32cccead184a40808fc661e404ec6e39%29%3B%0A%20%20%20%20%20%20%20%20%0A%20%20%20%20%0A%20%20%20%20%20%20%20%20var%20popup_fccb693b2abd4001a9454e961f48585b%20%3D%20L.popup%28%7B%22maxWidth%22%3A%20%22100%25%22%7D%29%3B%0A%0A%20%20%20%20%20%20%20%20%0A%20%20%20%20%20%20%20%20%20%20%20%20var%20html_0b861a2ffcc54279b8827162203f0a83%20%3D%20%24%28%60%3Cdiv%20id%3D%22html_0b861a2ffcc54279b8827162203f0a83%22%20style%3D%22width%3A%20100.0%25%3B%20height%3A%20100.0%25%3B%22%3EVenezuela%3C/div%3E%60%29%5B0%5D%3B%0A%20%20%20%20%20%20%20%20%20%20%20%20popup_fccb693b2abd4001a9454e961f48585b.setContent%28html_0b861a2ffcc54279b8827162203f0a83%29%3B%0A%20%20%20%20%20%20%20%20%0A%0A%20%20%20%20%20%20%20%20circle_marker_0f1fc958f10840dca2dd749c3e321e05.bindPopup%28popup_fccb693b2abd4001a9454e961f48585b%29%0A%20%20%20%20%20%20%20%20%3B%0A%0A%20%20%20%20%20%20%20%20%0A%20%20%20%20%0A%20%20%20%20%0A%20%20%20%20%20%20%20%20%20%20%20%20var%20circle_marker_757b34e588624851b2b12961f3ccafa5%20%3D%20L.circleMarker%28%0A%20%20%20%20%20%20%20%20%20%20%20%20%20%20%20%20%5B16.16667%2C%20107.83333%5D%2C%0A%20%20%20%20%20%20%20%20%20%20%20%20%20%20%20%20%7B%22bubblingMouseEvents%22%3A%20true%2C%20%22color%22%3A%20%22%233388ff%22%2C%20%22dashArray%22%3A%20null%2C%20%22dashOffset%22%3A%20null%2C%20%22fill%22%3A%20true%2C%20%22fillColor%22%3A%20%22red%22%2C%20%22fillOpacity%22%3A%200.2%2C%20%22fillRule%22%3A%20%22evenodd%22%2C%20%22lineCap%22%3A%20%22round%22%2C%20%22lineJoin%22%3A%20%22round%22%2C%20%22opacity%22%3A%201.0%2C%20%22radius%22%3A%208.265735545694868%2C%20%22stroke%22%3A%20true%2C%20%22weight%22%3A%203%7D%0A%20%20%20%20%20%20%20%20%20%20%20%20%29.addTo%28map_32cccead184a40808fc661e404ec6e39%29%3B%0A%20%20%20%20%20%20%20%20%0A%20%20%20%20%0A%20%20%20%20%20%20%20%20var%20popup_a0ac060a85954b69adf85eca5ed221cd%20%3D%20L.popup%28%7B%22maxWidth%22%3A%20%22100%25%22%7D%29%3B%0A%0A%20%20%20%20%20%20%20%20%0A%20%20%20%20%20%20%20%20%20%20%20%20var%20html_fb6c16264d7e477398864bcc4e545a79%20%3D%20%24%28%60%3Cdiv%20id%3D%22html_fb6c16264d7e477398864bcc4e545a79%22%20style%3D%22width%3A%20100.0%25%3B%20height%3A%20100.0%25%3B%22%3EVietnam%3C/div%3E%60%29%5B0%5D%3B%0A%20%20%20%20%20%20%20%20%20%20%20%20popup_a0ac060a85954b69adf85eca5ed221cd.setContent%28html_fb6c16264d7e477398864bcc4e545a79%29%3B%0A%20%20%20%20%20%20%20%20%0A%0A%20%20%20%20%20%20%20%20circle_marker_757b34e588624851b2b12961f3ccafa5.bindPopup%28popup_a0ac060a85954b69adf85eca5ed221cd%29%0A%20%20%20%20%20%20%20%20%3B%0A%0A%20%20%20%20%20%20%20%20%0A%20%20%20%20%0A%20%20%20%20%0A%20%20%20%20%20%20%20%20%20%20%20%20var%20circle_marker_c69755d888854c609ffcca932db99c13%20%3D%20L.circleMarker%28%0A%20%20%20%20%20%20%20%20%20%20%20%20%20%20%20%20%5B15.5%2C%2047.5%5D%2C%0A%20%20%20%20%20%20%20%20%20%20%20%20%20%20%20%20%7B%22bubblingMouseEvents%22%3A%20true%2C%20%22color%22%3A%20%22%233388ff%22%2C%20%22dashArray%22%3A%20null%2C%20%22dashOffset%22%3A%20null%2C%20%22fill%22%3A%20true%2C%20%22fillColor%22%3A%20%22red%22%2C%20%22fillOpacity%22%3A%200.2%2C%20%22fillRule%22%3A%20%22evenodd%22%2C%20%22lineCap%22%3A%20%22round%22%2C%20%22lineJoin%22%3A%20%22round%22%2C%20%22opacity%22%3A%201.0%2C%20%22radius%22%3A%208.490153480403475%2C%20%22stroke%22%3A%20true%2C%20%22weight%22%3A%203%7D%0A%20%20%20%20%20%20%20%20%20%20%20%20%29.addTo%28map_32cccead184a40808fc661e404ec6e39%29%3B%0A%20%20%20%20%20%20%20%20%0A%20%20%20%20%0A%20%20%20%20%20%20%20%20var%20popup_c78dcd82cf184a8eade5038cb7680362%20%3D%20L.popup%28%7B%22maxWidth%22%3A%20%22100%25%22%7D%29%3B%0A%0A%20%20%20%20%20%20%20%20%0A%20%20%20%20%20%20%20%20%20%20%20%20var%20html_b2c51e3815ec4bab8e36847d3762d684%20%3D%20%24%28%60%3Cdiv%20id%3D%22html_b2c51e3815ec4bab8e36847d3762d684%22%20style%3D%22width%3A%20100.0%25%3B%20height%3A%20100.0%25%3B%22%3EYemen%3C/div%3E%60%29%5B0%5D%3B%0A%20%20%20%20%20%20%20%20%20%20%20%20popup_c78dcd82cf184a8eade5038cb7680362.setContent%28html_b2c51e3815ec4bab8e36847d3762d684%29%3B%0A%20%20%20%20%20%20%20%20%0A%0A%20%20%20%20%20%20%20%20circle_marker_c69755d888854c609ffcca932db99c13.bindPopup%28popup_c78dcd82cf184a8eade5038cb7680362%29%0A%20%20%20%20%20%20%20%20%3B%0A%0A%20%20%20%20%20%20%20%20%0A%20%20%20%20%0A%20%20%20%20%0A%20%20%20%20%20%20%20%20%20%20%20%20var%20circle_marker_9d3f9e6237ba47d98e6d85f26a895895%20%3D%20L.circleMarker%28%0A%20%20%20%20%20%20%20%20%20%20%20%20%20%20%20%20%5B-29.0%2C%2024.0%5D%2C%0A%20%20%20%20%20%20%20%20%20%20%20%20%20%20%20%20%7B%22bubblingMouseEvents%22%3A%20true%2C%20%22color%22%3A%20%22%233388ff%22%2C%20%22dashArray%22%3A%20null%2C%20%22dashOffset%22%3A%20null%2C%20%22fill%22%3A%20true%2C%20%22fillColor%22%3A%20%22blue%22%2C%20%22fillOpacity%22%3A%200.2%2C%20%22fillRule%22%3A%20%22evenodd%22%2C%20%22lineCap%22%3A%20%22round%22%2C%20%22lineJoin%22%3A%20%22round%22%2C%20%22opacity%22%3A%201.0%2C%20%22radius%22%3A%2012.392457273107668%2C%20%22stroke%22%3A%20true%2C%20%22weight%22%3A%203%7D%0A%20%20%20%20%20%20%20%20%20%20%20%20%29.addTo%28map_32cccead184a40808fc661e404ec6e39%29%3B%0A%20%20%20%20%20%20%20%20%0A%20%20%20%20%0A%20%20%20%20%20%20%20%20var%20popup_4f846849f06549058bb78df28079e122%20%3D%20L.popup%28%7B%22maxWidth%22%3A%20%22100%25%22%7D%29%3B%0A%0A%20%20%20%20%20%20%20%20%0A%20%20%20%20%20%20%20%20%20%20%20%20var%20html_b30b4c95eee04341a35e8bee712abe52%20%3D%20%24%28%60%3Cdiv%20id%3D%22html_b30b4c95eee04341a35e8bee712abe52%22%20style%3D%22width%3A%20100.0%25%3B%20height%3A%20100.0%25%3B%22%3ESouth%20Africa%3C/div%3E%60%29%5B0%5D%3B%0A%20%20%20%20%20%20%20%20%20%20%20%20popup_4f846849f06549058bb78df28079e122.setContent%28html_b30b4c95eee04341a35e8bee712abe52%29%3B%0A%20%20%20%20%20%20%20%20%0A%0A%20%20%20%20%20%20%20%20circle_marker_9d3f9e6237ba47d98e6d85f26a895895.bindPopup%28popup_4f846849f06549058bb78df28079e122%29%0A%20%20%20%20%20%20%20%20%3B%0A%0A%20%20%20%20%20%20%20%20%0A%20%20%20%20%0A%20%20%20%20%0A%20%20%20%20%20%20%20%20%20%20%20%20var%20circle_marker_78c999634b154adb8420916522435402%20%3D%20L.circleMarker%28%0A%20%20%20%20%20%20%20%20%20%20%20%20%20%20%20%20%5B-14.33333%2C%2028.5%5D%2C%0A%20%20%20%20%20%20%20%20%20%20%20%20%20%20%20%20%7B%22bubblingMouseEvents%22%3A%20true%2C%20%22color%22%3A%20%22%233388ff%22%2C%20%22dashArray%22%3A%20null%2C%20%22dashOffset%22%3A%20null%2C%20%22fill%22%3A%20true%2C%20%22fillColor%22%3A%20%22blue%22%2C%20%22fillOpacity%22%3A%200.2%2C%20%22fillRule%22%3A%20%22evenodd%22%2C%20%22lineCap%22%3A%20%22round%22%2C%20%22lineJoin%22%3A%20%22round%22%2C%20%22opacity%22%3A%201.0%2C%20%22radius%22%3A%2017.940846416721868%2C%20%22stroke%22%3A%20true%2C%20%22weight%22%3A%203%7D%0A%20%20%20%20%20%20%20%20%20%20%20%20%29.addTo%28map_32cccead184a40808fc661e404ec6e39%29%3B%0A%20%20%20%20%20%20%20%20%0A%20%20%20%20%0A%20%20%20%20%20%20%20%20var%20popup_54904ff1f3804737a9b2a3113d9396a5%20%3D%20L.popup%28%7B%22maxWidth%22%3A%20%22100%25%22%7D%29%3B%0A%0A%20%20%20%20%20%20%20%20%0A%20%20%20%20%20%20%20%20%20%20%20%20var%20html_33c90cbc35024f1fa930409c4e720c72%20%3D%20%24%28%60%3Cdiv%20id%3D%22html_33c90cbc35024f1fa930409c4e720c72%22%20style%3D%22width%3A%20100.0%25%3B%20height%3A%20100.0%25%3B%22%3EZambia%3C/div%3E%60%29%5B0%5D%3B%0A%20%20%20%20%20%20%20%20%20%20%20%20popup_54904ff1f3804737a9b2a3113d9396a5.setContent%28html_33c90cbc35024f1fa930409c4e720c72%29%3B%0A%20%20%20%20%20%20%20%20%0A%0A%20%20%20%20%20%20%20%20circle_marker_78c999634b154adb8420916522435402.bindPopup%28popup_54904ff1f3804737a9b2a3113d9396a5%29%0A%20%20%20%20%20%20%20%20%3B%0A%0A%20%20%20%20%20%20%20%20%0A%20%20%20%20%0A%3C/script%3E onload=\"this.contentDocument.open();this.contentDocument.write(    decodeURIComponent(this.getAttribute('data-html')));this.contentDocument.close();\" allowfullscreen webkitallowfullscreen mozallowfullscreen></iframe></div></div>"
      ],
      "text/plain": [
       "<datascience.maps.Map at 0x7fb8479df4c0>"
      ]
     },
     "execution_count": 127,
     "metadata": {},
     "output_type": "execute_result"
    }
   ],
   "source": [
    "# It may take a few seconds to generate this map.\n",
    "colors = {'africa': 'blue', 'europe': 'black', 'asia': 'red', 'americas': 'green'}\n",
    "scaled = poverty_map.with_columns(\n",
    "    'labels', poverty_map.column('name'),\n",
    "    'colors', poverty_map.apply(colors.get, 'region'),\n",
    "    'areas', 1e-4 * poverty_map.column('poverty_total')\n",
    ").drop('name', 'region', 'poverty_total')\n",
    "\n",
    "Circle.map_table(scaled)"
   ]
  },
  {
   "cell_type": "markdown",
   "id": "729d0cb5",
   "metadata": {
    "deletable": false,
    "editable": false
   },
   "source": [
    "Although people lived in extreme poverty throughout the world in 2010 (with more than 5 million in the United States), the largest numbers were in Asia and Africa."
   ]
  },
  {
   "cell_type": "markdown",
   "id": "64bf8d83",
   "metadata": {
    "deletable": false,
    "editable": false
   },
   "source": [
    "**Question 5.** Assign `largest` to a two-column table with the `name` (not the 3-letter code) and `poverty_total` of the 10 countries with the largest number of people living in extreme poverty.\n",
    "\n",
    "*Hint*: How can we use `take` and `np.arange` in conjunction with each other?\n",
    "\n",
    "<!--\n",
    "BEGIN QUESTION\n",
    "name: q2_5\n",
    "points:\n",
    "- 0\n",
    "- 0\n",
    "- 0\n",
    "- 4\n",
    "-->"
   ]
  },
  {
   "cell_type": "code",
   "execution_count": 128,
   "id": "3ad74d50",
   "metadata": {
    "deletable": false,
    "execution": {
     "iopub.execute_input": "2021-09-17T21:54:19.308640Z",
     "iopub.status.busy": "2021-09-17T21:54:19.306708Z",
     "iopub.status.idle": "2021-09-17T21:54:19.311984Z",
     "shell.execute_reply": "2021-09-17T21:54:19.312438Z"
    }
   },
   "outputs": [
    {
     "data": {
      "text/html": [
       "<table border=\"1\" class=\"dataframe\">\n",
       "    <thead>\n",
       "        <tr>\n",
       "            <th>name</th> <th>poverty_total</th>\n",
       "        </tr>\n",
       "    </thead>\n",
       "    <tbody>\n",
       "        <tr>\n",
       "            <td>India           </td> <td>291,660,639.00</td>\n",
       "        </tr>\n",
       "        <tr>\n",
       "            <td>Nigeria         </td> <td>98,319,537.00 </td>\n",
       "        </tr>\n",
       "        <tr>\n",
       "            <td>China           </td> <td>85,687,544.00 </td>\n",
       "        </tr>\n",
       "        <tr>\n",
       "            <td>Bangladesh      </td> <td>63,826,375.00 </td>\n",
       "        </tr>\n",
       "        <tr>\n",
       "            <td>Congo, Dem. Rep.</td> <td>56,635,412.00 </td>\n",
       "        </tr>\n",
       "        <tr>\n",
       "            <td>Indonesia       </td> <td>39,177,145.00 </td>\n",
       "        </tr>\n",
       "        <tr>\n",
       "            <td>Ethiopia        </td> <td>32,242,742.00 </td>\n",
       "        </tr>\n",
       "        <tr>\n",
       "            <td>Pakistan        </td> <td>22,858,700.00 </td>\n",
       "        </tr>\n",
       "        <tr>\n",
       "            <td>Tanzania        </td> <td>19,281,872.00 </td>\n",
       "        </tr>\n",
       "        <tr>\n",
       "            <td>Madagascar      </td> <td>18,543,643.00 </td>\n",
       "        </tr>\n",
       "    </tbody>\n",
       "</table>"
      ],
      "text/plain": [
       "name             | poverty_total\n",
       "India            | 291,660,639.00\n",
       "Nigeria          | 98,319,537.00\n",
       "China            | 85,687,544.00\n",
       "Bangladesh       | 63,826,375.00\n",
       "Congo, Dem. Rep. | 56,635,412.00\n",
       "Indonesia        | 39,177,145.00\n",
       "Ethiopia         | 32,242,742.00\n",
       "Pakistan         | 22,858,700.00\n",
       "Tanzania         | 19,281,872.00\n",
       "Madagascar       | 18,543,643.00"
      ]
     },
     "execution_count": 128,
     "metadata": {},
     "output_type": "execute_result"
    }
   ],
   "source": [
    "largest = poverty_map.select('name','poverty_total').sort('poverty_total',descending = True).take(np.arange(10))\n",
    "largest.set_format('poverty_total', NumberFormatter)"
   ]
  },
  {
   "cell_type": "code",
   "execution_count": 129,
   "id": "0add526d",
   "metadata": {
    "deletable": false,
    "editable": false
   },
   "outputs": [
    {
     "data": {
      "text/html": [
       "<p><strong><pre style='display: inline;'>q2_5</pre></strong> passed!</p>"
      ],
      "text/plain": [
       "q2_5 results: All test cases passed!"
      ]
     },
     "execution_count": 129,
     "metadata": {},
     "output_type": "execute_result"
    }
   ],
   "source": [
    "grader.check(\"q2_5\")"
   ]
  },
  {
   "cell_type": "markdown",
   "id": "f4f6c7b2",
   "metadata": {
    "deletable": false,
    "editable": false
   },
   "source": [
    "<!-- BEGIN QUESTION -->\n",
    "\n",
    "**Question 6.** It is important to study the absolute number of people living in poverty, not just the percent. The absolute number is an important factor in determining the amount of resources needed to support people living in poverty. \n",
    "\n",
    "In Question 7, you will be asked to write a function called `poverty_timeline` that takes **the name of a country** as its argument  (not the Alpha-3 country code). It should draw a line plot of the number of people living in poverty in that country with time on the horizontal axis. The line plot should have a point for each row in the `poverty` table for that country. To compute the population living in poverty from a poverty percentage, multiply by the population of the country **in that year**.\n",
    "\n",
    "For this question, write out a generalized process for Question 7. What should this function output, and what steps will you take within the function?\n",
    "\n",
    "<!--\n",
    "BEGIN QUESTION\n",
    "name: q2_6\n",
    "manual: True\n",
    "-->"
   ]
  },
  {
   "cell_type": "markdown",
   "id": "a46005c6",
   "metadata": {},
   "source": [
    "1. Use 'where' to find the geo of the country in table 'countries'. Get the row which contains that country by using 'column'and convert its geo into string by using 'item'.\n",
    "2. In table 'poverty', get the poverty percentage of the geo by using 'where'.\n",
    "3. Join the table created in step #3 with table 'population' in order to get the population of the 'geo' according to the time. Now we get a table includes geo, time, poverty percent and population at that year\n",
    "4. Use the table created in step #4 to calculate the poverty population. (Poverty percent/100)* population\n",
    "5. Use 'plot' to draw a line plot. X-axis should be the time(year), y-axis should be the poverty population"
   ]
  },
  {
   "cell_type": "markdown",
   "id": "738a4a8f",
   "metadata": {
    "deletable": false
   },
   "source": [
    "<!-- END QUESTION -->\n",
    "\n",
    "\n",
    "\n",
    "**Question 7.** Now, we'll actually write the function called `poverty_timeline`. Recall that `poverty_timeline` takes **the name of a country** as its argument (not the Alpha-3 country code). It should draw a line plot of the number of people living in poverty in that country with time on the horizontal axis. The line plot should have a point for each row in the `poverty` table for that country. To compute the population living in poverty from a poverty percentage, multiply by the population of the country **in that year**.\n",
    "\n",
    "*Hint:* This question is long. Feel free to create cells and experiment. You can create cells by going to the toolbar and hitting the `+` button, or by going to the `Insert` tab."
   ]
  },
  {
   "cell_type": "code",
   "execution_count": 130,
   "id": "7d6c47e5",
   "metadata": {
    "execution": {
     "iopub.execute_input": "2021-09-17T21:54:19.351873Z",
     "iopub.status.busy": "2021-09-17T21:54:19.351250Z",
     "iopub.status.idle": "2021-09-17T21:54:19.354180Z",
     "shell.execute_reply": "2021-09-17T21:54:19.353553Z"
    }
   },
   "outputs": [],
   "source": [
    "def poverty_timeline(country):\n",
    "    '''Draw a timeline of people living in extreme poverty in a country.'''\n",
    "    geo = countries.where('name',are.equal_to(country)).column('country').item(0)\n",
    "    # This solution will take multiple lines of code. Use as many as you need\n",
    "    geo_poverty_percent_t = poverty.where('geo',are.equal_to(geo))\n",
    "    geo_percent_and_pop_t = geo_poverty_percent_t.join('time',population.where('geo',are.equal_to(geo)))\n",
    "    geo_poverty_pop = (geo_percent_and_pop_t.column('extreme_poverty_percent_people_below_125_a_day')/100)*geo_percent_and_pop_t.column('population_total')\n",
    "    plot_table = geo_poverty_percent_t.with_column('poverty population',geo_poverty_pop)\n",
    "    plot_table.plot('time','poverty population')\n",
    "    # Don't change anything below this line. \n",
    "    plots.title(country)\n",
    "    plots.ylim(bottom=0)\n",
    "    plots.show() # This should be the last line of your function. "
   ]
  },
  {
   "cell_type": "markdown",
   "id": "288cb142",
   "metadata": {
    "deletable": false,
    "editable": false
   },
   "source": [
    "<!-- BEGIN QUESTION -->\n",
    "\n",
    "Finally, draw the line plots below to see how the world is changing. Pay attention to the axes! You can check your work by comparing your graphs to the ones on [gapminder.org](https://www.gapminder.org/tools/#$state$entities$show$country$/$in@=ind;;;;&marker$axis_y$which=number_of_people_in_poverty&scaleType=linear&spaceRef:null;;;&chart-type=linechart).\n",
    "\n",
    "<!--\n",
    "BEGIN QUESTION\n",
    "name: q2_7\n",
    "manual: True\n",
    "-->"
   ]
  },
  {
   "cell_type": "code",
   "execution_count": 131,
   "id": "650f4fdc",
   "metadata": {
    "deletable": false,
    "execution": {
     "iopub.execute_input": "2021-09-17T21:54:19.359163Z",
     "iopub.status.busy": "2021-09-17T21:54:19.358619Z",
     "iopub.status.idle": "2021-09-17T21:54:20.675419Z",
     "shell.execute_reply": "2021-09-17T21:54:20.674845Z"
    }
   },
   "outputs": [
    {
     "data": {
      "image/png": "[encoded data removed]",
      "text/plain": [
       "<Figure size 432x432 with 1 Axes>"
      ]
     },
     "metadata": {},
     "output_type": "display_data"
    },
    {
     "data": {
      "image/png": "[encoded data removed]",
      "text/plain": [
       "<Figure size 432x432 with 1 Axes>"
      ]
     },
     "metadata": {},
     "output_type": "display_data"
    },
    {
     "data": {
      "image/png": "[encoded data removed]",
      "text/plain": [
       "<Figure size 432x432 with 1 Axes>"
      ]
     },
     "metadata": {},
     "output_type": "display_data"
    },
    {
     "data": {
      "image/png": "[encoded data removed]",
      "text/plain": [
       "<Figure size 432x432 with 1 Axes>"
      ]
     },
     "metadata": {},
     "output_type": "display_data"
    },
    {
     "data": {
      "image/png": "[encoded data removed]",
      "text/plain": [
       "<Figure size 432x432 with 1 Axes>"
      ]
     },
     "metadata": {},
     "output_type": "display_data"
    }
   ],
   "source": [
    "poverty_timeline('India')\n",
    "poverty_timeline('Nigeria')\n",
    "poverty_timeline('China')\n",
    "poverty_timeline('Colombia')\n",
    "poverty_timeline('United States')"
   ]
  },
  {
   "cell_type": "markdown",
   "id": "22cd7646",
   "metadata": {
    "deletable": false
   },
   "source": [
    "<!-- END QUESTION -->\n",
    "\n",
    "\n",
    "\n",
    "Although the number of people living in extreme poverty increased in some countries including Nigeria and the United States, the decreases in other countries, most notably the massive decreases in China and India, have shaped the overall trend that extreme poverty is decreasing worldwide, both in percentage and in absolute number. \n",
    "\n",
    "To learn more, watch [Hans Rosling in a 2015 film](https://www.gapminder.org/videos/dont-panic-end-poverty/) about the UN goal of eradicating extreme poverty from the world. \n",
    "\n",
    "Below, we've also added an interactive dropdown menu for you to visualize `poverty_timeline` graphs for other countries. Note that each dropdown menu selection may take a few seconds to run."
   ]
  },
  {
   "cell_type": "code",
   "execution_count": 132,
   "id": "6a3dfce4",
   "metadata": {
    "deletable": false,
    "editable": false,
    "execution": {
     "iopub.execute_input": "2021-09-17T21:54:20.698756Z",
     "iopub.status.busy": "2021-09-17T21:54:20.697960Z",
     "iopub.status.idle": "2021-09-17T21:54:20.925164Z",
     "shell.execute_reply": "2021-09-17T21:54:20.924548Z"
    }
   },
   "outputs": [
    {
     "data": {
      "application/vnd.jupyter.widget-view+json": {
       "model_id": "b4056a36a1b4440c9416a9a73864ff99",
       "version_major": 2,
       "version_minor": 0
      },
      "text/plain": [
       "interactive(children=(Dropdown(description='country', options=('Angola', 'Albania', 'Argentina', 'Armenia', 'A…"
      ]
     },
     "metadata": {},
     "output_type": "display_data"
    }
   ],
   "source": [
    "# Just run this cell\n",
    "\n",
    "all_countries = poverty_map.column('name')\n",
    "_ = widgets.interact(poverty_timeline, country=list(all_countries))"
   ]
  },
  {
   "cell_type": "markdown",
   "id": "f1a57a1f",
   "metadata": {
    "deletable": false,
    "editable": false
   },
   "source": [
    "**Question 8.** Please fill out the [Official Project 1 Partner Form](https://docs.google.com/forms/d/e/1FAIpQLSe-nEnLYK4rCCQOu7kKNlmDynXUVMqUaoXWMAT9eK07M0WRnA/viewform). This will be used to assign grades to both partners. Note that this form is different from the form you should have received from your GSI for project partner matching. **This form is mandatory. However, if you are working with a partner, only one person needs to submit the form.** Assign `secret_word` to the secret word given at the end of the form.\n",
    "\n",
    "<!--\n",
    "BEGIN QUESTION\n",
    "name: q2_8\n",
    "points:\n",
    "- 4\n",
    "-->"
   ]
  },
  {
   "cell_type": "code",
   "execution_count": 134,
   "id": "4fde8950",
   "metadata": {
    "execution": {
     "iopub.execute_input": "2021-09-17T21:54:20.930960Z",
     "iopub.status.busy": "2021-09-17T21:54:20.930336Z",
     "iopub.status.idle": "2021-09-17T21:54:20.933706Z",
     "shell.execute_reply": "2021-09-17T21:54:20.933204Z"
    }
   },
   "outputs": [],
   "source": [
    "secret_word = 'penguin'"
   ]
  },
  {
   "cell_type": "code",
   "execution_count": 135,
   "id": "71e9a7e5",
   "metadata": {
    "deletable": false,
    "editable": false
   },
   "outputs": [
    {
     "data": {
      "text/html": [
       "<p><strong><pre style='display: inline;'>q2_8</pre></strong> passed!</p>"
      ],
      "text/plain": [
       "q2_8 results: All test cases passed!"
      ]
     },
     "execution_count": 135,
     "metadata": {},
     "output_type": "execute_result"
    }
   ],
   "source": [
    "grader.check(\"q2_8\")"
   ]
  },
  {
   "cell_type": "markdown",
   "id": "0e8defb6",
   "metadata": {
    "deletable": false
   },
   "source": [
    "**You're finished!** Congratulations on discovering many important facts about global poverty and demonstrating your mastery of table manipulation and data visualization. Time to submit."
   ]
  },
  {
   "cell_type": "markdown",
   "id": "88dae134",
   "metadata": {
    "deletable": false,
    "editable": false
   },
   "source": [
    "---\n",
    "\n",
    "To double-check your work, the cell below will rerun all of the autograder tests."
   ]
  },
  {
   "cell_type": "code",
   "execution_count": 136,
   "id": "bda05b7f",
   "metadata": {
    "deletable": false,
    "editable": false
   },
   "outputs": [
    {
     "data": {
      "text/plain": [
       "q1_1 results: All test cases passed!\n",
       "\n",
       "q1_11 results: All test cases passed!\n",
       "\n",
       "q1_12 results: All test cases passed!\n",
       "\n",
       "q1_12_0 results: All test cases passed!\n",
       "\n",
       "q1_13 results: All test cases passed!\n",
       "\n",
       "q1_14 results: All test cases passed!\n",
       "\n",
       "q1_2 results: All test cases passed!\n",
       "\n",
       "q1_5 results: All test cases passed!\n",
       "\n",
       "q1_7 results: All test cases passed!\n",
       "\n",
       "q1_9 results: All test cases passed!\n",
       "\n",
       "q2_1 results: All test cases passed!\n",
       "\n",
       "q2_2 results: All test cases passed!\n",
       "\n",
       "q2_3 results: All test cases passed!\n",
       "\n",
       "q2_4 results: All test cases passed!\n",
       "\n",
       "q2_5 results: All test cases passed!\n",
       "\n",
       "q2_8 results: All test cases passed!"
      ]
     },
     "execution_count": 136,
     "metadata": {},
     "output_type": "execute_result"
    }
   ],
   "source": [
    "grader.check_all()"
   ]
  },
  {
   "cell_type": "markdown",
   "id": "254b5531",
   "metadata": {
    "deletable": false,
    "editable": false
   },
   "source": [
    "## Submission\n",
    "\n",
    "Make sure you have run all cells in your notebook in order before running the cell below, so that all images/graphs appear in the output. The cell below will generate a zip file for you to submit. **Please save before exporting!**"
   ]
  },
  {
   "cell_type": "code",
   "execution_count": null,
   "id": "ffe4b738",
   "metadata": {
    "deletable": false,
    "editable": false
   },
   "outputs": [],
   "source": [
    "# Save your notebook first, then run this cell to export your submission.\n",
    "grader.export(pdf=False, force_save=True)"
   ]
  },
  {
   "cell_type": "markdown",
   "id": "6d4f6e69",
   "metadata": {},
   "source": [
    " "
   ]
  }
 ],
 "metadata": {
  "kernelspec": {
   "display_name": "Python 3 (ipykernel)",
   "language": "python",
   "name": "python3"
  },
  "language_info": {
   "codemirror_mode": {
    "name": "ipython",
    "version": 3
   },
   "file_extension": ".py",
   "mimetype": "text/x-python",
   "name": "python",
   "nbconvert_exporter": "python",
   "pygments_lexer": "ipython3",
   "version": "3.9.7"
  },
  "widgets": {
   "application/vnd.jupyter.widget-state+json": {
    "state": {
     "2f41fb43b190446f90c7e88ee8e16345": {
      "model_module": "@jupyter-widgets/base",
      "model_module_version": "1.2.0",
      "model_name": "LayoutModel",
      "state": {
       "_model_module": "@jupyter-widgets/base",
       "_model_module_version": "1.2.0",
       "_model_name": "LayoutModel",
       "_view_count": null,
       "_view_module": "@jupyter-widgets/base",
       "_view_module_version": "1.2.0",
       "_view_name": "LayoutView",
       "align_content": null,
       "align_items": null,
       "align_self": null,
       "border": null,
       "bottom": null,
       "display": null,
       "flex": null,
       "flex_flow": null,
       "grid_area": null,
       "grid_auto_columns": null,
       "grid_auto_flow": null,
       "grid_auto_rows": null,
       "grid_column": null,
       "grid_gap": null,
       "grid_row": null,
       "grid_template_areas": null,
       "grid_template_columns": null,
       "grid_template_rows": null,
       "height": null,
       "justify_content": null,
       "justify_items": null,
       "left": null,
       "margin": null,
       "max_height": null,
       "max_width": null,
       "min_height": null,
       "min_width": null,
       "object_fit": null,
       "object_position": null,
       "order": null,
       "overflow": null,
       "overflow_x": null,
       "overflow_y": null,
       "padding": null,
       "right": null,
       "top": null,
       "visibility": null,
       "width": null
      }
     },
     "371da92446d042fa9ec9f9e8ae04731a": {
      "model_module": "@jupyter-widgets/base",
      "model_module_version": "1.2.0",
      "model_name": "LayoutModel",
      "state": {
       "_model_module": "@jupyter-widgets/base",
       "_model_module_version": "1.2.0",
       "_model_name": "LayoutModel",
       "_view_count": null,
       "_view_module": "@jupyter-widgets/base",
       "_view_module_version": "1.2.0",
       "_view_name": "LayoutView",
       "align_content": null,
       "align_items": null,
       "align_self": null,
       "border": null,
       "bottom": null,
       "display": null,
       "flex": null,
       "flex_flow": null,
       "grid_area": null,
       "grid_auto_columns": null,
       "grid_auto_flow": null,
       "grid_auto_rows": null,
       "grid_column": null,
       "grid_gap": null,
       "grid_row": null,
       "grid_template_areas": null,
       "grid_template_columns": null,
       "grid_template_rows": null,
       "height": null,
       "justify_content": null,
       "justify_items": null,
       "left": null,
       "margin": null,
       "max_height": null,
       "max_width": null,
       "min_height": null,
       "min_width": null,
       "object_fit": null,
       "object_position": null,
       "order": null,
       "overflow": null,
       "overflow_x": null,
       "overflow_y": null,
       "padding": null,
       "right": null,
       "top": null,
       "visibility": null,
       "width": null
      }
     },
     "378363b51c264288b1c6c508470a59b0": {
      "model_module": "@jupyter-widgets/base",
      "model_module_version": "1.2.0",
      "model_name": "LayoutModel",
      "state": {
       "_model_module": "@jupyter-widgets/base",
       "_model_module_version": "1.2.0",
       "_model_name": "LayoutModel",
       "_view_count": null,
       "_view_module": "@jupyter-widgets/base",
       "_view_module_version": "1.2.0",
       "_view_name": "LayoutView",
       "align_content": null,
       "align_items": null,
       "align_self": null,
       "border": null,
       "bottom": null,
       "display": null,
       "flex": null,
       "flex_flow": null,
       "grid_area": null,
       "grid_auto_columns": null,
       "grid_auto_flow": null,
       "grid_auto_rows": null,
       "grid_column": null,
       "grid_gap": null,
       "grid_row": null,
       "grid_template_areas": null,
       "grid_template_columns": null,
       "grid_template_rows": null,
       "height": null,
       "justify_content": null,
       "justify_items": null,
       "left": null,
       "margin": null,
       "max_height": null,
       "max_width": null,
       "min_height": null,
       "min_width": null,
       "object_fit": null,
       "object_position": null,
       "order": null,
       "overflow": null,
       "overflow_x": null,
       "overflow_y": null,
       "padding": null,
       "right": null,
       "top": null,
       "visibility": null,
       "width": null
      }
     },
     "4dfd18f2362745fe8390caa41fb121e1": {
      "model_module": "@jupyter-widgets/controls",
      "model_module_version": "1.5.0",
      "model_name": "VBoxModel",
      "state": {
       "_dom_classes": [
        "widget-interact"
       ],
       "_model_module": "@jupyter-widgets/controls",
       "_model_module_version": "1.5.0",
       "_model_name": "VBoxModel",
       "_view_count": null,
       "_view_module": "@jupyter-widgets/controls",
       "_view_module_version": "1.5.0",
       "_view_name": "VBoxView",
       "box_style": "",
       "children": [
        "IPY_MODEL_961726c55c0842b7b9dc83c5abd7aa86",
        "IPY_MODEL_eea4bf42ae3c4036993ebb919daecec9"
       ],
       "layout": "IPY_MODEL_371da92446d042fa9ec9f9e8ae04731a"
      }
     },
     "5526eb376e4440a097372cac524876a8": {
      "model_module": "@jupyter-widgets/controls",
      "model_module_version": "1.5.0",
      "model_name": "DropdownModel",
      "state": {
       "_dom_classes": [],
       "_model_module": "@jupyter-widgets/controls",
       "_model_module_version": "1.5.0",
       "_model_name": "DropdownModel",
       "_options_labels": [
        "Angola",
        "Albania",
        "Argentina",
        "Armenia",
        "Australia",
        "Austria",
        "Azerbaijan",
        "Burundi",
        "Belgium",
        "Benin",
        "Burkina Faso",
        "Bangladesh",
        "Bulgaria",
        "Bosnia and Herzegovina",
        "Belarus",
        "Belize",
        "Bolivia",
        "Brazil",
        "Bhutan",
        "Botswana",
        "Central African Republic",
        "Canada",
        "Switzerland",
        "Chile",
        "China",
        "Cote d'Ivoire",
        "Cameroon",
        "Congo, Dem. Rep.",
        "Congo, Rep.",
        "Colombia",
        "Comoros",
        "Cape Verde",
        "Costa Rica",
        "Czech Republic",
        "Germany",
        "Djibouti",
        "Denmark",
        "Dominican Republic",
        "Algeria",
        "Ecuador",
        "Egypt",
        "Spain",
        "Estonia",
        "Ethiopia",
        "Finland",
        "Fiji",
        "France",
        "Micronesia, Fed. Sts.",
        "Gabon",
        "United Kingdom",
        "Georgia",
        "Ghana",
        "Guinea",
        "Gambia",
        "Guinea-Bissau",
        "Greece",
        "Guatemala",
        "Guyana",
        "Honduras",
        "Croatia",
        "Haiti",
        "Hungary",
        "Indonesia",
        "India",
        "Ireland",
        "Iran",
        "Iraq",
        "Israel",
        "Italy",
        "Jamaica",
        "Jordan",
        "Japan",
        "Kazakhstan",
        "Kenya",
        "Kyrgyz Republic",
        "Cambodia",
        "Lao",
        "Liberia",
        "St. Lucia",
        "Sri Lanka",
        "Lesotho",
        "Lithuania",
        "Latvia",
        "Morocco",
        "Moldova",
        "Madagascar",
        "Maldives",
        "Mexico",
        "North Macedonia",
        "Mali",
        "Montenegro",
        "Mozambique",
        "Mauritania",
        "Malawi",
        "Malaysia",
        "Namibia",
        "Niger",
        "Nigeria",
        "Nicaragua",
        "Netherlands",
        "Norway",
        "Nepal",
        "Pakistan",
        "Panama",
        "Peru",
        "Philippines",
        "Papua New Guinea",
        "Poland",
        "Paraguay",
        "Palestine",
        "Romania",
        "Russia",
        "Rwanda",
        "Sudan",
        "Senegal",
        "Sierra Leone",
        "El Salvador",
        "Serbia",
        "Sao Tome and Principe",
        "Suriname",
        "Slovak Republic",
        "Slovenia",
        "Sweden",
        "Swaziland",
        "Seychelles",
        "Syria",
        "Chad",
        "Togo",
        "Thailand",
        "Tajikistan",
        "Turkmenistan",
        "Timor-Leste",
        "Trinidad and Tobago",
        "Tunisia",
        "Turkey",
        "Tanzania",
        "Uganda",
        "Ukraine",
        "Uruguay",
        "United States",
        "Venezuela",
        "Vietnam",
        "Yemen",
        "South Africa",
        "Zambia"
       ],
       "_view_count": null,
       "_view_module": "@jupyter-widgets/controls",
       "_view_module_version": "1.5.0",
       "_view_name": "DropdownView",
       "description": "country",
       "description_tooltip": null,
       "disabled": false,
       "index": 0,
       "layout": "IPY_MODEL_378363b51c264288b1c6c508470a59b0",
       "style": "IPY_MODEL_79f989de844c405caf67c0d9a5ef40af"
      }
     },
     "79f989de844c405caf67c0d9a5ef40af": {
      "model_module": "@jupyter-widgets/controls",
      "model_module_version": "1.5.0",
      "model_name": "DescriptionStyleModel",
      "state": {
       "_model_module": "@jupyter-widgets/controls",
       "_model_module_version": "1.5.0",
       "_model_name": "DescriptionStyleModel",
       "_view_count": null,
       "_view_module": "@jupyter-widgets/base",
       "_view_module_version": "1.2.0",
       "_view_name": "StyleView",
       "description_width": ""
      }
     },
     "8c87efd6b40b446aa4b6ddd09b174eec": {
      "model_module": "@jupyter-widgets/base",
      "model_module_version": "1.2.0",
      "model_name": "LayoutModel",
      "state": {
       "_model_module": "@jupyter-widgets/base",
       "_model_module_version": "1.2.0",
       "_model_name": "LayoutModel",
       "_view_count": null,
       "_view_module": "@jupyter-widgets/base",
       "_view_module_version": "1.2.0",
       "_view_name": "LayoutView",
       "align_content": null,
       "align_items": null,
       "align_self": null,
       "border": null,
       "bottom": null,
       "display": null,
       "flex": null,
       "flex_flow": null,
       "grid_area": null,
       "grid_auto_columns": null,
       "grid_auto_flow": null,
       "grid_auto_rows": null,
       "grid_column": null,
       "grid_gap": null,
       "grid_row": null,
       "grid_template_areas": null,
       "grid_template_columns": null,
       "grid_template_rows": null,
       "height": null,
       "justify_content": null,
       "justify_items": null,
       "left": null,
       "margin": null,
       "max_height": null,
       "max_width": null,
       "min_height": null,
       "min_width": null,
       "object_fit": null,
       "object_position": null,
       "order": null,
       "overflow": null,
       "overflow_x": null,
       "overflow_y": null,
       "padding": null,
       "right": null,
       "top": null,
       "visibility": null,
       "width": null
      }
     },
     "8d3f413f32654a9a8b4bdfeda0f5406d": {
      "model_module": "@jupyter-widgets/controls",
      "model_module_version": "1.5.0",
      "model_name": "VBoxModel",
      "state": {
       "_dom_classes": [
        "widget-interact"
       ],
       "_model_module": "@jupyter-widgets/controls",
       "_model_module_version": "1.5.0",
       "_model_name": "VBoxModel",
       "_view_count": null,
       "_view_module": "@jupyter-widgets/controls",
       "_view_module_version": "1.5.0",
       "_view_name": "VBoxView",
       "box_style": "",
       "children": [
        "IPY_MODEL_5526eb376e4440a097372cac524876a8",
        "IPY_MODEL_a0f748f4c14043559390bc0d5227239a"
       ],
       "layout": "IPY_MODEL_2f41fb43b190446f90c7e88ee8e16345"
      }
     },
     "961726c55c0842b7b9dc83c5abd7aa86": {
      "model_module": "@jupyter-widgets/controls",
      "model_module_version": "1.5.0",
      "model_name": "IntSliderModel",
      "state": {
       "_dom_classes": [],
       "_model_module": "@jupyter-widgets/controls",
       "_model_module_version": "1.5.0",
       "_model_name": "IntSliderModel",
       "_view_count": null,
       "_view_module": "@jupyter-widgets/controls",
       "_view_module_version": "1.5.0",
       "_view_name": "IntSliderView",
       "continuous_update": true,
       "description": "year",
       "description_tooltip": null,
       "disabled": false,
       "layout": "IPY_MODEL_9e4abcd110fc4430a8aba748845f7b79",
       "max": 2020,
       "min": 1960,
       "orientation": "horizontal",
       "readout": true,
       "readout_format": "d",
       "step": 1,
       "style": "IPY_MODEL_dbfc169e9d9e45af8f7d21d957a40630",
       "value": 1960
      }
     },
     "9e4abcd110fc4430a8aba748845f7b79": {
      "model_module": "@jupyter-widgets/base",
      "model_module_version": "1.2.0",
      "model_name": "LayoutModel",
      "state": {
       "_model_module": "@jupyter-widgets/base",
       "_model_module_version": "1.2.0",
       "_model_name": "LayoutModel",
       "_view_count": null,
       "_view_module": "@jupyter-widgets/base",
       "_view_module_version": "1.2.0",
       "_view_name": "LayoutView",
       "align_content": null,
       "align_items": null,
       "align_self": null,
       "border": null,
       "bottom": null,
       "display": null,
       "flex": null,
       "flex_flow": null,
       "grid_area": null,
       "grid_auto_columns": null,
       "grid_auto_flow": null,
       "grid_auto_rows": null,
       "grid_column": null,
       "grid_gap": null,
       "grid_row": null,
       "grid_template_areas": null,
       "grid_template_columns": null,
       "grid_template_rows": null,
       "height": null,
       "justify_content": null,
       "justify_items": null,
       "left": null,
       "margin": null,
       "max_height": null,
       "max_width": null,
       "min_height": null,
       "min_width": null,
       "object_fit": null,
       "object_position": null,
       "order": null,
       "overflow": null,
       "overflow_x": null,
       "overflow_y": null,
       "padding": null,
       "right": null,
       "top": null,
       "visibility": null,
       "width": null
      }
     },
     "a0f748f4c14043559390bc0d5227239a": {
      "model_module": "@jupyter-widgets/output",
      "model_module_version": "1.0.0",
      "model_name": "OutputModel",
      "state": {
       "_dom_classes": [],
       "_model_module": "@jupyter-widgets/output",
       "_model_module_version": "1.0.0",
       "_model_name": "OutputModel",
       "_view_count": null,
       "_view_module": "@jupyter-widgets/output",
       "_view_module_version": "1.0.0",
       "_view_name": "OutputView",
       "layout": "IPY_MODEL_bf96e32dd9ed4dcdada228a62d2fd78f",
       "msg_id": "",
       "outputs": [
        {
         "data": {
          "image/png": "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\n",
          "text/plain": "<Figure size 432x432 with 1 Axes>"
         },
         "metadata": {},
         "output_type": "display_data"
        }
       ]
      }
     },
     "bf96e32dd9ed4dcdada228a62d2fd78f": {
      "model_module": "@jupyter-widgets/base",
      "model_module_version": "1.2.0",
      "model_name": "LayoutModel",
      "state": {
       "_model_module": "@jupyter-widgets/base",
       "_model_module_version": "1.2.0",
       "_model_name": "LayoutModel",
       "_view_count": null,
       "_view_module": "@jupyter-widgets/base",
       "_view_module_version": "1.2.0",
       "_view_name": "LayoutView",
       "align_content": null,
       "align_items": null,
       "align_self": null,
       "border": null,
       "bottom": null,
       "display": null,
       "flex": null,
       "flex_flow": null,
       "grid_area": null,
       "grid_auto_columns": null,
       "grid_auto_flow": null,
       "grid_auto_rows": null,
       "grid_column": null,
       "grid_gap": null,
       "grid_row": null,
       "grid_template_areas": null,
       "grid_template_columns": null,
       "grid_template_rows": null,
       "height": null,
       "justify_content": null,
       "justify_items": null,
       "left": null,
       "margin": null,
       "max_height": null,
       "max_width": null,
       "min_height": null,
       "min_width": null,
       "object_fit": null,
       "object_position": null,
       "order": null,
       "overflow": null,
       "overflow_x": null,
       "overflow_y": null,
       "padding": null,
       "right": null,
       "top": null,
       "visibility": null,
       "width": null
      }
     },
     "dbfc169e9d9e45af8f7d21d957a40630": {
      "model_module": "@jupyter-widgets/controls",
      "model_module_version": "1.5.0",
      "model_name": "SliderStyleModel",
      "state": {
       "_model_module": "@jupyter-widgets/controls",
       "_model_module_version": "1.5.0",
       "_model_name": "SliderStyleModel",
       "_view_count": null,
       "_view_module": "@jupyter-widgets/base",
       "_view_module_version": "1.2.0",
       "_view_name": "StyleView",
       "description_width": "",
       "handle_color": null
      }
     },
     "eea4bf42ae3c4036993ebb919daecec9": {
      "model_module": "@jupyter-widgets/output",
      "model_module_version": "1.0.0",
      "model_name": "OutputModel",
      "state": {
       "_dom_classes": [],
       "_model_module": "@jupyter-widgets/output",
       "_model_module_version": "1.0.0",
       "_model_name": "OutputModel",
       "_view_count": null,
       "_view_module": "@jupyter-widgets/output",
       "_view_module_version": "1.0.0",
       "_view_name": "OutputView",
       "layout": "IPY_MODEL_8c87efd6b40b446aa4b6ddd09b174eec",
       "msg_id": "",
       "outputs": [
        {
         "data": {
          "image/png": "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\n",
          "text/plain": "<Figure size 360x360 with 1 Axes>"
         },
         "metadata": {},
         "output_type": "display_data"
        }
       ]
      }
     }
    },
    "version_major": 2,
    "version_minor": 0
   }
  }
 },
 "nbformat": 4,
 "nbformat_minor": 5
}
